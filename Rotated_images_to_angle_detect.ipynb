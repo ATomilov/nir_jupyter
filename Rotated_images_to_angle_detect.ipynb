{
 "cells": [
  {
   "cell_type": "code",
   "execution_count": 1,
   "metadata": {},
   "outputs": [],
   "source": [
    "import tensorflow as tf\n",
    "import matplotlib\n",
    "import matplotlib.pyplot as plt\n",
    "import matplotlib.image as mpimg\n",
    "import matplotlib.gridspec as gridspec\n",
    "import numpy as np\n",
    "import os\n",
    "import cv2\n",
    "from PIL import Image\n",
    "from math import floor, ceil, pi\n",
    "from glob import glob\n",
    "import time\n",
    "import uuid"
   ]
  },
  {
   "cell_type": "code",
   "execution_count": 2,
   "metadata": {},
   "outputs": [],
   "source": [
    "def get_image_paths(folder):\n",
    "    files = os.listdir(folder)\n",
    "    files.sort()\n",
    "    files = ['{}/{}'.format(folder, file) for file in files]\n",
    "    return files"
   ]
  },
  {
   "cell_type": "code",
   "execution_count": 3,
   "metadata": {},
   "outputs": [
    {
     "name": "stdout",
     "output_type": "stream",
     "text": [
      "['im_base_to_angle', 'resized', 'train', '10_resized.png']\n",
      "10_resized\n",
      "['im_base_to_angle/resized/train/10_resized.png', 'im_base_to_angle/resized/train/11_resized.png', 'im_base_to_angle/resized/train/12_resized.png', 'im_base_to_angle/resized/train/13_resized.png', 'im_base_to_angle/resized/train/14_resized.png', 'im_base_to_angle/resized/train/15_resized.png', 'im_base_to_angle/resized/train/16_resized.png', 'im_base_to_angle/resized/train/17_resized.png', 'im_base_to_angle/resized/train/18_resized.png', 'im_base_to_angle/resized/train/19_resized.png', 'im_base_to_angle/resized/train/1_resized.png', 'im_base_to_angle/resized/train/20_resized.png', 'im_base_to_angle/resized/train/21_resized.png', 'im_base_to_angle/resized/train/22_resized.png', 'im_base_to_angle/resized/train/23_resized.png', 'im_base_to_angle/resized/train/24_resized.png', 'im_base_to_angle/resized/train/25_resized.png', 'im_base_to_angle/resized/train/26_resized.png', 'im_base_to_angle/resized/train/27_resized.png', 'im_base_to_angle/resized/train/28_resized.png', 'im_base_to_angle/resized/train/29_resized.png', 'im_base_to_angle/resized/train/2_resized.png', 'im_base_to_angle/resized/train/30_resized.png', 'im_base_to_angle/resized/train/31_resized.png', 'im_base_to_angle/resized/train/32_resized.png', 'im_base_to_angle/resized/train/33_resized.png', 'im_base_to_angle/resized/train/34_resized.png', 'im_base_to_angle/resized/train/35_resized.png', 'im_base_to_angle/resized/train/36_resized.png', 'im_base_to_angle/resized/train/37_resized.png', 'im_base_to_angle/resized/train/38_resized.png', 'im_base_to_angle/resized/train/39_resized.png', 'im_base_to_angle/resized/train/3_resized.png', 'im_base_to_angle/resized/train/40_resized.png', 'im_base_to_angle/resized/train/4_resized.png', 'im_base_to_angle/resized/train/5_resized.png', 'im_base_to_angle/resized/train/6_resized.png', 'im_base_to_angle/resized/train/7_resized.png', 'im_base_to_angle/resized/train/8_resized.png', 'im_base_to_angle/resized/train/9_resized.png']\n"
     ]
    }
   ],
   "source": [
    "X_img_paths_resized = get_image_paths('im_base_to_angle/resized/train')\n",
    "print(X_img_paths_resized[0].split('/'))\n",
    "print(X_img_paths_resized[0].split('/')[-1][:-4])\n",
    "print(X_img_paths_resized)"
   ]
  },
  {
   "cell_type": "code",
   "execution_count": 5,
   "metadata": {},
   "outputs": [],
   "source": [
    "for idx, each_img in enumerate(X_img_paths_resized):\n",
    "    img = cv2.imread(each_img, cv2.IMREAD_UNCHANGED)\n",
    "    image_resized_name = each_img.split('/')[-1][:-4]\n",
    "    # get image height, width\n",
    "    (h, w) = img.shape[:2]\n",
    "    # calculate the center of the image\n",
    "    center = (w / 2, h / 2)\n",
    "    \n",
    "    scale = 1.0\n",
    "    \n",
    "    for i in range(1, 361):\n",
    "        filename = uuid.uuid4().hex\n",
    "        M = cv2.getRotationMatrix2D(center, i, scale)\n",
    "        rotated = cv2.warpAffine(img, M, (h, w))\n",
    "#         cv2.imshow('Original Image',rotated)\n",
    "#         cv2.waitKey(0) # waits until a key is pressed\n",
    "#         cv2.destroyAllWindows() # destroys the window showing image\n",
    "        if not os.path.exists(f'im_base_to_angle/rotated/train/{i}'):\n",
    "            os.makedirs(f'im_base_to_angle/rotated/train/{i}')\n",
    "        cv2.imwrite(f'im_base_to_angle/rotated/train/{i}/{filename}.png', rotated)\n",
    "#         cv2.imwrite(f'im_base_to_angle/rotated/train/{i}_angle_{int(time.time())}.png', rotated)\n",
    "\n",
    "#     cv2.imshow(\"Resized image\", resized)\n",
    "#     cv2.waitKey(0)\n",
    "#     cv2.destroyAllWindows()\n",
    "\n",
    "#     cv2.imwrite(f'im_base_to_angle/resized/train/{idx + 1}_resized.png', resized)"
   ]
  },
  {
   "cell_type": "code",
   "execution_count": 8,
   "metadata": {},
   "outputs": [],
   "source": [
    "X_img_paths_resized = get_image_paths('im_base_to_angle/resized/val')\n",
    "\n",
    "for idx, each_img in enumerate(X_img_paths_resized):\n",
    "    img = cv2.imread(each_img, cv2.IMREAD_UNCHANGED)\n",
    "    image_resized_name = each_img.split('/')[-1][:-4]\n",
    "    # get image height, width\n",
    "    (h, w) = img.shape[:2]\n",
    "    # calculate the center of the image\n",
    "    center = (w / 2, h / 2)\n",
    "    \n",
    "    scale = 1.0\n",
    "    \n",
    "    for i in range(1, 361):\n",
    "        filename = uuid.uuid4().hex\n",
    "        M = cv2.getRotationMatrix2D(center, i, scale)\n",
    "        rotated = cv2.warpAffine(img, M, (h, w))\n",
    "#         cv2.imshow('Original Image',rotated)\n",
    "#         cv2.waitKey(0) # waits until a key is pressed\n",
    "#         cv2.destroyAllWindows() # destroys the window showing image\n",
    "        if not os.path.exists(f'im_base_to_angle/rotated/val/{i}'):\n",
    "            os.makedirs(f'im_base_to_angle/rotated/val/{i}')\n",
    "        cv2.imwrite(f'im_base_to_angle/rotated/val/{i}/{filename}.png', rotated)\n",
    "#         cv2.imwrite(f'im_base_to_angle/rotated/val/{i}_angle_{int(time.time())}.png', rotated)\n",
    "\n",
    "#     cv2.imshow(\"Resized image\", resized)\n",
    "#     cv2.waitKey(0)\n",
    "#     cv2.destroyAllWindows()\n",
    "\n",
    "#     cv2.imwrite(f'im_base_to_angle/resized/train/{idx + 1}_resized.png', resized)"
   ]
  },
  {
   "cell_type": "code",
   "execution_count": 9,
   "metadata": {},
   "outputs": [],
   "source": [
    "X_img_paths_resized = get_image_paths('im_base_to_angle/resized/test')\n",
    "\n",
    "for idx, each_img in enumerate(X_img_paths_resized):\n",
    "    img = cv2.imread(each_img, cv2.IMREAD_UNCHANGED)\n",
    "    image_resized_name = each_img.split('/')[-1][:-4]\n",
    "    # get image height, width\n",
    "    (h, w) = img.shape[:2]\n",
    "    # calculate the center of the image\n",
    "    center = (w / 2, h / 2)\n",
    "    \n",
    "    scale = 1.0\n",
    "    \n",
    "    for i in range(1, 361):\n",
    "        filename = uuid.uuid4().hex\n",
    "        M = cv2.getRotationMatrix2D(center, i, scale)\n",
    "        rotated = cv2.warpAffine(img, M, (h, w))\n",
    "#         cv2.imshow('Original Image',rotated)\n",
    "#         cv2.waitKey(0) # waits until a key is pressed\n",
    "#         cv2.destroyAllWindows() # destroys the window showing image\n",
    "        if not os.path.exists(f'im_base_to_angle/rotated/test/{i}'):\n",
    "            os.makedirs(f'im_base_to_angle/rotated/test/{i}')\n",
    "        cv2.imwrite(f'im_base_to_angle/rotated/test/{i}/{filename}.png', rotated)\n",
    "#         cv2.imwrite(f'im_base_to_angle/rotated/test/{i}_angle_{int(time.time())}.png', rotated)\n",
    "\n",
    "#     cv2.imshow(\"Resized image\", resized)\n",
    "#     cv2.waitKey(0)\n",
    "#     cv2.destroyAllWindows()\n",
    "\n",
    "#     cv2.imwrite(f'im_base_to_angle/resized/train/{idx + 1}_resized.png', resized)"
   ]
  },
  {
   "cell_type": "code",
   "execution_count": 6,
   "metadata": {},
   "outputs": [
    {
     "name": "stdout",
     "output_type": "stream",
     "text": [
      "[1, 2, 3, 4, 5, 6, 7, 8, 9, 10, 11, 12, 13, 14, 15, 16, 17, 18, 19, 20, 21, 22, 23, 24, 25, 26, 27, 28, 29, 30, 31, 32, 33, 34, 35, 36, 37, 38, 39, 40, 41, 42, 43, 44, 45, 46, 47, 48, 49, 50, 51, 52, 53, 54, 55, 56, 57, 58, 59, 60, 61, 62, 63, 64, 65, 66, 67, 68, 69, 70, 71, 72, 73, 74, 75, 76, 77, 78, 79, 80, 81, 82, 83, 84, 85, 86, 87, 88, 89, 90, 91, 92, 93, 94, 95, 96, 97, 98, 99, 100, 101, 102, 103, 104, 105, 106, 107, 108, 109, 110, 111, 112, 113, 114, 115, 116, 117, 118, 119, 120, 121, 122, 123, 124, 125, 126, 127, 128, 129, 130, 131, 132, 133, 134, 135, 136, 137, 138, 139, 140, 141, 142, 143, 144, 145, 146, 147, 148, 149, 150, 151, 152, 153, 154, 155, 156, 157, 158, 159, 160, 161, 162, 163, 164, 165, 166, 167, 168, 169, 170, 171, 172, 173, 174, 175, 176, 177, 178, 179, 180, 181, 182, 183, 184, 185, 186, 187, 188, 189, 190, 191, 192, 193, 194, 195, 196, 197, 198, 199, 200, 201, 202, 203, 204, 205, 206, 207, 208, 209, 210, 211, 212, 213, 214, 215, 216, 217, 218, 219, 220, 221, 222, 223, 224, 225, 226, 227, 228, 229, 230, 231, 232, 233, 234, 235, 236, 237, 238, 239, 240, 241, 242, 243, 244, 245, 246, 247, 248, 249, 250, 251, 252, 253, 254, 255, 256, 257, 258, 259, 260, 261, 262, 263, 264, 265, 266, 267, 268, 269, 270, 271, 272, 273, 274, 275, 276, 277, 278, 279, 280, 281, 282, 283, 284, 285, 286, 287, 288, 289, 290, 291, 292, 293, 294, 295, 296, 297, 298, 299, 300, 301, 302, 303, 304, 305, 306, 307, 308, 309, 310, 311, 312, 313, 314, 315, 316, 317, 318, 319, 320, 321, 322, 323, 324, 325, 326, 327, 328, 329, 330, 331, 332, 333, 334, 335, 336, 337, 338, 339, 340, 341, 342, 343, 344, 345, 346, 347, 348, 349, 350, 351, 352, 353, 354, 355, 356, 357, 358, 359, 360]\n",
      "<class 'list'>\n"
     ]
    }
   ],
   "source": [
    "categories = [i for i in range(1, 361)]\n",
    "map(str, categories)\n",
    "print(categories)\n",
    "print(type(categories))"
   ]
  },
  {
   "cell_type": "code",
   "execution_count": null,
   "metadata": {},
   "outputs": [],
   "source": []
  },
  {
   "cell_type": "code",
   "execution_count": null,
   "metadata": {},
   "outputs": [],
   "source": []
  },
  {
   "cell_type": "code",
   "execution_count": null,
   "metadata": {},
   "outputs": [],
   "source": []
  }
 ],
 "metadata": {
  "kernelspec": {
   "display_name": "Python 3",
   "language": "python",
   "name": "python3"
  },
  "language_info": {
   "codemirror_mode": {
    "name": "ipython",
    "version": 3
   },
   "file_extension": ".py",
   "mimetype": "text/x-python",
   "name": "python",
   "nbconvert_exporter": "python",
   "pygments_lexer": "ipython3",
   "version": "3.6.7"
  }
 },
 "nbformat": 4,
 "nbformat_minor": 2
}
