{
 "cells": [
  {
   "cell_type": "code",
   "execution_count": 1,
   "metadata": {},
   "outputs": [],
   "source": [
    "import tensorflow as tf\n",
    "import matplotlib\n",
    "import matplotlib.pyplot as plt\n",
    "import matplotlib.image as mpimg\n",
    "import matplotlib.gridspec as gridspec\n",
    "import numpy as np\n",
    "import os\n",
    "import cv2\n",
    "from PIL import Image\n",
    "from math import floor, ceil, pi\n",
    "from glob import glob\n",
    "import imutils\n",
    "import time\n",
    "import uuid"
   ]
  },
  {
   "cell_type": "code",
   "execution_count": 2,
   "metadata": {},
   "outputs": [],
   "source": [
    "def get_image_paths(folder):\n",
    "    files = os.listdir(folder)\n",
    "    files.sort()\n",
    "    files = ['{}/{}'.format(folder, file) for file in files]\n",
    "    return files"
   ]
  },
  {
   "cell_type": "code",
   "execution_count": 3,
   "metadata": {},
   "outputs": [
    {
     "name": "stdout",
     "output_type": "stream",
     "text": [
      "['im_base_to_angle', 'DI_PA_Test', 'A003AE 0410.png']\n",
      "A003AE 0410\n",
      "['im_base_to_angle/DI_PA_Test/A003AE 0410.png', 'im_base_to_angle/DI_PA_Test/A008BO 14.png', 'im_base_to_angle/DI_PA_Test/A013BC 197.png', 'im_base_to_angle/DI_PA_Test/A053EK 50.png', 'im_base_to_angle/DI_PA_Test/A076BO 99.png', 'im_base_to_angle/DI_PA_Test/A089HX 77.png', 'im_base_to_angle/DI_PA_Test/A119AO 77725.png', 'im_base_to_angle/DI_PA_Test/A166XP 191.png']\n",
      "8\n"
     ]
    }
   ],
   "source": [
    "X_img_paths_resized = get_image_paths('im_base_to_angle/DI_PA_Test')\n",
    "print(X_img_paths_resized[0].split('/'))\n",
    "print(X_img_paths_resized[0].split('/')[-1][:-4])\n",
    "print(X_img_paths_resized[:10])\n",
    "print(len(X_img_paths_resized))"
   ]
  },
  {
   "cell_type": "code",
   "execution_count": 7,
   "metadata": {},
   "outputs": [],
   "source": [
    "def rotate_bound(image, angle):\n",
    "    # grab the dimensions of the image and then determine the\n",
    "    # center\n",
    "    (h, w) = image.shape[:2]\n",
    "    (cX, cY) = (w // 2, h // 2)\n",
    " \n",
    "    # grab the rotation matrix (applying the negative of the\n",
    "    # angle to rotate clockwise), then grab the sine and cosine\n",
    "    # (i.e., the rotation components of the matrix)\n",
    "    M = cv2.getRotationMatrix2D((cX, cY), -angle, 1.0)\n",
    "    cos = np.abs(M[0, 0])\n",
    "    sin = np.abs(M[0, 1])\n",
    " \n",
    "    # compute the new bounding dimensions of the image\n",
    "    nW = int((h * sin) + (w * cos))\n",
    "    nH = int((h * cos) + (w * sin))\n",
    " \n",
    "    # adjust the rotation matrix to take into account translation\n",
    "    M[0, 2] += (nW / 2) - cX\n",
    "    M[1, 2] += (nH / 2) - cY\n",
    " \n",
    "    # perform the actual rotation and return the image\n",
    "    return cv2.warpAffine(image, M, (nW, nH))"
   ]
  },
  {
   "cell_type": "markdown",
   "metadata": {},
   "source": [
    "#### First 100 clean images per 1 class"
   ]
  },
  {
   "cell_type": "code",
   "execution_count": 5,
   "metadata": {},
   "outputs": [],
   "source": [
    "for idx, each_img in enumerate(X_img_paths_resized):\n",
    "    img = cv2.imread(each_img, cv2.IMREAD_UNCHANGED)\n",
    "    image_resized_name = each_img.split('/')[-1][:-4]\n",
    "    # get image height, width\n",
    "    (h, w) = img.shape[:2]\n",
    "    # calculate the center of the image\n",
    "    center = (w / 2, h / 2)\n",
    "    \n",
    "    scale = 1.0\n",
    "    \n",
    "    for i in range(1, 361):\n",
    "        filename = uuid.uuid4().hex\n",
    "#         M = cv2.getRotationMatrix2D(center, i, scale)\n",
    "        rotated = rotate_bound_2(img, i)\n",
    "#         cv2.imshow('Original Image',rotated)\n",
    "#         cv2.waitKey(0) # waits until a key is pressed\n",
    "#         cv2.destroyAllWindows() # destroys the window showing image\n",
    "        if not os.path.exists(f'im_base_to_angle/r_d_i_less_pa/train/{i}'):\n",
    "            os.makedirs(f'im_base_to_angle/r_d_i_less_pa/train/{i}')\n",
    "        cv2.imwrite(f'im_base_to_angle/r_d_i_less_pa/train/{i}/{filename}.png', rotated)\n",
    "#         cv2.imwrite(f'im_base_to_angle/rotated/train/{i}_angle_{int(time.time())}.png', rotated)\n",
    "\n",
    "#     cv2.imshow(\"Resized image\", resized)\n",
    "#     cv2.waitKey(0)\n",
    "#     cv2.destroyAllWindows()\n",
    "\n",
    "#     cv2.imwrite(f'im_base_to_angle/resized/train/{idx + 1}_resized.png', resized)"
   ]
  },
  {
   "cell_type": "code",
   "execution_count": 8,
   "metadata": {},
   "outputs": [],
   "source": [
    "X_img_paths_resized = get_image_paths('im_base_to_angle/resized/val')\n",
    "\n",
    "for idx, each_img in enumerate(X_img_paths_resized):\n",
    "    img = cv2.imread(each_img, cv2.IMREAD_UNCHANGED)\n",
    "    image_resized_name = each_img.split('/')[-1][:-4]\n",
    "    # get image height, width\n",
    "    (h, w) = img.shape[:2]\n",
    "    # calculate the center of the image\n",
    "    center = (w / 2, h / 2)\n",
    "    \n",
    "    scale = 1.0\n",
    "    \n",
    "    for i in range(1, 361):\n",
    "        filename = uuid.uuid4().hex\n",
    "        M = cv2.getRotationMatrix2D(center, i, scale)\n",
    "        rotated = cv2.warpAffine(img, M, (h, w))\n",
    "#         cv2.imshow('Original Image',rotated)\n",
    "#         cv2.waitKey(0) # waits until a key is pressed\n",
    "#         cv2.destroyAllWindows() # destroys the window showing image\n",
    "        if not os.path.exists(f'im_base_to_angle/rotated/val/{i}'):\n",
    "            os.makedirs(f'im_base_to_angle/rotated/val/{i}')\n",
    "        cv2.imwrite(f'im_base_to_angle/rotated/val/{i}/{filename}.png', rotated)\n",
    "#         cv2.imwrite(f'im_base_to_angle/rotated/val/{i}_angle_{int(time.time())}.png', rotated)\n",
    "\n",
    "#     cv2.imshow(\"Resized image\", resized)\n",
    "#     cv2.waitKey(0)\n",
    "#     cv2.destroyAllWindows()\n",
    "\n",
    "#     cv2.imwrite(f'im_base_to_angle/resized/train/{idx + 1}_resized.png', resized)"
   ]
  },
  {
   "cell_type": "code",
   "execution_count": 6,
   "metadata": {},
   "outputs": [
    {
     "name": "stdout",
     "output_type": "stream",
     "text": [
      "[1, 2, 3, 4, 5, 6, 7, 8, 9, 10, 11, 12, 13, 14, 15, 16, 17, 18, 19, 20, 21, 22, 23, 24, 25, 26, 27, 28, 29, 30, 31, 32, 33, 34, 35, 36, 37, 38, 39, 40, 41, 42, 43, 44, 45, 46, 47, 48, 49, 50, 51, 52, 53, 54, 55, 56, 57, 58, 59, 60, 61, 62, 63, 64, 65, 66, 67, 68, 69, 70, 71, 72, 73, 74, 75, 76, 77, 78, 79, 80, 81, 82, 83, 84, 85, 86, 87, 88, 89, 90, 91, 92, 93, 94, 95, 96, 97, 98, 99, 100, 101, 102, 103, 104, 105, 106, 107, 108, 109, 110, 111, 112, 113, 114, 115, 116, 117, 118, 119, 120, 121, 122, 123, 124, 125, 126, 127, 128, 129, 130, 131, 132, 133, 134, 135, 136, 137, 138, 139, 140, 141, 142, 143, 144, 145, 146, 147, 148, 149, 150, 151, 152, 153, 154, 155, 156, 157, 158, 159, 160, 161, 162, 163, 164, 165, 166, 167, 168, 169, 170, 171, 172, 173, 174, 175, 176, 177, 178, 179, 180, 181, 182, 183, 184, 185, 186, 187, 188, 189, 190, 191, 192, 193, 194, 195, 196, 197, 198, 199, 200, 201, 202, 203, 204, 205, 206, 207, 208, 209, 210, 211, 212, 213, 214, 215, 216, 217, 218, 219, 220, 221, 222, 223, 224, 225, 226, 227, 228, 229, 230, 231, 232, 233, 234, 235, 236, 237, 238, 239, 240, 241, 242, 243, 244, 245, 246, 247, 248, 249, 250, 251, 252, 253, 254, 255, 256, 257, 258, 259, 260, 261, 262, 263, 264, 265, 266, 267, 268, 269, 270, 271, 272, 273, 274, 275, 276, 277, 278, 279, 280, 281, 282, 283, 284, 285, 286, 287, 288, 289, 290, 291, 292, 293, 294, 295, 296, 297, 298, 299, 300, 301, 302, 303, 304, 305, 306, 307, 308, 309, 310, 311, 312, 313, 314, 315, 316, 317, 318, 319, 320, 321, 322, 323, 324, 325, 326, 327, 328, 329, 330, 331, 332, 333, 334, 335, 336, 337, 338, 339, 340, 341, 342, 343, 344, 345, 346, 347, 348, 349, 350, 351, 352, 353, 354, 355, 356, 357, 358, 359, 360]\n",
      "<class 'list'>\n"
     ]
    }
   ],
   "source": [
    "categories = [i for i in range(1, 361)]\n",
    "map(str, categories)\n",
    "print(categories)\n",
    "print(type(categories))"
   ]
  },
  {
   "cell_type": "code",
   "execution_count": 4,
   "metadata": {},
   "outputs": [
    {
     "name": "stdout",
     "output_type": "stream",
     "text": [
      "['def_base', 'anpr_ocr', 'anpr_ocr__test', 'img', 'A007HA50.png']\n",
      "A007HA50\n",
      "['def_base/anpr_ocr/anpr_ocr__test/img/A007HA50.png', 'def_base/anpr_ocr/anpr_ocr__test/img/A036CT78.png', 'def_base/anpr_ocr/anpr_ocr__test/img/A065CA30.png', 'def_base/anpr_ocr/anpr_ocr__test/img/A083YA10.png', 'def_base/anpr_ocr/anpr_ocr__test/img/A128HB61.png', 'def_base/anpr_ocr/anpr_ocr__test/img/A141AP01.png', 'def_base/anpr_ocr/anpr_ocr__test/img/A160HE95.png', 'def_base/anpr_ocr/anpr_ocr__test/img/A183KE05.png', 'def_base/anpr_ocr/anpr_ocr__test/img/A225EP73.png', 'def_base/anpr_ocr/anpr_ocr__test/img/A252EM35.png']\n"
     ]
    }
   ],
   "source": [
    "X_img_paths_resized = get_image_paths('def_base/anpr_ocr/anpr_ocr__test/img')\n",
    "print(X_img_paths_resized[0].split('/'))\n",
    "print(X_img_paths_resized[0].split('/')[-1][:-4])\n",
    "print(X_img_paths_resized[:10])"
   ]
  },
  {
   "cell_type": "code",
   "execution_count": 8,
   "metadata": {},
   "outputs": [],
   "source": [
    "for idx, each_img in enumerate(X_img_paths_resized[:100]):\n",
    "    img = cv2.imread(each_img, cv2.IMREAD_UNCHANGED)\n",
    "    image_resized_name = each_img.split('/')[-1][:-4]\n",
    "    # get image height, width\n",
    "    (h, w) = img.shape[:2]\n",
    "    # calculate the center of the image\n",
    "    center = (w / 2, h / 2)\n",
    "    \n",
    "    scale = 1.0\n",
    "    \n",
    "    for i in range(1, 361):\n",
    "        filename = uuid.uuid4().hex\n",
    "#         M = cv2.getRotationMatrix2D(center, i, scale)\n",
    "        rotated = imutils.rotate_bound(img, i)\n",
    "#         cv2.imshow('Original Image',rotated)\n",
    "#         cv2.waitKey(0) # waits until a key is pressed\n",
    "#         cv2.destroyAllWindows() # destroys the window showing image\n",
    "        if not os.path.exists(f'im_base_to_angle/rotated_4/test/{i}'):\n",
    "            os.makedirs(f'im_base_to_angle/rotated_4/test/{i}')\n",
    "        cv2.imwrite(f'im_base_to_angle/rotated_4/test/{i}/{filename}.png', rotated)\n",
    "#         cv2.imwrite(f'im_base_to_angle/rotated/train/{i}_angle_{int(time.time())}.png', rotated)\n",
    "\n",
    "#     cv2.imshow(\"Resized image\", resized)\n",
    "#     cv2.waitKey(0)\n",
    "#     cv2.destroyAllWindows()\n",
    "\n",
    "#     cv2.imwrite(f'im_base_to_angle/resized/train/{idx + 1}_resized.png', resized)"
   ]
  },
  {
   "cell_type": "code",
   "execution_count": 3,
   "metadata": {},
   "outputs": [],
   "source": [
    "def rotate_bound_2(image, angle):\n",
    "    # grab the dimensions of the image and then determine the\n",
    "    # center\n",
    "    (h, w) = image.shape[:2]\n",
    "    (cX, cY) = (w // 2, h // 2)\n",
    " \n",
    "    # grab the rotation matrix (applying the negative of the\n",
    "    # angle to rotate clockwise), then grab the sine and cosine\n",
    "    # (i.e., the rotation components of the matrix)\n",
    "    M = cv2.getRotationMatrix2D((cX, cY), angle, 1.0)\n",
    "    cos = np.abs(M[0, 0])\n",
    "    sin = np.abs(M[0, 1])\n",
    " \n",
    "    # compute the new bounding dimensions of the image\n",
    "    nW = int((h * sin) + (w * cos))\n",
    "    nH = int((h * cos) + (w * sin))\n",
    " \n",
    "    # adjust the rotation matrix to take into account translation\n",
    "    M[0, 2] += (nW / 2) - cX\n",
    "    M[1, 2] += (nH / 2) - cY\n",
    " \n",
    "    # perform the actual rotation and return the image\n",
    "    return cv2.warpAffine(image, M, (nW, nH))"
   ]
  },
  {
   "cell_type": "code",
   "execution_count": 5,
   "metadata": {},
   "outputs": [
    {
     "name": "stdout",
     "output_type": "stream",
     "text": [
      "['def_base', 'anpr_ocr', 'anpr_ocr__test', 'img', 'A007HA50.png']\n",
      "A007HA50\n",
      "['def_base/anpr_ocr/anpr_ocr__test/img/A007HA50.png', 'def_base/anpr_ocr/anpr_ocr__test/img/A036CT78.png', 'def_base/anpr_ocr/anpr_ocr__test/img/A065CA30.png', 'def_base/anpr_ocr/anpr_ocr__test/img/A083YA10.png', 'def_base/anpr_ocr/anpr_ocr__test/img/A128HB61.png', 'def_base/anpr_ocr/anpr_ocr__test/img/A141AP01.png', 'def_base/anpr_ocr/anpr_ocr__test/img/A160HE95.png', 'def_base/anpr_ocr/anpr_ocr__test/img/A183KE05.png', 'def_base/anpr_ocr/anpr_ocr__test/img/A225EP73.png', 'def_base/anpr_ocr/anpr_ocr__test/img/A252EM35.png']\n"
     ]
    }
   ],
   "source": [
    "X_img_paths_resized = get_image_paths('def_base/anpr_ocr/anpr_ocr__test/img')\n",
    "print(X_img_paths_resized[0].split('/'))\n",
    "print(X_img_paths_resized[0].split('/')[-1][:-4])\n",
    "print(X_img_paths_resized[:10])"
   ]
  },
  {
   "cell_type": "code",
   "execution_count": 8,
   "metadata": {},
   "outputs": [],
   "source": [
    "img = cv2.imread(X_img_paths_resized[0])\n",
    "\n",
    "rotated = rotate_bound_2(img, 120)\n",
    "\n",
    "cv2.imshow('Rotation', rotated)\n",
    "cv2.waitKey(0)\n",
    "cv2.destroyAllWindows()"
   ]
  },
  {
   "cell_type": "markdown",
   "metadata": {},
   "source": [
    "#### Clean images to test trained model (NA)"
   ]
  },
  {
   "cell_type": "code",
   "execution_count": 14,
   "metadata": {},
   "outputs": [],
   "source": [
    "X_img_paths_resized = get_image_paths('def_base/anpr_ocr/anpr_ocr__test/img')\n",
    "\n",
    "for idx, each_img in enumerate(X_img_paths_resized[:5]):\n",
    "    img = cv2.imread(each_img, cv2.IMREAD_UNCHANGED)\n",
    "    image_resized_name = each_img.split('/')[-1][:-4]\n",
    "    # get image height, width\n",
    "    (h, w) = img.shape[:2]\n",
    "    # calculate the center of the image\n",
    "    center = (w / 2, h / 2)\n",
    "    \n",
    "    scale = 1.0\n",
    "    \n",
    "    for i in range(1, 361):\n",
    "        filename = uuid.uuid4().hex\n",
    "#         M = cv2.getRotationMatrix2D(center, i, scale)\n",
    "        rotated = imutils.rotate_bound(img, i)\n",
    "#         cv2.imshow('Original Image',rotated)\n",
    "#         cv2.waitKey(0) # waits until a key is pressed\n",
    "#         cv2.destroyAllWindows() # destroys the window showing image\n",
    "        if not os.path.exists(f'im_base_to_angle/rotated_4_na/test/{i}'):\n",
    "            os.makedirs(f'im_base_to_angle/rotated_4_na/test/{i}')\n",
    "        cv2.imwrite(f'im_base_to_angle/rotated_4_na/test/{i}/{filename}.png', rotated)\n",
    "#         cv2.imwrite(f'im_base_to_angle/rotated/train/{i}_angle_{int(time.time())}.png', rotated)\n",
    "\n",
    "#     cv2.imshow(\"Resized image\", resized)\n",
    "#     cv2.waitKey(0)\n",
    "#     cv2.destroyAllWindows()\n",
    "\n",
    "#     cv2.imwrite(f'im_base_to_angle/resized/train/{idx + 1}_resized.png', resized)"
   ]
  },
  {
   "cell_type": "markdown",
   "metadata": {},
   "source": [
    "#### Clean images to test trained model (PA)"
   ]
  },
  {
   "cell_type": "code",
   "execution_count": 15,
   "metadata": {},
   "outputs": [],
   "source": [
    "X_img_paths_resized = get_image_paths('def_base/anpr_ocr/anpr_ocr__test/img')\n",
    "\n",
    "for idx, each_img in enumerate(X_img_paths_resized[:5]):\n",
    "    img = cv2.imread(each_img, cv2.IMREAD_UNCHANGED)\n",
    "    image_resized_name = each_img.split('/')[-1][:-4]\n",
    "    # get image height, width\n",
    "    (h, w) = img.shape[:2]\n",
    "    # calculate the center of the image\n",
    "    center = (w / 2, h / 2)\n",
    "    \n",
    "    scale = 1.0\n",
    "    \n",
    "    for i in range(1, 361):\n",
    "        filename = uuid.uuid4().hex\n",
    "#         M = cv2.getRotationMatrix2D(center, i, scale)\n",
    "        rotated = rotate_bound_2(img, i)\n",
    "#         cv2.imshow('Original Image',rotated)\n",
    "#         cv2.waitKey(0) # waits until a key is pressed\n",
    "#         cv2.destroyAllWindows() # destroys the window showing image\n",
    "        if not os.path.exists(f'im_base_to_angle/rotated_5_pa/test/{i}'):\n",
    "            os.makedirs(f'im_base_to_angle/rotated_5_pa/test/{i}')\n",
    "        cv2.imwrite(f'im_base_to_angle/rotated_5_pa/test/{i}/{filename}.png', rotated)\n",
    "#         cv2.imwrite(f'im_base_to_angle/rotated/train/{i}_angle_{int(time.time())}.png', rotated)\n",
    "\n",
    "#     cv2.imshow(\"Resized image\", resized)\n",
    "#     cv2.waitKey(0)\n",
    "#     cv2.destroyAllWindows()\n",
    "\n",
    "#     cv2.imwrite(f'im_base_to_angle/resized/train/{idx + 1}_resized.png', resized)"
   ]
  },
  {
   "cell_type": "markdown",
   "metadata": {},
   "source": [
    "#### Dirty images to test trained model (PA)"
   ]
  },
  {
   "cell_type": "code",
   "execution_count": 4,
   "metadata": {},
   "outputs": [],
   "source": [
    "X_img_paths_resized = get_image_paths('im_base_to_angle/dirty_imgs_less')\n",
    "\n",
    "# print(X_img_paths_resized)\n",
    "\n",
    "for idx, each_img in enumerate(X_img_paths_resized):\n",
    "    img = cv2.imread(each_img, cv2.IMREAD_UNCHANGED)\n",
    "    image_resized_name = each_img.split('/')[-1][:-4]\n",
    "    # get image height, width\n",
    "    (h, w) = img.shape[:2]\n",
    "    # calculate the center of the image\n",
    "    center = (w / 2, h / 2)\n",
    "    \n",
    "    scale = 1.0\n",
    "    \n",
    "    for i in range(1, 361):\n",
    "        filename = uuid.uuid4().hex\n",
    "#         M = cv2.getRotationMatrix2D(center, i, scale)\n",
    "        rotated = rotate_bound_2(img, i)\n",
    "#         cv2.imshow('Original Image',rotated)\n",
    "#         cv2.waitKey(0) # waits until a key is pressed\n",
    "#         cv2.destroyAllWindows() # destroys the window showing image\n",
    "        if not os.path.exists(f'im_base_to_angle/r_d_i_less_pa/train/{i}'):\n",
    "            os.makedirs(f'im_base_to_angle/r_d_i_less_pa/train/{i}')\n",
    "        cv2.imwrite(f'im_base_to_angle/r_d_i_less_pa/train/{i}/{filename}.png', rotated)\n",
    "#         cv2.imwrite(f'im_base_to_angle/rotated/train/{i}_angle_{int(time.time())}.png', rotated)\n",
    "\n",
    "#     cv2.imshow(\"Resized image\", resized)\n",
    "#     cv2.waitKey(0)\n",
    "#     cv2.destroyAllWindows()\n",
    "\n",
    "#     cv2.imwrite(f'im_base_to_angle/resized/train/{idx + 1}_resized.png', resized)"
   ]
  }
 ],
 "metadata": {
  "kernelspec": {
   "display_name": "Python 3",
   "language": "python",
   "name": "python3"
  },
  "language_info": {
   "codemirror_mode": {
    "name": "ipython",
    "version": 3
   },
   "file_extension": ".py",
   "mimetype": "text/x-python",
   "name": "python",
   "nbconvert_exporter": "python",
   "pygments_lexer": "ipython3",
   "version": "3.6.7"
  }
 },
 "nbformat": 4,
 "nbformat_minor": 2
}
