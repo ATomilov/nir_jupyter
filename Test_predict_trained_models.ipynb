{
 "cells": [
  {
   "cell_type": "code",
   "execution_count": 51,
   "metadata": {},
   "outputs": [],
   "source": [
    "import numpy as np\n",
    "import json\n",
    "import tensorflow as tf\n",
    "from tensorflow.keras.utils import CustomObjectScope\n",
    "from tensorflow.keras.initializers import glorot_uniform\n",
    "from tensorflow.keras.models import Model, load_model, model_from_json\n",
    "from tensorflow.keras.preprocessing import image\n",
    "import matplotlib.pyplot as plt\n",
    "import cv2\n",
    "import pickle"
   ]
  },
  {
   "cell_type": "code",
   "execution_count": 37,
   "metadata": {},
   "outputs": [],
   "source": [
    "pickle_in = open(\"trained_data/X_4_di_pa.pickle\",\"rb\")\n",
    "X = pickle.load(pickle_in)"
   ]
  },
  {
   "cell_type": "code",
   "execution_count": 38,
   "metadata": {},
   "outputs": [],
   "source": [
    "pickle_in = open(\"trained_data/y_4_di_pa.pickle\",\"rb\")\n",
    "y = pickle.load(pickle_in)"
   ]
  },
  {
   "cell_type": "code",
   "execution_count": 55,
   "metadata": {},
   "outputs": [
    {
     "name": "stdout",
     "output_type": "stream",
     "text": [
      "['1', '2', '3', '4', '5', '6', '7', '8', '9', '10', '11', '12', '13', '14', '15', '16', '17', '18', '19', '20', '21', '22', '23', '24', '25', '26', '27', '28', '29', '30', '31', '32', '33', '34', '35', '36', '37', '38', '39', '40', '41', '42', '43', '44', '45', '46', '47', '48', '49', '50', '51', '52', '53', '54', '55', '56', '57', '58', '59', '60', '61', '62', '63', '64', '65', '66', '67', '68', '69', '70', '71', '72', '73', '74', '75', '76', '77', '78', '79', '80', '81', '82', '83', '84', '85', '86', '87', '88', '89', '90', '91', '92', '93', '94', '95', '96', '97', '98', '99', '100', '101', '102', '103', '104', '105', '106', '107', '108', '109', '110', '111', '112', '113', '114', '115', '116', '117', '118', '119', '120', '121', '122', '123', '124', '125', '126', '127', '128', '129', '130', '131', '132', '133', '134', '135', '136', '137', '138', '139', '140', '141', '142', '143', '144', '145', '146', '147', '148', '149', '150', '151', '152', '153', '154', '155', '156', '157', '158', '159', '160', '161', '162', '163', '164', '165', '166', '167', '168', '169', '170', '171', '172', '173', '174', '175', '176', '177', '178', '179', '180', '181', '182', '183', '184', '185', '186', '187', '188', '189', '190', '191', '192', '193', '194', '195', '196', '197', '198', '199', '200', '201', '202', '203', '204', '205', '206', '207', '208', '209', '210', '211', '212', '213', '214', '215', '216', '217', '218', '219', '220', '221', '222', '223', '224', '225', '226', '227', '228', '229', '230', '231', '232', '233', '234', '235', '236', '237', '238', '239', '240', '241', '242', '243', '244', '245', '246', '247', '248', '249', '250', '251', '252', '253', '254', '255', '256', '257', '258', '259', '260', '261', '262', '263', '264', '265', '266', '267', '268', '269', '270', '271', '272', '273', '274', '275', '276', '277', '278', '279', '280', '281', '282', '283', '284', '285', '286', '287', '288', '289', '290', '291', '292', '293', '294', '295', '296', '297', '298', '299', '300', '301', '302', '303', '304', '305', '306', '307', '308', '309', '310', '311', '312', '313', '314', '315', '316', '317', '318', '319', '320', '321', '322', '323', '324', '325', '326', '327', '328', '329', '330', '331', '332', '333', '334', '335', '336', '337', '338', '339', '340', '341', '342', '343', '344', '345', '346', '347', '348', '349', '350', '351', '352', '353', '354', '355', '356', '357', '358', '359', '360']\n"
     ]
    }
   ],
   "source": [
    "CATEGORIES_INT = [i for i in range(1, 361)]\n",
    "CATEGORIES = [str(item) for item in CATEGORIES_INT]\n",
    "# map(str, CATEGORIES)\n",
    "print(CATEGORIES)"
   ]
  },
  {
   "cell_type": "code",
   "execution_count": 3,
   "metadata": {},
   "outputs": [],
   "source": [
    "def prepare(filepath):\n",
    "    IMG_SIZE = 100  # 50 in txt-based\n",
    "    img_array = cv2.imread(filepath, cv2.IMREAD_GRAYSCALE)\n",
    "    img_array = img_array / 255\n",
    "    new_array = cv2.resize(img_array, (IMG_SIZE, IMG_SIZE))\n",
    "    return new_array.reshape(-1, IMG_SIZE, IMG_SIZE, 1)"
   ]
  },
  {
   "cell_type": "markdown",
   "metadata": {},
   "source": [
    "#### Version 1 to predict v2 and v3 = na"
   ]
  },
  {
   "cell_type": "code",
   "execution_count": 70,
   "metadata": {},
   "outputs": [],
   "source": [
    "json_file = open(\"trained_model_files/angles/trained_model_angles_v3.json\", \"r\")\n",
    "loaded_model_json = json_file.read()\n",
    "json_file.close()\n",
    "loaded_model = model_from_json(loaded_model_json)\n",
    "loaded_model.load_weights(\"trained_model_files/angles/trained_model_weights_angles_v3.h5\")\n",
    "loaded_model.compile(loss='sparse_categorical_crossentropy', optimizer='adam', metrics=['accuracy'])"
   ]
  },
  {
   "cell_type": "code",
   "execution_count": 73,
   "metadata": {},
   "outputs": [
    {
     "name": "stdout",
     "output_type": "stream",
     "text": [
      "<PIL.Image.Image image mode=RGB size=100x100 at 0x7FB8371DA518>\n"
     ]
    }
   ],
   "source": [
    "img_path = 'im_base_to_angle/rotated_4_na/test/43/6508dd93de22405d878a4c7854933ba3.png'\n",
    "img = image.load_img(img_path, target_size=(100, 100))\n",
    "print(img)"
   ]
  },
  {
   "cell_type": "code",
   "execution_count": 74,
   "metadata": {},
   "outputs": [
    {
     "name": "stdout",
     "output_type": "stream",
     "text": [
      "[[3.74362381e-11 4.23853341e-10 2.88346170e-11 5.16050093e-12\n",
      "  1.61997932e-11 3.52079965e-09 2.00125745e-12 6.83401460e-11\n",
      "  9.52810422e-13 5.97374797e-13 8.63789509e-12 8.45811789e-12\n",
      "  1.36221711e-11 3.63454877e-10 2.64104794e-10 4.93185048e-10\n",
      "  3.50861873e-09 5.23517096e-09 9.29604102e-11 2.51368704e-10\n",
      "  6.62567778e-10 6.81695034e-10 6.15835782e-09 3.25698669e-11\n",
      "  6.72852182e-12 3.26418823e-11 5.27402699e-09 2.36530462e-09\n",
      "  3.27507708e-11 1.05663989e-09 2.09717088e-09 3.23308647e-09\n",
      "  1.80768822e-09 3.89896204e-09 6.37280062e-10 3.47356766e-09\n",
      "  1.34418435e-10 2.70001466e-10 4.76552522e-08 1.60527929e-08\n",
      "  1.81543601e-06 3.90007044e-05 9.97777522e-01 2.14889133e-03\n",
      "  3.10134601e-05 2.30861055e-08 6.84027418e-11 4.87320011e-11\n",
      "  8.93316532e-11 9.24436705e-09 2.64925415e-08 2.71667801e-07\n",
      "  2.09688427e-08 4.72331028e-12 3.53485262e-11 7.10041123e-11\n",
      "  5.99594818e-10 3.26776739e-09 3.96000654e-09 3.12539550e-09\n",
      "  3.37227225e-11 5.49971801e-09 1.70766405e-08 1.43452294e-09\n",
      "  2.68451816e-09 8.92701308e-08 2.74548427e-07 4.10626311e-10\n",
      "  4.25056407e-10 7.26963245e-09 1.64302776e-08 3.13454152e-09\n",
      "  2.97342972e-09 1.43183669e-08 2.48435095e-09 7.85708998e-10\n",
      "  1.22212501e-11 5.62658675e-09 1.45721268e-10 7.97961863e-10\n",
      "  1.11876695e-08 1.31406246e-08 4.13054568e-09 1.26201730e-10\n",
      "  2.85669988e-10 1.13676039e-11 3.18370719e-10 3.41567163e-10\n",
      "  1.30025879e-10 1.43257003e-10 4.97761589e-11 3.22736116e-10\n",
      "  1.33538425e-09 1.97232151e-08 6.70470346e-09 9.34705424e-10\n",
      "  2.82251489e-09 9.13470619e-11 1.85580618e-08 1.69053582e-09\n",
      "  3.72530273e-08 1.86791326e-07 2.08259787e-09 2.32086406e-10\n",
      "  4.75322892e-10 2.98867209e-10 1.48199952e-10 8.21877774e-11\n",
      "  2.34484709e-10 3.97936848e-12 2.02863594e-12 1.22103758e-10\n",
      "  3.44458267e-10 4.43028947e-12 8.10225671e-12 3.30142663e-10\n",
      "  7.64846519e-11 2.95170589e-11 1.26724731e-09 2.07399187e-09\n",
      "  7.67576419e-11 3.57716329e-10 8.62782276e-11 5.57709268e-10\n",
      "  7.73431388e-11 5.83469315e-11 3.04315011e-11 4.03744434e-11\n",
      "  1.90288607e-09 1.78353741e-08 3.60065799e-09 2.99885186e-11\n",
      "  2.32515092e-12 8.62365138e-13 2.00753598e-11 1.51831148e-09\n",
      "  4.00084366e-09 3.73673670e-09 2.02235362e-09 9.47694012e-09\n",
      "  9.44216705e-10 1.89449167e-09 1.59774804e-10 6.92074043e-09\n",
      "  4.58983429e-09 5.14977384e-12 1.31621325e-10 3.34097008e-12\n",
      "  6.68712308e-11 4.06733713e-09 8.06597278e-09 2.19090093e-10\n",
      "  8.15552292e-10 3.10635094e-11 6.02412831e-09 2.70699263e-09\n",
      "  2.17400473e-10 2.47383958e-09 3.04166781e-09 4.45847137e-10\n",
      "  2.33817610e-09 6.18171514e-10 8.55614690e-10 4.51547688e-10\n",
      "  1.65687616e-10 8.86806517e-10 4.81425122e-10 1.40056217e-10\n",
      "  1.16482435e-10 2.89163782e-09 6.20445739e-09 2.23677854e-09\n",
      "  4.22143120e-09 1.12002130e-10 1.71701611e-10 1.95992195e-10\n",
      "  8.25987334e-11 1.07604716e-08 2.93902538e-08 2.80236001e-10\n",
      "  4.06626510e-10 2.13660853e-10 2.36330566e-10 5.30913247e-12\n",
      "  1.59227423e-11 6.83611362e-11 8.52013165e-12 6.60218616e-11\n",
      "  1.35949689e-11 9.78081921e-11 9.83575417e-13 2.08039510e-12\n",
      "  1.36595780e-12 5.63331361e-11 1.13954349e-11 2.30500022e-10\n",
      "  1.29453696e-11 4.31289116e-10 2.18230115e-10 1.60018700e-11\n",
      "  1.21250048e-12 5.64925218e-10 1.19167204e-10 1.11122405e-11\n",
      "  3.14029944e-12 1.94926784e-13 5.67432455e-11 5.30992507e-11\n",
      "  5.74412531e-11 1.15147343e-10 1.74851189e-10 5.31136635e-10\n",
      "  3.03785108e-10 1.79724638e-10 2.42294466e-12 2.90325680e-11\n",
      "  2.94668956e-10 9.49581017e-13 1.89785609e-08 2.57455838e-07\n",
      "  2.49516896e-09 2.92600666e-10 8.19779747e-15 5.39610078e-13\n",
      "  9.09442140e-12 1.17449328e-10 4.80642262e-11 7.30386292e-13\n",
      "  4.62369119e-12 1.07109280e-10 5.69995162e-09 5.47458689e-10\n",
      "  1.30582667e-09 1.02942073e-08 6.76611683e-11 8.03290507e-12\n",
      "  8.97742980e-13 2.51723156e-11 3.33360406e-09 1.91366964e-10\n",
      "  1.38400291e-09 3.04060874e-11 3.23430771e-09 8.89960816e-08\n",
      "  3.73014064e-10 6.26264340e-13 5.78649420e-11 7.36585370e-09\n",
      "  3.19660986e-12 4.70839687e-12 8.36085715e-11 3.45085419e-11\n",
      "  6.63382760e-12 1.08660121e-11 3.69440643e-13 1.20434246e-10\n",
      "  1.07391074e-08 1.02502251e-11 5.37671956e-11 1.52206636e-09\n",
      "  8.33961095e-11 4.09228103e-11 1.40121942e-10 1.56506978e-11\n",
      "  2.88228903e-12 3.66673532e-12 6.22148028e-11 1.87459534e-10\n",
      "  6.87386370e-10 7.45671025e-11 3.34998518e-09 5.57785873e-10\n",
      "  2.07131556e-09 1.04696429e-09 1.44755941e-09 1.90248328e-09\n",
      "  3.74893823e-12 9.72317192e-12 6.53264899e-12 3.51014329e-10\n",
      "  1.20722654e-10 1.94469191e-10 1.55907592e-10 6.12938381e-11\n",
      "  3.19399868e-10 1.41199175e-09 1.55223456e-09 4.02900741e-10\n",
      "  1.15030346e-10 4.77386013e-11 3.40058225e-11 1.33137737e-11\n",
      "  5.31380051e-09 4.22260282e-11 1.37120272e-11 1.31470225e-11\n",
      "  1.53815488e-10 1.72510044e-11 3.73174880e-10 4.11152401e-09\n",
      "  1.27997508e-11 8.22483193e-11 2.20794841e-11 3.27244026e-12\n",
      "  2.31809233e-12 9.01075395e-11 2.59864335e-11 1.91382570e-11\n",
      "  4.88088129e-12 9.12942378e-12 1.65241668e-10 6.84368395e-10\n",
      "  6.43563780e-09 2.11494489e-10 2.77430457e-11 1.76058094e-12\n",
      "  4.08958674e-12 3.96935845e-10 1.31359634e-08 1.04034408e-08\n",
      "  6.56999233e-10 1.10460725e-08 6.44931397e-09 2.97521119e-09\n",
      "  1.78625670e-09 2.07659428e-11 1.69363156e-12 7.91857344e-11\n",
      "  1.53465005e-10 1.00491782e-09 1.50635157e-10 2.17165064e-10\n",
      "  7.88148713e-12 1.76405257e-09 1.52751367e-09 1.86669482e-11\n",
      "  2.14629287e-10 1.38302720e-08 7.88163035e-10 1.35843753e-10\n",
      "  1.06551178e-10 3.06236791e-09 2.38101455e-10 4.40947112e-10\n",
      "  1.49663448e-10 3.35140404e-09 3.76969116e-11 1.28335538e-08\n",
      "  4.89756707e-11 3.97858330e-10 9.88611970e-10 6.36399378e-10\n",
      "  2.05774391e-11 2.03340469e-12 1.34640849e-11 4.03895190e-12\n",
      "  3.37044781e-10 1.31160144e-11 1.82978077e-10 2.10847761e-09]]\n"
     ]
    }
   ],
   "source": [
    "prediction = loaded_model.predict([prepare(img_path)])\n",
    "print(prediction)"
   ]
  },
  {
   "cell_type": "code",
   "execution_count": 75,
   "metadata": {},
   "outputs": [
    {
     "name": "stdout",
     "output_type": "stream",
     "text": [
      "43\n"
     ]
    }
   ],
   "source": [
    "print(CATEGORIES[np.argmax(prediction)])"
   ]
  },
  {
   "cell_type": "code",
   "execution_count": 62,
   "metadata": {},
   "outputs": [
    {
     "name": "stdout",
     "output_type": "stream",
     "text": [
      "1.6738253e-17\n"
     ]
    }
   ],
   "source": [
    "print(prediction[0][0])"
   ]
  },
  {
   "cell_type": "code",
   "execution_count": 19,
   "metadata": {},
   "outputs": [
    {
     "name": "stdout",
     "output_type": "stream",
     "text": [
      "1.0\n"
     ]
    }
   ],
   "source": [
    "print(max(prediction[0]))"
   ]
  },
  {
   "cell_type": "code",
   "execution_count": 18,
   "metadata": {},
   "outputs": [
    {
     "name": "stdout",
     "output_type": "stream",
     "text": [
      "360\n"
     ]
    }
   ],
   "source": [
    "print(len(prediction[0]))"
   ]
  },
  {
   "cell_type": "code",
   "execution_count": 23,
   "metadata": {},
   "outputs": [
    {
     "name": "stdout",
     "output_type": "stream",
     "text": [
      "179\n"
     ]
    }
   ],
   "source": [
    "print(np.argmax(prediction))"
   ]
  },
  {
   "cell_type": "code",
   "execution_count": 16,
   "metadata": {},
   "outputs": [
    {
     "name": "stdout",
     "output_type": "stream",
     "text": [
      "[1.12552781e-22 1.05375716e-27 5.85534595e-26 1.46823226e-24\n",
      " 6.25435106e-25 9.98253124e-26 2.59876662e-21 6.93875300e-23\n",
      " 1.08261535e-23 2.16418943e-21 6.35855312e-21 4.23918923e-19\n",
      " 4.25989583e-24 7.20259220e-16 1.13247204e-19 2.02302706e-20\n",
      " 2.04884353e-19 1.21445998e-19 1.34235283e-19 3.15934656e-20\n",
      " 2.50387701e-20 1.28954020e-19 1.16989679e-19 5.00836705e-24\n",
      " 9.52552598e-22 7.30707701e-20 4.20732074e-20 1.51728764e-21\n",
      " 2.55068897e-22 1.14732851e-22 2.87802564e-18 7.84827933e-24\n",
      " 1.16845562e-20 1.58577703e-23 6.48418723e-21 2.37102098e-20\n",
      " 1.90652943e-19 1.01740206e-18 4.53226061e-19 5.87103658e-22\n",
      " 5.11046372e-23 5.12469540e-23 1.82870660e-19 1.43055028e-22\n",
      " 1.37741213e-21 5.30144757e-23 1.43241523e-18 9.22503323e-21\n",
      " 2.72780942e-21 7.26774069e-20 9.90261015e-20 5.97824235e-25\n",
      " 1.20803630e-21 7.10642153e-22 5.08543815e-22 1.15746837e-25\n",
      " 6.34019359e-21 1.18112910e-20 2.92107898e-22 1.15433057e-22\n",
      " 7.23675196e-21 6.79072056e-24 1.37097028e-20 2.68146469e-21\n",
      " 4.54296357e-24 3.17952791e-26 1.72753571e-22 3.18767256e-21\n",
      " 1.20177724e-19 1.00717180e-20 2.68349233e-20 6.81447181e-22\n",
      " 1.79719690e-21 8.10338268e-22 1.40300010e-20 8.27005483e-21\n",
      " 2.06200617e-21 3.80174600e-23 2.28211942e-21 3.23947561e-22\n",
      " 4.59488884e-22 1.75730704e-21 9.17083730e-18 3.57397560e-21\n",
      " 3.04629843e-20 1.66988172e-22 2.10090365e-21 1.23954014e-23\n",
      " 3.42018827e-20 7.41994575e-18 3.04233359e-23 9.86760105e-23\n",
      " 7.46289069e-19 8.92320159e-17 3.88131783e-22 2.60701641e-22\n",
      " 2.80442021e-22 3.62538994e-19 9.67501948e-21 1.87877036e-18\n",
      " 4.40374208e-18 2.64720374e-21 4.81313571e-25 1.13280355e-21\n",
      " 4.60363337e-19 3.27044263e-22 4.04482717e-21 1.74349842e-21\n",
      " 6.30515858e-18 5.14589665e-21 1.05020703e-17 1.75416082e-19\n",
      " 1.93852975e-23 1.80438413e-19 2.24843541e-14 2.49445904e-19\n",
      " 3.31971010e-25 1.67573075e-25 2.75834019e-23 1.67571670e-19\n",
      " 1.77881220e-17 8.27201551e-20 1.27159467e-24 1.65686502e-25\n",
      " 1.51895315e-24 8.83123952e-22 2.97904884e-19 1.92769695e-23\n",
      " 9.35807548e-24 5.14104767e-22 6.87415286e-23 1.60776153e-21\n",
      " 1.31349647e-17 2.23074729e-17 1.99662375e-19 5.25994689e-17\n",
      " 3.24165135e-22 2.35515559e-20 1.93178354e-22 2.20247695e-20\n",
      " 2.07783665e-22 4.03747165e-22 1.86126808e-22 6.97389431e-21\n",
      " 1.69412305e-21 5.95717110e-22 3.04553297e-19 1.33698045e-21\n",
      " 3.97881789e-16 2.02217267e-18 6.78998702e-19 9.31423375e-24\n",
      " 5.02656307e-19 3.06738120e-20 3.54791372e-18 5.56896722e-21\n",
      " 1.09161436e-23 1.08832184e-22 6.16636871e-24 1.96136957e-19\n",
      " 1.55657101e-16 3.54315288e-18 4.02178122e-20 6.10136559e-17\n",
      " 1.51899328e-17 2.76845011e-15 6.69518127e-19 5.69006790e-18\n",
      " 1.80897601e-17 4.78443962e-22 6.64418388e-22 6.74027597e-21\n",
      " 1.65877834e-21 4.29860089e-16 1.16624750e-19 8.50685618e-16\n",
      " 3.05790091e-16 8.49896130e-19 1.15054689e-12 1.00000000e+00\n",
      " 4.46607312e-15 9.50575280e-20 9.96023362e-20 7.48977411e-22\n",
      " 1.98472424e-19 3.62441544e-15 2.64953415e-16 4.50303725e-17\n",
      " 1.27583485e-19 1.17561473e-18 9.46104369e-19 3.42367188e-21\n",
      " 1.53377548e-19 9.34912380e-23 6.06057593e-20 5.72136144e-20\n",
      " 1.15177062e-22 2.39411531e-20 5.35233264e-22 4.25682976e-22\n",
      " 1.40755741e-19 1.26710854e-20 1.94556666e-24 4.98463977e-23\n",
      " 1.27937108e-22 8.88246413e-21 5.07046289e-15 7.16144338e-23\n",
      " 6.05922286e-24 1.21175839e-25 4.06696545e-22 7.99403112e-19\n",
      " 2.69866211e-22 1.76496483e-22 1.37026443e-20 2.52986831e-19\n",
      " 1.01011346e-16 1.43895662e-15 9.53238438e-17 1.58181979e-23\n",
      " 4.04527965e-26 4.68425421e-26 3.47385589e-24 3.87379061e-21\n",
      " 9.06961779e-21 1.97033403e-16 2.61485750e-20 8.36148543e-19\n",
      " 4.07288689e-19 6.13258389e-18 2.42934661e-16 1.64814744e-17\n",
      " 1.80845403e-22 7.84095580e-22 1.25048956e-27 6.91359669e-24\n",
      " 8.63125947e-25 1.77557964e-23 1.61147952e-17 2.23534272e-21\n",
      " 1.11387790e-18 2.82794052e-19 7.64994695e-22 7.97845135e-22\n",
      " 1.09728210e-19 5.61129641e-21 1.12044172e-24 5.12606936e-21\n",
      " 3.35863076e-21 9.82900155e-19 8.56548885e-19 2.07930889e-17\n",
      " 2.98423238e-21 6.45791088e-17 1.59525749e-19 9.97285588e-20\n",
      " 4.15248227e-22 3.38502259e-22 1.54899780e-20 8.25937738e-26\n",
      " 1.05417640e-25 2.38469062e-20 1.01909252e-24 7.00803312e-20\n",
      " 2.09483070e-20 6.39957742e-22 3.58850578e-24 8.50510637e-23\n",
      " 2.23336863e-18 2.97444015e-18 1.60911289e-19 3.59125180e-20\n",
      " 7.27552403e-23 1.26464645e-19 2.24367442e-19 6.04204406e-26\n",
      " 2.14980097e-26 1.33988053e-21 4.05242761e-20 1.35346746e-22\n",
      " 1.71734004e-20 1.44385073e-22 7.70678401e-26 4.08293697e-26\n",
      " 2.10402355e-21 1.03439239e-21 7.14121819e-26 2.11062343e-21\n",
      " 6.26189010e-19 3.73286318e-25 1.97025281e-22 3.12848528e-22\n",
      " 3.32085672e-21 5.92819346e-24 3.11405591e-21 2.56701363e-19\n",
      " 2.42906369e-20 1.31731767e-28 6.80671251e-27 1.08601433e-25\n",
      " 6.85616178e-23 2.39644667e-19 1.12178489e-16 5.77419677e-22\n",
      " 4.07503692e-24 1.89202179e-22 1.57172597e-24 4.69562936e-20\n",
      " 5.74735744e-17 9.56120319e-22 3.22852228e-21 5.25118956e-23\n",
      " 4.83223689e-23 5.07966283e-21 1.19694468e-21 2.97262075e-21\n",
      " 2.19661410e-18 1.71168904e-20 3.71662816e-22 8.29704079e-21\n",
      " 1.38121419e-24 3.59760686e-24 2.91622464e-22 5.06480003e-22\n",
      " 1.69736089e-17 1.70936966e-16 2.62209339e-17 3.08575453e-16\n",
      " 2.56394066e-19 1.31628330e-20 3.21378588e-23 5.14238154e-22\n",
      " 3.51721436e-19 5.52238702e-20 2.59279154e-24 7.52659921e-24\n",
      " 3.57514287e-24 1.01351467e-22 1.17664877e-22 1.78118502e-21\n",
      " 3.15741222e-24 3.17221362e-24 2.16145241e-19 5.80717949e-21\n",
      " 6.90129851e-22 1.60473130e-25 5.44356327e-25 4.68478213e-22\n",
      " 7.41381372e-31 2.51985665e-30 2.79616640e-27 6.41637223e-29\n",
      " 3.89693392e-25 1.62340051e-24 1.69382497e-22 6.95209557e-26\n",
      " 9.71462536e-29 1.02445868e-26 1.97596775e-20 5.00338803e-22]\n"
     ]
    }
   ],
   "source": [
    "print(prediction[0])"
   ]
  },
  {
   "cell_type": "code",
   "execution_count": 49,
   "metadata": {},
   "outputs": [
    {
     "data": {
      "text/plain": [
       "(array([36., 36., 36., 36., 36., 36., 36., 36., 36., 36.]),\n",
       " array([  1. ,  36.9,  72.8, 108.7, 144.6, 180.5, 216.4, 252.3, 288.2,\n",
       "        324.1, 360. ]),\n",
       " <a list of 10 Patch objects>)"
      ]
     },
     "execution_count": 49,
     "metadata": {},
     "output_type": "execute_result"
    },
    {
     "data": {
      "image/png": "[encoded data removed]",
      "text/plain": [
       "<Figure size 432x288 with 1 Axes>"
      ]
     },
     "metadata": {
      "needs_background": "light"
     },
     "output_type": "display_data"
    }
   ],
   "source": [
    "plt.hist(CATEGORIES_INT)"
   ]
  },
  {
   "cell_type": "markdown",
   "metadata": {},
   "source": [
    "#### Version 2 to predict"
   ]
  },
  {
   "cell_type": "code",
   "execution_count": 36,
   "metadata": {},
   "outputs": [],
   "source": [
    "prediction = loaded_model.predict([prepare(img_path)])"
   ]
  },
  {
   "cell_type": "code",
   "execution_count": 37,
   "metadata": {},
   "outputs": [
    {
     "name": "stdout",
     "output_type": "stream",
     "text": [
      "[[0. 0. 0. 0. 0. 0. 0. 0. 0. 0. 0. 0. 0. 0. 0. 0. 0. 0. 0. 0. 0. 0. 0. 0.\n",
      "  0. 0. 0. 0. 0. 0. 0. 0. 0. 0. 0. 0. 0. 0. 0. 0. 0. 0. 0. 0. 1. 0. 0. 0.\n",
      "  0. 0. 0. 0. 0. 0. 0. 0. 0. 0. 0. 0. 0. 0. 0. 0. 0. 0. 0. 0. 0. 0. 0. 0.\n",
      "  0. 0. 0. 0. 0. 0. 0. 0. 0. 0. 0. 0. 0. 0. 0. 0. 0. 0. 0. 0. 0. 0. 0. 0.\n",
      "  0. 0. 0. 0. 0. 0. 0. 0. 0. 0. 0. 0. 0. 0. 0. 0. 0. 0. 0. 0. 0. 0. 0. 0.\n",
      "  0. 0. 0. 0. 0. 0. 0. 0. 0. 0. 0. 0. 0. 0. 0. 0. 0. 0. 0. 0. 0. 0. 0. 0.\n",
      "  0. 0. 0. 0. 0. 0. 0. 0. 0. 0. 0. 0. 0. 0. 0. 0. 0. 0. 0. 0. 0. 0. 0. 0.\n",
      "  0. 0. 0. 0. 0. 0. 0. 0. 0. 0. 0. 0. 0. 0. 0. 0. 0. 0. 0. 0. 0. 0. 0. 0.\n",
      "  0. 0. 0. 0. 0. 0. 0. 0. 0. 0. 0. 0. 0. 0. 0. 0. 0. 0. 0. 0. 0. 0. 0. 0.\n",
      "  0. 0. 0. 0. 0. 0. 0. 0. 0. 0. 0. 0. 0. 0. 0. 0. 0. 0. 0. 0. 0. 0. 0. 0.\n",
      "  0. 0. 0. 0. 0. 0. 0. 0. 0. 0. 0. 0. 0. 0. 0. 0. 0. 0. 0. 0. 0. 0. 0. 0.\n",
      "  0. 0. 0. 0. 0. 0. 0. 0. 0. 0. 0. 0. 0. 0. 0. 0. 0. 0. 0. 0. 0. 0. 0. 0.\n",
      "  0. 0. 0. 0. 0. 0. 0. 0. 0. 0. 0. 0. 0. 0. 0. 0. 0. 0. 0. 0. 0. 0. 0. 0.\n",
      "  0. 0. 0. 0. 0. 0. 0. 0. 0. 0. 0. 0. 0. 0. 0. 0. 0. 0. 0. 0. 0. 0. 0. 0.\n",
      "  0. 0. 0. 0. 0. 0. 0. 0. 0. 0. 0. 0. 0. 0. 0. 0. 0. 0. 0. 0. 0. 0. 0. 0.]]\n"
     ]
    }
   ],
   "source": [
    "print(prediction)"
   ]
  },
  {
   "cell_type": "code",
   "execution_count": 42,
   "metadata": {},
   "outputs": [
    {
     "name": "stdout",
     "output_type": "stream",
     "text": [
      "0.0\n"
     ]
    }
   ],
   "source": [
    "print(prediction[0][0])"
   ]
  },
  {
   "cell_type": "code",
   "execution_count": 44,
   "metadata": {},
   "outputs": [
    {
     "name": "stdout",
     "output_type": "stream",
     "text": [
      "1\n"
     ]
    }
   ],
   "source": [
    "print(CATEGORIES[int(prediction[0][0])])"
   ]
  },
  {
   "cell_type": "markdown",
   "metadata": {},
   "source": [
    "#### Test trained model on dirty images with dirty images"
   ]
  },
  {
   "cell_type": "code",
   "execution_count": 60,
   "metadata": {},
   "outputs": [],
   "source": [
    "json_file_dirty = open(\"trained_model_files/angles/trained_model_angles.json\", \"r\")\n",
    "loaded_model_json_dirty = json_file_dirty.read()\n",
    "json_file.close()\n",
    "loaded_model_dirty = model_from_json(loaded_model_json_dirty)\n",
    "loaded_model_dirty.load_weights(\"trained_model_files/angles/trained_model_weights_angles.h5\")\n",
    "loaded_model_dirty.compile(loss='sparse_categorical_crossentropy', optimizer='adam', metrics=['accuracy'])"
   ]
  },
  {
   "cell_type": "code",
   "execution_count": 61,
   "metadata": {},
   "outputs": [
    {
     "name": "stdout",
     "output_type": "stream",
     "text": [
      "<PIL.Image.Image image mode=RGB size=100x100 at 0x7FB837E726A0>\n"
     ]
    }
   ],
   "source": [
    "img_path = 'im_base_to_angle/r_d_i_pa/train/43/f17b2f28ff224dcc8c4a245755134beb.png'\n",
    "img = image.load_img(img_path, target_size=(100, 100))\n",
    "print(img)"
   ]
  },
  {
   "cell_type": "code",
   "execution_count": 62,
   "metadata": {},
   "outputs": [],
   "source": [
    "def prepare(filepath):\n",
    "    IMG_SIZE = 100  # 50 in txt-based\n",
    "    img_array = cv2.imread(filepath, cv2.IMREAD_GRAYSCALE)\n",
    "    img_array = img_array / 255\n",
    "    new_array = cv2.resize(img_array, (IMG_SIZE, IMG_SIZE))\n",
    "    return new_array.reshape(-1, IMG_SIZE, IMG_SIZE, 1)"
   ]
  },
  {
   "cell_type": "code",
   "execution_count": 63,
   "metadata": {},
   "outputs": [
    {
     "name": "stdout",
     "output_type": "stream",
     "text": [
      "[[1.73455543e-08 2.91635871e-08 8.03023037e-10 4.25392447e-12\n",
      "  2.70483330e-10 1.92778280e-12 1.92098854e-12 2.02942330e-10\n",
      "  7.64373908e-07 1.49992206e-06 3.72431401e-08 2.52579071e-06\n",
      "  9.72629977e-09 3.71874677e-13 2.48801452e-10 8.97020826e-12\n",
      "  3.35962676e-13 5.07327798e-07 1.73676171e-10 4.72681144e-17\n",
      "  1.19894112e-12 1.89715868e-10 1.15016446e-05 8.95281786e-08\n",
      "  1.18841629e-11 4.32694001e-13 3.35579280e-08 2.94474473e-10\n",
      "  9.08891723e-13 2.76746480e-15 5.52451748e-13 4.79851358e-12\n",
      "  7.53752261e-09 3.17484261e-09 3.16607879e-10 3.09687714e-12\n",
      "  3.62962438e-09 7.64095787e-10 1.26162602e-04 1.24415048e-04\n",
      "  2.40368628e-11 9.29370730e-13 2.77815928e-07 2.04861017e-08\n",
      "  9.56860191e-08 1.79926007e-09 1.69375156e-11 1.22104493e-09\n",
      "  2.54887527e-06 4.45997102e-12 2.35555634e-13 3.43448325e-11\n",
      "  7.99072234e-13 5.91247259e-11 2.33656899e-10 1.19298883e-17\n",
      "  4.63809119e-14 3.70502434e-10 1.45914125e-08 1.34592977e-12\n",
      "  8.15482224e-08 2.92300655e-07 9.15325436e-05 4.61564632e-04\n",
      "  5.79490622e-12 2.61819993e-11 3.27196091e-07 3.37963022e-04\n",
      "  6.01954042e-08 5.04691059e-07 1.76341832e-03 6.44308500e-07\n",
      "  7.15612958e-10 9.27083670e-12 2.82808912e-07 2.95078906e-10\n",
      "  6.58869226e-09 6.98486168e-04 9.27270503e-06 2.39504597e-11\n",
      "  2.31460823e-10 1.07129881e-14 8.67324823e-10 2.14436412e-07\n",
      "  5.27566364e-08 1.38683379e-11 3.88736199e-09 2.79952228e-10\n",
      "  2.09538413e-08 6.80219606e-02 2.38829315e-01 5.71554288e-08\n",
      "  8.76966794e-07 9.89697014e-07 7.96414679e-04 6.08835137e-07\n",
      "  2.58393469e-03 8.71006995e-02 3.59438600e-05 2.71664164e-03\n",
      "  1.43240800e-03 1.21644931e-07 1.18605500e-10 1.16921035e-06\n",
      "  2.70686985e-04 9.90836355e-08 4.31246917e-07 5.58812326e-06\n",
      "  2.40849506e-04 1.46140142e-10 1.24440148e-05 4.98207693e-04\n",
      "  1.31570928e-07 3.05356593e-07 7.81122653e-05 9.55796044e-04\n",
      "  1.09870246e-08 1.24251098e-09 2.58578172e-08 7.76802835e-07\n",
      "  2.07584687e-02 7.29100520e-06 1.11314478e-07 6.27819077e-07\n",
      "  6.41957968e-06 3.26825902e-05 5.61165107e-05 1.41445271e-05\n",
      "  2.71682657e-04 1.01159664e-07 9.76001174e-05 2.64707651e-08\n",
      "  7.73086697e-02 1.30835245e-08 9.22602383e-10 6.97804592e-11\n",
      "  1.85928661e-10 4.84247238e-08 4.59428775e-05 1.04779097e-09\n",
      "  1.65101040e-11 6.20477252e-08 4.98263806e-04 1.23981245e-05\n",
      "  7.85091652e-06 9.29094313e-09 1.43704826e-08 2.41268117e-10\n",
      "  7.51010589e-07 1.12953036e-04 2.31193684e-04 7.97851195e-12\n",
      "  1.36500750e-11 3.74008573e-06 8.61101667e-04 2.28439312e-05\n",
      "  1.13500289e-04 5.98433962e-06 2.84828302e-02 1.73205292e-04\n",
      "  1.49671778e-05 1.61740346e-08 3.45570843e-05 4.62978721e-01\n",
      "  6.24650748e-11 1.89784018e-07 4.52146307e-11 4.79440443e-09\n",
      "  1.36938013e-06 5.18358487e-04 1.63030878e-09 7.66599340e-10\n",
      "  2.38242781e-09 1.92732230e-09 1.35155433e-05 3.09960342e-07\n",
      "  1.94438729e-10 1.88080419e-11 1.34412971e-07 3.69372287e-07\n",
      "  1.38310341e-08 3.03365546e-08 2.73813621e-05 1.38358037e-05\n",
      "  3.32354233e-08 2.66290158e-06 7.36505079e-09 4.18812378e-05\n",
      "  4.45987416e-06 1.44166677e-07 3.89195431e-09 1.50059717e-12\n",
      "  2.42974081e-17 1.48747638e-17 1.85656219e-13 3.55154413e-11\n",
      "  1.52897209e-11 3.03708798e-16 4.96712498e-11 2.22034901e-13\n",
      "  6.48868098e-14 9.22976279e-12 3.06966502e-13 9.34690828e-14\n",
      "  5.85315216e-14 3.29691515e-13 8.72035158e-15 2.07148641e-15\n",
      "  1.07210824e-14 4.07119272e-17 1.71552375e-13 9.30251223e-11\n",
      "  1.59393339e-14 2.00729107e-18 3.80901484e-15 9.56023715e-12\n",
      "  3.31215551e-13 1.06386505e-13 4.58000100e-14 8.86631483e-15\n",
      "  4.08848163e-18 2.01780771e-19 2.82992405e-18 1.80113409e-21\n",
      "  2.01230869e-22 5.93721168e-18 1.16212527e-18 1.58465368e-19\n",
      "  2.23827977e-17 5.54672867e-18 6.31978525e-20 3.84363780e-22\n",
      "  1.00024037e-20 1.37532938e-16 1.32746805e-17 2.50415230e-19\n",
      "  3.76435959e-18 5.85227440e-20 4.18821827e-17 3.37676170e-16\n",
      "  9.10650664e-18 9.50131317e-21 1.08292959e-20 1.96323404e-16\n",
      "  3.75090963e-13 1.73796834e-17 2.88640952e-19 2.89792126e-16\n",
      "  7.56328795e-16 1.55731310e-14 4.10536223e-17 1.11781509e-16\n",
      "  2.55731613e-14 4.09204539e-15 2.47146241e-16 1.33912466e-18\n",
      "  2.25580657e-19 3.59493260e-21 1.60444981e-15 7.60996952e-16\n",
      "  2.46496661e-23 2.79718620e-20 1.01427255e-20 2.50649115e-21\n",
      "  1.46779250e-18 1.94272258e-14 5.07599544e-21 8.44776565e-23\n",
      "  1.51692613e-22 1.65974973e-15 6.87434933e-17 2.36229400e-15\n",
      "  1.52492003e-16 1.06091353e-15 5.49517488e-17 2.67541074e-15\n",
      "  1.86258022e-14 2.06445565e-13 1.47536511e-07 2.11107833e-11\n",
      "  1.25121705e-10 3.97764287e-13 2.46915946e-19 3.19978050e-20\n",
      "  4.15483604e-23 6.78137246e-15 2.59280156e-14 2.98995681e-12\n",
      "  3.75436141e-12 4.03763103e-17 1.80590464e-18 5.40814909e-15\n",
      "  3.65389004e-11 2.57484802e-14 4.96946522e-15 3.54609408e-19\n",
      "  2.88726342e-15 8.24959784e-13 8.24582361e-20 1.49853257e-15\n",
      "  1.59041766e-13 6.67013428e-13 7.37688024e-15 4.87553628e-13\n",
      "  3.30340638e-12 6.11497479e-14 2.95486780e-13 3.42631441e-13\n",
      "  5.26807779e-15 6.83534562e-10 2.44462697e-12 8.69125089e-17\n",
      "  3.45368287e-12 2.33837209e-16 3.70252840e-15 2.54865824e-18\n",
      "  1.42495400e-16 1.09711719e-12 1.63841664e-13 5.78516887e-11\n",
      "  2.25137114e-11 4.99535205e-11 2.71541508e-17 9.59318282e-17\n",
      "  1.75060009e-14 1.03495422e-16 2.65217001e-16 2.31588511e-13\n",
      "  2.76401905e-12 1.46317505e-14 4.00533856e-17 7.07247737e-13\n",
      "  6.68216860e-09 1.11274504e-10 3.28881254e-17 2.80196493e-13\n",
      "  9.50121232e-12 1.53128270e-12 1.76676260e-13 8.39571576e-13\n",
      "  1.94096249e-11 2.90192870e-10 1.32717188e-13 3.48701958e-18\n",
      "  5.85230475e-10 1.84330497e-14 2.66708161e-14 2.03737179e-12\n",
      "  2.41976984e-13 1.84881098e-15 5.26704774e-17 5.93284799e-16\n",
      "  1.21771288e-15 2.03399395e-08 6.73655836e-12 1.83000186e-12\n",
      "  5.28913789e-16 7.72442277e-14 6.25946939e-08 1.13250024e-07]]\n"
     ]
    }
   ],
   "source": [
    "prediction = loaded_model_dirty.predict([prepare(img_path)])\n",
    "print(prediction)"
   ]
  },
  {
   "cell_type": "code",
   "execution_count": 64,
   "metadata": {},
   "outputs": [
    {
     "name": "stdout",
     "output_type": "stream",
     "text": [
      "164\n"
     ]
    }
   ],
   "source": [
    "print(CATEGORIES[np.argmax(prediction)])"
   ]
  },
  {
   "cell_type": "code",
   "execution_count": 65,
   "metadata": {},
   "outputs": [
    {
     "name": "stdout",
     "output_type": "stream",
     "text": [
      "163\n"
     ]
    }
   ],
   "source": [
    "print(np.argmax(prediction))"
   ]
  },
  {
   "cell_type": "code",
   "execution_count": null,
   "metadata": {},
   "outputs": [],
   "source": []
  },
  {
   "cell_type": "code",
   "execution_count": null,
   "metadata": {},
   "outputs": [],
   "source": []
  },
  {
   "cell_type": "code",
   "execution_count": null,
   "metadata": {},
   "outputs": [],
   "source": []
  }
 ],
 "metadata": {
  "kernelspec": {
   "display_name": "Python 3",
   "language": "python",
   "name": "python3"
  },
  "language_info": {
   "codemirror_mode": {
    "name": "ipython",
    "version": 3
   },
   "file_extension": ".py",
   "mimetype": "text/x-python",
   "name": "python",
   "nbconvert_exporter": "python",
   "pygments_lexer": "ipython3",
   "version": "3.6.7"
  }
 },
 "nbformat": 4,
 "nbformat_minor": 2
}
