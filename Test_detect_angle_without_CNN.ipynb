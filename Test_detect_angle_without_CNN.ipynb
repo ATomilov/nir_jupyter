{
 "cells": [
  {
   "cell_type": "code",
   "execution_count": 7,
   "metadata": {},
   "outputs": [],
   "source": [
    "import numpy as np\n",
    "import cv2\n",
    "import math\n",
    "import os\n",
    "from scipy import ndimage"
   ]
  },
  {
   "cell_type": "code",
   "execution_count": 8,
   "metadata": {},
   "outputs": [],
   "source": [
    "def get_image_paths():\n",
    "    folder = 'im_base_to_angle/started_state/train'\n",
    "    files = os.listdir(folder)\n",
    "    files.sort()\n",
    "    files = ['{}/{}'.format(folder, file) for file in files]\n",
    "    return files"
   ]
  },
  {
   "cell_type": "code",
   "execution_count": 9,
   "metadata": {},
   "outputs": [
    {
     "name": "stdout",
     "output_type": "stream",
     "text": [
      "['im_base_to_angle/started_state/train/109.png', 'im_base_to_angle/started_state/train/118.png', 'im_base_to_angle/started_state/train/126.png', 'im_base_to_angle/started_state/train/134.png', 'im_base_to_angle/started_state/train/138.png', 'im_base_to_angle/started_state/train/144.png', 'im_base_to_angle/started_state/train/152.png', 'im_base_to_angle/started_state/train/159.png', 'im_base_to_angle/started_state/train/162.png', 'im_base_to_angle/started_state/train/175.png', 'im_base_to_angle/started_state/train/176.png', 'im_base_to_angle/started_state/train/19.png', 'im_base_to_angle/started_state/train/25.png', 'im_base_to_angle/started_state/train/34.png', 'im_base_to_angle/started_state/train/38.png', 'im_base_to_angle/started_state/train/43.png', 'im_base_to_angle/started_state/train/52.png', 'im_base_to_angle/started_state/train/53.png', 'im_base_to_angle/started_state/train/64.png', 'im_base_to_angle/started_state/train/66.png']\n"
     ]
    }
   ],
   "source": [
    "X_img_paths = get_image_paths()\n",
    "print(X_img_paths)"
   ]
  },
  {
   "cell_type": "code",
   "execution_count": 18,
   "metadata": {},
   "outputs": [
    {
     "name": "stdout",
     "output_type": "stream",
     "text": [
      "Angle is -0.5354589855645338\n"
     ]
    },
    {
     "data": {
      "text/plain": [
       "True"
      ]
     },
     "execution_count": 18,
     "metadata": {},
     "output_type": "execute_result"
    }
   ],
   "source": [
    "img_before = cv2.imread('im_base_to_angle/started_state/train/43.png')\n",
    "\n",
    "# cv2.imshow(\"Before\", img_before)    \n",
    "# key = cv2.waitKey(0)\n",
    "\n",
    "img_gray = cv2.cvtColor(img_before, cv2.COLOR_BGR2GRAY)\n",
    "img_edges = cv2.Canny(img_gray, 100, 100, apertureSize=3)\n",
    "lines = cv2.HoughLinesP(img_edges, 1, math.pi / 180.0, 100, minLineLength=100, maxLineGap=5)\n",
    "\n",
    "angles = []\n",
    "\n",
    "for x1, y1, x2, y2 in lines[0]:\n",
    "    cv2.line(img_before, (x1, y1), (x2, y2), (255, 0, 0), 3)\n",
    "    angle = math.degrees(math.atan2(y2 - y1, x2 - x1))\n",
    "    angles.append(angle)\n",
    "\n",
    "median_angle = np.median(angles)\n",
    "img_rotated = ndimage.rotate(img_before, median_angle)\n",
    "\n",
    "print (\"Angle is {}\".format(median_angle))\n",
    "cv2.imwrite('rotated.jpg', img_rotated)\n",
    "# cv2.imshow(\"After\", img_rotated)"
   ]
  },
  {
   "cell_type": "code",
   "execution_count": 15,
   "metadata": {},
   "outputs": [
    {
     "name": "stdout",
     "output_type": "stream",
     "text": [
      "Angle is -0.9601745666663432\n",
      "Angle is 0.98776039963981\n",
      "Angle is 0.0\n",
      "Angle is 0.7538483330707672\n"
     ]
    },
    {
     "ename": "TypeError",
     "evalue": "'NoneType' object is not subscriptable",
     "output_type": "error",
     "traceback": [
      "\u001b[0;31m---------------------------------------------------------------------------\u001b[0m",
      "\u001b[0;31mTypeError\u001b[0m                                 Traceback (most recent call last)",
      "\u001b[0;32m<ipython-input-15-95e5de02ffd7>\u001b[0m in \u001b[0;36m<module>\u001b[0;34m\u001b[0m\n\u001b[1;32m      7\u001b[0m     \u001b[0mangles\u001b[0m \u001b[0;34m=\u001b[0m \u001b[0;34m[\u001b[0m\u001b[0;34m]\u001b[0m\u001b[0;34m\u001b[0m\u001b[0;34m\u001b[0m\u001b[0m\n\u001b[1;32m      8\u001b[0m \u001b[0;34m\u001b[0m\u001b[0m\n\u001b[0;32m----> 9\u001b[0;31m     \u001b[0;32mfor\u001b[0m \u001b[0mx1\u001b[0m\u001b[0;34m,\u001b[0m \u001b[0my1\u001b[0m\u001b[0;34m,\u001b[0m \u001b[0mx2\u001b[0m\u001b[0;34m,\u001b[0m \u001b[0my2\u001b[0m \u001b[0;32min\u001b[0m \u001b[0;34m(\u001b[0m\u001b[0mlines\u001b[0m\u001b[0;34m[\u001b[0m\u001b[0;36m0\u001b[0m\u001b[0;34m]\u001b[0m\u001b[0;34m)\u001b[0m\u001b[0;34m:\u001b[0m\u001b[0;34m\u001b[0m\u001b[0;34m\u001b[0m\u001b[0m\n\u001b[0m\u001b[1;32m     10\u001b[0m         \u001b[0mcv2\u001b[0m\u001b[0;34m.\u001b[0m\u001b[0mline\u001b[0m\u001b[0;34m(\u001b[0m\u001b[0mimg_before\u001b[0m\u001b[0;34m,\u001b[0m \u001b[0;34m(\u001b[0m\u001b[0mx1\u001b[0m\u001b[0;34m,\u001b[0m \u001b[0my1\u001b[0m\u001b[0;34m)\u001b[0m\u001b[0;34m,\u001b[0m \u001b[0;34m(\u001b[0m\u001b[0mx2\u001b[0m\u001b[0;34m,\u001b[0m \u001b[0my2\u001b[0m\u001b[0;34m)\u001b[0m\u001b[0;34m,\u001b[0m \u001b[0;34m(\u001b[0m\u001b[0;36m255\u001b[0m\u001b[0;34m,\u001b[0m \u001b[0;36m0\u001b[0m\u001b[0;34m,\u001b[0m \u001b[0;36m0\u001b[0m\u001b[0;34m)\u001b[0m\u001b[0;34m,\u001b[0m \u001b[0;36m3\u001b[0m\u001b[0;34m)\u001b[0m\u001b[0;34m\u001b[0m\u001b[0;34m\u001b[0m\u001b[0m\n\u001b[1;32m     11\u001b[0m         \u001b[0mangle\u001b[0m \u001b[0;34m=\u001b[0m \u001b[0mmath\u001b[0m\u001b[0;34m.\u001b[0m\u001b[0mdegrees\u001b[0m\u001b[0;34m(\u001b[0m\u001b[0mmath\u001b[0m\u001b[0;34m.\u001b[0m\u001b[0matan2\u001b[0m\u001b[0;34m(\u001b[0m\u001b[0my2\u001b[0m \u001b[0;34m-\u001b[0m \u001b[0my1\u001b[0m\u001b[0;34m,\u001b[0m \u001b[0mx2\u001b[0m \u001b[0;34m-\u001b[0m \u001b[0mx1\u001b[0m\u001b[0;34m)\u001b[0m\u001b[0;34m)\u001b[0m\u001b[0;34m\u001b[0m\u001b[0;34m\u001b[0m\u001b[0m\n",
      "\u001b[0;31mTypeError\u001b[0m: 'NoneType' object is not subscriptable"
     ]
    }
   ],
   "source": [
    "for each_img in X_img_paths:\n",
    "    img_before = cv2.imread(each_img)\n",
    "    img_gray = cv2.cvtColor(img_before, cv2.COLOR_BGR2GRAY)\n",
    "    img_edges = cv2.Canny(img_gray, 100, 100, apertureSize=3)\n",
    "    lines = cv2.HoughLinesP(img_edges, 1, math.pi / 180.0, 100, minLineLength=100, maxLineGap=5)\n",
    "\n",
    "    angles = []\n",
    "\n",
    "    for x1, y1, x2, y2 in lines[0]:\n",
    "        cv2.line(img_before, (x1, y1), (x2, y2), (255, 0, 0), 3)\n",
    "        angle = math.degrees(math.atan2(y2 - y1, x2 - x1))\n",
    "        angles.append(angle)\n",
    "\n",
    "    median_angle = np.median(angles)\n",
    "    img_rotated = ndimage.rotate(img_before, median_angle)\n",
    "\n",
    "    print (\"Angle is {}\".format(median_angle))\n",
    "    cv2.imwrite('rotated/{}_rotated.jpg'.format(each_img[:-3]), img_rotated)"
   ]
  }
 ],
 "metadata": {
  "kernelspec": {
   "display_name": "Python 3",
   "language": "python",
   "name": "python3"
  },
  "language_info": {
   "codemirror_mode": {
    "name": "ipython",
    "version": 3
   },
   "file_extension": ".py",
   "mimetype": "text/x-python",
   "name": "python",
   "nbconvert_exporter": "python",
   "pygments_lexer": "ipython3",
   "version": "3.6.7"
  }
 },
 "nbformat": 4,
 "nbformat_minor": 2
}
