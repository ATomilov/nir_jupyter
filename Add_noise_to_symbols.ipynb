{
 "cells": [
  {
   "cell_type": "code",
   "execution_count": 2,
   "metadata": {},
   "outputs": [],
   "source": [
    "import tensorflow as tf\n",
    "import matplotlib\n",
    "import matplotlib.pyplot as plt\n",
    "import matplotlib.image as mpimg\n",
    "import matplotlib.gridspec as gridspec\n",
    "import numpy as np\n",
    "import os\n",
    "import cv2\n",
    "import imutils\n",
    "import time\n",
    "import uuid\n",
    "import random\n",
    "from scipy import ndimage\n",
    "from PIL import Image\n",
    "from math import floor, ceil, pi\n",
    "from glob import glob"
   ]
  },
  {
   "cell_type": "code",
   "execution_count": 3,
   "metadata": {},
   "outputs": [],
   "source": [
    "def get_image_paths(folder):\n",
    "    files = os.listdir(folder)\n",
    "    files.sort()\n",
    "    files = ['{}/{}'.format(folder, file) for file in files]\n",
    "    return files"
   ]
  },
  {
   "cell_type": "code",
   "execution_count": 20,
   "metadata": {},
   "outputs": [],
   "source": [
    "directories = [x[0] for x in os.walk(\"/home/apofeo/Documents/symbols\")]"
   ]
  },
  {
   "cell_type": "code",
   "execution_count": 21,
   "metadata": {},
   "outputs": [
    {
     "name": "stdout",
     "output_type": "stream",
     "text": [
      "['0', '1', '2', '3', '4', '5', '6', '7', '8', '9', 'А', 'В', 'Е', 'К', 'М', 'Н', 'О', 'Р', 'С', 'Т', 'У', 'Х']\n",
      "22\n"
     ]
    }
   ],
   "source": [
    "# print(directories[1:])\n",
    "# print(len(directories[1:]))\n",
    "# print(directories.split(\"/\"))\n",
    "CATEGORIES = []\n",
    "for folder in directories[1:]:\n",
    "    CATEGORIES.append(folder.split(\"/\")[-1])\n",
    "print(sorted(CATEGORIES))\n",
    "print(len(CATEGORIES))\n",
    "CATEGORIES = sorted(CATEGORIES)"
   ]
  },
  {
   "cell_type": "code",
   "execution_count": 15,
   "metadata": {},
   "outputs": [],
   "source": [
    "imgs_symbols_folders = get_image_paths('/home/apofeo/Documents/symbols')"
   ]
  },
  {
   "cell_type": "code",
   "execution_count": 16,
   "metadata": {},
   "outputs": [
    {
     "name": "stdout",
     "output_type": "stream",
     "text": [
      "22\n"
     ]
    }
   ],
   "source": [
    "print(len(imgs_symbols_folders))"
   ]
  },
  {
   "cell_type": "code",
   "execution_count": 17,
   "metadata": {},
   "outputs": [
    {
     "name": "stdout",
     "output_type": "stream",
     "text": [
      "1\n"
     ]
    }
   ],
   "source": [
    "print(imgs_symbols_folders[1][-1])"
   ]
  },
  {
   "cell_type": "code",
   "execution_count": 5,
   "metadata": {},
   "outputs": [],
   "source": [
    "IMG_SIZE = 200"
   ]
  },
  {
   "cell_type": "code",
   "execution_count": 17,
   "metadata": {},
   "outputs": [],
   "source": [
    "s_img = cv2.imread(imgs_clp[1])\n",
    "s_img = cv2.cvtColor(s_img, cv2.COLOR_RGB2RGBA)\n",
    "# s_img = cv2.resize(s_img, (IMG_SIZE, IMG_SIZE))\n",
    "s_img = ndimage.rotate(s_img, 135, reshape=True)\n",
    "l_img = cv2.imread(imgs_background[29189])\n",
    "l_img = cv2.resize(l_img, (IMG_SIZE, IMG_SIZE))\n",
    "y_offset, x_offset = 0, 0\n",
    "# x_offset=s_img.shape[0]//6\n",
    "# y_offset=s_img.shape[1]//6\n",
    "# s_img = cv2.imread(\"smaller_image.png\", -1)\n",
    "\n",
    "# cv2.imshow('l_img', l_img)\n",
    "# cv2.waitKey(0)\n",
    "# # [display]\n",
    "# cv2.destroyAllWindows()\n",
    "\n",
    "y1, y2 = y_offset, y_offset + s_img.shape[0]\n",
    "x1, x2 = x_offset, x_offset + s_img.shape[1]\n",
    "\n",
    "alpha_s = s_img[:, :, 3] / 255.0\n",
    "alpha_l = 1.0 - alpha_s\n",
    "\n",
    "for c in range(0, 3):\n",
    "    l_img[y1:y2, x1:x2, c] = (alpha_s * s_img[:, :, c] +\n",
    "                              alpha_l * l_img[y1:y2, x1:x2, c])\n",
    "\n",
    "crop_l_img = l_img[y1:y2, x1:x2]\n",
    "cv2.imshow('l_img', crop_l_img)\n",
    "cv2.waitKey(0)\n",
    "# [display]\n",
    "cv2.destroyAllWindows()"
   ]
  },
  {
   "cell_type": "code",
   "execution_count": 13,
   "metadata": {},
   "outputs": [],
   "source": [
    "import numpy as np\n",
    "import cv2\n",
    "def add_gaussian_noise(img, mean, var):\n",
    "    img = img\n",
    "    mean = mean\n",
    "    var = var\n",
    "    sigma = var ** 0.5\n",
    "    gaussian = np.random.normal(mean, sigma, (img.shape[0],img.shape[1]))\n",
    "\n",
    "    noisy_image = np.zeros(img.shape, np.float32)\n",
    "\n",
    "    if len(img.shape) == 2:\n",
    "        noisy_image = img + gaussian\n",
    "    else:\n",
    "        noisy_image[:, :, 0] = img[:, :, 0] + gaussian\n",
    "        noisy_image[:, :, 1] = img[:, :, 1] + gaussian\n",
    "        noisy_image[:, :, 2] = img[:, :, 2] + gaussian\n",
    "\n",
    "    cv2.normalize(noisy_image, noisy_image, 0, 255, cv2.NORM_MINMAX, dtype=-1)\n",
    "    noisy_image = noisy_image.astype(np.uint8)\n",
    "    return noisy_image\n",
    "\n",
    "# cv2.imshow('l_img', add_gaussian_noise(l_img,50,500))\n",
    "# cv2.waitKey(0)\n",
    "# # [display]\n",
    "# cv2.destroyAllWindows()"
   ]
  },
  {
   "cell_type": "markdown",
   "metadata": {},
   "source": [
    "#### Don't delete under this cell"
   ]
  },
  {
   "cell_type": "raw",
   "metadata": {},
   "source": [
    "2340.006119966507 (150)\n",
    "3742.4679622650146 (150) 2804.472089290619 (100)\n",
    "2431.4302418231964 (150) 1879.8535912036896 (100)"
   ]
  },
  {
   "cell_type": "markdown",
   "metadata": {},
   "source": [
    "#### Add noise"
   ]
  },
  {
   "cell_type": "code",
   "execution_count": 23,
   "metadata": {},
   "outputs": [
    {
     "name": "stdout",
     "output_type": "stream",
     "text": [
      "7.913478136062622\n"
     ]
    }
   ],
   "source": [
    "start = time.time()\n",
    "\n",
    "for imgs_symbols_folder in imgs_symbols_folders:\n",
    "    for img_symbol in get_image_paths(imgs_symbols_folder):\n",
    "        symbol = cv2.imread(img_symbol)\n",
    "        \n",
    "        filename = uuid.uuid4().hex\n",
    "        noise_var = random.randrange(100,700,10)\n",
    "        symbol_noise = add_gaussian_noise(symbol,50,noise_var)\n",
    "        \n",
    "        if not os.path.exists(f'/home/apofeo/Documents/symbols_noise/{imgs_symbols_folder[-1]}'):\n",
    "            os.makedirs(f'/home/apofeo/Documents/symbols_noise/{imgs_symbols_folder[-1]}')\n",
    "        cv2.imwrite(f'/home/apofeo/Documents/symbols_noise/{imgs_symbols_folder[-1]}/{filename}.png', symbol_noise)\n",
    "\n",
    "end = time.time()\n",
    "print(end - start)"
   ]
  }
 ],
 "metadata": {
  "kernelspec": {
   "display_name": "Python 3",
   "language": "python",
   "name": "python3"
  },
  "language_info": {
   "codemirror_mode": {
    "name": "ipython",
    "version": 3
   },
   "file_extension": ".py",
   "mimetype": "text/x-python",
   "name": "python",
   "nbconvert_exporter": "python",
   "pygments_lexer": "ipython3",
   "version": "3.6.7"
  }
 },
 "nbformat": 4,
 "nbformat_minor": 2
}
