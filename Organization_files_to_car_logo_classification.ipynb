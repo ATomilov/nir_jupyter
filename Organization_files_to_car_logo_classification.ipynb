{
 "cells": [
  {
   "cell_type": "code",
   "execution_count": 44,
   "metadata": {},
   "outputs": [],
   "source": [
    "import numpy as np\n",
    "import os\n",
    "import shutil\n",
    "import time\n",
    "import uuid\n",
    "from glob import glob"
   ]
  },
  {
   "cell_type": "code",
   "execution_count": 2,
   "metadata": {},
   "outputs": [],
   "source": [
    "def get_image_paths(folder):\n",
    "    files = os.listdir(folder)\n",
    "    files.sort()\n",
    "    files = ['{}/{}'.format(folder, file) for file in files]\n",
    "    return files"
   ]
  },
  {
   "cell_type": "code",
   "execution_count": 7,
   "metadata": {},
   "outputs": [],
   "source": [
    "car_logo_imgs = get_image_paths(\"/home/apofeo/Downloads/car_logos/images\")"
   ]
  },
  {
   "cell_type": "code",
   "execution_count": 14,
   "metadata": {},
   "outputs": [],
   "source": [
    "car_logo_imgs_split = []\n",
    "for car_logo_img in car_logo_imgs:\n",
    "    car_logo_img = car_logo_img.split(\"/\")[6:]\n",
    "    car_logo_imgs_split.append(car_logo_img)"
   ]
  },
  {
   "cell_type": "code",
   "execution_count": 19,
   "metadata": {},
   "outputs": [
    {
     "name": "stdout",
     "output_type": "stream",
     "text": [
      "[['Alfa Romeo10882_small.jpg'], ['Alfa Romeo10883_small.jpg'], ['Alfa Romeo10884_small.jpg'], ['Alfa Romeo10885_small.jpg'], ['Alfa Romeo10886_small.jpg'], ['Alfa Romeo10887_small.jpg'], ['Alfa Romeo10888_small.jpg'], ['Alfa Romeo10889_small.jpg'], ['Alfa Romeo10890_small.jpg'], ['Alfa Romeo10891_small.jpg'], ['Alfa Romeo10892_small.jpg'], ['Alfa Romeo10893_small.jpg'], ['Alfa Romeo10894_small.jpg'], ['Alfa Romeo10895_small.jpg'], ['Alfa Romeo10896_small.jpg'], ['Alfa Romeo10897_small.jpg'], ['Alfa Romeo10898_small.jpg'], ['Alfa Romeo10899_small.jpg'], ['Alfa Romeo10900_small.jpg'], ['Alfa Romeo10901_small.jpg']]\n"
     ]
    }
   ],
   "source": [
    "print(car_logo_imgs_split[:20])"
   ]
  },
  {
   "cell_type": "code",
   "execution_count": 38,
   "metadata": {},
   "outputs": [],
   "source": [
    "car_brands_names = []\n",
    "for car_logo_name in car_logo_imgs_split:\n",
    "    for string_name in car_logo_name:\n",
    "        i = 0;\n",
    "        for character in string_name:\n",
    "            if (character.isdigit()):\n",
    "                break\n",
    "            else:\n",
    "                i += 1\n",
    "    car_brands_names.append(string_name[:i])"
   ]
  },
  {
   "cell_type": "code",
   "execution_count": 41,
   "metadata": {},
   "outputs": [
    {
     "name": "stdout",
     "output_type": "stream",
     "text": [
      "['Alfa Romeo', 'Audi', 'BMW', 'Chevrolet', 'Citroen', 'Dacia', 'Daewoo', 'Dodge', 'Ferrari', 'Fiat', 'Ford', 'Honda', 'Hyundai', 'Jaguar', 'Jeep', 'Kia', 'Lada', 'Lancia', 'Land Rover', 'Lexus', 'Maserati', 'Mazda', 'Mercedes', 'Mitsubishi', 'Nissan', 'Opel', 'Peugeot', 'Porsche', 'Renault', 'Rover', 'Saab', 'Seat', 'Skoda', 'Subaru', 'Suzuki', 'Tata', 'Tesla', 'Toyota', 'Volkswagen', 'Volvo']\n",
      "40\n"
     ]
    }
   ],
   "source": [
    "car_brands_names = list(dict.fromkeys(car_brands_names))\n",
    "print(car_brands_names)\n",
    "print(len(car_brands_names))"
   ]
  },
  {
   "cell_type": "code",
   "execution_count": 46,
   "metadata": {},
   "outputs": [
    {
     "name": "stdout",
     "output_type": "stream",
     "text": [
      "Alfa Romeo10882_small.jpg\n"
     ]
    }
   ],
   "source": [
    "print(car_logo_imgs[0].split(\"/\")[-1])"
   ]
  },
  {
   "cell_type": "code",
   "execution_count": 50,
   "metadata": {},
   "outputs": [],
   "source": [
    "for car_brands_name in car_brands_names:\n",
    "    for file_path in car_logo_imgs:\n",
    "        if car_brands_name in file_path:\n",
    "            if not os.path.exists(f'/home/apofeo/Documents/car_logos/{car_brands_name}'):\n",
    "                os.makedirs(f'/home/apofeo/Documents/car_logos/{car_brands_name}')\n",
    "            file_name = file_path.split(\"/\")[-1]\n",
    "            try:\n",
    "                shutil.move(file_path, f'/home/apofeo/Documents/car_logos/{car_brands_name}/{file_name}')\n",
    "            except:\n",
    "                continue"
   ]
  }
 ],
 "metadata": {
  "kernelspec": {
   "display_name": "Python 3",
   "language": "python",
   "name": "python3"
  },
  "language_info": {
   "codemirror_mode": {
    "name": "ipython",
    "version": 3
   },
   "file_extension": ".py",
   "mimetype": "text/x-python",
   "name": "python",
   "nbconvert_exporter": "python",
   "pygments_lexer": "ipython3",
   "version": "3.6.7"
  }
 },
 "nbformat": 4,
 "nbformat_minor": 2
}
