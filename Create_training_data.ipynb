{
 "cells": [
  {
   "cell_type": "code",
   "execution_count": 1,
   "metadata": {},
   "outputs": [],
   "source": [
    "import numpy as np\n",
    "import matplotlib.pyplot as plt\n",
    "import os\n",
    "import cv2\n",
    "import time\n",
    "from tqdm import tqdm\n",
    "from sklearn.externals import joblib"
   ]
  },
  {
   "cell_type": "markdown",
   "metadata": {},
   "source": [
    "#### DATADIR to DI PA to train model"
   ]
  },
  {
   "cell_type": "code",
   "execution_count": 2,
   "metadata": {},
   "outputs": [],
   "source": [
    "DATADIR = \"/home/apofeo/Documents/clp_rotated_v3/train\""
   ]
  },
  {
   "cell_type": "code",
   "execution_count": 2,
   "metadata": {},
   "outputs": [],
   "source": [
    "DATADIR = \"im_base_to_angle/r_d_i_less_pa/train\""
   ]
  },
  {
   "cell_type": "code",
   "execution_count": 15,
   "metadata": {},
   "outputs": [],
   "source": [
    "DATADIR = \"im_base_to_angle/rotated_3_pa/train\""
   ]
  },
  {
   "cell_type": "code",
   "execution_count": 2,
   "metadata": {},
   "outputs": [],
   "source": [
    "DATADIR = \"/home/apofeo/Documents/symbols_noise\""
   ]
  },
  {
   "cell_type": "code",
   "execution_count": 2,
   "metadata": {},
   "outputs": [],
   "source": [
    "DATADIR = \"/home/apofeo/Documents/symbols_noise_back\""
   ]
  },
  {
   "cell_type": "code",
   "execution_count": 2,
   "metadata": {},
   "outputs": [],
   "source": [
    "DATADIR = \"/home/apofeo/Documents/symbols_noise_new_v2\""
   ]
  },
  {
   "cell_type": "code",
   "execution_count": 43,
   "metadata": {},
   "outputs": [],
   "source": [
    "DATADIR = \"/home/apofeo/Documents/symbols_test\""
   ]
  },
  {
   "cell_type": "code",
   "execution_count": 2,
   "metadata": {},
   "outputs": [],
   "source": [
    "DATADIR = \"/home/apofeo/Documents/car_logos\""
   ]
  },
  {
   "cell_type": "code",
   "execution_count": 2,
   "metadata": {},
   "outputs": [],
   "source": [
    "DATADIR = \"/home/apofeo/Documents/detect_result_logos\""
   ]
  },
  {
   "cell_type": "code",
   "execution_count": 2,
   "metadata": {},
   "outputs": [],
   "source": [
    "DATADIR = \"/home/apofeo/Documents/logos_noise_new\""
   ]
  },
  {
   "cell_type": "markdown",
   "metadata": {},
   "source": [
    "#### DATADIR to DI PA to evaluate model"
   ]
  },
  {
   "cell_type": "code",
   "execution_count": 42,
   "metadata": {},
   "outputs": [],
   "source": [
    "DATADIR = \"im_base_to_angle/DI_PA_Test/test\""
   ]
  },
  {
   "cell_type": "markdown",
   "metadata": {},
   "source": [
    "#### DATADIR to CI PA to evaluate model"
   ]
  },
  {
   "cell_type": "code",
   "execution_count": 3,
   "metadata": {},
   "outputs": [],
   "source": [
    "DATADIR = \"im_base_to_angle/rotated_5_pa/test\""
   ]
  },
  {
   "cell_type": "markdown",
   "metadata": {},
   "source": [
    "#### DATADIR to CI NA to evaluate model"
   ]
  },
  {
   "cell_type": "code",
   "execution_count": 24,
   "metadata": {},
   "outputs": [],
   "source": [
    "DATADIR = \"im_base_to_angle/rotated_4_na/test\""
   ]
  },
  {
   "cell_type": "code",
   "execution_count": 3,
   "metadata": {},
   "outputs": [],
   "source": [
    "directories = [x[0] for x in os.walk(DATADIR)]"
   ]
  },
  {
   "cell_type": "code",
   "execution_count": 4,
   "metadata": {},
   "outputs": [
    {
     "name": "stdout",
     "output_type": "stream",
     "text": [
      "['Alfa Romeo', 'Audi', 'BMW', 'Chevrolet', 'Citroen', 'Dacia', 'Daewoo', 'Dodge', 'Ferrari', 'Fiat', 'Ford', 'Honda', 'Hyundai', 'Jaguar', 'Jeep', 'Kia', 'Lada', 'Lancia', 'Land Rover', 'Lexus', 'Maserati', 'Mazda', 'Mercedes', 'Mitsubishi', 'Nissan', 'Opel', 'Peugeot', 'Porsche', 'Renault', 'Rover', 'Saab', 'Seat', 'Skoda', 'Subaru', 'Suzuki', 'Tata', 'Tesla', 'Toyota', 'Volkswagen', 'Volvo']\n",
      "40\n"
     ]
    }
   ],
   "source": [
    "# print(directories[1:])\n",
    "# print(len(directories[1:]))\n",
    "# print(directories.split(\"/\"))\n",
    "CATEGORIES = []\n",
    "for folder in directories[1:]:\n",
    "    CATEGORIES.append(folder.split(\"/\")[-1])\n",
    "CATEGORIES = sorted(CATEGORIES)\n",
    "print(CATEGORIES)\n",
    "print(len(CATEGORIES))"
   ]
  },
  {
   "cell_type": "code",
   "execution_count": 3,
   "metadata": {},
   "outputs": [],
   "source": [
    "CATEGORIES_INT = [i for i in range(1, 361)]\n",
    "CATEGORIES = [str(item) for item in CATEGORIES_INT]\n",
    "# map(str, CATEGORIES)\n",
    "# print(CATEGORIES)"
   ]
  },
  {
   "cell_type": "code",
   "execution_count": 6,
   "metadata": {},
   "outputs": [
    {
     "data": {
      "image/png": "[encoded data removed]",
      "text/plain": [
       "<Figure size 432x288 with 1 Axes>"
      ]
     },
     "metadata": {
      "needs_background": "light"
     },
     "output_type": "display_data"
    }
   ],
   "source": [
    "for category in CATEGORIES:  # do dogs and cats\n",
    "    path = os.path.join(DATADIR,category)  # create path to dogs and cats\n",
    "    for img in os.listdir(path):  # iterate over each image per dogs and cats\n",
    "        img_array = cv2.imread(os.path.join(path,img) ,cv2.IMREAD_GRAYSCALE)  # convert to array\n",
    "        plt.imshow(img_array, cmap='gray')  # graph it\n",
    "        plt.show()  # display!\n",
    "\n",
    "        break  # we just want one for now so break\n",
    "    break  #...and one more!"
   ]
  },
  {
   "cell_type": "code",
   "execution_count": 7,
   "metadata": {},
   "outputs": [
    {
     "name": "stdout",
     "output_type": "stream",
     "text": [
      "[[ 93 104 120 ... 106 115 104]\n",
      " [ 84  98 105 ... 118 116 102]\n",
      " [130 118  98 ...  93 101 120]\n",
      " ...\n",
      " [107 110 103 ... 115 121  98]\n",
      " [ 98 102  85 ...  85 115 105]\n",
      " [110 111 110 ...  96  96 105]]\n"
     ]
    }
   ],
   "source": [
    "print(img_array)"
   ]
  },
  {
   "cell_type": "code",
   "execution_count": 8,
   "metadata": {},
   "outputs": [
    {
     "name": "stdout",
     "output_type": "stream",
     "text": [
      "(50, 50)\n"
     ]
    }
   ],
   "source": [
    "print(img_array.shape)"
   ]
  },
  {
   "cell_type": "code",
   "execution_count": 7,
   "metadata": {},
   "outputs": [
    {
     "data": {
      "image/png": "[encoded data removed]",
      "text/plain": [
       "<Figure size 432x288 with 1 Axes>"
      ]
     },
     "metadata": {
      "needs_background": "light"
     },
     "output_type": "display_data"
    },
    {
     "name": "stdout",
     "output_type": "stream",
     "text": [
      "(71, 71)\n"
     ]
    }
   ],
   "source": [
    "IMG_SIZE_X, IMG_SIZE_Y = 71, 71\n",
    "\n",
    "new_array = cv2.resize(img_array, (IMG_SIZE_Y, IMG_SIZE_X))\n",
    "plt.imshow(new_array, cmap='gray')\n",
    "plt.show()\n",
    "print(new_array.shape)"
   ]
  },
  {
   "cell_type": "code",
   "execution_count": 8,
   "metadata": {},
   "outputs": [
    {
     "data": {
      "image/png": "[encoded data removed]",
      "text/plain": [
       "<Figure size 432x288 with 1 Axes>"
      ]
     },
     "metadata": {
      "needs_background": "light"
     },
     "output_type": "display_data"
    }
   ],
   "source": [
    "IMG_SIZE_X, IMG_SIZE_Y = 50, 50\n",
    "\n",
    "new_array = cv2.resize(img_array, (IMG_SIZE_Y, IMG_SIZE_X))\n",
    "plt.imshow(new_array, cmap='gray')\n",
    "plt.show()"
   ]
  },
  {
   "cell_type": "code",
   "execution_count": 8,
   "metadata": {},
   "outputs": [],
   "source": [
    "training_data = []"
   ]
  },
  {
   "cell_type": "code",
   "execution_count": 9,
   "metadata": {},
   "outputs": [],
   "source": [
    "def create_training_data():\n",
    "    for category in CATEGORIES:  # do dogs and cats\n",
    "\n",
    "        path = os.path.join(DATADIR,category)  # create path to dogs and cats\n",
    "        class_num = CATEGORIES.index(category)  # get the classification  (0 or a 1). 0=dog 1=cat\n",
    "\n",
    "        for img in tqdm(os.listdir(path)[:1800]):  # iterate over each image per dogs and cats\n",
    "            try:\n",
    "                img_array = cv2.imread(os.path.join(path,img))  # convert to array\n",
    "#                 img_array = cv2.imread(os.path.join(path,img) ,cv2.IMREAD_GRAYSCALE) # convert to array\n",
    "                new_array = cv2.resize(img_array, (IMG_SIZE_Y, IMG_SIZE_X))  # resize to normalize data size\n",
    "#                 path_to_img = os.path.join(path,img)\n",
    "#                 training_data.append([new_array, class_num, path_to_img])  # add this to our training_data\n",
    "                training_data.append([new_array, class_num])  # add this to our training_data\n",
    "            except Exception as e:  # in the interest in keeping the output clean...\n",
    "                pass\n",
    "            #except OSError as e:\n",
    "            #    print(\"OSErrroBad img most likely\", e, os.path.join(path,img))\n",
    "            #except Exception as e:\n",
    "            #    print(\"general exception\", e, os.path.join(path,img))"
   ]
  },
  {
   "cell_type": "code",
   "execution_count": 10,
   "metadata": {},
   "outputs": [
    {
     "name": "stderr",
     "output_type": "stream",
     "text": [
      "100%|██████████| 1800/1800 [00:07<00:00, 236.80it/s]\n",
      "100%|██████████| 1800/1800 [00:07<00:00, 233.21it/s]\n",
      "100%|██████████| 1800/1800 [00:07<00:00, 250.52it/s]\n",
      "100%|██████████| 1800/1800 [00:07<00:00, 232.61it/s]\n",
      "100%|██████████| 1800/1800 [00:07<00:00, 252.55it/s]\n",
      "100%|██████████| 1800/1800 [00:06<00:00, 276.54it/s]\n",
      "100%|██████████| 1800/1800 [00:06<00:00, 276.42it/s]\n",
      "100%|██████████| 1800/1800 [00:07<00:00, 252.27it/s]\n",
      "100%|██████████| 1800/1800 [00:08<00:00, 220.92it/s]\n",
      "100%|██████████| 1800/1800 [00:07<00:00, 240.33it/s]\n",
      "100%|██████████| 1800/1800 [00:07<00:00, 232.62it/s]\n",
      "100%|██████████| 1800/1800 [00:07<00:00, 226.64it/s]\n",
      "100%|██████████| 1800/1800 [00:08<00:00, 220.40it/s]\n",
      "100%|██████████| 1800/1800 [00:07<00:00, 227.76it/s]\n",
      "100%|██████████| 1800/1800 [00:09<00:00, 198.05it/s]\n",
      "100%|██████████| 1800/1800 [00:08<00:00, 207.61it/s]\n",
      "100%|██████████| 1800/1800 [00:08<00:00, 214.41it/s]\n",
      "100%|██████████| 1800/1800 [00:08<00:00, 215.61it/s]\n",
      "100%|██████████| 1800/1800 [00:08<00:00, 222.84it/s]\n",
      "100%|██████████| 1800/1800 [00:07<00:00, 225.83it/s]\n",
      "100%|██████████| 1800/1800 [00:08<00:00, 206.35it/s]\n",
      "100%|██████████| 1800/1800 [00:10<00:00, 86.46it/s]\n",
      "100%|██████████| 1800/1800 [00:09<00:00, 183.61it/s]\n",
      "100%|██████████| 1800/1800 [00:09<00:00, 198.01it/s]\n",
      "100%|██████████| 1800/1800 [00:07<00:00, 226.88it/s]\n",
      "100%|██████████| 1800/1800 [00:08<00:00, 213.63it/s]\n",
      "100%|██████████| 1800/1800 [00:08<00:00, 222.60it/s]\n",
      "100%|██████████| 1800/1800 [00:08<00:00, 214.28it/s]\n",
      "100%|██████████| 1800/1800 [00:08<00:00, 220.41it/s]\n",
      "100%|██████████| 1800/1800 [00:06<00:00, 295.94it/s]\n",
      "100%|██████████| 1800/1800 [00:08<00:00, 212.83it/s]\n",
      "100%|██████████| 1800/1800 [00:07<00:00, 235.43it/s]\n",
      "100%|██████████| 1800/1800 [00:08<00:00, 215.76it/s]\n",
      "100%|██████████| 1800/1800 [00:03<00:00, 517.22it/s]\n",
      "100%|██████████| 1800/1800 [00:00<00:00, 5398.85it/s]\n",
      "100%|██████████| 1800/1800 [00:00<00:00, 5222.13it/s]\n",
      "100%|██████████| 1800/1800 [00:00<00:00, 5355.59it/s]\n",
      "100%|██████████| 1800/1800 [00:00<00:00, 5235.87it/s]\n",
      "100%|██████████| 1800/1800 [00:00<00:00, 5368.50it/s]\n",
      "100%|██████████| 1800/1800 [00:00<00:00, 5559.86it/s]"
     ]
    },
    {
     "name": "stdout",
     "output_type": "stream",
     "text": [
      "270.76288175582886\n"
     ]
    },
    {
     "name": "stderr",
     "output_type": "stream",
     "text": [
      "\n"
     ]
    }
   ],
   "source": [
    "start = time.time()\n",
    "create_training_data()\n",
    "end = time.time()\n",
    "print(end - start)"
   ]
  },
  {
   "cell_type": "code",
   "execution_count": 63,
   "metadata": {},
   "outputs": [],
   "source": [
    "# print(training_data[0])"
   ]
  },
  {
   "cell_type": "code",
   "execution_count": 11,
   "metadata": {},
   "outputs": [
    {
     "name": "stdout",
     "output_type": "stream",
     "text": [
      "72000\n"
     ]
    }
   ],
   "source": [
    "print(len(training_data))"
   ]
  },
  {
   "cell_type": "code",
   "execution_count": 12,
   "metadata": {},
   "outputs": [],
   "source": [
    "import random"
   ]
  },
  {
   "cell_type": "code",
   "execution_count": 13,
   "metadata": {},
   "outputs": [],
   "source": [
    "random.shuffle(training_data)"
   ]
  },
  {
   "cell_type": "code",
   "execution_count": 14,
   "metadata": {},
   "outputs": [
    {
     "name": "stdout",
     "output_type": "stream",
     "text": [
      "19\n",
      "10\n",
      "16\n",
      "37\n",
      "20\n",
      "25\n",
      "0\n",
      "28\n",
      "28\n",
      "12\n"
     ]
    }
   ],
   "source": [
    "for sample in training_data[:10]:\n",
    "    print(sample[1])"
   ]
  },
  {
   "cell_type": "code",
   "execution_count": 15,
   "metadata": {},
   "outputs": [],
   "source": [
    "X = []\n",
    "Y = []\n",
    "# Z = []"
   ]
  },
  {
   "cell_type": "code",
   "execution_count": 16,
   "metadata": {},
   "outputs": [],
   "source": [
    "for features,label in training_data:\n",
    "    X.append(features)\n",
    "    Y.append(label)\n",
    "    \n",
    "# for features,label, path in training_data:\n",
    "#     X.append(features)\n",
    "#     Y.append(label)\n",
    "#     Z.append(path)"
   ]
  },
  {
   "cell_type": "code",
   "execution_count": 17,
   "metadata": {},
   "outputs": [
    {
     "name": "stdout",
     "output_type": "stream",
     "text": [
      "(71, 71, 3)\n"
     ]
    }
   ],
   "source": [
    "print(X[0].shape)"
   ]
  },
  {
   "cell_type": "code",
   "execution_count": 21,
   "metadata": {},
   "outputs": [],
   "source": [
    "# print(X[0].reshape(-1, IMG_SIZE, IMG_SIZE, 1))"
   ]
  },
  {
   "cell_type": "code",
   "execution_count": 18,
   "metadata": {},
   "outputs": [],
   "source": [
    "X = np.array(X).reshape(-1, IMG_SIZE_Y, IMG_SIZE_X, 3)"
   ]
  },
  {
   "cell_type": "code",
   "execution_count": 19,
   "metadata": {},
   "outputs": [
    {
     "name": "stdout",
     "output_type": "stream",
     "text": [
      "<class 'numpy.ndarray'>\n",
      "[[[24 24 24]\n",
      "  [21 21 21]\n",
      "  [19 19 19]\n",
      "  ...\n",
      "  [22 22 22]\n",
      "  [17 17 17]\n",
      "  [13 13 13]]\n",
      "\n",
      " [[24 24 24]\n",
      "  [22 22 22]\n",
      "  [21 21 21]\n",
      "  ...\n",
      "  [22 22 22]\n",
      "  [19 19 19]\n",
      "  [14 14 14]]\n",
      "\n",
      " [[26 26 26]\n",
      "  [23 23 23]\n",
      "  [22 22 22]\n",
      "  ...\n",
      "  [22 22 22]\n",
      "  [21 21 21]\n",
      "  [18 18 18]]\n",
      "\n",
      " ...\n",
      "\n",
      " [[29 28 28]\n",
      "  [26 25 25]\n",
      "  [19 19 19]\n",
      "  ...\n",
      "  [27 27 27]\n",
      "  [33 33 33]\n",
      "  [34 34 34]]\n",
      "\n",
      " [[28 28 28]\n",
      "  [28 28 28]\n",
      "  [25 25 25]\n",
      "  ...\n",
      "  [24 24 24]\n",
      "  [29 29 29]\n",
      "  [33 33 33]]\n",
      "\n",
      " [[22 22 22]\n",
      "  [28 28 28]\n",
      "  [31 31 31]\n",
      "  ...\n",
      "  [21 21 21]\n",
      "  [23 23 23]\n",
      "  [30 30 30]]]\n"
     ]
    }
   ],
   "source": [
    "print(type(X))\n",
    "print(X[0])"
   ]
  },
  {
   "cell_type": "code",
   "execution_count": 59,
   "metadata": {},
   "outputs": [],
   "source": [
    "# import pickle"
   ]
  },
  {
   "cell_type": "code",
   "execution_count": 22,
   "metadata": {},
   "outputs": [
    {
     "data": {
      "text/plain": [
       "['trained_data/X_car_logos_72000_3ch.sav']"
      ]
     },
     "execution_count": 22,
     "metadata": {},
     "output_type": "execute_result"
    }
   ],
   "source": [
    "# pickle_out = open(\"trained_data/X_to_E_DI_PA.pickle\",\"wb\")\n",
    "# pickle.dump(X, pickle_out)\n",
    "# pickle_out.close()\n",
    "\n",
    "filename = 'trained_data/X_car_logos_72000_3ch.sav'\n",
    "joblib.dump(X, filename)"
   ]
  },
  {
   "cell_type": "code",
   "execution_count": 23,
   "metadata": {},
   "outputs": [
    {
     "data": {
      "text/plain": [
       "['trained_data/Y_car_logos_72000_3ch.sav']"
      ]
     },
     "execution_count": 23,
     "metadata": {},
     "output_type": "execute_result"
    }
   ],
   "source": [
    "# pickle_out = open(\"trained_data/X_to_E_DI_PA.pickle\",\"wb\")\n",
    "# pickle.dump(X, pickle_out)\n",
    "# pickle_out.close()\n",
    "\n",
    "filename = 'trained_data/Y_car_logos_72000_3ch.sav'\n",
    "joblib.dump(Y, filename)"
   ]
  },
  {
   "cell_type": "code",
   "execution_count": 22,
   "metadata": {},
   "outputs": [],
   "source": [
    "filename = 'trained_data/X_CLP_SYMBOLS_NEW.sav'\n",
    "loaded_X = joblib.load(filename)\n",
    "filename = 'trained_data/Y_CLP_SYMBOLS_NEW.sav'\n",
    "loaded_Y = joblib.load(filename)"
   ]
  },
  {
   "cell_type": "code",
   "execution_count": 23,
   "metadata": {},
   "outputs": [
    {
     "name": "stdout",
     "output_type": "stream",
     "text": [
      "11 (В)\n",
      "(50, 50, 1)\n",
      "<class 'numpy.ndarray'>\n"
     ]
    }
   ],
   "source": [
    "index = 4\n",
    "# plt.imshow(loaded_X[index])\n",
    "print(f'{loaded_Y[index]} ({CATEGORIES[loaded_Y[index]]})' )\n",
    "print(loaded_X[index].shape)\n",
    "print(type(loaded_X[index]))"
   ]
  },
  {
   "cell_type": "code",
   "execution_count": 58,
   "metadata": {},
   "outputs": [
    {
     "data": {
      "text/plain": [
       "['trained_data/to_test/X_CLP_SYMBOLS_test_30x30.sav']"
      ]
     },
     "execution_count": 58,
     "metadata": {},
     "output_type": "execute_result"
    }
   ],
   "source": [
    "filename = 'trained_data/to_test/X_CLP_SYMBOLS_test_30x30.sav'\n",
    "joblib.dump(X, filename)"
   ]
  },
  {
   "cell_type": "code",
   "execution_count": 59,
   "metadata": {},
   "outputs": [
    {
     "data": {
      "text/plain": [
       "['trained_data/to_test/Y_CLP_SYMBOLS_test_30x30.sav']"
      ]
     },
     "execution_count": 59,
     "metadata": {},
     "output_type": "execute_result"
    }
   ],
   "source": [
    "filename = 'trained_data/to_test/Y_CLP_SYMBOLS_test_30x30.sav'\n",
    "joblib.dump(Y, filename)"
   ]
  },
  {
   "cell_type": "code",
   "execution_count": 60,
   "metadata": {},
   "outputs": [
    {
     "data": {
      "text/plain": [
       "['trained_data/to_test/Z_CLP_SYMBOLS_test_30x30.sav']"
      ]
     },
     "execution_count": 60,
     "metadata": {},
     "output_type": "execute_result"
    }
   ],
   "source": [
    "filename = 'trained_data/to_test/Z_CLP_SYMBOLS_test_30x30.sav'\n",
    "joblib.dump(Z, filename)"
   ]
  }
 ],
 "metadata": {
  "kernelspec": {
   "display_name": "Python 3",
   "language": "python",
   "name": "python3"
  },
  "language_info": {
   "codemirror_mode": {
    "name": "ipython",
    "version": 3
   },
   "file_extension": ".py",
   "mimetype": "text/x-python",
   "name": "python",
   "nbconvert_exporter": "python",
   "pygments_lexer": "ipython3",
   "version": "3.6.7"
  }
 },
 "nbformat": 4,
 "nbformat_minor": 2
}
