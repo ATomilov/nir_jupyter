{
 "cells": [
  {
   "cell_type": "code",
   "execution_count": 1,
   "metadata": {},
   "outputs": [],
   "source": [
    "import numpy as np\n",
    "import matplotlib.pyplot as plt\n",
    "import os\n",
    "import cv2\n",
    "import time\n",
    "from tqdm import tqdm\n",
    "from sklearn.externals import joblib"
   ]
  },
  {
   "cell_type": "markdown",
   "metadata": {},
   "source": [
    "#### DATADIR to DI PA to train model"
   ]
  },
  {
   "cell_type": "code",
   "execution_count": 2,
   "metadata": {},
   "outputs": [],
   "source": [
    "DATADIR = \"/home/apofeo/Documents/clp_rotated_v3/train\""
   ]
  },
  {
   "cell_type": "code",
   "execution_count": 2,
   "metadata": {},
   "outputs": [],
   "source": [
    "DATADIR = \"im_base_to_angle/r_d_i_less_pa/train\""
   ]
  },
  {
   "cell_type": "code",
   "execution_count": 15,
   "metadata": {},
   "outputs": [],
   "source": [
    "DATADIR = \"im_base_to_angle/rotated_3_pa/train\""
   ]
  },
  {
   "cell_type": "code",
   "execution_count": 2,
   "metadata": {},
   "outputs": [],
   "source": [
    "DATADIR = \"/home/apofeo/Documents/symbols_noise\""
   ]
  },
  {
   "cell_type": "code",
   "execution_count": 2,
   "metadata": {},
   "outputs": [],
   "source": [
    "DATADIR = \"/home/apofeo/Documents/symbols_noise_back\""
   ]
  },
  {
   "cell_type": "code",
   "execution_count": 2,
   "metadata": {},
   "outputs": [],
   "source": [
    "DATADIR = \"/home/apofeo/Documents/symbols_noise_new_v2\""
   ]
  },
  {
   "cell_type": "code",
   "execution_count": 43,
   "metadata": {},
   "outputs": [],
   "source": [
    "DATADIR = \"/home/apofeo/Documents/symbols_test\""
   ]
  },
  {
   "cell_type": "code",
   "execution_count": 2,
   "metadata": {},
   "outputs": [],
   "source": [
    "DATADIR = \"/home/apofeo/Documents/car_logos\""
   ]
  },
  {
   "cell_type": "code",
   "execution_count": 2,
   "metadata": {},
   "outputs": [],
   "source": [
    "DATADIR = \"/home/apofeo/Documents/detect_result_logos\""
   ]
  },
  {
   "cell_type": "markdown",
   "metadata": {},
   "source": [
    "#### DATADIR to DI PA to evaluate model"
   ]
  },
  {
   "cell_type": "code",
   "execution_count": 42,
   "metadata": {},
   "outputs": [],
   "source": [
    "DATADIR = \"im_base_to_angle/DI_PA_Test/test\""
   ]
  },
  {
   "cell_type": "markdown",
   "metadata": {},
   "source": [
    "#### DATADIR to CI PA to evaluate model"
   ]
  },
  {
   "cell_type": "code",
   "execution_count": 3,
   "metadata": {},
   "outputs": [],
   "source": [
    "DATADIR = \"im_base_to_angle/rotated_5_pa/test\""
   ]
  },
  {
   "cell_type": "markdown",
   "metadata": {},
   "source": [
    "#### DATADIR to CI NA to evaluate model"
   ]
  },
  {
   "cell_type": "code",
   "execution_count": 24,
   "metadata": {},
   "outputs": [],
   "source": [
    "DATADIR = \"im_base_to_angle/rotated_4_na/test\""
   ]
  },
  {
   "cell_type": "code",
   "execution_count": 3,
   "metadata": {},
   "outputs": [],
   "source": [
    "directories = [x[0] for x in os.walk(DATADIR)]"
   ]
  },
  {
   "cell_type": "code",
   "execution_count": 13,
   "metadata": {},
   "outputs": [
    {
     "name": "stdout",
     "output_type": "stream",
     "text": [
      "['1', '10', '100', '101', '102', '103', '104', '105', '106', '107', '108', '109', '11', '110', '111', '112', '113', '114', '115', '116', '117', '118', '119', '12', '120', '121', '122', '123', '124', '125', '126', '127', '128', '129', '13', '130', '131', '132', '133', '134', '135', '136', '137', '138', '139', '14', '140', '141', '142', '143', '144', '145', '146', '147', '148', '149', '15', '150', '151', '152', '153', '154', '155', '156', '157', '158', '159', '16', '160', '161', '162', '163', '164', '165', '166', '167', '168', '169', '17', '170', '171', '172', '173', '174', '175', '176', '177', '178', '179', '18', '180', '181', '182', '183', '184', '185', '186', '187', '188', '189', '19', '190', '191', '192', '193', '194', '195', '196', '197', '198', '199', '2', '20', '200', '201', '202', '203', '204', '205', '206', '207', '208', '209', '21', '210', '211', '212', '213', '214', '215', '216', '217', '218', '219', '22', '220', '221', '222', '223', '224', '225', '226', '227', '228', '229', '23', '230', '231', '232', '233', '234', '235', '236', '237', '238', '239', '24', '240', '241', '242', '243', '244', '245', '246', '247', '248', '249', '25', '250', '251', '252', '253', '254', '255', '256', '257', '258', '259', '26', '260', '261', '262', '263', '264', '265', '266', '267', '268', '269', '27', '270', '271', '272', '273', '274', '275', '276', '277', '278', '279', '28', '280', '281', '282', '283', '284', '285', '286', '287', '288', '289', '29', '290', '291', '292', '293', '294', '295', '296', '297', '298', '299', '3', '30', '300', '301', '302', '303', '304', '305', '306', '307', '308', '309', '31', '310', '311', '312', '313', '314', '315', '316', '317', '318', '319', '32', '320', '321', '322', '323', '324', '325', '326', '327', '328', '329', '33', '330', '331', '332', '333', '334', '335', '336', '337', '338', '339', '34', '340', '341', '342', '343', '344', '345', '346', '347', '348', '349', '35', '350', '351', '352', '353', '354', '355', '356', '357', '358', '359', '36', '360', '37', '38', '39', '4', '40', '41', '42', '43', '44', '45', '46', '47', '48', '49', '5', '50', '51', '52', '53', '54', '55', '56', '57', '58', '59', '6', '60', '61', '62', '63', '64', '65', '66', '67', '68', '69', '7', '70', '71', '72', '73', '74', '75', '76', '77', '78', '79', '8', '80', '81', '82', '83', '84', '85', '86', '87', '88', '89', '9', '90', '91', '92', '93', '94', '95', '96', '97', '98', '99']\n",
      "360\n"
     ]
    }
   ],
   "source": [
    "# print(directories[1:])\n",
    "# print(len(directories[1:]))\n",
    "# print(directories.split(\"/\"))\n",
    "CATEGORIES = []\n",
    "for folder in directories[1:]:\n",
    "    CATEGORIES.append(folder.split(\"/\")[-1])\n",
    "CATEGORIES = sorted(CATEGORIES)\n",
    "print(CATEGORIES)\n",
    "print(len(CATEGORIES))"
   ]
  },
  {
   "cell_type": "code",
   "execution_count": 3,
   "metadata": {},
   "outputs": [],
   "source": [
    "CATEGORIES_INT = [i for i in range(1, 361)]\n",
    "CATEGORIES = [str(item) for item in CATEGORIES_INT]\n",
    "# map(str, CATEGORIES)\n",
    "# print(CATEGORIES)"
   ]
  },
  {
   "cell_type": "code",
   "execution_count": 16,
   "metadata": {},
   "outputs": [
    {
     "data": {
      "image/png": "[encoded data removed]",
      "text/plain": [
       "<Figure size 432x288 with 1 Axes>"
      ]
     },
     "metadata": {
      "needs_background": "light"
     },
     "output_type": "display_data"
    }
   ],
   "source": [
    "for category in CATEGORIES:  # do dogs and cats\n",
    "    path = os.path.join(DATADIR,category)  # create path to dogs and cats\n",
    "    for img in os.listdir(path):  # iterate over each image per dogs and cats\n",
    "        img_array = cv2.imread(os.path.join(path,img) ,cv2.IMREAD_GRAYSCALE)  # convert to array\n",
    "        plt.imshow(img_array, cmap='gray')  # graph it\n",
    "        plt.show()  # display!\n",
    "\n",
    "        break  # we just want one for now so break\n",
    "    break  #...and one more!"
   ]
  },
  {
   "cell_type": "code",
   "execution_count": 56,
   "metadata": {},
   "outputs": [
    {
     "name": "stdout",
     "output_type": "stream",
     "text": [
      "[[ 88  88  84 ...  70  65  75]\n",
      " [ 85  93  98 ...  66  69  75]\n",
      " [ 81  89  98 ...  62  56  54]\n",
      " ...\n",
      " [ 67  73  85 ... 101 103 101]\n",
      " [ 40  57  84 ... 102 102  98]\n",
      " [ 67  66  80 ... 101 101  96]]\n"
     ]
    }
   ],
   "source": [
    "print(img_array)"
   ]
  },
  {
   "cell_type": "code",
   "execution_count": 26,
   "metadata": {},
   "outputs": [
    {
     "name": "stdout",
     "output_type": "stream",
     "text": [
      "(56, 40)\n"
     ]
    }
   ],
   "source": [
    "print(img_array.shape)"
   ]
  },
  {
   "cell_type": "code",
   "execution_count": 17,
   "metadata": {},
   "outputs": [
    {
     "data": {
      "image/png": "[encoded data removed]",
      "text/plain": [
       "<Figure size 432x288 with 1 Axes>"
      ]
     },
     "metadata": {
      "needs_background": "light"
     },
     "output_type": "display_data"
    },
    {
     "name": "stdout",
     "output_type": "stream",
     "text": [
      "(100, 100)\n"
     ]
    }
   ],
   "source": [
    "IMG_SIZE_X, IMG_SIZE_Y = 100, 100\n",
    "\n",
    "new_array = cv2.resize(img_array, (IMG_SIZE_Y, IMG_SIZE_X))\n",
    "plt.imshow(new_array, cmap='gray')\n",
    "plt.show()\n",
    "print(new_array.shape)"
   ]
  },
  {
   "cell_type": "code",
   "execution_count": 34,
   "metadata": {},
   "outputs": [
    {
     "data": {
      "image/png": "[encoded data removed]",
      "text/plain": [
       "<Figure size 432x288 with 1 Axes>"
      ]
     },
     "metadata": {
      "needs_background": "light"
     },
     "output_type": "display_data"
    }
   ],
   "source": [
    "IMG_SIZE = 100\n",
    "\n",
    "new_array = cv2.resize(img_array, (IMG_SIZE, IMG_SIZE))\n",
    "plt.imshow(new_array, cmap='gray')\n",
    "plt.show()"
   ]
  },
  {
   "cell_type": "code",
   "execution_count": 18,
   "metadata": {},
   "outputs": [],
   "source": [
    "training_data = []"
   ]
  },
  {
   "cell_type": "code",
   "execution_count": 21,
   "metadata": {},
   "outputs": [],
   "source": [
    "def create_training_data():\n",
    "    for category in CATEGORIES:  # do dogs and cats\n",
    "\n",
    "        path = os.path.join(DATADIR,category)  # create path to dogs and cats\n",
    "        class_num = CATEGORIES.index(category)  # get the classification  (0 or a 1). 0=dog 1=cat\n",
    "\n",
    "        for img in tqdm(os.listdir(path)):  # iterate over each image per dogs and cats\n",
    "            try:\n",
    "                img_array = cv2.imread(os.path.join(path,img) ,cv2.IMREAD_GRAYSCALE) # convert to array\n",
    "                new_array = cv2.resize(img_array, (IMG_SIZE_Y, IMG_SIZE_X))  # resize to normalize data size\n",
    "#                 path_to_img = os.path.join(path,img)\n",
    "#                 training_data.append([new_array, class_num, path_to_img])  # add this to our training_data\n",
    "                training_data.append([new_array, class_num])  # add this to our training_data\n",
    "            except Exception as e:  # in the interest in keeping the output clean...\n",
    "                pass\n",
    "            #except OSError as e:\n",
    "            #    print(\"OSErrroBad img most likely\", e, os.path.join(path,img))\n",
    "            #except Exception as e:\n",
    "            #    print(\"general exception\", e, os.path.join(path,img))"
   ]
  },
  {
   "cell_type": "code",
   "execution_count": 22,
   "metadata": {},
   "outputs": [
    {
     "name": "stderr",
     "output_type": "stream",
     "text": [
      "100%|██████████| 137/137 [00:00<00:00, 174.99it/s]\n",
      "100%|██████████| 137/137 [00:01<00:00, 108.73it/s]\n",
      "100%|██████████| 137/137 [00:01<00:00, 101.65it/s]\n",
      "100%|██████████| 137/137 [00:01<00:00, 102.41it/s]\n",
      "100%|██████████| 137/137 [00:01<00:00, 94.61it/s]\n",
      "100%|██████████| 137/137 [00:01<00:00, 110.61it/s]\n",
      "100%|██████████| 137/137 [00:01<00:00, 82.76it/s] \n",
      "100%|██████████| 137/137 [00:01<00:00, 107.97it/s]\n",
      "100%|██████████| 137/137 [00:01<00:00, 102.05it/s]\n",
      "100%|██████████| 137/137 [00:01<00:00, 99.01it/s]\n",
      "100%|██████████| 137/137 [00:01<00:00, 97.14it/s]\n",
      "100%|██████████| 137/137 [00:01<00:00, 106.32it/s]\n",
      "100%|██████████| 137/137 [00:01<00:00, 104.75it/s]\n",
      "100%|██████████| 137/137 [00:01<00:00, 92.50it/s]\n",
      "100%|██████████| 137/137 [00:01<00:00, 119.87it/s]\n",
      "100%|██████████| 137/137 [00:01<00:00, 86.29it/s]\n",
      "100%|██████████| 137/137 [00:01<00:00, 96.00it/s]\n",
      "100%|██████████| 137/137 [00:01<00:00, 109.25it/s]\n",
      "100%|██████████| 137/137 [00:01<00:00, 104.52it/s]\n",
      "100%|██████████| 137/137 [00:01<00:00, 94.87it/s]\n",
      "100%|██████████| 137/137 [00:01<00:00, 112.52it/s]\n",
      "100%|██████████| 137/137 [00:01<00:00, 91.16it/s]\n",
      "100%|██████████| 137/137 [00:01<00:00, 77.36it/s]\n",
      "100%|██████████| 137/137 [00:02<00:00, 67.19it/s]\n",
      "100%|██████████| 137/137 [00:01<00:00, 70.26it/s]\n",
      "100%|██████████| 137/137 [00:01<00:00, 106.57it/s]\n",
      "100%|██████████| 137/137 [00:01<00:00, 97.16it/s] \n",
      "100%|██████████| 137/137 [00:01<00:00, 90.97it/s]\n",
      "100%|██████████| 137/137 [00:01<00:00, 101.87it/s]\n",
      "100%|██████████| 137/137 [00:01<00:00, 101.44it/s]\n",
      "100%|██████████| 137/137 [00:01<00:00, 75.02it/s]\n",
      "100%|██████████| 137/137 [00:02<00:00, 60.49it/s]\n",
      "100%|██████████| 137/137 [00:01<00:00, 82.41it/s] \n",
      "100%|██████████| 137/137 [00:01<00:00, 93.08it/s]\n",
      "100%|██████████| 137/137 [00:01<00:00, 88.33it/s]\n",
      "100%|██████████| 137/137 [00:01<00:00, 70.95it/s]\n",
      "100%|██████████| 137/137 [00:02<00:00, 59.76it/s]\n",
      "100%|██████████| 137/137 [00:01<00:00, 92.44it/s]\n",
      "100%|██████████| 137/137 [00:01<00:00, 110.38it/s]\n",
      "100%|██████████| 137/137 [00:01<00:00, 81.46it/s]\n",
      "100%|██████████| 137/137 [00:01<00:00, 95.65it/s]\n",
      "100%|██████████| 137/137 [00:01<00:00, 101.00it/s]\n",
      "100%|██████████| 137/137 [00:01<00:00, 102.27it/s]\n",
      "100%|██████████| 137/137 [00:01<00:00, 75.75it/s]\n",
      "100%|██████████| 137/137 [00:01<00:00, 100.06it/s]\n",
      "100%|██████████| 137/137 [00:01<00:00, 106.24it/s]\n",
      "100%|██████████| 137/137 [00:01<00:00, 102.52it/s]\n",
      "100%|██████████| 137/137 [00:01<00:00, 89.52it/s]\n",
      "100%|██████████| 137/137 [00:02<00:00, 65.83it/s]\n",
      "100%|██████████| 137/137 [00:01<00:00, 110.06it/s]\n",
      "100%|██████████| 137/137 [00:01<00:00, 108.71it/s]\n",
      "100%|██████████| 137/137 [00:01<00:00, 84.73it/s]\n",
      "100%|██████████| 137/137 [00:01<00:00, 101.38it/s]\n",
      "100%|██████████| 137/137 [00:01<00:00, 105.32it/s]\n",
      "100%|██████████| 137/137 [00:01<00:00, 100.05it/s]\n",
      "100%|██████████| 137/137 [00:01<00:00, 68.60it/s]\n",
      "100%|██████████| 137/137 [00:01<00:00, 72.84it/s]\n",
      "100%|██████████| 137/137 [00:01<00:00, 105.01it/s]\n",
      "100%|██████████| 137/137 [00:01<00:00, 77.94it/s]\n",
      "100%|██████████| 137/137 [00:01<00:00, 80.17it/s]\n",
      "100%|██████████| 137/137 [00:01<00:00, 100.32it/s]\n",
      "100%|██████████| 137/137 [00:01<00:00, 93.48it/s] \n",
      "100%|██████████| 137/137 [00:01<00:00, 100.93it/s]\n",
      "100%|██████████| 137/137 [00:02<00:00, 55.64it/s]\n",
      "100%|██████████| 137/137 [00:02<00:00, 54.39it/s]\n",
      "100%|██████████| 137/137 [00:01<00:00, 111.41it/s]\n",
      "100%|██████████| 137/137 [00:01<00:00, 108.49it/s]\n",
      "100%|██████████| 137/137 [00:01<00:00, 102.57it/s]\n",
      "100%|██████████| 137/137 [00:01<00:00, 93.58it/s]\n",
      "100%|██████████| 137/137 [00:01<00:00, 117.07it/s]\n",
      "100%|██████████| 137/137 [00:01<00:00, 110.80it/s]\n",
      "100%|██████████| 137/137 [00:01<00:00, 108.07it/s]\n",
      "100%|██████████| 137/137 [00:01<00:00, 96.79it/s] \n",
      "100%|██████████| 137/137 [00:01<00:00, 71.52it/s]\n",
      "100%|██████████| 137/137 [00:01<00:00, 118.67it/s]\n",
      "100%|██████████| 137/137 [00:02<00:00, 65.70it/s]\n",
      "100%|██████████| 137/137 [00:01<00:00, 79.82it/s]\n",
      "100%|██████████| 137/137 [00:01<00:00, 111.22it/s]\n",
      "100%|██████████| 137/137 [00:01<00:00, 104.52it/s]\n",
      "100%|██████████| 137/137 [00:01<00:00, 99.54it/s] \n",
      "100%|██████████| 137/137 [00:01<00:00, 91.32it/s] \n",
      "100%|██████████| 137/137 [00:01<00:00, 105.18it/s]\n",
      "100%|██████████| 137/137 [00:01<00:00, 120.52it/s]\n",
      "100%|██████████| 137/137 [00:01<00:00, 110.03it/s]\n",
      "100%|██████████| 137/137 [00:01<00:00, 107.46it/s]\n",
      "100%|██████████| 137/137 [00:01<00:00, 83.51it/s]\n",
      "100%|██████████| 137/137 [00:01<00:00, 103.69it/s]\n",
      "100%|██████████| 137/137 [00:01<00:00, 105.90it/s]\n",
      "100%|██████████| 137/137 [00:01<00:00, 106.04it/s]\n",
      "100%|██████████| 137/137 [00:01<00:00, 92.14it/s]\n",
      "100%|██████████| 137/137 [00:01<00:00, 109.44it/s]\n",
      "100%|██████████| 137/137 [00:01<00:00, 109.39it/s]\n",
      "100%|██████████| 137/137 [00:01<00:00, 96.23it/s] \n",
      "100%|██████████| 137/137 [00:01<00:00, 124.18it/s]\n",
      "100%|██████████| 137/137 [00:01<00:00, 82.02it/s]\n",
      "100%|██████████| 137/137 [00:01<00:00, 105.57it/s]\n",
      "100%|██████████| 137/137 [00:01<00:00, 109.04it/s]\n",
      "100%|██████████| 137/137 [00:01<00:00, 106.92it/s]\n",
      "100%|██████████| 137/137 [00:01<00:00, 70.67it/s]\n",
      "100%|██████████| 137/137 [00:01<00:00, 111.79it/s]\n",
      "100%|██████████| 137/137 [00:01<00:00, 79.90it/s]\n",
      "100%|██████████| 137/137 [00:01<00:00, 78.62it/s]\n",
      "100%|██████████| 137/137 [00:01<00:00, 111.06it/s]\n",
      "100%|██████████| 137/137 [00:01<00:00, 99.36it/s] \n",
      "100%|██████████| 137/137 [00:01<00:00, 107.08it/s]\n",
      "100%|██████████| 137/137 [00:01<00:00, 110.65it/s]\n",
      "100%|██████████| 137/137 [00:01<00:00, 99.12it/s]\n",
      "100%|██████████| 137/137 [00:01<00:00, 102.81it/s]\n",
      "100%|██████████| 137/137 [00:01<00:00, 107.99it/s]\n",
      "100%|██████████| 137/137 [00:01<00:00, 109.75it/s]\n",
      "100%|██████████| 137/137 [00:01<00:00, 93.42it/s]\n",
      "100%|██████████| 137/137 [00:00<00:00, 210.44it/s]\n",
      "100%|██████████| 137/137 [00:01<00:00, 102.22it/s]\n",
      "100%|██████████| 137/137 [00:01<00:00, 109.33it/s]\n",
      "100%|██████████| 137/137 [00:01<00:00, 94.60it/s]\n",
      "100%|██████████| 137/137 [00:01<00:00, 110.09it/s]\n",
      "100%|██████████| 137/137 [00:01<00:00, 108.62it/s]\n",
      "100%|██████████| 137/137 [00:01<00:00, 105.89it/s]\n",
      "100%|██████████| 137/137 [00:01<00:00, 87.13it/s]\n",
      "100%|██████████| 137/137 [00:01<00:00, 108.11it/s]\n",
      "100%|██████████| 137/137 [00:01<00:00, 110.72it/s]\n",
      "100%|██████████| 137/137 [00:01<00:00, 100.05it/s]\n",
      "100%|██████████| 137/137 [00:01<00:00, 74.86it/s]\n",
      "100%|██████████| 137/137 [00:01<00:00, 101.04it/s]\n",
      "100%|██████████| 137/137 [00:01<00:00, 69.66it/s]\n",
      "100%|██████████| 137/137 [00:01<00:00, 83.17it/s]\n",
      "100%|██████████| 137/137 [00:01<00:00, 106.22it/s]\n",
      "100%|██████████| 137/137 [00:01<00:00, 106.08it/s]\n",
      "100%|██████████| 137/137 [00:01<00:00, 96.46it/s] \n",
      "100%|██████████| 137/137 [00:01<00:00, 102.76it/s]\n",
      "100%|██████████| 137/137 [00:01<00:00, 75.69it/s]\n",
      "100%|██████████| 137/137 [00:01<00:00, 101.57it/s]\n",
      "100%|██████████| 137/137 [00:01<00:00, 109.30it/s]\n",
      "100%|██████████| 137/137 [00:01<00:00, 102.29it/s]\n",
      "100%|██████████| 137/137 [00:01<00:00, 86.45it/s]\n",
      "100%|██████████| 137/137 [00:01<00:00, 109.96it/s]\n",
      "100%|██████████| 137/137 [00:01<00:00, 109.14it/s]\n",
      "100%|██████████| 137/137 [00:01<00:00, 109.20it/s]\n",
      "100%|██████████| 137/137 [00:01<00:00, 76.12it/s]\n",
      "100%|██████████| 137/137 [00:01<00:00, 95.61it/s] \n",
      "100%|██████████| 137/137 [00:01<00:00, 99.58it/s]\n",
      "100%|██████████| 137/137 [00:01<00:00, 95.92it/s]\n",
      "100%|██████████| 137/137 [00:01<00:00, 90.34it/s]\n",
      "100%|██████████| 137/137 [00:01<00:00, 86.83it/s]\n",
      "100%|██████████| 137/137 [00:01<00:00, 81.05it/s]\n",
      "100%|██████████| 137/137 [00:01<00:00, 100.76it/s]\n",
      "100%|██████████| 137/137 [00:01<00:00, 92.55it/s]\n",
      "100%|██████████| 137/137 [00:01<00:00, 108.37it/s]\n",
      "100%|██████████| 137/137 [00:01<00:00, 101.51it/s]\n",
      "100%|██████████| 137/137 [00:03<00:00, 36.45it/s]\n",
      "100%|██████████| 137/137 [00:01<00:00, 73.91it/s]\n",
      "100%|██████████| 137/137 [00:01<00:00, 93.74it/s] \n",
      "100%|██████████| 137/137 [00:01<00:00, 87.89it/s] \n",
      "100%|██████████| 137/137 [00:01<00:00, 111.68it/s]\n",
      "100%|██████████| 137/137 [00:01<00:00, 71.63it/s]\n",
      "100%|██████████| 137/137 [00:01<00:00, 88.53it/s]\n",
      "100%|██████████| 137/137 [00:01<00:00, 101.60it/s]\n",
      "100%|██████████| 137/137 [00:01<00:00, 82.26it/s]\n",
      "100%|██████████| 137/137 [00:02<00:00, 65.49it/s]\n",
      "100%|██████████| 137/137 [00:01<00:00, 95.23it/s] \n",
      "100%|██████████| 137/137 [00:01<00:00, 76.79it/s]\n",
      "100%|██████████| 137/137 [00:01<00:00, 80.55it/s]\n",
      "100%|██████████| 137/137 [00:01<00:00, 86.67it/s]\n",
      "100%|██████████| 137/137 [00:01<00:00, 89.60it/s]\n",
      "100%|██████████| 137/137 [00:01<00:00, 107.02it/s]\n",
      "100%|██████████| 137/137 [00:01<00:00, 108.58it/s]\n",
      "100%|██████████| 137/137 [00:01<00:00, 100.12it/s]\n",
      "100%|██████████| 137/137 [00:01<00:00, 85.78it/s]\n",
      "100%|██████████| 137/137 [00:01<00:00, 85.64it/s]\n",
      "100%|██████████| 137/137 [00:01<00:00, 81.79it/s]\n",
      "100%|██████████| 137/137 [00:02<00:00, 61.59it/s]\n",
      "100%|██████████| 137/137 [00:01<00:00, 82.37it/s]\n",
      "100%|██████████| 137/137 [00:01<00:00, 85.75it/s]\n",
      "100%|██████████| 137/137 [00:01<00:00, 114.77it/s]\n",
      "100%|██████████| 137/137 [00:01<00:00, 106.41it/s]\n",
      "100%|██████████| 137/137 [00:01<00:00, 103.49it/s]\n",
      "100%|██████████| 137/137 [00:01<00:00, 103.46it/s]\n",
      "100%|██████████| 137/137 [00:01<00:00, 84.79it/s]\n",
      "100%|██████████| 137/137 [00:01<00:00, 103.35it/s]\n",
      "100%|██████████| 137/137 [00:01<00:00, 93.18it/s]\n",
      "100%|██████████| 137/137 [00:01<00:00, 95.65it/s] \n",
      "100%|██████████| 137/137 [00:01<00:00, 75.05it/s]\n",
      "100%|██████████| 137/137 [00:01<00:00, 101.32it/s]\n",
      "100%|██████████| 137/137 [00:01<00:00, 113.14it/s]\n",
      "100%|██████████| 137/137 [00:01<00:00, 101.04it/s]\n",
      "100%|██████████| 137/137 [00:01<00:00, 100.51it/s]\n",
      "100%|██████████| 137/137 [00:01<00:00, 100.48it/s]\n",
      "100%|██████████| 137/137 [00:01<00:00, 109.52it/s]\n",
      "100%|██████████| 137/137 [00:01<00:00, 103.85it/s]\n",
      "100%|██████████| 137/137 [00:01<00:00, 83.92it/s]\n",
      "100%|██████████| 137/137 [00:01<00:00, 105.53it/s]\n",
      "100%|██████████| 137/137 [00:01<00:00, 103.99it/s]\n",
      "100%|██████████| 137/137 [00:01<00:00, 97.81it/s]\n",
      "100%|██████████| 137/137 [00:01<00:00, 96.70it/s] \n",
      "100%|██████████| 137/137 [00:01<00:00, 105.72it/s]\n",
      "100%|██████████| 137/137 [00:01<00:00, 75.54it/s]\n",
      "100%|██████████| 137/137 [00:01<00:00, 76.57it/s]\n",
      "100%|██████████| 137/137 [00:01<00:00, 104.88it/s]\n",
      "100%|██████████| 137/137 [00:02<00:00, 47.05it/s]\n",
      "100%|██████████| 137/137 [00:01<00:00, 85.07it/s]\n",
      "100%|██████████| 137/137 [00:01<00:00, 101.24it/s]\n",
      "100%|██████████| 137/137 [00:01<00:00, 102.49it/s]\n",
      "100%|██████████| 137/137 [00:01<00:00, 80.33it/s] \n",
      "100%|██████████| 137/137 [00:01<00:00, 103.66it/s]\n",
      "100%|██████████| 137/137 [00:01<00:00, 103.46it/s]\n",
      "100%|██████████| 137/137 [00:01<00:00, 97.30it/s]\n",
      "100%|██████████| 137/137 [00:01<00:00, 99.72it/s] \n",
      "100%|██████████| 137/137 [00:01<00:00, 102.45it/s]\n",
      "100%|██████████| 137/137 [00:01<00:00, 77.01it/s]\n",
      "100%|██████████| 137/137 [00:02<00:00, 76.16it/s]\n",
      "100%|██████████| 137/137 [00:01<00:00, 105.02it/s]\n",
      "100%|██████████| 137/137 [00:01<00:00, 95.44it/s]\n",
      "100%|██████████| 137/137 [00:01<00:00, 83.67it/s]\n",
      "100%|██████████| 137/137 [00:01<00:00, 97.83it/s] \n",
      "100%|██████████| 137/137 [00:01<00:00, 94.28it/s] \n",
      "100%|██████████| 137/137 [00:01<00:00, 99.17it/s] \n",
      "100%|██████████| 137/137 [00:01<00:00, 106.94it/s]\n",
      "100%|██████████| 137/137 [00:01<00:00, 103.33it/s]\n",
      "100%|██████████| 137/137 [00:01<00:00, 94.35it/s]\n",
      "100%|██████████| 137/137 [00:01<00:00, 106.16it/s]\n",
      "100%|██████████| 137/137 [00:01<00:00, 102.25it/s]\n",
      "100%|██████████| 137/137 [00:02<00:00, 61.36it/s]\n",
      "100%|██████████| 137/137 [00:00<00:00, 458.10it/s]\n",
      "100%|██████████| 137/137 [00:01<00:00, 77.77it/s]\n",
      "100%|██████████| 137/137 [00:01<00:00, 89.46it/s]\n",
      "100%|██████████| 137/137 [00:01<00:00, 104.70it/s]\n",
      "100%|██████████| 137/137 [00:01<00:00, 99.81it/s]\n",
      "100%|██████████| 137/137 [00:01<00:00, 94.60it/s] \n",
      "100%|██████████| 137/137 [00:01<00:00, 110.44it/s]\n",
      "100%|██████████| 137/137 [00:01<00:00, 98.49it/s]\n",
      "100%|██████████| 137/137 [00:01<00:00, 93.07it/s]\n",
      "100%|██████████| 137/137 [00:01<00:00, 104.68it/s]\n",
      "100%|██████████| 137/137 [00:01<00:00, 99.59it/s] \n",
      "100%|██████████| 137/137 [00:01<00:00, 74.79it/s]\n",
      "100%|██████████| 137/137 [00:01<00:00, 82.90it/s]\n",
      "100%|██████████| 137/137 [00:01<00:00, 99.06it/s]\n",
      "100%|██████████| 137/137 [00:01<00:00, 84.63it/s]\n",
      "100%|██████████| 137/137 [00:01<00:00, 106.95it/s]\n",
      "100%|██████████| 137/137 [00:01<00:00, 106.75it/s]\n",
      "100%|██████████| 137/137 [00:01<00:00, 107.87it/s]\n",
      "100%|██████████| 137/137 [00:01<00:00, 90.86it/s] \n",
      "100%|██████████| 137/137 [00:01<00:00, 79.84it/s]\n",
      "100%|██████████| 137/137 [00:01<00:00, 109.39it/s]\n",
      "100%|██████████| 137/137 [00:01<00:00, 69.64it/s]\n",
      "100%|██████████| 137/137 [00:01<00:00, 99.80it/s]\n",
      "100%|██████████| 137/137 [00:01<00:00, 96.36it/s]\n",
      "100%|██████████| 137/137 [00:01<00:00, 97.08it/s] \n",
      "100%|██████████| 137/137 [00:01<00:00, 82.71it/s]\n",
      "100%|██████████| 137/137 [00:01<00:00, 90.83it/s]\n",
      "100%|██████████| 137/137 [00:01<00:00, 103.72it/s]\n",
      "100%|██████████| 137/137 [00:01<00:00, 98.12it/s]\n",
      "100%|██████████| 137/137 [00:02<00:00, 47.93it/s]\n",
      "100%|██████████| 137/137 [00:01<00:00, 104.88it/s]\n",
      "100%|██████████| 137/137 [00:01<00:00, 105.23it/s]\n",
      "100%|██████████| 137/137 [00:01<00:00, 88.47it/s]\n",
      "100%|██████████| 137/137 [00:01<00:00, 96.14it/s]\n",
      "100%|██████████| 137/137 [00:01<00:00, 102.63it/s]\n",
      "100%|██████████| 137/137 [00:01<00:00, 104.21it/s]\n",
      "100%|██████████| 137/137 [00:01<00:00, 102.89it/s]\n",
      "100%|██████████| 137/137 [00:01<00:00, 89.43it/s]\n",
      "100%|██████████| 137/137 [00:01<00:00, 97.56it/s]\n",
      "100%|██████████| 137/137 [00:01<00:00, 108.91it/s]\n",
      "100%|██████████| 137/137 [00:01<00:00, 103.75it/s]\n",
      "100%|██████████| 137/137 [00:01<00:00, 86.20it/s]\n",
      "100%|██████████| 137/137 [00:01<00:00, 101.37it/s]\n",
      "100%|██████████| 137/137 [00:01<00:00, 103.87it/s]\n",
      "100%|██████████| 137/137 [00:01<00:00, 107.86it/s]\n",
      "100%|██████████| 137/137 [00:01<00:00, 89.15it/s]\n",
      "100%|██████████| 137/137 [00:01<00:00, 98.26it/s]\n",
      "100%|██████████| 137/137 [00:01<00:00, 107.42it/s]\n",
      "100%|██████████| 137/137 [00:01<00:00, 97.17it/s]\n",
      "100%|██████████| 137/137 [00:01<00:00, 108.17it/s]\n",
      "100%|██████████| 137/137 [00:01<00:00, 78.80it/s]\n",
      "100%|██████████| 137/137 [00:02<00:00, 66.04it/s]\n",
      "100%|██████████| 137/137 [00:01<00:00, 105.38it/s]\n",
      "100%|██████████| 137/137 [00:01<00:00, 90.68it/s]\n",
      "100%|██████████| 137/137 [00:01<00:00, 98.05it/s]\n",
      "100%|██████████| 137/137 [00:01<00:00, 91.99it/s] \n",
      "100%|██████████| 137/137 [00:01<00:00, 104.79it/s]\n",
      "100%|██████████| 137/137 [00:01<00:00, 104.14it/s]\n",
      "100%|██████████| 137/137 [00:01<00:00, 91.58it/s]\n",
      "100%|██████████| 137/137 [00:01<00:00, 102.78it/s]\n",
      "100%|██████████| 137/137 [00:02<00:00, 64.91it/s]\n",
      "100%|██████████| 137/137 [00:01<00:00, 83.92it/s]\n",
      "100%|██████████| 137/137 [00:01<00:00, 73.37it/s]\n",
      "100%|██████████| 137/137 [00:01<00:00, 91.00it/s]\n",
      "100%|██████████| 137/137 [00:01<00:00, 77.87it/s]\n",
      "100%|██████████| 137/137 [00:01<00:00, 110.93it/s]\n",
      "100%|██████████| 137/137 [00:01<00:00, 74.85it/s]\n",
      "100%|██████████| 137/137 [00:01<00:00, 90.93it/s]\n",
      "100%|██████████| 137/137 [00:01<00:00, 78.29it/s]\n",
      "100%|██████████| 137/137 [00:01<00:00, 96.06it/s]\n",
      "100%|██████████| 137/137 [00:01<00:00, 107.10it/s]\n",
      "100%|██████████| 137/137 [00:01<00:00, 104.36it/s]\n",
      "100%|██████████| 137/137 [00:00<00:00, 227.50it/s]\n",
      "100%|██████████| 137/137 [00:01<00:00, 77.93it/s]\n",
      "100%|██████████| 137/137 [00:02<00:00, 61.02it/s]\n",
      "100%|██████████| 137/137 [00:01<00:00, 109.01it/s]\n",
      "100%|██████████| 137/137 [00:01<00:00, 98.29it/s]\n",
      "100%|██████████| 137/137 [00:01<00:00, 90.36it/s]\n",
      "100%|██████████| 137/137 [00:01<00:00, 103.73it/s]\n",
      "100%|██████████| 137/137 [00:01<00:00, 95.92it/s]\n",
      "100%|██████████| 137/137 [00:01<00:00, 103.80it/s]\n",
      "100%|██████████| 137/137 [00:02<00:00, 62.70it/s]\n",
      "100%|██████████| 137/137 [00:01<00:00, 104.45it/s]\n",
      "100%|██████████| 137/137 [00:01<00:00, 136.78it/s]\n",
      "100%|██████████| 137/137 [00:01<00:00, 84.06it/s]\n",
      "100%|██████████| 137/137 [00:01<00:00, 102.74it/s]\n",
      "100%|██████████| 137/137 [00:01<00:00, 100.60it/s]\n",
      "100%|██████████| 137/137 [00:01<00:00, 108.45it/s]\n",
      "100%|██████████| 137/137 [00:01<00:00, 88.98it/s]\n",
      "100%|██████████| 137/137 [00:01<00:00, 116.04it/s]\n",
      "100%|██████████| 137/137 [00:01<00:00, 106.49it/s]\n",
      "100%|██████████| 137/137 [00:01<00:00, 109.98it/s]\n",
      "100%|██████████| 137/137 [00:01<00:00, 84.07it/s]\n",
      "100%|██████████| 137/137 [00:01<00:00, 109.61it/s]\n",
      "100%|██████████| 137/137 [00:00<00:00, 261.91it/s]\n",
      "100%|██████████| 137/137 [00:01<00:00, 96.09it/s]\n",
      "100%|██████████| 137/137 [00:01<00:00, 68.90it/s]\n",
      "100%|██████████| 137/137 [00:01<00:00, 107.80it/s]\n",
      "100%|██████████| 137/137 [00:01<00:00, 103.74it/s]\n",
      "100%|██████████| 137/137 [00:01<00:00, 94.42it/s]\n",
      "100%|██████████| 137/137 [00:02<00:00, 62.52it/s]\n",
      "100%|██████████| 137/137 [00:01<00:00, 98.76it/s] \n",
      "100%|██████████| 137/137 [00:01<00:00, 97.83it/s] \n",
      "100%|██████████| 137/137 [00:01<00:00, 79.67it/s]\n",
      "100%|██████████| 137/137 [00:01<00:00, 74.22it/s]\n",
      "100%|██████████| 137/137 [00:00<00:00, 442.96it/s]\n",
      "100%|██████████| 137/137 [00:01<00:00, 96.67it/s] \n",
      "100%|██████████| 137/137 [00:01<00:00, 104.34it/s]\n",
      "100%|██████████| 137/137 [00:01<00:00, 98.72it/s] \n",
      "100%|██████████| 137/137 [00:01<00:00, 92.05it/s]\n",
      "100%|██████████| 137/137 [00:01<00:00, 106.06it/s]\n",
      "100%|██████████| 137/137 [00:01<00:00, 106.41it/s]\n",
      "100%|██████████| 137/137 [00:01<00:00, 96.41it/s]\n",
      "100%|██████████| 137/137 [00:01<00:00, 112.17it/s]\n",
      "100%|██████████| 137/137 [00:01<00:00, 86.16it/s] \n",
      "100%|██████████| 137/137 [00:01<00:00, 99.24it/s] \n",
      "100%|██████████| 137/137 [00:01<00:00, 101.46it/s]\n",
      "100%|██████████| 137/137 [00:01<00:00, 86.81it/s]\n",
      "100%|██████████| 137/137 [00:01<00:00, 116.03it/s]\n",
      "100%|██████████| 137/137 [00:01<00:00, 104.16it/s]\n",
      "100%|██████████| 137/137 [00:01<00:00, 103.62it/s]\n",
      "100%|██████████| 137/137 [00:01<00:00, 81.84it/s]\n",
      "100%|██████████| 137/137 [00:01<00:00, 103.97it/s]\n",
      "100%|██████████| 137/137 [00:01<00:00, 88.45it/s]\n",
      "100%|██████████| 137/137 [00:01<00:00, 113.44it/s]\n",
      "100%|██████████| 137/137 [00:03<00:00, 42.75it/s]\n",
      "100%|██████████| 137/137 [00:01<00:00, 112.23it/s]\n",
      "100%|██████████| 137/137 [00:01<00:00, 82.64it/s]\n",
      "100%|██████████| 137/137 [00:01<00:00, 102.08it/s]\n",
      "100%|██████████| 137/137 [00:01<00:00, 104.35it/s]\n",
      "100%|██████████| 137/137 [00:01<00:00, 102.65it/s]\n",
      "100%|██████████| 137/137 [00:02<00:00, 64.73it/s]\n",
      "100%|██████████| 137/137 [00:01<00:00, 99.64it/s] \n",
      "100%|██████████| 137/137 [00:01<00:00, 108.80it/s]\n",
      "100%|██████████| 137/137 [00:01<00:00, 82.90it/s]\n",
      "100%|██████████| 137/137 [00:01<00:00, 98.79it/s] \n",
      "100%|██████████| 137/137 [00:01<00:00, 106.55it/s]\n",
      "100%|██████████| 137/137 [00:01<00:00, 101.07it/s]"
     ]
    },
    {
     "name": "stdout",
     "output_type": "stream",
     "text": [
      "531.0738425254822\n"
     ]
    },
    {
     "name": "stderr",
     "output_type": "stream",
     "text": [
      "\n"
     ]
    }
   ],
   "source": [
    "start = time.time()\n",
    "create_training_data()\n",
    "end = time.time()\n",
    "print(end - start)"
   ]
  },
  {
   "cell_type": "code",
   "execution_count": 63,
   "metadata": {},
   "outputs": [],
   "source": [
    "# print(training_data[0])"
   ]
  },
  {
   "cell_type": "code",
   "execution_count": 10,
   "metadata": {},
   "outputs": [
    {
     "name": "stdout",
     "output_type": "stream",
     "text": [
      "20778\n"
     ]
    }
   ],
   "source": [
    "print(len(training_data))"
   ]
  },
  {
   "cell_type": "code",
   "execution_count": 11,
   "metadata": {},
   "outputs": [],
   "source": [
    "import random"
   ]
  },
  {
   "cell_type": "code",
   "execution_count": 12,
   "metadata": {},
   "outputs": [],
   "source": [
    "random.shuffle(training_data)"
   ]
  },
  {
   "cell_type": "code",
   "execution_count": 13,
   "metadata": {},
   "outputs": [
    {
     "name": "stdout",
     "output_type": "stream",
     "text": [
      "3\n",
      "33\n",
      "22\n",
      "2\n",
      "16\n",
      "3\n",
      "30\n",
      "16\n",
      "18\n",
      "24\n"
     ]
    }
   ],
   "source": [
    "for sample in training_data[:10]:\n",
    "    print(sample[1])"
   ]
  },
  {
   "cell_type": "code",
   "execution_count": 14,
   "metadata": {},
   "outputs": [],
   "source": [
    "X = []\n",
    "Y = []\n",
    "# Z = []"
   ]
  },
  {
   "cell_type": "code",
   "execution_count": 15,
   "metadata": {},
   "outputs": [],
   "source": [
    "for features,label in training_data:\n",
    "    X.append(features)\n",
    "    Y.append(label)\n",
    "    \n",
    "# for features,label, path in training_data:\n",
    "#     X.append(features)\n",
    "#     Y.append(label)\n",
    "#     Z.append(path)"
   ]
  },
  {
   "cell_type": "code",
   "execution_count": 16,
   "metadata": {},
   "outputs": [
    {
     "name": "stdout",
     "output_type": "stream",
     "text": [
      "(50, 50)\n"
     ]
    }
   ],
   "source": [
    "print(X[0].shape)"
   ]
  },
  {
   "cell_type": "code",
   "execution_count": 21,
   "metadata": {},
   "outputs": [],
   "source": [
    "# print(X[0].reshape(-1, IMG_SIZE, IMG_SIZE, 1))"
   ]
  },
  {
   "cell_type": "code",
   "execution_count": 17,
   "metadata": {},
   "outputs": [],
   "source": [
    "X = np.array(X).reshape(-1, IMG_SIZE_Y, IMG_SIZE_X, 1)"
   ]
  },
  {
   "cell_type": "code",
   "execution_count": 18,
   "metadata": {},
   "outputs": [
    {
     "name": "stdout",
     "output_type": "stream",
     "text": [
      "<class 'numpy.ndarray'>\n",
      "[[[0]\n",
      "  [0]\n",
      "  [0]\n",
      "  ...\n",
      "  [0]\n",
      "  [0]\n",
      "  [0]]\n",
      "\n",
      " [[2]\n",
      "  [2]\n",
      "  [3]\n",
      "  ...\n",
      "  [2]\n",
      "  [2]\n",
      "  [2]]\n",
      "\n",
      " [[0]\n",
      "  [0]\n",
      "  [0]\n",
      "  ...\n",
      "  [0]\n",
      "  [0]\n",
      "  [0]]\n",
      "\n",
      " ...\n",
      "\n",
      " [[0]\n",
      "  [0]\n",
      "  [0]\n",
      "  ...\n",
      "  [1]\n",
      "  [2]\n",
      "  [2]]\n",
      "\n",
      " [[0]\n",
      "  [0]\n",
      "  [0]\n",
      "  ...\n",
      "  [0]\n",
      "  [0]\n",
      "  [0]]\n",
      "\n",
      " [[0]\n",
      "  [0]\n",
      "  [0]\n",
      "  ...\n",
      "  [0]\n",
      "  [0]\n",
      "  [0]]]\n"
     ]
    }
   ],
   "source": [
    "print(type(X))\n",
    "print(X[0])"
   ]
  },
  {
   "cell_type": "code",
   "execution_count": 59,
   "metadata": {},
   "outputs": [],
   "source": [
    "# import pickle"
   ]
  },
  {
   "cell_type": "code",
   "execution_count": 19,
   "metadata": {},
   "outputs": [
    {
     "data": {
      "text/plain": [
       "['trained_data/X_car_logos.sav']"
      ]
     },
     "execution_count": 19,
     "metadata": {},
     "output_type": "execute_result"
    }
   ],
   "source": [
    "# pickle_out = open(\"trained_data/X_to_E_DI_PA.pickle\",\"wb\")\n",
    "# pickle.dump(X, pickle_out)\n",
    "# pickle_out.close()\n",
    "\n",
    "filename = 'trained_data/X_car_logos.sav'\n",
    "joblib.dump(X, filename)"
   ]
  },
  {
   "cell_type": "code",
   "execution_count": 20,
   "metadata": {},
   "outputs": [
    {
     "data": {
      "text/plain": [
       "['trained_data/Y_car_logos.sav']"
      ]
     },
     "execution_count": 20,
     "metadata": {},
     "output_type": "execute_result"
    }
   ],
   "source": [
    "# pickle_out = open(\"trained_data/X_to_E_DI_PA.pickle\",\"wb\")\n",
    "# pickle.dump(X, pickle_out)\n",
    "# pickle_out.close()\n",
    "\n",
    "filename = 'trained_data/Y_car_logos.sav'\n",
    "joblib.dump(Y, filename)"
   ]
  },
  {
   "cell_type": "code",
   "execution_count": 22,
   "metadata": {},
   "outputs": [],
   "source": [
    "filename = 'trained_data/X_CLP_SYMBOLS_NEW.sav'\n",
    "loaded_X = joblib.load(filename)\n",
    "filename = 'trained_data/Y_CLP_SYMBOLS_NEW.sav'\n",
    "loaded_Y = joblib.load(filename)"
   ]
  },
  {
   "cell_type": "code",
   "execution_count": 23,
   "metadata": {},
   "outputs": [
    {
     "name": "stdout",
     "output_type": "stream",
     "text": [
      "11 (В)\n",
      "(50, 50, 1)\n",
      "<class 'numpy.ndarray'>\n"
     ]
    }
   ],
   "source": [
    "index = 4\n",
    "# plt.imshow(loaded_X[index])\n",
    "print(f'{loaded_Y[index]} ({CATEGORIES[loaded_Y[index]]})' )\n",
    "print(loaded_X[index].shape)\n",
    "print(type(loaded_X[index]))"
   ]
  },
  {
   "cell_type": "code",
   "execution_count": 58,
   "metadata": {},
   "outputs": [
    {
     "data": {
      "text/plain": [
       "['trained_data/to_test/X_CLP_SYMBOLS_test_30x30.sav']"
      ]
     },
     "execution_count": 58,
     "metadata": {},
     "output_type": "execute_result"
    }
   ],
   "source": [
    "filename = 'trained_data/to_test/X_CLP_SYMBOLS_test_30x30.sav'\n",
    "joblib.dump(X, filename)"
   ]
  },
  {
   "cell_type": "code",
   "execution_count": 59,
   "metadata": {},
   "outputs": [
    {
     "data": {
      "text/plain": [
       "['trained_data/to_test/Y_CLP_SYMBOLS_test_30x30.sav']"
      ]
     },
     "execution_count": 59,
     "metadata": {},
     "output_type": "execute_result"
    }
   ],
   "source": [
    "filename = 'trained_data/to_test/Y_CLP_SYMBOLS_test_30x30.sav'\n",
    "joblib.dump(Y, filename)"
   ]
  },
  {
   "cell_type": "code",
   "execution_count": 60,
   "metadata": {},
   "outputs": [
    {
     "data": {
      "text/plain": [
       "['trained_data/to_test/Z_CLP_SYMBOLS_test_30x30.sav']"
      ]
     },
     "execution_count": 60,
     "metadata": {},
     "output_type": "execute_result"
    }
   ],
   "source": [
    "filename = 'trained_data/to_test/Z_CLP_SYMBOLS_test_30x30.sav'\n",
    "joblib.dump(Z, filename)"
   ]
  }
 ],
 "metadata": {
  "kernelspec": {
   "display_name": "Python 3",
   "language": "python",
   "name": "python3"
  },
  "language_info": {
   "codemirror_mode": {
    "name": "ipython",
    "version": 3
   },
   "file_extension": ".py",
   "mimetype": "text/x-python",
   "name": "python",
   "nbconvert_exporter": "python",
   "pygments_lexer": "ipython3",
   "version": "3.6.7"
  }
 },
 "nbformat": 4,
 "nbformat_minor": 2
}
