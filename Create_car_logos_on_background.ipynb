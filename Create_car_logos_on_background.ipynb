{
 "cells": [
  {
   "cell_type": "code",
   "execution_count": 1,
   "metadata": {},
   "outputs": [],
   "source": [
    "import tensorflow as tf\n",
    "import matplotlib\n",
    "import matplotlib.pyplot as plt\n",
    "import matplotlib.image as mpimg\n",
    "import matplotlib.gridspec as gridspec\n",
    "import numpy as np\n",
    "import os\n",
    "import cv2\n",
    "import imutils\n",
    "import time\n",
    "import uuid\n",
    "import random\n",
    "from scipy import ndimage\n",
    "from PIL import Image\n",
    "from math import floor, ceil, pi\n",
    "from glob import glob"
   ]
  },
  {
   "cell_type": "code",
   "execution_count": 2,
   "metadata": {},
   "outputs": [],
   "source": [
    "def get_image_paths(folder):\n",
    "    files = os.listdir(folder)\n",
    "    files.sort()\n",
    "    files = ['{}/{}'.format(folder, file) for file in files]\n",
    "    return files"
   ]
  },
  {
   "cell_type": "code",
   "execution_count": 8,
   "metadata": {},
   "outputs": [],
   "source": [
    "imgs_background = get_image_paths('/home/apofeo/Documents/testSet_full')\n",
    "imgs_logos = get_image_paths('/home/apofeo/Documents/car_logos/')"
   ]
  },
  {
   "cell_type": "code",
   "execution_count": 4,
   "metadata": {},
   "outputs": [],
   "source": [
    "imgs_logos = [y for x in os.walk('/home/apofeo/Documents/car_logos/') for y in glob(os.path.join(x[0], \"*.jpg\"))]\n",
    "imgs_logos.sort()"
   ]
  },
  {
   "cell_type": "code",
   "execution_count": 5,
   "metadata": {},
   "outputs": [
    {
     "data": {
      "text/plain": [
       "<matplotlib.image.AxesImage at 0x7f8bd0f8c748>"
      ]
     },
     "execution_count": 5,
     "metadata": {},
     "output_type": "execute_result"
    },
    {
     "data": {
      "image/png": "[encoded data removed]",
      "text/plain": [
       "<Figure size 432x288 with 1 Axes>"
      ]
     },
     "metadata": {
      "needs_background": "light"
     },
     "output_type": "display_data"
    }
   ],
   "source": [
    "logo = cv2.imread(imgs_logos[0])\n",
    "plt.imshow(logo)"
   ]
  },
  {
   "cell_type": "code",
   "execution_count": 35,
   "metadata": {},
   "outputs": [],
   "source": [
    "IMG_SIZE = 500"
   ]
  },
  {
   "cell_type": "code",
   "execution_count": 43,
   "metadata": {},
   "outputs": [],
   "source": [
    "s_img = cv2.imread(imgs_logos[1])\n",
    "s_img = cv2.cvtColor(s_img, cv2.COLOR_RGB2RGBA)\n",
    "# s_img = cv2.resize(s_img, (IMG_SIZE, IMG_SIZE))\n",
    "s_img = ndimage.rotate(s_img, 135, reshape=True)\n",
    "l_img = cv2.imread(imgs_background[29189])\n",
    "l_img = cv2.resize(l_img, (IMG_SIZE, IMG_SIZE))\n",
    "y_offset, x_offset = random.randint(0, 350), random.randint(0, 350)\n",
    "# x_offset=s_img.shape[0]//6\n",
    "# y_offset=s_img.shape[1]//6\n",
    "# s_img = cv2.imread(\"smaller_image.png\", -1)\n",
    "\n",
    "# cv2.imshow('l_img', l_img)\n",
    "# cv2.waitKey(0)\n",
    "# # [display]\n",
    "# cv2.destroyAllWindows()\n",
    "\n",
    "y1, y2 = y_offset, y_offset + s_img.shape[0]\n",
    "x1, x2 = x_offset, x_offset + s_img.shape[1]\n",
    "\n",
    "alpha_s = s_img[:, :, 3] / 255.0\n",
    "alpha_l = 1.0 - alpha_s\n",
    "\n",
    "for c in range(0, 3):\n",
    "    l_img[y1:y2, x1:x2, c] = (alpha_s * s_img[:, :, c] +\n",
    "                              alpha_l * l_img[y1:y2, x1:x2, c])\n",
    "\n",
    "cv2.imshow('l_img', l_img)\n",
    "cv2.waitKey(0)\n",
    "# [display]\n",
    "cv2.destroyAllWindows()"
   ]
  },
  {
   "cell_type": "code",
   "execution_count": 6,
   "metadata": {},
   "outputs": [],
   "source": [
    "import numpy as np\n",
    "import cv2\n",
    "def add_gaussian_noise(img, mean, var):\n",
    "    img = img\n",
    "    mean = mean\n",
    "    var = var\n",
    "    sigma = var ** 0.5\n",
    "    gaussian = np.random.normal(mean, sigma, (img.shape[0],img.shape[1]))\n",
    "\n",
    "    noisy_image = np.zeros(img.shape, np.float32)\n",
    "\n",
    "    if len(img.shape) == 2:\n",
    "        noisy_image = img + gaussian\n",
    "    else:\n",
    "        noisy_image[:, :, 0] = img[:, :, 0] + gaussian\n",
    "        noisy_image[:, :, 1] = img[:, :, 1] + gaussian\n",
    "        noisy_image[:, :, 2] = img[:, :, 2] + gaussian\n",
    "\n",
    "    cv2.normalize(noisy_image, noisy_image, 0, 255, cv2.NORM_MINMAX, dtype=-1)\n",
    "    noisy_image = noisy_image.astype(np.uint8)\n",
    "    return noisy_image\n",
    "\n",
    "# cv2.imshow('l_img', add_gaussian_noise(l_img,50,500))\n",
    "# cv2.waitKey(0)\n",
    "# # [display]\n",
    "# cv2.destroyAllWindows()"
   ]
  },
  {
   "cell_type": "markdown",
   "metadata": {},
   "source": [
    "#### Version 1"
   ]
  },
  {
   "cell_type": "code",
   "execution_count": 9,
   "metadata": {},
   "outputs": [
    {
     "name": "stdout",
     "output_type": "stream",
     "text": [
      "48.27859330177307\n"
     ]
    }
   ],
   "source": [
    "start = time.time()\n",
    "idx = 0\n",
    "IMG_SIZE = 300\n",
    "for each_logo_folder in imgs_logos:\n",
    "    for each_img in get_image_paths(each_logo_folder)[:20]:\n",
    "        idx +=1\n",
    "        img_clp = cv2.imread(each_img)\n",
    "        img_clp = cv2.cvtColor(img_clp, cv2.COLOR_RGB2RGBA)\n",
    "        \n",
    "        background_index = random.randrange(0,41000,1)\n",
    "        x_offset = random.randint(0,150)\n",
    "        y_offset = random.randint(0,150)\n",
    "        noise_var = random.randrange(100,700,20)\n",
    "        filename = uuid.uuid4().hex\n",
    "        \n",
    "        img_background = cv2.imread(imgs_background[background_index])\n",
    "        img_background = cv2.resize(img_background, (IMG_SIZE, IMG_SIZE))\n",
    "        \n",
    "        y1, y2 = y_offset, y_offset + img_clp.shape[0]\n",
    "        x1, x2 = x_offset, x_offset + img_clp.shape[1]\n",
    "        \n",
    "        alpha_s = img_clp[:, :, 3] / 255.0\n",
    "        alpha_l = 1.0 - alpha_s\n",
    "        \n",
    "        try:\n",
    "            for c in range(0, 3):\n",
    "                img_background[y1:y2, x1:x2, c] = (alpha_s * img_clp[:, :, c] +\n",
    "                                      alpha_l * img_background[y1:y2, x1:x2, c])\n",
    "        except Exception:\n",
    "            print(f'background_index = {background_index}, angle = {i}, idx = {idx}')\n",
    "        \n",
    "#         img_background[y_offset:y_offset+rotated.shape[0], x_offset:x_offset+rotated.shape[1]] = rotated\n",
    "        img_backgr_noise = add_gaussian_noise(img_background,50,noise_var)\n",
    "        if not os.path.exists(f'/home/apofeo/Documents/car_logos_detect_imgs'):\n",
    "            os.makedirs(f'/home/apofeo/Documents/car_logos_detect_imgs')\n",
    "        cv2.imwrite(f'/home/apofeo/Documents/car_logos_detect_imgs/cldi_{idx}.png', img_backgr_noise)\n",
    "\n",
    "end = time.time()\n",
    "print(end - start)"
   ]
  }
 ],
 "metadata": {
  "kernelspec": {
   "display_name": "Python 3",
   "language": "python",
   "name": "python3"
  },
  "language_info": {
   "codemirror_mode": {
    "name": "ipython",
    "version": 3
   },
   "file_extension": ".py",
   "mimetype": "text/x-python",
   "name": "python",
   "nbconvert_exporter": "python",
   "pygments_lexer": "ipython3",
   "version": "3.6.7"
  }
 },
 "nbformat": 4,
 "nbformat_minor": 2
}
