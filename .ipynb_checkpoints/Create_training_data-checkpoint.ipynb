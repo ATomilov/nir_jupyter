{
 "cells": [
  {
   "cell_type": "code",
   "execution_count": 1,
   "metadata": {},
   "outputs": [],
   "source": [
    "import numpy as np\n",
    "import matplotlib.pyplot as plt\n",
    "import os\n",
    "import cv2\n",
    "import time\n",
    "from tqdm import tqdm\n",
    "from sklearn.externals import joblib"
   ]
  },
  {
   "cell_type": "markdown",
   "metadata": {},
   "source": [
    "#### DATADIR to DI PA to train model"
   ]
  },
  {
   "cell_type": "code",
   "execution_count": 2,
   "metadata": {},
   "outputs": [],
   "source": [
    "DATADIR = \"/home/apofeo/Documents/clp_rotated_v3/train\""
   ]
  },
  {
   "cell_type": "code",
   "execution_count": 2,
   "metadata": {},
   "outputs": [],
   "source": [
    "DATADIR = \"im_base_to_angle/r_d_i_less_pa/train\""
   ]
  },
  {
   "cell_type": "code",
   "execution_count": 15,
   "metadata": {},
   "outputs": [],
   "source": [
    "DATADIR = \"im_base_to_angle/rotated_3_pa/train\""
   ]
  },
  {
   "cell_type": "code",
   "execution_count": 2,
   "metadata": {},
   "outputs": [],
   "source": [
    "DATADIR = \"/home/apofeo/Documents/symbols_noise\""
   ]
  },
  {
   "cell_type": "code",
   "execution_count": 2,
   "metadata": {},
   "outputs": [],
   "source": [
    "DATADIR = \"/home/apofeo/Documents/symbols_noise_back\""
   ]
  },
  {
   "cell_type": "code",
   "execution_count": 2,
   "metadata": {},
   "outputs": [],
   "source": [
    "DATADIR = \"/home/apofeo/Documents/symbols_noise_new_v2\""
   ]
  },
  {
   "cell_type": "code",
   "execution_count": 43,
   "metadata": {},
   "outputs": [],
   "source": [
    "DATADIR = \"/home/apofeo/Documents/symbols_test\""
   ]
  },
  {
   "cell_type": "code",
   "execution_count": 2,
   "metadata": {},
   "outputs": [],
   "source": [
    "DATADIR = \"/home/apofeo/Documents/car_logos\""
   ]
  },
  {
   "cell_type": "code",
   "execution_count": 2,
   "metadata": {},
   "outputs": [],
   "source": [
    "DATADIR = \"/home/apofeo/Documents/detect_result_logos\""
   ]
  },
  {
   "cell_type": "code",
   "execution_count": 2,
   "metadata": {},
   "outputs": [],
   "source": [
    "DATADIR = \"/home/apofeo/Documents/logos_noise_new\""
   ]
  },
  {
   "cell_type": "markdown",
   "metadata": {},
   "source": [
    "#### DATADIR to DI PA to evaluate model"
   ]
  },
  {
   "cell_type": "code",
   "execution_count": 42,
   "metadata": {},
   "outputs": [],
   "source": [
    "DATADIR = \"im_base_to_angle/DI_PA_Test/test\""
   ]
  },
  {
   "cell_type": "markdown",
   "metadata": {},
   "source": [
    "#### DATADIR to CI PA to evaluate model"
   ]
  },
  {
   "cell_type": "code",
   "execution_count": 3,
   "metadata": {},
   "outputs": [],
   "source": [
    "DATADIR = \"im_base_to_angle/rotated_5_pa/test\""
   ]
  },
  {
   "cell_type": "markdown",
   "metadata": {},
   "source": [
    "#### DATADIR to CI NA to evaluate model"
   ]
  },
  {
   "cell_type": "code",
   "execution_count": 24,
   "metadata": {},
   "outputs": [],
   "source": [
    "DATADIR = \"im_base_to_angle/rotated_4_na/test\""
   ]
  },
  {
   "cell_type": "code",
   "execution_count": 3,
   "metadata": {},
   "outputs": [],
   "source": [
    "directories = [x[0] for x in os.walk(DATADIR)]"
   ]
  },
  {
   "cell_type": "code",
   "execution_count": 4,
   "metadata": {},
   "outputs": [
    {
     "name": "stdout",
     "output_type": "stream",
     "text": [
      "['Alfa Romeo', 'Audi', 'BMW', 'Chevrolet', 'Citroen', 'Dacia', 'Daewoo', 'Dodge', 'Ferrari', 'Fiat', 'Ford', 'Honda', 'Hyundai', 'Jaguar', 'Jeep', 'Kia', 'Lada', 'Lancia', 'Land Rover', 'Lexus', 'Maserati', 'Mazda', 'Mercedes', 'Mitsubishi', 'Nissan', 'Opel', 'Peugeot', 'Porsche', 'Renault', 'Rover', 'Saab', 'Seat', 'Skoda', 'Subaru', 'Suzuki', 'Tata', 'Tesla', 'Toyota', 'Volkswagen', 'Volvo']\n",
      "40\n"
     ]
    }
   ],
   "source": [
    "# print(directories[1:])\n",
    "# print(len(directories[1:]))\n",
    "# print(directories.split(\"/\"))\n",
    "CATEGORIES = []\n",
    "for folder in directories[1:]:\n",
    "    CATEGORIES.append(folder.split(\"/\")[-1])\n",
    "CATEGORIES = sorted(CATEGORIES)\n",
    "print(CATEGORIES)\n",
    "print(len(CATEGORIES))"
   ]
  },
  {
   "cell_type": "code",
   "execution_count": 3,
   "metadata": {},
   "outputs": [],
   "source": [
    "CATEGORIES_INT = [i for i in range(1, 361)]\n",
    "CATEGORIES = [str(item) for item in CATEGORIES_INT]\n",
    "# map(str, CATEGORIES)\n",
    "# print(CATEGORIES)"
   ]
  },
  {
   "cell_type": "code",
   "execution_count": 5,
   "metadata": {},
   "outputs": [
    {
     "data": {
      "image/png": "[encoded data removed]",
      "text/plain": [
       "<Figure size 432x288 with 1 Axes>"
      ]
     },
     "metadata": {
      "needs_background": "light"
     },
     "output_type": "display_data"
    }
   ],
   "source": [
    "for category in CATEGORIES:  # do dogs and cats\n",
    "    path = os.path.join(DATADIR,category)  # create path to dogs and cats\n",
    "    for img in os.listdir(path):  # iterate over each image per dogs and cats\n",
    "        img_array = cv2.imread(os.path.join(path,img) ,cv2.IMREAD_GRAYSCALE)  # convert to array\n",
    "        plt.imshow(img_array, cmap='gray')  # graph it\n",
    "        plt.show()  # display!\n",
    "\n",
    "        break  # we just want one for now so break\n",
    "    break  #...and one more!"
   ]
  },
  {
   "cell_type": "code",
   "execution_count": 6,
   "metadata": {},
   "outputs": [
    {
     "name": "stdout",
     "output_type": "stream",
     "text": [
      "[[ 93 104 120 ... 106 115 104]\n",
      " [ 84  98 105 ... 118 116 102]\n",
      " [130 118  98 ...  93 101 120]\n",
      " ...\n",
      " [107 110 103 ... 115 121  98]\n",
      " [ 98 102  85 ...  85 115 105]\n",
      " [110 111 110 ...  96  96 105]]\n"
     ]
    }
   ],
   "source": [
    "print(img_array)"
   ]
  },
  {
   "cell_type": "code",
   "execution_count": 7,
   "metadata": {},
   "outputs": [
    {
     "name": "stdout",
     "output_type": "stream",
     "text": [
      "(50, 50)\n"
     ]
    }
   ],
   "source": [
    "print(img_array.shape)"
   ]
  },
  {
   "cell_type": "code",
   "execution_count": 8,
   "metadata": {},
   "outputs": [
    {
     "data": {
      "image/png": "[encoded data removed]",
      "text/plain": [
       "<Figure size 432x288 with 1 Axes>"
      ]
     },
     "metadata": {
      "needs_background": "light"
     },
     "output_type": "display_data"
    },
    {
     "name": "stdout",
     "output_type": "stream",
     "text": [
      "(100, 100)\n"
     ]
    }
   ],
   "source": [
    "IMG_SIZE_X, IMG_SIZE_Y = 100, 100\n",
    "\n",
    "new_array = cv2.resize(img_array, (IMG_SIZE_Y, IMG_SIZE_X))\n",
    "plt.imshow(new_array, cmap='gray')\n",
    "plt.show()\n",
    "print(new_array.shape)"
   ]
  },
  {
   "cell_type": "code",
   "execution_count": 8,
   "metadata": {},
   "outputs": [
    {
     "data": {
      "image/png": "[encoded data removed]",
      "text/plain": [
       "<Figure size 432x288 with 1 Axes>"
      ]
     },
     "metadata": {
      "needs_background": "light"
     },
     "output_type": "display_data"
    }
   ],
   "source": [
    "IMG_SIZE_X, IMG_SIZE_Y = 50, 50\n",
    "\n",
    "new_array = cv2.resize(img_array, (IMG_SIZE_Y, IMG_SIZE_X))\n",
    "plt.imshow(new_array, cmap='gray')\n",
    "plt.show()"
   ]
  },
  {
   "cell_type": "code",
   "execution_count": 9,
   "metadata": {},
   "outputs": [],
   "source": [
    "training_data = []"
   ]
  },
  {
   "cell_type": "code",
   "execution_count": 10,
   "metadata": {},
   "outputs": [],
   "source": [
    "def create_training_data():\n",
    "    for category in CATEGORIES:  # do dogs and cats\n",
    "\n",
    "        path = os.path.join(DATADIR,category)  # create path to dogs and cats\n",
    "        class_num = CATEGORIES.index(category)  # get the classification  (0 or a 1). 0=dog 1=cat\n",
    "\n",
    "        for img in tqdm(os.listdir(path)[:1000]):  # iterate over each image per dogs and cats\n",
    "            try:\n",
    "                img_array = cv2.imread(os.path.join(path,img))  # convert to array\n",
    "#                 img_array = cv2.imread(os.path.join(path,img) ,cv2.IMREAD_GRAYSCALE) # convert to array\n",
    "                new_array = cv2.resize(img_array, (IMG_SIZE_Y, IMG_SIZE_X))  # resize to normalize data size\n",
    "#                 path_to_img = os.path.join(path,img)\n",
    "#                 training_data.append([new_array, class_num, path_to_img])  # add this to our training_data\n",
    "                training_data.append([new_array, class_num])  # add this to our training_data\n",
    "            except Exception as e:  # in the interest in keeping the output clean...\n",
    "                pass\n",
    "            #except OSError as e:\n",
    "            #    print(\"OSErrroBad img most likely\", e, os.path.join(path,img))\n",
    "            #except Exception as e:\n",
    "            #    print(\"general exception\", e, os.path.join(path,img))"
   ]
  },
  {
   "cell_type": "code",
   "execution_count": 11,
   "metadata": {},
   "outputs": [
    {
     "name": "stderr",
     "output_type": "stream",
     "text": [
      "100%|██████████| 12780/12780 [00:01<00:00, 6480.88it/s]\n",
      "100%|██████████| 11160/11160 [00:01<00:00, 6609.33it/s]\n",
      "100%|██████████| 9030/9030 [00:01<00:00, 6033.97it/s]\n",
      "100%|██████████| 9945/9945 [00:01<00:00, 6519.78it/s]\n",
      "100%|██████████| 6570/6570 [00:01<00:00, 6050.02it/s]\n",
      "100%|██████████| 5445/5445 [00:00<00:00, 6338.85it/s]\n",
      "100%|██████████| 4770/4770 [00:00<00:00, 6241.21it/s]\n",
      "100%|██████████| 4740/4740 [00:00<00:00, 6369.58it/s]\n",
      "100%|██████████| 9675/9675 [00:01<00:00, 6375.15it/s]\n",
      "100%|██████████| 7395/7395 [00:01<00:00, 5260.39it/s]\n",
      "100%|██████████| 10005/10005 [00:01<00:00, 6277.40it/s]\n",
      "100%|██████████| 6840/6840 [00:01<00:00, 6344.25it/s]\n",
      "100%|██████████| 7320/7320 [00:01<00:00, 6008.02it/s]\n",
      "100%|██████████| 6060/6060 [00:01<00:00, 5725.39it/s]\n",
      "100%|██████████| 7500/7500 [00:01<00:00, 6468.62it/s]\n",
      "100%|██████████| 7350/7350 [00:01<00:00, 6528.40it/s]\n",
      "100%|██████████| 5310/5310 [00:00<00:00, 6468.25it/s]\n",
      "100%|██████████| 6900/6900 [00:01<00:00, 5651.41it/s]\n",
      "100%|██████████| 9840/9840 [00:01<00:00, 5887.67it/s]\n",
      "100%|██████████| 9180/9180 [00:01<00:00, 6372.91it/s]\n",
      "100%|██████████| 8415/8415 [00:01<00:00, 6393.77it/s]\n",
      "100%|██████████| 7260/7260 [00:01<00:00, 5399.22it/s]\n",
      "100%|██████████| 10470/10470 [00:01<00:00, 6481.68it/s]\n",
      "100%|██████████| 8775/8775 [00:01<00:00, 6546.26it/s]\n",
      "100%|██████████| 8070/8070 [00:01<00:00, 5893.49it/s]\n",
      "100%|██████████| 8895/8895 [00:01<00:00, 6399.58it/s]\n",
      "100%|██████████| 9075/9075 [00:01<00:00, 6120.69it/s]\n",
      "100%|██████████| 8760/8760 [00:01<00:00, 6418.83it/s]\n",
      "100%|██████████| 9480/9480 [00:01<00:00, 5735.45it/s]\n",
      "100%|██████████| 1890/1890 [00:00<00:00, 5549.60it/s]\n",
      "100%|██████████| 6465/6465 [00:01<00:00, 6210.23it/s]\n",
      "100%|██████████| 5610/5610 [00:00<00:00, 5916.97it/s]\n",
      "100%|██████████| 8265/8265 [00:01<00:00, 6251.72it/s]\n",
      "100%|██████████| 7515/7515 [00:01<00:00, 6393.40it/s]\n",
      "100%|██████████| 7005/7005 [00:01<00:00, 6407.41it/s]\n",
      "100%|██████████| 4545/4545 [00:00<00:00, 6124.95it/s]\n",
      "100%|██████████| 8385/8385 [00:01<00:00, 5737.08it/s]\n",
      "100%|██████████| 9225/9225 [00:01<00:00, 6378.27it/s]\n",
      "100%|██████████| 9660/9660 [00:01<00:00, 6433.74it/s]\n",
      "100%|██████████| 6090/6090 [00:01<00:00, 5326.58it/s]"
     ]
    },
    {
     "name": "stdout",
     "output_type": "stream",
     "text": [
      "50.91516733169556\n"
     ]
    },
    {
     "name": "stderr",
     "output_type": "stream",
     "text": [
      "\n"
     ]
    }
   ],
   "source": [
    "start = time.time()\n",
    "create_training_data()\n",
    "end = time.time()\n",
    "print(end - start)"
   ]
  },
  {
   "cell_type": "code",
   "execution_count": 63,
   "metadata": {},
   "outputs": [],
   "source": [
    "# print(training_data[0])"
   ]
  },
  {
   "cell_type": "code",
   "execution_count": 12,
   "metadata": {},
   "outputs": [
    {
     "name": "stdout",
     "output_type": "stream",
     "text": [
      "311670\n"
     ]
    }
   ],
   "source": [
    "print(len(training_data))"
   ]
  },
  {
   "cell_type": "code",
   "execution_count": 13,
   "metadata": {},
   "outputs": [],
   "source": [
    "import random"
   ]
  },
  {
   "cell_type": "code",
   "execution_count": 14,
   "metadata": {},
   "outputs": [],
   "source": [
    "random.shuffle(training_data)"
   ]
  },
  {
   "cell_type": "code",
   "execution_count": 15,
   "metadata": {},
   "outputs": [
    {
     "name": "stdout",
     "output_type": "stream",
     "text": [
      "37\n",
      "38\n",
      "15\n",
      "3\n",
      "9\n",
      "25\n",
      "37\n",
      "27\n",
      "2\n",
      "22\n"
     ]
    }
   ],
   "source": [
    "for sample in training_data[:10]:\n",
    "    print(sample[1])"
   ]
  },
  {
   "cell_type": "code",
   "execution_count": 16,
   "metadata": {},
   "outputs": [],
   "source": [
    "X = []\n",
    "Y = []\n",
    "# Z = []"
   ]
  },
  {
   "cell_type": "code",
   "execution_count": 17,
   "metadata": {},
   "outputs": [],
   "source": [
    "for features,label in training_data:\n",
    "    X.append(features)\n",
    "    Y.append(label)\n",
    "    \n",
    "# for features,label, path in training_data:\n",
    "#     X.append(features)\n",
    "#     Y.append(label)\n",
    "#     Z.append(path)"
   ]
  },
  {
   "cell_type": "code",
   "execution_count": 18,
   "metadata": {},
   "outputs": [
    {
     "name": "stdout",
     "output_type": "stream",
     "text": [
      "(50, 50)\n"
     ]
    }
   ],
   "source": [
    "print(X[0].shape)"
   ]
  },
  {
   "cell_type": "code",
   "execution_count": 21,
   "metadata": {},
   "outputs": [],
   "source": [
    "# print(X[0].reshape(-1, IMG_SIZE, IMG_SIZE, 1))"
   ]
  },
  {
   "cell_type": "code",
   "execution_count": 19,
   "metadata": {},
   "outputs": [],
   "source": [
    "X = np.array(X).reshape(-1, IMG_SIZE_Y, IMG_SIZE_X, 1)"
   ]
  },
  {
   "cell_type": "code",
   "execution_count": 20,
   "metadata": {},
   "outputs": [
    {
     "name": "stdout",
     "output_type": "stream",
     "text": [
      "<class 'numpy.ndarray'>\n",
      "[[[186]\n",
      "  [195]\n",
      "  [195]\n",
      "  ...\n",
      "  [189]\n",
      "  [176]\n",
      "  [190]]\n",
      "\n",
      " [[192]\n",
      "  [186]\n",
      "  [169]\n",
      "  ...\n",
      "  [181]\n",
      "  [203]\n",
      "  [175]]\n",
      "\n",
      " [[195]\n",
      "  [199]\n",
      "  [188]\n",
      "  ...\n",
      "  [194]\n",
      "  [183]\n",
      "  [193]]\n",
      "\n",
      " ...\n",
      "\n",
      " [[196]\n",
      "  [191]\n",
      "  [174]\n",
      "  ...\n",
      "  [194]\n",
      "  [189]\n",
      "  [178]]\n",
      "\n",
      " [[199]\n",
      "  [199]\n",
      "  [185]\n",
      "  ...\n",
      "  [199]\n",
      "  [196]\n",
      "  [190]]\n",
      "\n",
      " [[170]\n",
      "  [192]\n",
      "  [186]\n",
      "  ...\n",
      "  [200]\n",
      "  [189]\n",
      "  [194]]]\n"
     ]
    }
   ],
   "source": [
    "print(type(X))\n",
    "print(X[0])"
   ]
  },
  {
   "cell_type": "code",
   "execution_count": 59,
   "metadata": {},
   "outputs": [],
   "source": [
    "# import pickle"
   ]
  },
  {
   "cell_type": "code",
   "execution_count": 21,
   "metadata": {},
   "outputs": [
    {
     "data": {
      "text/plain": [
       "['trained_data/X_car_logos_more.sav']"
      ]
     },
     "execution_count": 21,
     "metadata": {},
     "output_type": "execute_result"
    }
   ],
   "source": [
    "# pickle_out = open(\"trained_data/X_to_E_DI_PA.pickle\",\"wb\")\n",
    "# pickle.dump(X, pickle_out)\n",
    "# pickle_out.close()\n",
    "\n",
    "filename = 'trained_data/X_car_logos_more.sav'\n",
    "joblib.dump(X, filename)"
   ]
  },
  {
   "cell_type": "code",
   "execution_count": 22,
   "metadata": {},
   "outputs": [
    {
     "data": {
      "text/plain": [
       "['trained_data/Y_car_logos_more.sav']"
      ]
     },
     "execution_count": 22,
     "metadata": {},
     "output_type": "execute_result"
    }
   ],
   "source": [
    "# pickle_out = open(\"trained_data/X_to_E_DI_PA.pickle\",\"wb\")\n",
    "# pickle.dump(X, pickle_out)\n",
    "# pickle_out.close()\n",
    "\n",
    "filename = 'trained_data/Y_car_logos_more.sav'\n",
    "joblib.dump(Y, filename)"
   ]
  },
  {
   "cell_type": "code",
   "execution_count": 22,
   "metadata": {},
   "outputs": [],
   "source": [
    "filename = 'trained_data/X_CLP_SYMBOLS_NEW.sav'\n",
    "loaded_X = joblib.load(filename)\n",
    "filename = 'trained_data/Y_CLP_SYMBOLS_NEW.sav'\n",
    "loaded_Y = joblib.load(filename)"
   ]
  },
  {
   "cell_type": "code",
   "execution_count": 23,
   "metadata": {},
   "outputs": [
    {
     "name": "stdout",
     "output_type": "stream",
     "text": [
      "11 (В)\n",
      "(50, 50, 1)\n",
      "<class 'numpy.ndarray'>\n"
     ]
    }
   ],
   "source": [
    "index = 4\n",
    "# plt.imshow(loaded_X[index])\n",
    "print(f'{loaded_Y[index]} ({CATEGORIES[loaded_Y[index]]})' )\n",
    "print(loaded_X[index].shape)\n",
    "print(type(loaded_X[index]))"
   ]
  },
  {
   "cell_type": "code",
   "execution_count": 58,
   "metadata": {},
   "outputs": [
    {
     "data": {
      "text/plain": [
       "['trained_data/to_test/X_CLP_SYMBOLS_test_30x30.sav']"
      ]
     },
     "execution_count": 58,
     "metadata": {},
     "output_type": "execute_result"
    }
   ],
   "source": [
    "filename = 'trained_data/to_test/X_CLP_SYMBOLS_test_30x30.sav'\n",
    "joblib.dump(X, filename)"
   ]
  },
  {
   "cell_type": "code",
   "execution_count": 59,
   "metadata": {},
   "outputs": [
    {
     "data": {
      "text/plain": [
       "['trained_data/to_test/Y_CLP_SYMBOLS_test_30x30.sav']"
      ]
     },
     "execution_count": 59,
     "metadata": {},
     "output_type": "execute_result"
    }
   ],
   "source": [
    "filename = 'trained_data/to_test/Y_CLP_SYMBOLS_test_30x30.sav'\n",
    "joblib.dump(Y, filename)"
   ]
  },
  {
   "cell_type": "code",
   "execution_count": 60,
   "metadata": {},
   "outputs": [
    {
     "data": {
      "text/plain": [
       "['trained_data/to_test/Z_CLP_SYMBOLS_test_30x30.sav']"
      ]
     },
     "execution_count": 60,
     "metadata": {},
     "output_type": "execute_result"
    }
   ],
   "source": [
    "filename = 'trained_data/to_test/Z_CLP_SYMBOLS_test_30x30.sav'\n",
    "joblib.dump(Z, filename)"
   ]
  }
 ],
 "metadata": {
  "kernelspec": {
   "display_name": "Python 3",
   "language": "python",
   "name": "python3"
  },
  "language_info": {
   "codemirror_mode": {
    "name": "ipython",
    "version": 3
   },
   "file_extension": ".py",
   "mimetype": "text/x-python",
   "name": "python",
   "nbconvert_exporter": "python",
   "pygments_lexer": "ipython3",
   "version": "3.6.7"
  }
 },
 "nbformat": 4,
 "nbformat_minor": 2
}
