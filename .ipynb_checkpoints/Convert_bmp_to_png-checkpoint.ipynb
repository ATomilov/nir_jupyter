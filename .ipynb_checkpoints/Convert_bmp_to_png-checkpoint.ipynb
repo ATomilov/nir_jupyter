{
 "cells": [
  {
   "cell_type": "code",
   "execution_count": 1,
   "metadata": {},
   "outputs": [],
   "source": [
    "import tensorflow as tf\n",
    "import matplotlib\n",
    "import matplotlib.pyplot as plt\n",
    "import matplotlib.image as mpimg\n",
    "import matplotlib.gridspec as gridspec\n",
    "import numpy as np\n",
    "import os\n",
    "import cv2\n",
    "from PIL import Image\n",
    "from math import floor, ceil, pi\n",
    "from glob import glob\n",
    "import time"
   ]
  },
  {
   "cell_type": "code",
   "execution_count": 2,
   "metadata": {},
   "outputs": [],
   "source": [
    "def convert_image_format(images_folder, needed_format):\n",
    "    images = glob(images_folder)\n",
    "    for j in images:\n",
    "        img = cv2.imread(j)\n",
    "        cv2.imwrite(j[:-3] + needed_format, img)\n",
    "        \n",
    "# convert_image_format('im_base_to_angle/started_state/val/*.bmp', 'png')\n",
    "# print(images)"
   ]
  },
  {
   "cell_type": "code",
   "execution_count": 15,
   "metadata": {},
   "outputs": [],
   "source": [
    "directories = [x[0] for x in os.walk(\"/home/apofeo/Documents/symbols\")]"
   ]
  },
  {
   "cell_type": "code",
   "execution_count": 24,
   "metadata": {},
   "outputs": [
    {
     "name": "stdout",
     "output_type": "stream",
     "text": [
      "['/home/apofeo/Documents/symbols/4', '/home/apofeo/Documents/symbols/Х', '/home/apofeo/Documents/symbols/1', '/home/apofeo/Documents/symbols/М', '/home/apofeo/Documents/symbols/8', '/home/apofeo/Documents/symbols/Е', '/home/apofeo/Documents/symbols/3', '/home/apofeo/Documents/symbols/Т', '/home/apofeo/Documents/symbols/С', '/home/apofeo/Documents/symbols/К', '/home/apofeo/Documents/symbols/В', '/home/apofeo/Documents/symbols/6', '/home/apofeo/Documents/symbols/2', '/home/apofeo/Documents/symbols/А', '/home/apofeo/Documents/symbols/У', '/home/apofeo/Documents/symbols/5', '/home/apofeo/Documents/symbols/Н', '/home/apofeo/Documents/symbols/Р', '/home/apofeo/Documents/symbols/0', '/home/apofeo/Documents/symbols/9', '/home/apofeo/Documents/symbols/7', '/home/apofeo/Documents/symbols/О']\n",
      "22\n"
     ]
    }
   ],
   "source": [
    "print(directories[1:])\n",
    "print(len(directories[1:]))"
   ]
  },
  {
   "cell_type": "code",
   "execution_count": 28,
   "metadata": {},
   "outputs": [],
   "source": [
    "# print(glob(directories[2]+\"/*.bmp\"))"
   ]
  },
  {
   "cell_type": "code",
   "execution_count": 25,
   "metadata": {},
   "outputs": [],
   "source": [
    "for directory in directories:\n",
    "    convert_image_format(directory + \"/*.bmp\", \"png\")"
   ]
  },
  {
   "cell_type": "code",
   "execution_count": 29,
   "metadata": {},
   "outputs": [],
   "source": [
    "for directory in directories:\n",
    "    for file in glob(directory + \"/*.bmp\"):\n",
    "        os.remove(file)    "
   ]
  },
  {
   "cell_type": "code",
   "execution_count": 38,
   "metadata": {},
   "outputs": [
    {
     "name": "stdout",
     "output_type": "stream",
     "text": [
      "/home/apofeo/Documents/symbols/0\n"
     ]
    }
   ],
   "source": [
    "directory_zero = directories[19]\n",
    "print(directory_zero)"
   ]
  },
  {
   "cell_type": "code",
   "execution_count": 39,
   "metadata": {},
   "outputs": [
    {
     "name": "stdout",
     "output_type": "stream",
     "text": [
      "/home/apofeo/Documents/symbols/О\n"
     ]
    }
   ],
   "source": [
    "directory_o = directories[22]\n",
    "print(directory_o)"
   ]
  },
  {
   "cell_type": "code",
   "execution_count": 52,
   "metadata": {},
   "outputs": [],
   "source": [
    "# for img_zero in glob(directory_zero + \"/*.png\"):\n",
    "#     for img_o in glob(directory_o + \"/*.png\"):\n",
    "#         if (img_zero.split(\"/\")[-1] in img_o):\n",
    "#             os.remove(directory_o + \"/\" + img_zero.split(\"/\")[-1])"
   ]
  },
  {
   "cell_type": "code",
   "execution_count": 49,
   "metadata": {},
   "outputs": [
    {
     "name": "stdout",
     "output_type": "stream",
     "text": [
      "29.png\n",
      "1066.png\n",
      "458.png\n",
      "770.png\n",
      "994.png\n",
      "262.png\n",
      "437.png\n",
      "1055.png\n",
      "1037.png\n",
      "80.png\n"
     ]
    }
   ],
   "source": [
    "for img_zero in glob(directory_zero + \"/*.png\")[:10]:\n",
    "    print(img_zero.split(\"/\")[-1])"
   ]
  },
  {
   "cell_type": "code",
   "execution_count": 45,
   "metadata": {},
   "outputs": [],
   "source": [
    "# print(glob(directory_zero + \"/*.png\"))"
   ]
  },
  {
   "cell_type": "code",
   "execution_count": 42,
   "metadata": {},
   "outputs": [
    {
     "name": "stdout",
     "output_type": "stream",
     "text": [
      "0 /home/apofeo/Documents/symbols\n",
      "1 /home/apofeo/Documents/symbols/4\n",
      "2 /home/apofeo/Documents/symbols/Х\n",
      "3 /home/apofeo/Documents/symbols/1\n",
      "4 /home/apofeo/Documents/symbols/М\n",
      "5 /home/apofeo/Documents/symbols/8\n",
      "6 /home/apofeo/Documents/symbols/Е\n",
      "7 /home/apofeo/Documents/symbols/3\n",
      "8 /home/apofeo/Documents/symbols/Т\n",
      "9 /home/apofeo/Documents/symbols/С\n",
      "10 /home/apofeo/Documents/symbols/К\n",
      "11 /home/apofeo/Documents/symbols/В\n",
      "12 /home/apofeo/Documents/symbols/6\n",
      "13 /home/apofeo/Documents/symbols/2\n",
      "14 /home/apofeo/Documents/symbols/А\n",
      "15 /home/apofeo/Documents/symbols/У\n",
      "16 /home/apofeo/Documents/symbols/5\n",
      "17 /home/apofeo/Documents/symbols/Н\n",
      "18 /home/apofeo/Documents/symbols/Р\n",
      "19 /home/apofeo/Documents/symbols/0\n",
      "20 /home/apofeo/Documents/symbols/9\n",
      "21 /home/apofeo/Documents/symbols/7\n",
      "22 /home/apofeo/Documents/symbols/О\n"
     ]
    }
   ],
   "source": [
    "for idx, folder in enumerate(directories):\n",
    "    print(idx, folder)"
   ]
  },
  {
   "cell_type": "code",
   "execution_count": null,
   "metadata": {},
   "outputs": [],
   "source": [
    "# convert_image_format('im_base_to_angle/started_state/val/*.bmp', 'png')\n",
    "# print(images)"
   ]
  }
 ],
 "metadata": {
  "kernelspec": {
   "display_name": "Python 3",
   "language": "python",
   "name": "python3"
  },
  "language_info": {
   "codemirror_mode": {
    "name": "ipython",
    "version": 3
   },
   "file_extension": ".py",
   "mimetype": "text/x-python",
   "name": "python",
   "nbconvert_exporter": "python",
   "pygments_lexer": "ipython3",
   "version": "3.6.7"
  }
 },
 "nbformat": 4,
 "nbformat_minor": 2
}
