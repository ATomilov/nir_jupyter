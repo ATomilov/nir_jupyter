{
 "cells": [
  {
   "cell_type": "code",
   "execution_count": 1,
   "metadata": {},
   "outputs": [],
   "source": [
    "import tensorflow as tf\n",
    "import matplotlib\n",
    "import matplotlib.pyplot as plt\n",
    "import matplotlib.image as mpimg\n",
    "import matplotlib.gridspec as gridspec\n",
    "import numpy as np\n",
    "import os\n",
    "import cv2\n",
    "import imutils\n",
    "import time\n",
    "import uuid\n",
    "import random\n",
    "from scipy import ndimage\n",
    "from PIL import Image\n",
    "from math import floor, ceil, pi\n",
    "from glob import glob"
   ]
  },
  {
   "cell_type": "code",
   "execution_count": 7,
   "metadata": {},
   "outputs": [],
   "source": [
    "def rotate_bound_2(image, angle):\n",
    "    # grab the dimensions of the image and then determine the\n",
    "    # center\n",
    "    (h, w) = image.shape[:2]\n",
    "    (cX, cY) = (w // 2, h // 2)\n",
    " \n",
    "    # grab the rotation matrix (applying the negative of the\n",
    "    # angle to rotate clockwise), then grab the sine and cosine\n",
    "    # (i.e., the rotation components of the matrix)\n",
    "    M = cv2.getRotationMatrix2D((cX, cY), angle, 1.0)\n",
    "    cos = np.abs(M[0, 0])\n",
    "    sin = np.abs(M[0, 1])\n",
    " \n",
    "    # compute the new bounding dimensions of the image\n",
    "    nW = int((h * sin) + (w * cos))\n",
    "    nH = int((h * cos) + (w * sin))\n",
    " \n",
    "    # adjust the rotation matrix to take into account translation\n",
    "    M[0, 2] += (nW / 2) - cX\n",
    "    M[1, 2] += (nH / 2) - cY\n",
    " \n",
    "    # perform the actual rotation and return the image\n",
    "    return cv2.warpAffine(image, M, (nW, nH))"
   ]
  },
  {
   "cell_type": "code",
   "execution_count": 2,
   "metadata": {},
   "outputs": [],
   "source": [
    "def get_image_paths(folder):\n",
    "    files = os.listdir(folder)\n",
    "    files.sort()\n",
    "    files = ['{}/{}'.format(folder, file) for file in files]\n",
    "    return files"
   ]
  },
  {
   "cell_type": "code",
   "execution_count": 3,
   "metadata": {},
   "outputs": [],
   "source": [
    "imgs_background = get_image_paths('/home/apofeo/Documents/testSet_full')\n",
    "imgs_clp = get_image_paths('def_base/anpr_ocr/anpr_ocr__train/img')"
   ]
  },
  {
   "cell_type": "code",
   "execution_count": 4,
   "metadata": {},
   "outputs": [
    {
     "name": "stdout",
     "output_type": "stream",
     "text": [
      "41000\n"
     ]
    }
   ],
   "source": [
    "print(len(imgs_background))"
   ]
  },
  {
   "cell_type": "code",
   "execution_count": 5,
   "metadata": {},
   "outputs": [],
   "source": [
    "IMG_SIZE = 200"
   ]
  },
  {
   "cell_type": "code",
   "execution_count": 17,
   "metadata": {},
   "outputs": [],
   "source": [
    "s_img = cv2.imread(imgs_clp[1])\n",
    "s_img = cv2.cvtColor(s_img, cv2.COLOR_RGB2RGBA)\n",
    "# s_img = cv2.resize(s_img, (IMG_SIZE, IMG_SIZE))\n",
    "s_img = ndimage.rotate(s_img, 135, reshape=True)\n",
    "l_img = cv2.imread(imgs_background[29189])\n",
    "l_img = cv2.resize(l_img, (IMG_SIZE, IMG_SIZE))\n",
    "y_offset, x_offset = 0, 0\n",
    "# x_offset=s_img.shape[0]//6\n",
    "# y_offset=s_img.shape[1]//6\n",
    "# s_img = cv2.imread(\"smaller_image.png\", -1)\n",
    "\n",
    "# cv2.imshow('l_img', l_img)\n",
    "# cv2.waitKey(0)\n",
    "# # [display]\n",
    "# cv2.destroyAllWindows()\n",
    "\n",
    "y1, y2 = y_offset, y_offset + s_img.shape[0]\n",
    "x1, x2 = x_offset, x_offset + s_img.shape[1]\n",
    "\n",
    "alpha_s = s_img[:, :, 3] / 255.0\n",
    "alpha_l = 1.0 - alpha_s\n",
    "\n",
    "for c in range(0, 3):\n",
    "    l_img[y1:y2, x1:x2, c] = (alpha_s * s_img[:, :, c] +\n",
    "                              alpha_l * l_img[y1:y2, x1:x2, c])\n",
    "\n",
    "crop_l_img = l_img[y1:y2, x1:x2]\n",
    "cv2.imshow('l_img', crop_l_img)\n",
    "cv2.waitKey(0)\n",
    "# [display]\n",
    "cv2.destroyAllWindows()"
   ]
  },
  {
   "cell_type": "code",
   "execution_count": null,
   "metadata": {},
   "outputs": [],
   "source": [
    "# IMG_SIZE = 200\n",
    "# for idx, each_img in enumerate(imgs_clp[:150]):\n",
    "#     img_clp = cv2.imread(each_img, -1)\n",
    "#     img_clp = cv2.cvtColor(img_clp, cv2.COLOR_RGB2RGBA)\n",
    "    \n",
    "#     for i in range(1, 361):\n",
    "#         filename = uuid.uuid4().hex\n",
    "#         background_index = random.randint(1,41001)\n",
    "#         x_divider = random.randint(3,7)\n",
    "#         y_divider = random.randint(3,7)\n",
    "#         rotated = rotate_bound_2(img_clp, i)\n",
    "#         img_background = cv2.imread(imgs_background[background_index], -1)\n",
    "# #         img_background = cv2.cvtColor(img_background, cv2.COLOR_RGB2RGBA)\n",
    "#         img_background = cv2.resize(img_background, (IMG_SIZE, IMG_SIZE))\n",
    "        \n",
    "#         x_offset=rotated.shape[0]//x_divider\n",
    "#         y_offset=rotated.shape[1]//y_divider\n",
    "        \n",
    "#         img_background_edited = overlay_image_alpha(img_background,\n",
    "#                         rotated[:, :, 0:3],\n",
    "#                         (x_offset, y_offset),\n",
    "#                         rotated[:, :, 3] / 255.0)\n",
    "        \n",
    "# #         img_background[y_offset:y_offset+rotated.shape[0], x_offset:x_offset+rotated.shape[1]] = rotated\n",
    "        \n",
    "#         if not os.path.exists(f'/home/apofeo/Documents/clp_rotated/train/{i}'):\n",
    "#             os.makedirs(f'/home/apofeo/Documents/clp_rotated/train/{i}')\n",
    "#         cv2.imwrite(f'/home/apofeo/Documents/clp_rotated/train/{i}/{filename}.png', img_background_edited)\n",
    "        "
   ]
  },
  {
   "cell_type": "code",
   "execution_count": 7,
   "metadata": {},
   "outputs": [],
   "source": [
    "import numpy as np\n",
    "import cv2\n",
    "def add_gaussian_noise(img, mean, var):\n",
    "    img = img\n",
    "    mean = mean\n",
    "    var = var\n",
    "    sigma = var ** 0.5\n",
    "    gaussian = np.random.normal(mean, sigma, (img.shape[0],img.shape[1]))\n",
    "\n",
    "    noisy_image = np.zeros(img.shape, np.float32)\n",
    "\n",
    "    if len(img.shape) == 2:\n",
    "        noisy_image = img + gaussian\n",
    "    else:\n",
    "        noisy_image[:, :, 0] = img[:, :, 0] + gaussian\n",
    "        noisy_image[:, :, 1] = img[:, :, 1] + gaussian\n",
    "        noisy_image[:, :, 2] = img[:, :, 2] + gaussian\n",
    "\n",
    "    cv2.normalize(noisy_image, noisy_image, 0, 255, cv2.NORM_MINMAX, dtype=-1)\n",
    "    noisy_image = noisy_image.astype(np.uint8)\n",
    "    return noisy_image\n",
    "\n",
    "# cv2.imshow('l_img', add_gaussian_noise(l_img,50,500))\n",
    "# cv2.waitKey(0)\n",
    "# # [display]\n",
    "# cv2.destroyAllWindows()"
   ]
  },
  {
   "cell_type": "code",
   "execution_count": 36,
   "metadata": {},
   "outputs": [],
   "source": [
    "# def overlay_image_alpha(img, img_overlay, pos, alpha_mask):\n",
    "#     \"\"\"Overlay img_overlay on top of img at the position specified by\n",
    "#     pos and blend using alpha_mask.\n",
    "\n",
    "#     Alpha mask must contain values within the range [0, 1] and be the\n",
    "#     same size as img_overlay.\n",
    "#     \"\"\"\n",
    "\n",
    "#     x, y = pos\n",
    "\n",
    "#     # Image ranges\n",
    "#     y1, y2 = max(0, y), min(img.shape[0], y + img_overlay.shape[0])\n",
    "#     x1, x2 = max(0, x), min(img.shape[1], x + img_overlay.shape[1])\n",
    "\n",
    "#     # Overlay ranges\n",
    "#     y1o, y2o = max(0, -y), min(img_overlay.shape[0], img.shape[0] - y)\n",
    "#     x1o, x2o = max(0, -x), min(img_overlay.shape[1], img.shape[1] - x)\n",
    "\n",
    "#     # Exit if nothing to do\n",
    "#     if y1 >= y2 or x1 >= x2 or y1o >= y2o or x1o >= x2o:\n",
    "#         return\n",
    "\n",
    "#     channels = img.shape[2]\n",
    "\n",
    "#     alpha = alpha_mask[y1o:y2o, x1o:x2o]\n",
    "#     alpha_inv = 1.0 - alpha\n",
    "\n",
    "#     for c in range(channels):\n",
    "#         img[y1:y2, x1:x2, c] = (alpha * img_overlay[y1o:y2o, x1o:x2o, c] +\n",
    "#                                 alpha_inv * img[y1:y2, x1:x2, c])\n",
    "    \n",
    "#     return img\n",
    "\n",
    "# #     cv2.imshow('img', img)\n",
    "# #     cv2.waitKey(0)\n",
    "# #     # [display]\n",
    "# #     cv2.destroyAllWindows()"
   ]
  },
  {
   "cell_type": "code",
   "execution_count": 28,
   "metadata": {},
   "outputs": [],
   "source": [
    "# s_img = cv2.imread(imgs_clp[0], -1)\n",
    "# s_img = cv2.cvtColor(s_img, cv2.COLOR_RGB2RGBA)\n",
    "# s_img = rotate_bound_2(s_img, 45)\n",
    "# l_img = cv2.imread(imgs_background[0], -1)\n",
    "# l_img = cv2.resize(l_img, (IMG_SIZE, IMG_SIZE))\n",
    "\n",
    "# x_offset=s_img.shape[0]//6\n",
    "# y_offset=s_img.shape[1]//6\n",
    "\n",
    "# img2 = overlay_image_alpha(l_img,\n",
    "#                     s_img[:, :, 0:3],\n",
    "#                     (x_offset, y_offset),\n",
    "#                     s_img[:, :, 3] / 255.0)\n",
    "# img2 = add_gaussian_noise(img2,50,3000)\n",
    "# cv2.imshow('img2', img2)\n",
    "# cv2.waitKey(0)\n",
    "# # [display]\n",
    "# cv2.destroyAllWindows()"
   ]
  },
  {
   "cell_type": "markdown",
   "metadata": {},
   "source": [
    "#### Version 1"
   ]
  },
  {
   "cell_type": "code",
   "execution_count": null,
   "metadata": {},
   "outputs": [],
   "source": [
    "start = time.time()\n",
    "\n",
    "IMG_SIZE = 200\n",
    "for idx, each_img in enumerate(imgs_clp[:150]):\n",
    "    img_clp = cv2.imread(each_img)\n",
    "    img_clp = cv2.cvtColor(img_clp, cv2.COLOR_RGB2RGBA)\n",
    "    \n",
    "    for i in range(1, 361):\n",
    "        filename = uuid.uuid4().hex\n",
    "        background_index = random.randrange(0,41000,1)\n",
    "        x_divider = random.randint(3,7)\n",
    "        y_divider = random.randint(3,7)\n",
    "        noise_var = random.randrange(100,505,5)\n",
    "        rotated = rotate_bound_2(img_clp, i)\n",
    "        img_background = cv2.imread(imgs_background[background_index])\n",
    "        img_background = cv2.resize(img_background, (IMG_SIZE, IMG_SIZE))\n",
    "        \n",
    "        x_offset=rotated.shape[0]//x_divider\n",
    "        y_offset=rotated.shape[1]//y_divider\n",
    "        \n",
    "        y1, y2 = y_offset, y_offset + rotated.shape[0]\n",
    "        x1, x2 = x_offset, x_offset + rotated.shape[1]\n",
    "\n",
    "        alpha_s = rotated[:, :, 3] / 255.0\n",
    "        alpha_l = 1.0 - alpha_s\n",
    "        try:\n",
    "            for c in range(0, 3):\n",
    "                img_background[y1:y2, x1:x2, c] = (alpha_s * rotated[:, :, c] +\n",
    "                                      alpha_l * img_background[y1:y2, x1:x2, c])\n",
    "        except Exception:\n",
    "            print(f'background_index = {background_index}, angle = {i}, idx = {idx}')\n",
    "        \n",
    "#         img_background[y_offset:y_offset+rotated.shape[0], x_offset:x_offset+rotated.shape[1]] = rotated\n",
    "        img_backgr_noise = add_gaussian_noise(img_background,50,noise_var)\n",
    "    \n",
    "        if not os.path.exists(f'/home/apofeo/Documents/clp_rotated/train/{i}'):\n",
    "            os.makedirs(f'/home/apofeo/Documents/clp_rotated/train/{i}')\n",
    "        cv2.imwrite(f'/home/apofeo/Documents/clp_rotated/train/{i}/{filename}.png', img_backgr_noise)\n",
    "\n",
    "end = time.time()\n",
    "print(end - start)"
   ]
  },
  {
   "cell_type": "markdown",
   "metadata": {},
   "source": [
    "#### Don't delete under this cell"
   ]
  },
  {
   "cell_type": "raw",
   "metadata": {},
   "source": [
    "2340.006119966507 (150)\n",
    "3742.4679622650146 (150) 2804.472089290619 (100)\n",
    "2431.4302418231964 (150) 1879.8535912036896 (100)"
   ]
  },
  {
   "cell_type": "markdown",
   "metadata": {},
   "source": [
    "#### Version 2"
   ]
  },
  {
   "cell_type": "code",
   "execution_count": 8,
   "metadata": {},
   "outputs": [
    {
     "name": "stdout",
     "output_type": "stream",
     "text": [
      "2804.472089290619\n"
     ]
    }
   ],
   "source": [
    "start = time.time()\n",
    "\n",
    "IMG_SIZE = 200\n",
    "for idx, each_img in enumerate(imgs_clp[:100]):\n",
    "    img_clp = cv2.imread(each_img)\n",
    "    img_clp = cv2.cvtColor(img_clp, cv2.COLOR_RGB2RGBA)\n",
    "    img_clp = cv2.resize(img_clp, (IMG_SIZE, IMG_SIZE))\n",
    "    \n",
    "    for i in range(1, 361):\n",
    "        filename = uuid.uuid4().hex\n",
    "        background_index = random.randrange(0,41000,1)\n",
    "        noise_var = random.randrange(100,505,5)\n",
    "        rotated = ndimage.rotate(img_clp, i, reshape=False)\n",
    "        img_background = cv2.imread(imgs_background[background_index])\n",
    "        img_background = cv2.resize(img_background, (IMG_SIZE, IMG_SIZE))\n",
    "        \n",
    "        x_offset, y_offset = 0, 0\n",
    "        \n",
    "        y1, y2 = y_offset, y_offset + rotated.shape[0]\n",
    "        x1, x2 = x_offset, x_offset + rotated.shape[1]\n",
    "\n",
    "        alpha_s = rotated[:, :, 3] / 255.0\n",
    "        alpha_l = 1.0 - alpha_s\n",
    "        try:\n",
    "            for c in range(0, 3):\n",
    "                img_background[y1:y2, x1:x2, c] = (alpha_s * rotated[:, :, c] +\n",
    "                                      alpha_l * img_background[y1:y2, x1:x2, c])\n",
    "        except Exception:\n",
    "            print(f'background_index = {background_index}, angle = {i}, idx = {idx}')\n",
    "        \n",
    "#         img_background[y_offset:y_offset+rotated.shape[0], x_offset:x_offset+rotated.shape[1]] = rotated\n",
    "        img_backgr_noise = add_gaussian_noise(img_background,50,noise_var)\n",
    "    \n",
    "        if not os.path.exists(f'/home/apofeo/Documents/clp_rotated_v4/train/{i}'):\n",
    "            os.makedirs(f'/home/apofeo/Documents/clp_rotated_v4/train/{i}')\n",
    "        cv2.imwrite(f'/home/apofeo/Documents/clp_rotated_v4/train/{i}/{filename}.png', img_backgr_noise)\n",
    "\n",
    "end = time.time()\n",
    "print(end - start)"
   ]
  },
  {
   "cell_type": "markdown",
   "metadata": {},
   "source": [
    "#### Version 3"
   ]
  },
  {
   "cell_type": "code",
   "execution_count": 9,
   "metadata": {},
   "outputs": [
    {
     "name": "stdout",
     "output_type": "stream",
     "text": [
      "1879.8535912036896\n"
     ]
    }
   ],
   "source": [
    "start = time.time()\n",
    "\n",
    "IMG_SIZE = 200\n",
    "for idx, each_img in enumerate(imgs_clp[:100]):\n",
    "    img_clp = cv2.imread(each_img)\n",
    "    img_clp = cv2.cvtColor(img_clp, cv2.COLOR_RGB2RGBA)\n",
    "    \n",
    "    for i in range(1, 361):\n",
    "        filename = uuid.uuid4().hex\n",
    "        background_index = random.randrange(0,41000,1)\n",
    "        noise_var = random.randrange(100,505,5)\n",
    "        rotated = ndimage.rotate(img_clp, i, reshape=True)\n",
    "        img_background = cv2.imread(imgs_background[background_index])\n",
    "        img_background = cv2.resize(img_background, (IMG_SIZE, IMG_SIZE))\n",
    "        \n",
    "        x_offset, y_offset = 0, 0\n",
    "        \n",
    "        y1, y2 = y_offset, y_offset + rotated.shape[0]\n",
    "        x1, x2 = x_offset, x_offset + rotated.shape[1]\n",
    "\n",
    "        alpha_s = rotated[:, :, 3] / 255.0\n",
    "        alpha_l = 1.0 - alpha_s\n",
    "        try:\n",
    "            for c in range(0, 3):\n",
    "                img_background[y1:y2, x1:x2, c] = (alpha_s * rotated[:, :, c] +\n",
    "                                      alpha_l * img_background[y1:y2, x1:x2, c])\n",
    "        except Exception:\n",
    "            print(f'background_index = {background_index}, angle = {i}, idx = {idx}')\n",
    "        \n",
    "#         img_background[y_offset:y_offset+rotated.shape[0], x_offset:x_offset+rotated.shape[1]] = rotated\n",
    "        img_backgr_noise = add_gaussian_noise(img_background,50,noise_var)\n",
    "        crop_img_backgr_noise = img_backgr_noise[y1:y2, x1:x2]\n",
    "    \n",
    "        if not os.path.exists(f'/home/apofeo/Documents/clp_rotated_v5/train/{i}'):\n",
    "            os.makedirs(f'/home/apofeo/Documents/clp_rotated_v5/train/{i}')\n",
    "        cv2.imwrite(f'/home/apofeo/Documents/clp_rotated_v5/train/{i}/{filename}.png', crop_img_backgr_noise)\n",
    "\n",
    "end = time.time()\n",
    "print(end - start)"
   ]
  }
 ],
 "metadata": {
  "kernelspec": {
   "display_name": "Python 3",
   "language": "python",
   "name": "python3"
  },
  "language_info": {
   "codemirror_mode": {
    "name": "ipython",
    "version": 3
   },
   "file_extension": ".py",
   "mimetype": "text/x-python",
   "name": "python",
   "nbconvert_exporter": "python",
   "pygments_lexer": "ipython3",
   "version": "3.6.7"
  }
 },
 "nbformat": 4,
 "nbformat_minor": 2
}
