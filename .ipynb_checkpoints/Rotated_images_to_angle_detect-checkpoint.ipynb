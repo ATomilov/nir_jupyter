{
 "cells": [
  {
   "cell_type": "code",
   "execution_count": 5,
   "metadata": {},
   "outputs": [],
   "source": [
    "import tensorflow as tf\n",
    "import matplotlib\n",
    "import matplotlib.pyplot as plt\n",
    "import matplotlib.image as mpimg\n",
    "import matplotlib.gridspec as gridspec\n",
    "import numpy as np\n",
    "import os\n",
    "import cv2\n",
    "from PIL import Image\n",
    "from math import floor, ceil, pi\n",
    "from glob import glob\n",
    "import time\n",
    "import uuid"
   ]
  },
  {
   "cell_type": "code",
   "execution_count": 2,
   "metadata": {},
   "outputs": [],
   "source": [
    "def get_image_paths(folder):\n",
    "    files = os.listdir(folder)\n",
    "    files.sort()\n",
    "    files = ['{}/{}'.format(folder, file) for file in files]\n",
    "    return files"
   ]
  },
  {
   "cell_type": "code",
   "execution_count": 3,
   "metadata": {},
   "outputs": [
    {
     "name": "stdout",
     "output_type": "stream",
     "text": [
      "['im_base_to_angle', 'resized', 'train', '10_resized.png']\n",
      "10_resized\n",
      "['im_base_to_angle/resized/train/10_resized.png', 'im_base_to_angle/resized/train/11_resized.png', 'im_base_to_angle/resized/train/12_resized.png', 'im_base_to_angle/resized/train/13_resized.png', 'im_base_to_angle/resized/train/14_resized.png', 'im_base_to_angle/resized/train/15_resized.png', 'im_base_to_angle/resized/train/16_resized.png', 'im_base_to_angle/resized/train/17_resized.png', 'im_base_to_angle/resized/train/18_resized.png', 'im_base_to_angle/resized/train/19_resized.png', 'im_base_to_angle/resized/train/1_resized.png', 'im_base_to_angle/resized/train/20_resized.png', 'im_base_to_angle/resized/train/2_resized.png', 'im_base_to_angle/resized/train/3_resized.png', 'im_base_to_angle/resized/train/4_resized.png', 'im_base_to_angle/resized/train/5_resized.png', 'im_base_to_angle/resized/train/6_resized.png', 'im_base_to_angle/resized/train/7_resized.png', 'im_base_to_angle/resized/train/8_resized.png', 'im_base_to_angle/resized/train/9_resized.png']\n"
     ]
    }
   ],
   "source": [
    "X_img_paths_resized = get_image_paths('im_base_to_angle/resized/train')\n",
    "print(X_img_paths_resized[0].split('/'))\n",
    "print(X_img_paths_resized[0].split('/')[-1][:-4])\n",
    "print(X_img_paths_resized)"
   ]
  },
  {
   "cell_type": "code",
   "execution_count": 7,
   "metadata": {},
   "outputs": [],
   "source": [
    "for idx, each_img in enumerate(X_img_paths_resized):\n",
    "    img = cv2.imread(each_img, cv2.IMREAD_UNCHANGED)\n",
    "    image_resized_name = each_img.split('/')[-1][:-4]\n",
    "    # get image height, width\n",
    "    (h, w) = img.shape[:2]\n",
    "    # calculate the center of the image\n",
    "    center = (w / 2, h / 2)\n",
    "    \n",
    "    scale = 1.0\n",
    "    \n",
    "    for i in range(1, 361):\n",
    "        filename = uuid.uuid4().hex\n",
    "        M = cv2.getRotationMatrix2D(center, i, scale)\n",
    "        rotated = cv2.warpAffine(img, M, (h, w))\n",
    "#         cv2.imshow('Original Image',rotated)\n",
    "#         cv2.waitKey(0) # waits until a key is pressed\n",
    "#         cv2.destroyAllWindows() # destroys the window showing image\n",
    "        if not os.path.exists(f'im_base_to_angle/rotated/train/{i}'):\n",
    "            os.makedirs(f'im_base_to_angle/rotated/train/{i}')\n",
    "        cv2.imwrite(f'im_base_to_angle/rotated/train/{i}/{filename}.png', rotated)\n",
    "#         cv2.imwrite(f'im_base_to_angle/rotated/train/{i}_angle_{int(time.time())}.png', rotated)\n",
    "\n",
    "#     cv2.imshow(\"Resized image\", resized)\n",
    "#     cv2.waitKey(0)\n",
    "#     cv2.destroyAllWindows()\n",
    "\n",
    "#     cv2.imwrite(f'im_base_to_angle/resized/train/{idx + 1}_resized.png', resized)"
   ]
  },
  {
   "cell_type": "code",
   "execution_count": 8,
   "metadata": {},
   "outputs": [],
   "source": [
    "X_img_paths_resized = get_image_paths('im_base_to_angle/resized/val')\n",
    "\n",
    "for idx, each_img in enumerate(X_img_paths_resized):\n",
    "    img = cv2.imread(each_img, cv2.IMREAD_UNCHANGED)\n",
    "    image_resized_name = each_img.split('/')[-1][:-4]\n",
    "    # get image height, width\n",
    "    (h, w) = img.shape[:2]\n",
    "    # calculate the center of the image\n",
    "    center = (w / 2, h / 2)\n",
    "    \n",
    "    scale = 1.0\n",
    "    \n",
    "    for i in range(1, 361):\n",
    "        filename = uuid.uuid4().hex\n",
    "        M = cv2.getRotationMatrix2D(center, i, scale)\n",
    "        rotated = cv2.warpAffine(img, M, (h, w))\n",
    "#         cv2.imshow('Original Image',rotated)\n",
    "#         cv2.waitKey(0) # waits until a key is pressed\n",
    "#         cv2.destroyAllWindows() # destroys the window showing image\n",
    "        if not os.path.exists(f'im_base_to_angle/rotated/val/{i}'):\n",
    "            os.makedirs(f'im_base_to_angle/rotated/val/{i}')\n",
    "        cv2.imwrite(f'im_base_to_angle/rotated/val/{i}/{filename}.png', rotated)\n",
    "#         cv2.imwrite(f'im_base_to_angle/rotated/val/{i}_angle_{int(time.time())}.png', rotated)\n",
    "\n",
    "#     cv2.imshow(\"Resized image\", resized)\n",
    "#     cv2.waitKey(0)\n",
    "#     cv2.destroyAllWindows()\n",
    "\n",
    "#     cv2.imwrite(f'im_base_to_angle/resized/train/{idx + 1}_resized.png', resized)"
   ]
  },
  {
   "cell_type": "code",
   "execution_count": 9,
   "metadata": {},
   "outputs": [],
   "source": [
    "X_img_paths_resized = get_image_paths('im_base_to_angle/resized/test')\n",
    "\n",
    "for idx, each_img in enumerate(X_img_paths_resized):\n",
    "    img = cv2.imread(each_img, cv2.IMREAD_UNCHANGED)\n",
    "    image_resized_name = each_img.split('/')[-1][:-4]\n",
    "    # get image height, width\n",
    "    (h, w) = img.shape[:2]\n",
    "    # calculate the center of the image\n",
    "    center = (w / 2, h / 2)\n",
    "    \n",
    "    scale = 1.0\n",
    "    \n",
    "    for i in range(1, 361):\n",
    "        filename = uuid.uuid4().hex\n",
    "        M = cv2.getRotationMatrix2D(center, i, scale)\n",
    "        rotated = cv2.warpAffine(img, M, (h, w))\n",
    "#         cv2.imshow('Original Image',rotated)\n",
    "#         cv2.waitKey(0) # waits until a key is pressed\n",
    "#         cv2.destroyAllWindows() # destroys the window showing image\n",
    "        if not os.path.exists(f'im_base_to_angle/rotated/test/{i}'):\n",
    "            os.makedirs(f'im_base_to_angle/rotated/test/{i}')\n",
    "        cv2.imwrite(f'im_base_to_angle/rotated/test/{i}/{filename}.png', rotated)\n",
    "#         cv2.imwrite(f'im_base_to_angle/rotated/test/{i}_angle_{int(time.time())}.png', rotated)\n",
    "\n",
    "#     cv2.imshow(\"Resized image\", resized)\n",
    "#     cv2.waitKey(0)\n",
    "#     cv2.destroyAllWindows()\n",
    "\n",
    "#     cv2.imwrite(f'im_base_to_angle/resized/train/{idx + 1}_resized.png', resized)"
   ]
  },
  {
   "cell_type": "code",
   "execution_count": null,
   "metadata": {},
   "outputs": [],
   "source": []
  },
  {
   "cell_type": "code",
   "execution_count": null,
   "metadata": {},
   "outputs": [],
   "source": []
  },
  {
   "cell_type": "code",
   "execution_count": null,
   "metadata": {},
   "outputs": [],
   "source": []
  },
  {
   "cell_type": "code",
   "execution_count": null,
   "metadata": {},
   "outputs": [],
   "source": []
  }
 ],
 "metadata": {
  "kernelspec": {
   "display_name": "Python 3",
   "language": "python",
   "name": "python3"
  },
  "language_info": {
   "codemirror_mode": {
    "name": "ipython",
    "version": 3
   },
   "file_extension": ".py",
   "mimetype": "text/x-python",
   "name": "python",
   "nbconvert_exporter": "python",
   "pygments_lexer": "ipython3",
   "version": "3.6.7"
  }
 },
 "nbformat": 4,
 "nbformat_minor": 2
}
