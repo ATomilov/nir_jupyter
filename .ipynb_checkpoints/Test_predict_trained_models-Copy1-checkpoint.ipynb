{
 "cells": [
  {
   "cell_type": "code",
   "execution_count": 38,
   "metadata": {},
   "outputs": [],
   "source": [
    "import numpy as np\n",
    "import json\n",
    "import tensorflow as tf\n",
    "from tensorflow.keras.utils import CustomObjectScope\n",
    "from tensorflow.keras.initializers import glorot_uniform\n",
    "from tensorflow.keras.models import Model, load_model, model_from_json\n",
    "from tensorflow.keras.preprocessing import image\n",
    "import matplotlib.pyplot as plt\n",
    "import cv2\n",
    "import pickle\n",
    "import seaborn as sns\n",
    "import pandas as pd"
   ]
  },
  {
   "cell_type": "code",
   "execution_count": 2,
   "metadata": {},
   "outputs": [],
   "source": [
    "pickle_in = open(\"trained_data/X_4_di_pa.pickle\",\"rb\")\n",
    "X = pickle.load(pickle_in)"
   ]
  },
  {
   "cell_type": "code",
   "execution_count": 3,
   "metadata": {},
   "outputs": [],
   "source": [
    "pickle_in = open(\"trained_data/y_4_di_pa.pickle\",\"rb\")\n",
    "y = pickle.load(pickle_in)"
   ]
  },
  {
   "cell_type": "code",
   "execution_count": 4,
   "metadata": {},
   "outputs": [
    {
     "name": "stdout",
     "output_type": "stream",
     "text": [
      "['1', '2', '3', '4', '5', '6', '7', '8', '9', '10', '11', '12', '13', '14', '15', '16', '17', '18', '19', '20', '21', '22', '23', '24', '25', '26', '27', '28', '29', '30', '31', '32', '33', '34', '35', '36', '37', '38', '39', '40', '41', '42', '43', '44', '45', '46', '47', '48', '49', '50', '51', '52', '53', '54', '55', '56', '57', '58', '59', '60', '61', '62', '63', '64', '65', '66', '67', '68', '69', '70', '71', '72', '73', '74', '75', '76', '77', '78', '79', '80', '81', '82', '83', '84', '85', '86', '87', '88', '89', '90', '91', '92', '93', '94', '95', '96', '97', '98', '99', '100', '101', '102', '103', '104', '105', '106', '107', '108', '109', '110', '111', '112', '113', '114', '115', '116', '117', '118', '119', '120', '121', '122', '123', '124', '125', '126', '127', '128', '129', '130', '131', '132', '133', '134', '135', '136', '137', '138', '139', '140', '141', '142', '143', '144', '145', '146', '147', '148', '149', '150', '151', '152', '153', '154', '155', '156', '157', '158', '159', '160', '161', '162', '163', '164', '165', '166', '167', '168', '169', '170', '171', '172', '173', '174', '175', '176', '177', '178', '179', '180', '181', '182', '183', '184', '185', '186', '187', '188', '189', '190', '191', '192', '193', '194', '195', '196', '197', '198', '199', '200', '201', '202', '203', '204', '205', '206', '207', '208', '209', '210', '211', '212', '213', '214', '215', '216', '217', '218', '219', '220', '221', '222', '223', '224', '225', '226', '227', '228', '229', '230', '231', '232', '233', '234', '235', '236', '237', '238', '239', '240', '241', '242', '243', '244', '245', '246', '247', '248', '249', '250', '251', '252', '253', '254', '255', '256', '257', '258', '259', '260', '261', '262', '263', '264', '265', '266', '267', '268', '269', '270', '271', '272', '273', '274', '275', '276', '277', '278', '279', '280', '281', '282', '283', '284', '285', '286', '287', '288', '289', '290', '291', '292', '293', '294', '295', '296', '297', '298', '299', '300', '301', '302', '303', '304', '305', '306', '307', '308', '309', '310', '311', '312', '313', '314', '315', '316', '317', '318', '319', '320', '321', '322', '323', '324', '325', '326', '327', '328', '329', '330', '331', '332', '333', '334', '335', '336', '337', '338', '339', '340', '341', '342', '343', '344', '345', '346', '347', '348', '349', '350', '351', '352', '353', '354', '355', '356', '357', '358', '359', '360']\n"
     ]
    }
   ],
   "source": [
    "CATEGORIES_INT = [i for i in range(1, 361)]\n",
    "CATEGORIES = [str(item) for item in CATEGORIES_INT]\n",
    "# map(str, CATEGORIES)\n",
    "print(CATEGORIES)"
   ]
  },
  {
   "cell_type": "code",
   "execution_count": 5,
   "metadata": {},
   "outputs": [],
   "source": [
    "def prepare(filepath):\n",
    "    IMG_SIZE = 100  # 50 in txt-based\n",
    "    img_array = cv2.imread(filepath, cv2.IMREAD_GRAYSCALE)\n",
    "    img_array = img_array / 255\n",
    "    new_array = cv2.resize(img_array, (IMG_SIZE, IMG_SIZE))\n",
    "    return new_array.reshape(-1, IMG_SIZE, IMG_SIZE, 1)"
   ]
  },
  {
   "cell_type": "markdown",
   "metadata": {},
   "source": [
    "#### Version 1 to predict v2 and v3 = na"
   ]
  },
  {
   "cell_type": "code",
   "execution_count": 15,
   "metadata": {},
   "outputs": [],
   "source": [
    "json_file = open(\"trained_model_files/angles/trained_model_angles_v3.json\", \"r\")\n",
    "loaded_model_json = json_file.read()\n",
    "json_file.close()\n",
    "loaded_model = model_from_json(loaded_model_json)\n",
    "loaded_model.load_weights(\"trained_model_files/angles/trained_model_weights_angles_v3.h5\")\n",
    "loaded_model.compile(loss='sparse_categorical_crossentropy', optimizer='adam', metrics=['accuracy'])"
   ]
  },
  {
   "cell_type": "code",
   "execution_count": 44,
   "metadata": {},
   "outputs": [
    {
     "name": "stdout",
     "output_type": "stream",
     "text": [
      "<PIL.Image.Image image mode=RGB size=100x100 at 0x7FC9A5162A90>\n"
     ]
    }
   ],
   "source": [
    "img_path = 'im_base_to_angle/rotated_4_na/test/218/a09a35263aad48f7a388a32bf9884db6.png'\n",
    "img = image.load_img(img_path, target_size=(100, 100))\n",
    "print(img)"
   ]
  },
  {
   "cell_type": "code",
   "execution_count": 45,
   "metadata": {},
   "outputs": [
    {
     "name": "stdout",
     "output_type": "stream",
     "text": [
      "[[1.24286587e-16 4.00979938e-17 8.94577469e-18 1.53941852e-17\n",
      "  5.16084961e-12 1.89001009e-13 4.46712005e-15 2.17433654e-15\n",
      "  1.20211915e-18 6.92220934e-17 1.35480531e-14 2.20924205e-16\n",
      "  1.02980656e-15 1.89939075e-14 2.07327010e-16 2.38728192e-18\n",
      "  5.57759253e-19 4.99037349e-16 7.38632334e-18 1.44074587e-20\n",
      "  7.75436226e-19 2.70555605e-19 1.07811181e-17 9.06013200e-19\n",
      "  2.28902201e-19 1.91700259e-14 5.22727378e-16 1.68701706e-12\n",
      "  1.62497901e-14 8.33079439e-11 1.06308003e-15 1.05195236e-18\n",
      "  1.08921581e-16 1.41191858e-15 3.78523818e-13 4.39959669e-09\n",
      "  8.17160142e-13 7.16355351e-17 2.96746545e-17 2.23651812e-18\n",
      "  9.68719099e-20 3.65722611e-15 1.10440035e-14 8.38853252e-14\n",
      "  3.81129145e-16 8.84484340e-14 1.58991283e-13 1.04880119e-14\n",
      "  1.49028002e-18 8.82587012e-21 2.51252804e-22 3.29226749e-21\n",
      "  8.82796721e-19 1.27395048e-18 2.33593848e-14 1.29714479e-12\n",
      "  1.86706549e-16 7.23829755e-17 5.75133345e-18 1.51369079e-18\n",
      "  7.27661706e-16 4.99126324e-18 3.39271932e-15 2.75561099e-15\n",
      "  1.56547001e-16 1.87135900e-15 4.18561543e-15 6.25860167e-20\n",
      "  1.17289713e-19 3.22115640e-15 1.43991366e-16 2.03574602e-16\n",
      "  1.94995624e-14 3.26200701e-18 9.73003796e-13 7.72655514e-17\n",
      "  5.81030026e-18 2.89840315e-17 2.29085629e-19 3.39983607e-20\n",
      "  5.58636840e-18 4.99818726e-15 6.15359695e-16 1.22782839e-16\n",
      "  3.77079547e-18 6.13625078e-16 2.03621778e-18 2.95584510e-21\n",
      "  1.10689141e-17 1.15106894e-16 3.38666437e-17 1.23577309e-18\n",
      "  2.01944393e-21 1.84279318e-18 6.21571920e-15 3.17114743e-13\n",
      "  6.63340470e-15 4.46987486e-14 8.27690632e-16 3.40163349e-16\n",
      "  4.25982034e-17 2.57150475e-13 6.57706155e-16 4.21787838e-16\n",
      "  2.71635822e-15 4.88138739e-12 1.22719224e-15 9.97813415e-18\n",
      "  2.69274897e-18 2.47163817e-17 2.91355041e-14 1.49511030e-16\n",
      "  4.77339912e-15 7.39309626e-16 4.24357127e-16 5.39886572e-16\n",
      "  7.93112863e-14 1.22285088e-15 1.87997116e-14 4.53469139e-18\n",
      "  8.34178693e-17 1.17413444e-16 7.96745685e-14 3.39034051e-14\n",
      "  1.76392477e-14 2.14849550e-16 1.80560955e-15 9.33779775e-17\n",
      "  4.57462272e-16 3.26887569e-15 3.47630697e-13 1.00143757e-14\n",
      "  1.72814375e-16 9.96608047e-17 4.81248420e-17 2.63772810e-17\n",
      "  2.12968700e-16 2.80743205e-15 2.19254512e-14 1.17463742e-14\n",
      "  4.26857410e-16 5.56948219e-15 2.97215857e-15 1.28179658e-14\n",
      "  8.18584710e-16 5.33092383e-15 1.41544542e-15 1.36732452e-16\n",
      "  2.58916076e-15 1.41519581e-13 2.23244952e-13 8.43096372e-13\n",
      "  2.56655913e-14 1.64815809e-15 2.18379655e-11 6.33023690e-13\n",
      "  5.91311178e-18 8.87639639e-14 4.02477205e-13 1.32840392e-17\n",
      "  1.83910229e-15 5.77581020e-16 2.16453806e-15 4.56658311e-13\n",
      "  1.43223403e-15 1.60960485e-14 1.66718368e-17 5.72611436e-18\n",
      "  1.05964494e-18 3.55754244e-14 2.61130861e-16 2.44373617e-18\n",
      "  2.61065274e-15 2.06302071e-17 6.70303741e-19 9.79622762e-19\n",
      "  2.72387229e-14 1.77307272e-14 4.54370916e-12 1.06540913e-17\n",
      "  4.71448488e-19 9.05761447e-18 1.79962018e-15 7.07934721e-15\n",
      "  6.30943746e-15 4.86587235e-16 4.33406049e-15 1.81998624e-15\n",
      "  1.63313670e-16 8.38553724e-15 3.41522244e-15 1.44659491e-12\n",
      "  3.09867236e-11 6.32968179e-13 9.42475536e-14 1.05313046e-15\n",
      "  2.41581076e-17 4.62617897e-17 1.93282022e-13 6.20609412e-13\n",
      "  5.90432488e-13 1.32054363e-15 1.94196787e-15 6.16941529e-16\n",
      "  7.01932392e-12 4.10705324e-12 9.97944809e-14 2.24612436e-14\n",
      "  2.32745767e-10 3.91780601e-11 4.16887830e-10 1.41100326e-15\n",
      "  1.19104664e-16 3.68161878e-18 1.60691146e-14 2.08820361e-09\n",
      "  1.00711968e-05 9.99891043e-01 9.87636959e-05 9.68998406e-12\n",
      "  3.64562160e-16 3.47929459e-19 1.56982866e-17 8.72244036e-15\n",
      "  9.39660367e-08 1.97374818e-13 4.66607740e-16 6.38201020e-11\n",
      "  1.15159550e-13 1.56862794e-14 1.44139213e-16 5.81721962e-18\n",
      "  1.08515922e-17 3.31397207e-17 1.39189653e-15 5.20074869e-13\n",
      "  6.75814743e-12 8.88752200e-15 6.33475361e-17 3.97379965e-18\n",
      "  7.99163592e-19 3.97912421e-18 1.07277395e-18 3.49325070e-16\n",
      "  1.32750660e-18 1.20697670e-17 2.85238903e-18 2.40199274e-15\n",
      "  3.59445869e-16 2.22356340e-17 5.11425957e-14 5.07056114e-14\n",
      "  1.21957604e-15 1.95583397e-14 9.56775214e-14 2.25481273e-10\n",
      "  1.18251535e-12 1.58277728e-14 1.12433578e-16 1.62428322e-16\n",
      "  1.27577138e-15 4.27312198e-15 1.04869127e-10 1.72428185e-12\n",
      "  6.92908209e-16 2.94142944e-18 1.35221841e-18 1.37476690e-16\n",
      "  8.94124207e-17 9.39701825e-15 2.91588403e-15 1.04252797e-19\n",
      "  2.33891829e-20 7.86107218e-20 4.28248443e-17 1.68219166e-15\n",
      "  6.70767153e-14 3.28520949e-14 2.57140128e-17 3.22168346e-16\n",
      "  3.69883448e-18 3.61992517e-18 7.84578769e-14 1.97586296e-15\n",
      "  6.07174599e-18 1.54869381e-19 7.95160717e-14 9.76777007e-16\n",
      "  5.24479042e-16 1.23948576e-15 9.53279499e-18 1.22981310e-13\n",
      "  4.33331637e-15 6.11232210e-18 9.94747870e-15 1.33182382e-17\n",
      "  1.52412608e-18 3.92467363e-14 6.17307041e-14 3.21483457e-15\n",
      "  2.50811853e-18 3.41964422e-21 2.84596401e-19 4.81255500e-18\n",
      "  2.94528833e-13 4.63007237e-13 5.59255780e-16 2.35733819e-17\n",
      "  4.10622430e-15 7.74196002e-16 1.86069382e-17 9.97763349e-19\n",
      "  7.95789884e-19 6.37265776e-18 1.19181878e-17 1.04804311e-18\n",
      "  9.54859580e-17 4.71111255e-16 6.46071246e-15 3.84272048e-17\n",
      "  3.84108308e-15 1.03993644e-15 5.85020881e-15 8.08033517e-15\n",
      "  3.00027117e-16 1.18210973e-19 4.41774831e-18 3.43459934e-14\n",
      "  1.74462868e-14 3.70748245e-13 7.75198285e-15 1.80550539e-16\n",
      "  2.55558046e-16 1.03356163e-14 1.50285911e-15 1.65373637e-17\n",
      "  1.55760062e-13 8.31650897e-14 3.62866665e-16 1.40174209e-17\n",
      "  4.34003059e-16 1.27103406e-13 4.48399049e-14 3.82996138e-16\n",
      "  6.73652011e-14 2.11597004e-15 8.00917001e-15 3.28931015e-14\n",
      "  3.87710765e-14 4.60605912e-14 6.15571326e-15 1.24724543e-15\n",
      "  2.81946001e-17 7.98910578e-19 2.38121578e-14 3.99542011e-15\n",
      "  2.33498767e-12 1.04661102e-14 6.69517711e-16 1.12943094e-14]]\n"
     ]
    }
   ],
   "source": [
    "prediction = loaded_model.predict([prepare(img_path)])\n",
    "print(prediction)"
   ]
  },
  {
   "cell_type": "code",
   "execution_count": 46,
   "metadata": {},
   "outputs": [
    {
     "name": "stdout",
     "output_type": "stream",
     "text": [
      "218\n"
     ]
    }
   ],
   "source": [
    "print(CATEGORIES[np.argmax(prediction)])"
   ]
  },
  {
   "cell_type": "code",
   "execution_count": 66,
   "metadata": {},
   "outputs": [
    {
     "data": {
      "text/plain": [
       "<matplotlib.axes._subplots.AxesSubplot at 0x7fc9a4691160>"
      ]
     },
     "execution_count": 66,
     "metadata": {},
     "output_type": "execute_result"
    },
    {
     "data": {
      "image/png": "[encoded data removed]",
      "text/plain": [
       "<Figure size 432x288 with 1 Axes>"
      ]
     },
     "metadata": {},
     "output_type": "display_data"
    }
   ],
   "source": [
    "d = {'classes': CATEGORIES_INT, 'val': prediction[0]}\n",
    "pdnumval = pd.DataFrame(d)\n",
    "sns.set(style='darkgrid')\n",
    "sns.lineplot(x='classes', y='val', data=pdnumval)"
   ]
  },
  {
   "cell_type": "code",
   "execution_count": 51,
   "metadata": {},
   "outputs": [
    {
     "name": "stdout",
     "output_type": "stream",
     "text": [
      "1.2428659e-16\n"
     ]
    }
   ],
   "source": [
    "print(prediction[0][0])"
   ]
  },
  {
   "cell_type": "code",
   "execution_count": 52,
   "metadata": {},
   "outputs": [
    {
     "name": "stdout",
     "output_type": "stream",
     "text": [
      "0.99989104\n"
     ]
    }
   ],
   "source": [
    "print(max(prediction[0]))"
   ]
  },
  {
   "cell_type": "code",
   "execution_count": 34,
   "metadata": {},
   "outputs": [
    {
     "name": "stdout",
     "output_type": "stream",
     "text": [
      "360\n"
     ]
    }
   ],
   "source": [
    "print(len(prediction[0]))"
   ]
  },
  {
   "cell_type": "code",
   "execution_count": 35,
   "metadata": {},
   "outputs": [
    {
     "name": "stdout",
     "output_type": "stream",
     "text": [
      "67\n"
     ]
    }
   ],
   "source": [
    "print(np.argmax(prediction))"
   ]
  },
  {
   "cell_type": "code",
   "execution_count": 36,
   "metadata": {},
   "outputs": [
    {
     "name": "stdout",
     "output_type": "stream",
     "text": [
      "[1.72867797e-19 3.17003536e-16 1.16266063e-14 9.36691436e-12\n",
      " 4.47541240e-17 6.90440018e-15 1.46296470e-17 1.02044600e-16\n",
      " 8.58783461e-18 4.18018850e-19 1.99291352e-15 2.72643262e-15\n",
      " 5.35459236e-16 2.04193935e-17 9.94331249e-17 6.76994590e-17\n",
      " 2.53470784e-18 1.37768013e-20 4.41237091e-16 9.14873375e-14\n",
      " 7.02342912e-17 6.60399122e-18 7.95876541e-18 2.64102152e-12\n",
      " 1.61010477e-14 9.82740013e-16 1.81803277e-15 7.82197207e-17\n",
      " 9.43981079e-18 4.17830930e-18 6.69739708e-20 1.09386757e-18\n",
      " 1.96542891e-18 4.84122359e-14 4.28311421e-16 9.21280878e-17\n",
      " 7.85984742e-15 1.20730637e-16 5.78461775e-16 1.39158500e-16\n",
      " 3.76620706e-15 1.09607114e-14 2.85092814e-16 6.90983119e-14\n",
      " 1.20066166e-14 1.43106572e-14 1.51731239e-18 2.49873520e-18\n",
      " 7.27483829e-20 3.72094857e-17 5.74508648e-13 2.75764416e-12\n",
      " 2.60947459e-13 1.93759381e-19 4.23398116e-20 2.59155617e-15\n",
      " 4.85819121e-13 2.03330788e-13 4.70576123e-19 1.14941381e-21\n",
      " 1.45061297e-22 5.40846529e-14 7.65721597e-10 6.53053792e-11\n",
      " 3.93424503e-17 9.14803122e-15 8.62223348e-11 9.99999523e-01\n",
      " 4.28783409e-07 6.19038986e-14 2.00984715e-11 2.83905988e-09\n",
      " 1.97221709e-12 4.47421180e-12 2.21913760e-15 5.68130268e-18\n",
      " 1.16068841e-22 2.84669632e-19 1.57516933e-18 9.80901422e-15\n",
      " 2.81482669e-14 1.91262154e-12 4.36336360e-15 1.33818239e-12\n",
      " 5.42655233e-20 3.65638775e-19 1.28221738e-17 1.10641731e-15\n",
      " 6.23952055e-19 1.80253096e-21 3.76196153e-20 4.94499687e-16\n",
      " 5.12517509e-18 2.60688769e-13 4.21201871e-15 1.67244951e-15\n",
      " 2.00685907e-15 7.61171401e-17 5.94400077e-15 6.66011154e-16\n",
      " 1.29355682e-16 4.85784989e-16 1.92802659e-16 2.25218968e-18\n",
      " 2.27824467e-16 1.89391041e-17 1.95771628e-16 8.84633004e-17\n",
      " 1.63777410e-17 1.31783148e-18 1.83220821e-22 1.25436818e-20\n",
      " 1.76856385e-21 3.57973924e-17 2.49460318e-17 4.86917323e-21\n",
      " 7.27745479e-18 6.74358505e-15 4.43459414e-16 4.14376014e-15\n",
      " 1.11378455e-17 4.50208332e-20 5.47669240e-20 1.98641246e-19\n",
      " 1.75338583e-17 2.56768095e-17 5.75399552e-19 7.76961248e-22\n",
      " 2.40460338e-20 1.00817941e-18 1.16662956e-19 8.63408476e-18\n",
      " 5.59318566e-16 8.18026453e-18 4.13037353e-17 1.00104041e-17\n",
      " 1.13997971e-17 1.75285081e-17 1.66159117e-19 7.50806894e-17\n",
      " 4.87322391e-21 7.93560063e-19 8.77078422e-19 2.70806513e-15\n",
      " 2.60215456e-16 1.30834138e-15 8.10352318e-17 4.19311352e-17\n",
      " 3.53685002e-15 9.33101222e-17 1.12962987e-16 2.03428324e-15\n",
      " 2.91439429e-18 3.21456345e-19 5.10390600e-19 2.06524467e-17\n",
      " 1.81652039e-16 2.71191552e-19 5.64586569e-20 7.21132418e-18\n",
      " 1.80876822e-17 6.70709349e-18 3.53227027e-20 3.02497668e-21\n",
      " 1.06808695e-20 5.93920397e-20 9.17939839e-20 1.67155407e-18\n",
      " 3.67207539e-13 9.19227789e-16 4.45973368e-17 1.81976625e-16\n",
      " 4.14800844e-18 2.49701053e-18 1.16558980e-17 3.29095038e-16\n",
      " 1.06785229e-17 1.45375945e-22 4.42010440e-23 4.37128280e-20\n",
      " 8.97282350e-18 1.60924971e-16 2.03089285e-17 1.17932432e-18\n",
      " 5.59700057e-18 1.06520884e-15 3.67629531e-16 1.44237138e-19\n",
      " 7.13842813e-21 1.25494298e-19 2.07390323e-19 8.18424696e-21\n",
      " 1.85424696e-19 1.62830891e-20 1.12973097e-20 2.49270748e-19\n",
      " 2.24009867e-19 3.48053510e-19 1.49678322e-18 4.57209123e-20\n",
      " 1.46548713e-20 1.50106117e-17 2.21120512e-13 5.62811804e-15\n",
      " 1.08349098e-15 4.50037552e-16 2.49720496e-15 3.17880732e-13\n",
      " 8.91599332e-15 2.52164140e-17 1.97821608e-18 8.42618905e-20\n",
      " 1.04608373e-18 4.52390503e-16 1.59563281e-13 1.11754200e-18\n",
      " 2.24101323e-19 1.17598022e-21 5.56115801e-19 1.93189518e-20\n",
      " 9.74328930e-18 4.16084094e-20 9.88166245e-20 6.65281721e-18\n",
      " 9.41033289e-17 3.22149182e-16 6.86007749e-17 4.45679946e-21\n",
      " 2.08125094e-18 3.13060466e-17 5.70425694e-18 4.62911976e-16\n",
      " 1.88599522e-16 6.48315775e-17 4.46316673e-19 1.04098621e-22\n",
      " 2.41548603e-22 9.12825636e-17 7.25855736e-15 2.77183545e-19\n",
      " 3.28586149e-21 3.29249741e-22 1.14970428e-19 2.23356811e-14\n",
      " 3.41234224e-12 8.21880436e-17 2.79290374e-19 1.88500896e-17\n",
      " 3.46714712e-10 1.39338064e-12 1.35528435e-16 1.01219093e-18\n",
      " 3.35304345e-16 3.51931178e-16 2.99132925e-15 1.44015570e-19\n",
      " 5.33980830e-22 5.22435592e-22 3.80068448e-16 3.95070702e-20\n",
      " 1.12294890e-16 6.90293254e-13 1.47279826e-16 2.69271509e-16\n",
      " 6.87694387e-19 3.60210852e-17 1.39672631e-18 1.10717307e-15\n",
      " 1.48369464e-21 1.76799145e-20 1.37748493e-21 2.61987842e-20\n",
      " 5.26326114e-15 8.36089197e-15 8.36688663e-16 1.07340835e-14\n",
      " 1.62798303e-16 2.85913697e-18 6.31104428e-20 7.94525913e-20\n",
      " 3.05179821e-20 5.71575765e-18 2.80063742e-20 1.93885707e-20\n",
      " 1.07051564e-17 1.05650764e-16 1.33012374e-19 9.44218294e-19\n",
      " 4.19331689e-19 1.79412332e-18 2.23231025e-19 1.15675826e-23\n",
      " 4.24805648e-20 3.16191162e-21 4.81831052e-19 3.96448345e-16\n",
      " 3.70389216e-20 4.32688485e-21 2.66254219e-16 2.69401979e-16\n",
      " 2.26084161e-17 1.59302730e-16 9.10351361e-21 1.31312806e-20\n",
      " 2.51485541e-20 5.05035252e-20 2.14522211e-17 8.14797322e-17\n",
      " 2.66210894e-21 2.24459802e-19 8.68038165e-19 1.51994993e-16\n",
      " 1.50439245e-16 6.77480668e-16 1.31807551e-14 2.08568904e-15\n",
      " 4.22294046e-16 6.92531094e-17 4.52163806e-19 1.52843135e-18\n",
      " 1.17600898e-18 9.48515753e-16 6.58111650e-15 2.02397967e-16\n",
      " 7.31302439e-17 1.43763143e-18 1.01159317e-17 2.15501646e-16\n",
      " 1.97037927e-15 6.53906788e-17 2.28763376e-15 7.37685030e-17\n",
      " 2.14576015e-19 1.43433528e-16 5.73573019e-15 1.45391922e-16\n",
      " 4.05286085e-19 3.02362974e-19 9.79452900e-18 1.04308073e-15\n",
      " 1.34064055e-15 2.28223494e-18 1.19046881e-21 2.07961136e-15\n",
      " 2.65808567e-17 4.20981165e-18 2.67711619e-16 2.04328657e-14\n",
      " 1.15211321e-14 9.24164191e-16 9.36511306e-15 1.49230231e-14\n",
      " 7.26807199e-12 1.47353504e-15 7.83528327e-19 1.64491988e-15\n",
      " 8.21678931e-19 1.07465060e-20 3.96074175e-20 1.21933023e-17]\n"
     ]
    }
   ],
   "source": [
    "print(prediction[0])"
   ]
  },
  {
   "cell_type": "code",
   "execution_count": 28,
   "metadata": {},
   "outputs": [
    {
     "data": {
      "text/plain": [
       "(array([36., 36., 36., 36., 36., 36., 36., 36., 36., 36.]),\n",
       " array([  1. ,  36.9,  72.8, 108.7, 144.6, 180.5, 216.4, 252.3, 288.2,\n",
       "        324.1, 360. ]),\n",
       " <a list of 10 Patch objects>)"
      ]
     },
     "execution_count": 28,
     "metadata": {},
     "output_type": "execute_result"
    },
    {
     "data": {
      "image/png": "[encoded data removed]",
      "text/plain": [
       "<Figure size 432x288 with 1 Axes>"
      ]
     },
     "metadata": {
      "needs_background": "light"
     },
     "output_type": "display_data"
    }
   ],
   "source": [
    "plt.hist(CATEGORIES_INT)"
   ]
  },
  {
   "cell_type": "code",
   "execution_count": 42,
   "metadata": {},
   "outputs": [
    {
     "data": {
      "text/plain": [
       "<matplotlib.axes._subplots.AxesSubplot at 0x7fc9a5304278>"
      ]
     },
     "execution_count": 42,
     "metadata": {},
     "output_type": "execute_result"
    },
    {
     "data": {
      "image/png": "[encoded data removed]",
      "text/plain": [
       "<Figure size 432x288 with 1 Axes>"
      ]
     },
     "metadata": {},
     "output_type": "display_data"
    }
   ],
   "source": [
    "d = {'num': CATEGORIES_INT, 'val': prediction[0]}\n",
    "pdnumval = pd.DataFrame(d)\n",
    "sns.set(style='darkgrid')\n",
    "sns.lineplot(x='num', y='val', data=pdnumval)"
   ]
  },
  {
   "cell_type": "markdown",
   "metadata": {},
   "source": [
    "#### Version 2 to predict"
   ]
  },
  {
   "cell_type": "code",
   "execution_count": 36,
   "metadata": {},
   "outputs": [],
   "source": [
    "prediction = loaded_model.predict([prepare(img_path)])"
   ]
  },
  {
   "cell_type": "code",
   "execution_count": 37,
   "metadata": {},
   "outputs": [
    {
     "name": "stdout",
     "output_type": "stream",
     "text": [
      "[[0. 0. 0. 0. 0. 0. 0. 0. 0. 0. 0. 0. 0. 0. 0. 0. 0. 0. 0. 0. 0. 0. 0. 0.\n",
      "  0. 0. 0. 0. 0. 0. 0. 0. 0. 0. 0. 0. 0. 0. 0. 0. 0. 0. 0. 0. 1. 0. 0. 0.\n",
      "  0. 0. 0. 0. 0. 0. 0. 0. 0. 0. 0. 0. 0. 0. 0. 0. 0. 0. 0. 0. 0. 0. 0. 0.\n",
      "  0. 0. 0. 0. 0. 0. 0. 0. 0. 0. 0. 0. 0. 0. 0. 0. 0. 0. 0. 0. 0. 0. 0. 0.\n",
      "  0. 0. 0. 0. 0. 0. 0. 0. 0. 0. 0. 0. 0. 0. 0. 0. 0. 0. 0. 0. 0. 0. 0. 0.\n",
      "  0. 0. 0. 0. 0. 0. 0. 0. 0. 0. 0. 0. 0. 0. 0. 0. 0. 0. 0. 0. 0. 0. 0. 0.\n",
      "  0. 0. 0. 0. 0. 0. 0. 0. 0. 0. 0. 0. 0. 0. 0. 0. 0. 0. 0. 0. 0. 0. 0. 0.\n",
      "  0. 0. 0. 0. 0. 0. 0. 0. 0. 0. 0. 0. 0. 0. 0. 0. 0. 0. 0. 0. 0. 0. 0. 0.\n",
      "  0. 0. 0. 0. 0. 0. 0. 0. 0. 0. 0. 0. 0. 0. 0. 0. 0. 0. 0. 0. 0. 0. 0. 0.\n",
      "  0. 0. 0. 0. 0. 0. 0. 0. 0. 0. 0. 0. 0. 0. 0. 0. 0. 0. 0. 0. 0. 0. 0. 0.\n",
      "  0. 0. 0. 0. 0. 0. 0. 0. 0. 0. 0. 0. 0. 0. 0. 0. 0. 0. 0. 0. 0. 0. 0. 0.\n",
      "  0. 0. 0. 0. 0. 0. 0. 0. 0. 0. 0. 0. 0. 0. 0. 0. 0. 0. 0. 0. 0. 0. 0. 0.\n",
      "  0. 0. 0. 0. 0. 0. 0. 0. 0. 0. 0. 0. 0. 0. 0. 0. 0. 0. 0. 0. 0. 0. 0. 0.\n",
      "  0. 0. 0. 0. 0. 0. 0. 0. 0. 0. 0. 0. 0. 0. 0. 0. 0. 0. 0. 0. 0. 0. 0. 0.\n",
      "  0. 0. 0. 0. 0. 0. 0. 0. 0. 0. 0. 0. 0. 0. 0. 0. 0. 0. 0. 0. 0. 0. 0. 0.]]\n"
     ]
    }
   ],
   "source": [
    "print(prediction)"
   ]
  },
  {
   "cell_type": "code",
   "execution_count": 42,
   "metadata": {},
   "outputs": [
    {
     "name": "stdout",
     "output_type": "stream",
     "text": [
      "0.0\n"
     ]
    }
   ],
   "source": [
    "print(prediction[0][0])"
   ]
  },
  {
   "cell_type": "code",
   "execution_count": 44,
   "metadata": {},
   "outputs": [
    {
     "name": "stdout",
     "output_type": "stream",
     "text": [
      "1\n"
     ]
    }
   ],
   "source": [
    "print(CATEGORIES[int(prediction[0][0])])"
   ]
  },
  {
   "cell_type": "markdown",
   "metadata": {},
   "source": [
    "#### Test trained model on dirty images with dirty images"
   ]
  },
  {
   "cell_type": "code",
   "execution_count": 60,
   "metadata": {},
   "outputs": [],
   "source": [
    "json_file_dirty = open(\"trained_model_files/angles/trained_model_angles.json\", \"r\")\n",
    "loaded_model_json_dirty = json_file_dirty.read()\n",
    "json_file.close()\n",
    "loaded_model_dirty = model_from_json(loaded_model_json_dirty)\n",
    "loaded_model_dirty.load_weights(\"trained_model_files/angles/trained_model_weights_angles.h5\")\n",
    "loaded_model_dirty.compile(loss='sparse_categorical_crossentropy', optimizer='adam', metrics=['accuracy'])"
   ]
  },
  {
   "cell_type": "code",
   "execution_count": 61,
   "metadata": {},
   "outputs": [
    {
     "name": "stdout",
     "output_type": "stream",
     "text": [
      "<PIL.Image.Image image mode=RGB size=100x100 at 0x7FB837E726A0>\n"
     ]
    }
   ],
   "source": [
    "img_path = 'im_base_to_angle/r_d_i_pa/train/43/f17b2f28ff224dcc8c4a245755134beb.png'\n",
    "img = image.load_img(img_path, target_size=(100, 100))\n",
    "print(img)"
   ]
  },
  {
   "cell_type": "code",
   "execution_count": 62,
   "metadata": {},
   "outputs": [],
   "source": [
    "def prepare(filepath):\n",
    "    IMG_SIZE = 100  # 50 in txt-based\n",
    "    img_array = cv2.imread(filepath, cv2.IMREAD_GRAYSCALE)\n",
    "    img_array = img_array / 255\n",
    "    new_array = cv2.resize(img_array, (IMG_SIZE, IMG_SIZE))\n",
    "    return new_array.reshape(-1, IMG_SIZE, IMG_SIZE, 1)"
   ]
  },
  {
   "cell_type": "code",
   "execution_count": 63,
   "metadata": {},
   "outputs": [
    {
     "name": "stdout",
     "output_type": "stream",
     "text": [
      "[[1.73455543e-08 2.91635871e-08 8.03023037e-10 4.25392447e-12\n",
      "  2.70483330e-10 1.92778280e-12 1.92098854e-12 2.02942330e-10\n",
      "  7.64373908e-07 1.49992206e-06 3.72431401e-08 2.52579071e-06\n",
      "  9.72629977e-09 3.71874677e-13 2.48801452e-10 8.97020826e-12\n",
      "  3.35962676e-13 5.07327798e-07 1.73676171e-10 4.72681144e-17\n",
      "  1.19894112e-12 1.89715868e-10 1.15016446e-05 8.95281786e-08\n",
      "  1.18841629e-11 4.32694001e-13 3.35579280e-08 2.94474473e-10\n",
      "  9.08891723e-13 2.76746480e-15 5.52451748e-13 4.79851358e-12\n",
      "  7.53752261e-09 3.17484261e-09 3.16607879e-10 3.09687714e-12\n",
      "  3.62962438e-09 7.64095787e-10 1.26162602e-04 1.24415048e-04\n",
      "  2.40368628e-11 9.29370730e-13 2.77815928e-07 2.04861017e-08\n",
      "  9.56860191e-08 1.79926007e-09 1.69375156e-11 1.22104493e-09\n",
      "  2.54887527e-06 4.45997102e-12 2.35555634e-13 3.43448325e-11\n",
      "  7.99072234e-13 5.91247259e-11 2.33656899e-10 1.19298883e-17\n",
      "  4.63809119e-14 3.70502434e-10 1.45914125e-08 1.34592977e-12\n",
      "  8.15482224e-08 2.92300655e-07 9.15325436e-05 4.61564632e-04\n",
      "  5.79490622e-12 2.61819993e-11 3.27196091e-07 3.37963022e-04\n",
      "  6.01954042e-08 5.04691059e-07 1.76341832e-03 6.44308500e-07\n",
      "  7.15612958e-10 9.27083670e-12 2.82808912e-07 2.95078906e-10\n",
      "  6.58869226e-09 6.98486168e-04 9.27270503e-06 2.39504597e-11\n",
      "  2.31460823e-10 1.07129881e-14 8.67324823e-10 2.14436412e-07\n",
      "  5.27566364e-08 1.38683379e-11 3.88736199e-09 2.79952228e-10\n",
      "  2.09538413e-08 6.80219606e-02 2.38829315e-01 5.71554288e-08\n",
      "  8.76966794e-07 9.89697014e-07 7.96414679e-04 6.08835137e-07\n",
      "  2.58393469e-03 8.71006995e-02 3.59438600e-05 2.71664164e-03\n",
      "  1.43240800e-03 1.21644931e-07 1.18605500e-10 1.16921035e-06\n",
      "  2.70686985e-04 9.90836355e-08 4.31246917e-07 5.58812326e-06\n",
      "  2.40849506e-04 1.46140142e-10 1.24440148e-05 4.98207693e-04\n",
      "  1.31570928e-07 3.05356593e-07 7.81122653e-05 9.55796044e-04\n",
      "  1.09870246e-08 1.24251098e-09 2.58578172e-08 7.76802835e-07\n",
      "  2.07584687e-02 7.29100520e-06 1.11314478e-07 6.27819077e-07\n",
      "  6.41957968e-06 3.26825902e-05 5.61165107e-05 1.41445271e-05\n",
      "  2.71682657e-04 1.01159664e-07 9.76001174e-05 2.64707651e-08\n",
      "  7.73086697e-02 1.30835245e-08 9.22602383e-10 6.97804592e-11\n",
      "  1.85928661e-10 4.84247238e-08 4.59428775e-05 1.04779097e-09\n",
      "  1.65101040e-11 6.20477252e-08 4.98263806e-04 1.23981245e-05\n",
      "  7.85091652e-06 9.29094313e-09 1.43704826e-08 2.41268117e-10\n",
      "  7.51010589e-07 1.12953036e-04 2.31193684e-04 7.97851195e-12\n",
      "  1.36500750e-11 3.74008573e-06 8.61101667e-04 2.28439312e-05\n",
      "  1.13500289e-04 5.98433962e-06 2.84828302e-02 1.73205292e-04\n",
      "  1.49671778e-05 1.61740346e-08 3.45570843e-05 4.62978721e-01\n",
      "  6.24650748e-11 1.89784018e-07 4.52146307e-11 4.79440443e-09\n",
      "  1.36938013e-06 5.18358487e-04 1.63030878e-09 7.66599340e-10\n",
      "  2.38242781e-09 1.92732230e-09 1.35155433e-05 3.09960342e-07\n",
      "  1.94438729e-10 1.88080419e-11 1.34412971e-07 3.69372287e-07\n",
      "  1.38310341e-08 3.03365546e-08 2.73813621e-05 1.38358037e-05\n",
      "  3.32354233e-08 2.66290158e-06 7.36505079e-09 4.18812378e-05\n",
      "  4.45987416e-06 1.44166677e-07 3.89195431e-09 1.50059717e-12\n",
      "  2.42974081e-17 1.48747638e-17 1.85656219e-13 3.55154413e-11\n",
      "  1.52897209e-11 3.03708798e-16 4.96712498e-11 2.22034901e-13\n",
      "  6.48868098e-14 9.22976279e-12 3.06966502e-13 9.34690828e-14\n",
      "  5.85315216e-14 3.29691515e-13 8.72035158e-15 2.07148641e-15\n",
      "  1.07210824e-14 4.07119272e-17 1.71552375e-13 9.30251223e-11\n",
      "  1.59393339e-14 2.00729107e-18 3.80901484e-15 9.56023715e-12\n",
      "  3.31215551e-13 1.06386505e-13 4.58000100e-14 8.86631483e-15\n",
      "  4.08848163e-18 2.01780771e-19 2.82992405e-18 1.80113409e-21\n",
      "  2.01230869e-22 5.93721168e-18 1.16212527e-18 1.58465368e-19\n",
      "  2.23827977e-17 5.54672867e-18 6.31978525e-20 3.84363780e-22\n",
      "  1.00024037e-20 1.37532938e-16 1.32746805e-17 2.50415230e-19\n",
      "  3.76435959e-18 5.85227440e-20 4.18821827e-17 3.37676170e-16\n",
      "  9.10650664e-18 9.50131317e-21 1.08292959e-20 1.96323404e-16\n",
      "  3.75090963e-13 1.73796834e-17 2.88640952e-19 2.89792126e-16\n",
      "  7.56328795e-16 1.55731310e-14 4.10536223e-17 1.11781509e-16\n",
      "  2.55731613e-14 4.09204539e-15 2.47146241e-16 1.33912466e-18\n",
      "  2.25580657e-19 3.59493260e-21 1.60444981e-15 7.60996952e-16\n",
      "  2.46496661e-23 2.79718620e-20 1.01427255e-20 2.50649115e-21\n",
      "  1.46779250e-18 1.94272258e-14 5.07599544e-21 8.44776565e-23\n",
      "  1.51692613e-22 1.65974973e-15 6.87434933e-17 2.36229400e-15\n",
      "  1.52492003e-16 1.06091353e-15 5.49517488e-17 2.67541074e-15\n",
      "  1.86258022e-14 2.06445565e-13 1.47536511e-07 2.11107833e-11\n",
      "  1.25121705e-10 3.97764287e-13 2.46915946e-19 3.19978050e-20\n",
      "  4.15483604e-23 6.78137246e-15 2.59280156e-14 2.98995681e-12\n",
      "  3.75436141e-12 4.03763103e-17 1.80590464e-18 5.40814909e-15\n",
      "  3.65389004e-11 2.57484802e-14 4.96946522e-15 3.54609408e-19\n",
      "  2.88726342e-15 8.24959784e-13 8.24582361e-20 1.49853257e-15\n",
      "  1.59041766e-13 6.67013428e-13 7.37688024e-15 4.87553628e-13\n",
      "  3.30340638e-12 6.11497479e-14 2.95486780e-13 3.42631441e-13\n",
      "  5.26807779e-15 6.83534562e-10 2.44462697e-12 8.69125089e-17\n",
      "  3.45368287e-12 2.33837209e-16 3.70252840e-15 2.54865824e-18\n",
      "  1.42495400e-16 1.09711719e-12 1.63841664e-13 5.78516887e-11\n",
      "  2.25137114e-11 4.99535205e-11 2.71541508e-17 9.59318282e-17\n",
      "  1.75060009e-14 1.03495422e-16 2.65217001e-16 2.31588511e-13\n",
      "  2.76401905e-12 1.46317505e-14 4.00533856e-17 7.07247737e-13\n",
      "  6.68216860e-09 1.11274504e-10 3.28881254e-17 2.80196493e-13\n",
      "  9.50121232e-12 1.53128270e-12 1.76676260e-13 8.39571576e-13\n",
      "  1.94096249e-11 2.90192870e-10 1.32717188e-13 3.48701958e-18\n",
      "  5.85230475e-10 1.84330497e-14 2.66708161e-14 2.03737179e-12\n",
      "  2.41976984e-13 1.84881098e-15 5.26704774e-17 5.93284799e-16\n",
      "  1.21771288e-15 2.03399395e-08 6.73655836e-12 1.83000186e-12\n",
      "  5.28913789e-16 7.72442277e-14 6.25946939e-08 1.13250024e-07]]\n"
     ]
    }
   ],
   "source": [
    "prediction = loaded_model_dirty.predict([prepare(img_path)])\n",
    "print(prediction)"
   ]
  },
  {
   "cell_type": "code",
   "execution_count": 64,
   "metadata": {},
   "outputs": [
    {
     "name": "stdout",
     "output_type": "stream",
     "text": [
      "164\n"
     ]
    }
   ],
   "source": [
    "print(CATEGORIES[np.argmax(prediction)])"
   ]
  },
  {
   "cell_type": "code",
   "execution_count": 65,
   "metadata": {},
   "outputs": [
    {
     "name": "stdout",
     "output_type": "stream",
     "text": [
      "163\n"
     ]
    }
   ],
   "source": [
    "print(np.argmax(prediction))"
   ]
  },
  {
   "cell_type": "code",
   "execution_count": null,
   "metadata": {},
   "outputs": [],
   "source": []
  },
  {
   "cell_type": "code",
   "execution_count": null,
   "metadata": {},
   "outputs": [],
   "source": []
  },
  {
   "cell_type": "code",
   "execution_count": null,
   "metadata": {},
   "outputs": [],
   "source": []
  }
 ],
 "metadata": {
  "kernelspec": {
   "display_name": "Python 3",
   "language": "python",
   "name": "python3"
  },
  "language_info": {
   "codemirror_mode": {
    "name": "ipython",
    "version": 3
   },
   "file_extension": ".py",
   "mimetype": "text/x-python",
   "name": "python",
   "nbconvert_exporter": "python",
   "pygments_lexer": "ipython3",
   "version": "3.6.7"
  }
 },
 "nbformat": 4,
 "nbformat_minor": 2
}
