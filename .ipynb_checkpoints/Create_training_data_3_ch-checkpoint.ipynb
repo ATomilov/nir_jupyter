{
 "cells": [
  {
   "cell_type": "code",
   "execution_count": 1,
   "metadata": {},
   "outputs": [],
   "source": [
    "import numpy as np\n",
    "import matplotlib.pyplot as plt\n",
    "import os\n",
    "import cv2\n",
    "from sklearn.externals import joblib\n",
    "from tqdm import tqdm"
   ]
  },
  {
   "cell_type": "code",
   "execution_count": 34,
   "metadata": {},
   "outputs": [],
   "source": [
    "DATADIR = \"/home/apofeo/Documents/clp_rotated_v5/train\""
   ]
  },
  {
   "cell_type": "code",
   "execution_count": 2,
   "metadata": {},
   "outputs": [],
   "source": [
    "DATADIR = \"/home/apofeo/Documents/clp_rotated_v6/train\""
   ]
  },
  {
   "cell_type": "code",
   "execution_count": 2,
   "metadata": {},
   "outputs": [],
   "source": [
    "DATADIR = \"/home/apofeo/Documents/clp_rotated_v7/test\""
   ]
  },
  {
   "cell_type": "code",
   "execution_count": 3,
   "metadata": {},
   "outputs": [],
   "source": [
    "DATADIR = \"/home/apofeo/Documents/symbols\""
   ]
  },
  {
   "cell_type": "code",
   "execution_count": 64,
   "metadata": {},
   "outputs": [],
   "source": [
    "DATADIR = \"im_base_to_angle/DI_PA_Test/test\""
   ]
  },
  {
   "cell_type": "code",
   "execution_count": 2,
   "metadata": {},
   "outputs": [],
   "source": [
    "DATADIR = \"im_base_to_angle/rotated_5_pa/test\""
   ]
  },
  {
   "cell_type": "code",
   "execution_count": 4,
   "metadata": {},
   "outputs": [],
   "source": [
    "directories = [x[0] for x in os.walk(\"/home/apofeo/Documents/symbols\")]"
   ]
  },
  {
   "cell_type": "code",
   "execution_count": 6,
   "metadata": {},
   "outputs": [
    {
     "name": "stdout",
     "output_type": "stream",
     "text": [
      "['0', '1', '2', '3', '4', '5', '6', '7', '8', '9', 'А', 'В', 'Е', 'К', 'М', 'Н', 'О', 'Р', 'С', 'Т', 'У', 'Х']\n",
      "22\n"
     ]
    }
   ],
   "source": [
    "# print(directories[1:])\n",
    "# print(len(directories[1:]))\n",
    "# print(directories.split(\"/\"))\n",
    "CATEGORIES = []\n",
    "for folder in directories[1:]:\n",
    "    CATEGORIES.append(folder.split(\"/\")[-1])\n",
    "print(sorted(CATEGORIES))\n",
    "print(len(CATEGORIES))\n",
    "CATEGORIES = sorted(CATEGORIES)"
   ]
  },
  {
   "cell_type": "code",
   "execution_count": 3,
   "metadata": {},
   "outputs": [],
   "source": [
    "CATEGORIES_INT = [i for i in range(1, 361)]\n",
    "CATEGORIES = [str(item) for item in CATEGORIES_INT]\n",
    "# map(str, CATEGORIES)\n",
    "# print(CATEGORIES)"
   ]
  },
  {
   "cell_type": "code",
   "execution_count": 4,
   "metadata": {},
   "outputs": [
    {
     "data": {
      "image/png": "[encoded data removed]",
      "text/plain": [
       "<Figure size 432x288 with 1 Axes>"
      ]
     },
     "metadata": {
      "needs_background": "light"
     },
     "output_type": "display_data"
    }
   ],
   "source": [
    "for category in CATEGORIES:  # do dogs and cats\n",
    "    path = os.path.join(DATADIR,category)  # create path to dogs and cats\n",
    "    for img in os.listdir(path):  # iterate over each image per dogs and cats\n",
    "        img_array = cv2.imread(os.path.join(path,img))  # convert to array\n",
    "        plt.imshow(img_array, cmap='gray')  # graph it\n",
    "        plt.show()  # display!\n",
    "\n",
    "        break  # we just want one for now so break\n",
    "    break  #...and one more!"
   ]
  },
  {
   "cell_type": "code",
   "execution_count": 5,
   "metadata": {},
   "outputs": [
    {
     "name": "stdout",
     "output_type": "stream",
     "text": [
      "[[[ 79  66  77]\n",
      "  [ 71  58  72]\n",
      "  [ 77  66  81]\n",
      "  ...\n",
      "  [ 79  81 134]\n",
      "  [ 89  92 144]\n",
      "  [ 79  83 138]]\n",
      "\n",
      " [[ 87  74  90]\n",
      "  [ 82  72  87]\n",
      "  [ 74  63  79]\n",
      "  ...\n",
      "  [ 42  42  47]\n",
      "  [ 64  64  69]\n",
      "  [ 69  74 131]]\n",
      "\n",
      " [[ 66  54  71]\n",
      "  [ 78  66  83]\n",
      "  [ 81  67  84]\n",
      "  ...\n",
      "  [ 45  46  49]\n",
      "  [ 65  65  68]\n",
      "  [ 80  84 141]]\n",
      "\n",
      " ...\n",
      "\n",
      " [[ 87  66 100]\n",
      "  [ 59  58  61]\n",
      "  [ 43  43  46]\n",
      "  ...\n",
      "  [ 80  83 146]\n",
      "  [ 80  81 146]\n",
      "  [ 83  85 148]]\n",
      "\n",
      " [[112  90 123]\n",
      "  [ 52  51  54]\n",
      "  [ 70  69  73]\n",
      "  ...\n",
      "  [ 86  86 152]\n",
      "  [ 94  97 159]\n",
      "  [ 88  91 154]]\n",
      "\n",
      " [[102  82 113]\n",
      "  [ 95  71  94]\n",
      "  [106  85 117]\n",
      "  ...\n",
      "  [ 89  88 152]\n",
      "  [ 87  89 154]\n",
      "  [ 87  87 153]]]\n"
     ]
    }
   ],
   "source": [
    "print(img_array)"
   ]
  },
  {
   "cell_type": "code",
   "execution_count": 6,
   "metadata": {},
   "outputs": [
    {
     "name": "stdout",
     "output_type": "stream",
     "text": [
      "(43, 161, 3)\n"
     ]
    }
   ],
   "source": [
    "print(img_array.shape)"
   ]
  },
  {
   "cell_type": "code",
   "execution_count": 12,
   "metadata": {},
   "outputs": [
    {
     "data": {
      "image/png": "[encoded data removed]",
      "text/plain": [
       "<Figure size 432x288 with 1 Axes>"
      ]
     },
     "metadata": {
      "needs_background": "light"
     },
     "output_type": "display_data"
    }
   ],
   "source": [
    "IMG_SIZE_X, IMG_SIZE_Y = 50, 40\n",
    "\n",
    "new_array = cv2.resize(img_array, (IMG_SIZE_Y, IMG_SIZE_X))\n",
    "plt.imshow(new_array, cmap='gray')\n",
    "plt.show()"
   ]
  },
  {
   "cell_type": "code",
   "execution_count": 5,
   "metadata": {},
   "outputs": [
    {
     "data": {
      "image/png": "[encoded data removed]",
      "text/plain": [
       "<Figure size 432x288 with 1 Axes>"
      ]
     },
     "metadata": {
      "needs_background": "light"
     },
     "output_type": "display_data"
    }
   ],
   "source": [
    "IMG_SIZE = 100\n",
    "\n",
    "new_array = cv2.resize(img_array, (IMG_SIZE, IMG_SIZE))\n",
    "plt.imshow(new_array, cmap='gray')\n",
    "plt.show()"
   ]
  },
  {
   "cell_type": "code",
   "execution_count": 6,
   "metadata": {},
   "outputs": [],
   "source": [
    "training_data = []"
   ]
  },
  {
   "cell_type": "code",
   "execution_count": 7,
   "metadata": {},
   "outputs": [],
   "source": [
    "def create_training_data():\n",
    "    for category in CATEGORIES:  # do dogs and cats\n",
    "\n",
    "        path = os.path.join(DATADIR,category)  # create path to dogs and cats\n",
    "        class_num = CATEGORIES.index(category)  # get the classification  (0 or a 1). 0=dog 1=cat\n",
    "\n",
    "        for img in tqdm(os.listdir(path)):  # iterate over each image per dogs and cats\n",
    "            try:\n",
    "                img_array = cv2.imread(os.path.join(path,img))  # convert to array\n",
    "                new_array = cv2.resize(img_array, (IMG_SIZE, IMG_SIZE))  # resize to normalize data size\n",
    "                path_to_img = os.path.join(path,img)\n",
    "                training_data.append([new_array, class_num, path_to_img])  # add this to our training_data\n",
    "            except Exception as e:  # in the interest in keeping the output clean...\n",
    "                pass\n",
    "            #except OSError as e:\n",
    "            #    print(\"OSErrroBad img most likely\", e, os.path.join(path,img))\n",
    "            #except Exception as e:\n",
    "            #    print(\"general exception\", e, os.path.join(path,img))"
   ]
  },
  {
   "cell_type": "code",
   "execution_count": 8,
   "metadata": {},
   "outputs": [
    {
     "name": "stderr",
     "output_type": "stream",
     "text": [
      "100%|██████████| 9/9 [00:00<00:00, 1627.38it/s]\n",
      "100%|██████████| 9/9 [00:00<00:00, 2962.08it/s]\n",
      "100%|██████████| 9/9 [00:00<00:00, 1876.18it/s]\n",
      "100%|██████████| 9/9 [00:00<00:00, 1370.99it/s]\n",
      "100%|██████████| 9/9 [00:00<00:00, 2110.40it/s]\n",
      "100%|██████████| 9/9 [00:00<00:00, 1483.72it/s]\n",
      "100%|██████████| 9/9 [00:00<00:00, 1469.57it/s]\n",
      "100%|██████████| 9/9 [00:00<00:00, 829.02it/s]\n",
      "100%|██████████| 9/9 [00:00<00:00, 1081.28it/s]\n",
      "100%|██████████| 9/9 [00:00<00:00, 415.74it/s]\n",
      "100%|██████████| 9/9 [00:00<00:00, 249.69it/s]\n",
      "100%|██████████| 9/9 [00:00<00:00, 809.94it/s]\n",
      "100%|██████████| 9/9 [00:00<00:00, 972.93it/s]\n",
      "100%|██████████| 9/9 [00:00<00:00, 1109.73it/s]\n",
      "100%|██████████| 9/9 [00:00<00:00, 866.91it/s]\n",
      "100%|██████████| 9/9 [00:00<00:00, 1667.13it/s]\n",
      "100%|██████████| 9/9 [00:00<00:00, 629.00it/s]\n",
      "100%|██████████| 9/9 [00:00<00:00, 627.22it/s]\n",
      "100%|██████████| 9/9 [00:00<00:00, 1168.33it/s]\n",
      "100%|██████████| 9/9 [00:00<00:00, 689.24it/s]\n",
      "100%|██████████| 9/9 [00:00<00:00, 1009.76it/s]\n",
      "100%|██████████| 9/9 [00:00<00:00, 1256.41it/s]\n",
      "100%|██████████| 9/9 [00:00<00:00, 1028.32it/s]\n",
      "100%|██████████| 9/9 [00:00<00:00, 617.75it/s]\n",
      "100%|██████████| 9/9 [00:00<00:00, 781.18it/s]\n",
      "100%|██████████| 9/9 [00:00<00:00, 1385.99it/s]\n",
      "100%|██████████| 9/9 [00:00<00:00, 1110.45it/s]\n",
      "100%|██████████| 9/9 [00:00<00:00, 1242.06it/s]\n",
      "100%|██████████| 9/9 [00:00<00:00, 741.95it/s]\n",
      "100%|██████████| 9/9 [00:00<00:00, 1169.31it/s]\n",
      "100%|██████████| 9/9 [00:00<00:00, 936.37it/s]\n",
      "100%|██████████| 9/9 [00:00<00:00, 957.39it/s]\n",
      "100%|██████████| 9/9 [00:00<00:00, 908.95it/s]\n",
      "100%|██████████| 9/9 [00:00<00:00, 795.58it/s]\n",
      "100%|██████████| 9/9 [00:00<00:00, 1120.31it/s]\n",
      "100%|██████████| 9/9 [00:00<00:00, 570.22it/s]\n",
      "100%|██████████| 9/9 [00:00<00:00, 760.97it/s]\n",
      "100%|██████████| 9/9 [00:00<00:00, 847.05it/s]\n",
      "100%|██████████| 9/9 [00:00<00:00, 812.27it/s]\n",
      "100%|██████████| 9/9 [00:00<00:00, 789.95it/s]\n",
      "100%|██████████| 9/9 [00:00<00:00, 586.05it/s]\n",
      "100%|██████████| 9/9 [00:00<00:00, 752.01it/s]\n",
      "100%|██████████| 9/9 [00:00<00:00, 1022.89it/s]\n",
      "100%|██████████| 9/9 [00:00<00:00, 683.52it/s]\n",
      "100%|██████████| 9/9 [00:00<00:00, 796.96it/s]\n",
      "100%|██████████| 9/9 [00:00<00:00, 917.39it/s]\n",
      "100%|██████████| 9/9 [00:00<00:00, 771.42it/s]\n",
      "100%|██████████| 9/9 [00:00<00:00, 773.22it/s]\n",
      "100%|██████████| 9/9 [00:00<00:00, 797.33it/s]\n",
      "100%|██████████| 9/9 [00:00<00:00, 737.44it/s]\n",
      "100%|██████████| 9/9 [00:00<00:00, 523.65it/s]\n",
      "100%|██████████| 9/9 [00:00<00:00, 799.71it/s]\n",
      "100%|██████████| 9/9 [00:00<00:00, 904.92it/s]\n",
      "100%|██████████| 9/9 [00:00<00:00, 966.08it/s]\n",
      "100%|██████████| 9/9 [00:00<00:00, 868.99it/s]\n",
      "100%|██████████| 9/9 [00:00<00:00, 997.67it/s]\n",
      "100%|██████████| 9/9 [00:00<00:00, 988.60it/s]\n",
      "100%|██████████| 9/9 [00:00<00:00, 622.14it/s]\n",
      "100%|██████████| 9/9 [00:00<00:00, 958.26it/s]\n",
      "100%|██████████| 9/9 [00:00<00:00, 653.68it/s]\n",
      "100%|██████████| 9/9 [00:00<00:00, 589.85it/s]\n",
      "100%|██████████| 9/9 [00:00<00:00, 740.03it/s]\n",
      "100%|██████████| 9/9 [00:00<00:00, 539.71it/s]\n",
      "100%|██████████| 9/9 [00:00<00:00, 682.44it/s]\n",
      "100%|██████████| 9/9 [00:00<00:00, 547.86it/s]\n",
      "100%|██████████| 9/9 [00:00<00:00, 581.56it/s]\n",
      "100%|██████████| 9/9 [00:00<00:00, 464.01it/s]\n",
      "100%|██████████| 9/9 [00:00<00:00, 596.66it/s]\n",
      "100%|██████████| 9/9 [00:00<00:00, 772.13it/s]\n",
      "100%|██████████| 9/9 [00:00<00:00, 642.17it/s]\n",
      "100%|██████████| 9/9 [00:00<00:00, 890.99it/s]\n",
      "100%|██████████| 9/9 [00:00<00:00, 975.22it/s]\n",
      "100%|██████████| 9/9 [00:00<00:00, 958.21it/s]\n",
      "100%|██████████| 9/9 [00:00<00:00, 1041.89it/s]\n",
      "100%|██████████| 9/9 [00:00<00:00, 1123.34it/s]\n",
      "100%|██████████| 9/9 [00:00<00:00, 947.98it/s]\n",
      "100%|██████████| 9/9 [00:00<00:00, 1125.28it/s]\n",
      "100%|██████████| 9/9 [00:00<00:00, 688.28it/s]\n",
      "100%|██████████| 9/9 [00:00<00:00, 802.91it/s]\n",
      "100%|██████████| 9/9 [00:00<00:00, 735.21it/s]\n",
      "100%|██████████| 9/9 [00:00<00:00, 857.24it/s]\n",
      "100%|██████████| 9/9 [00:00<00:00, 645.84it/s]\n",
      "100%|██████████| 9/9 [00:00<00:00, 1182.01it/s]\n",
      "100%|██████████| 9/9 [00:00<00:00, 1094.71it/s]\n",
      "100%|██████████| 9/9 [00:00<00:00, 1544.55it/s]\n",
      "100%|██████████| 9/9 [00:00<00:00, 741.64it/s]\n",
      "100%|██████████| 9/9 [00:00<00:00, 1240.84it/s]\n",
      "100%|██████████| 9/9 [00:00<00:00, 1666.61it/s]\n",
      "100%|██████████| 9/9 [00:00<00:00, 1216.37it/s]\n",
      "100%|██████████| 9/9 [00:00<00:00, 1058.57it/s]\n",
      "100%|██████████| 9/9 [00:00<00:00, 1256.41it/s]\n",
      "100%|██████████| 9/9 [00:00<00:00, 1831.40it/s]\n",
      "100%|██████████| 9/9 [00:00<00:00, 1705.23it/s]\n",
      "100%|██████████| 9/9 [00:00<00:00, 1573.13it/s]\n",
      "100%|██████████| 9/9 [00:00<00:00, 1204.80it/s]\n",
      "100%|██████████| 9/9 [00:00<00:00, 1413.49it/s]\n",
      "100%|██████████| 9/9 [00:00<00:00, 1116.43it/s]\n",
      "100%|██████████| 9/9 [00:00<00:00, 933.27it/s]\n",
      "100%|██████████| 9/9 [00:00<00:00, 1188.41it/s]\n",
      "100%|██████████| 9/9 [00:00<00:00, 882.74it/s]\n",
      "100%|██████████| 9/9 [00:00<00:00, 1203.68it/s]\n",
      "100%|██████████| 9/9 [00:00<00:00, 978.17it/s]\n",
      "100%|██████████| 9/9 [00:00<00:00, 1224.30it/s]\n",
      "100%|██████████| 9/9 [00:00<00:00, 1284.41it/s]\n",
      "100%|██████████| 9/9 [00:00<00:00, 923.34it/s]\n",
      "100%|██████████| 9/9 [00:00<00:00, 1124.08it/s]\n",
      "100%|██████████| 9/9 [00:00<00:00, 949.56it/s]\n",
      "100%|██████████| 9/9 [00:00<00:00, 868.95it/s]\n",
      "100%|██████████| 9/9 [00:00<00:00, 949.03it/s]\n",
      "100%|██████████| 9/9 [00:00<00:00, 660.58it/s]\n",
      "100%|██████████| 9/9 [00:00<00:00, 876.21it/s]\n",
      "100%|██████████| 9/9 [00:00<00:00, 873.55it/s]\n",
      "100%|██████████| 9/9 [00:00<00:00, 993.94it/s]\n",
      "100%|██████████| 9/9 [00:00<00:00, 486.27it/s]\n",
      "100%|██████████| 9/9 [00:00<00:00, 567.22it/s]\n",
      "100%|██████████| 9/9 [00:00<00:00, 825.02it/s]\n",
      "100%|██████████| 9/9 [00:00<00:00, 461.02it/s]\n",
      "100%|██████████| 9/9 [00:00<00:00, 1092.77it/s]\n",
      "100%|██████████| 9/9 [00:00<00:00, 514.56it/s]\n",
      "100%|██████████| 9/9 [00:00<00:00, 774.94it/s]\n",
      "100%|██████████| 9/9 [00:00<00:00, 832.96it/s]\n",
      "100%|██████████| 9/9 [00:00<00:00, 768.92it/s]\n",
      "100%|██████████| 9/9 [00:00<00:00, 829.30it/s]\n",
      "100%|██████████| 9/9 [00:00<00:00, 527.22it/s]\n",
      "100%|██████████| 9/9 [00:00<00:00, 1024.95it/s]\n",
      "100%|██████████| 9/9 [00:00<00:00, 792.54it/s]\n",
      "100%|██████████| 9/9 [00:00<00:00, 903.23it/s]\n",
      "100%|██████████| 9/9 [00:00<00:00, 711.33it/s]\n",
      "100%|██████████| 9/9 [00:00<00:00, 857.24it/s]\n",
      "100%|██████████| 9/9 [00:00<00:00, 591.43it/s]\n",
      "100%|██████████| 9/9 [00:00<00:00, 1022.28it/s]\n",
      "100%|██████████| 9/9 [00:00<00:00, 936.48it/s]\n",
      "100%|██████████| 9/9 [00:00<00:00, 697.67it/s]\n",
      "100%|██████████| 9/9 [00:00<00:00, 681.39it/s]\n",
      "100%|██████████| 9/9 [00:00<00:00, 717.23it/s]\n",
      "100%|██████████| 9/9 [00:00<00:00, 948.39it/s]\n",
      "100%|██████████| 9/9 [00:00<00:00, 706.68it/s]\n",
      "100%|██████████| 9/9 [00:00<00:00, 639.85it/s]\n",
      "100%|██████████| 9/9 [00:00<00:00, 1086.26it/s]\n",
      "100%|██████████| 9/9 [00:00<00:00, 914.74it/s]\n",
      "100%|██████████| 9/9 [00:00<00:00, 646.91it/s]\n",
      "100%|██████████| 9/9 [00:00<00:00, 661.90it/s]\n",
      "100%|██████████| 9/9 [00:00<00:00, 375.12it/s]\n",
      "100%|██████████| 9/9 [00:00<00:00, 876.53it/s]\n",
      "100%|██████████| 9/9 [00:00<00:00, 1137.08it/s]\n",
      "100%|██████████| 9/9 [00:00<00:00, 666.41it/s]\n",
      "100%|██████████| 9/9 [00:00<00:00, 656.90it/s]\n",
      "100%|██████████| 9/9 [00:00<00:00, 988.94it/s]\n",
      "100%|██████████| 9/9 [00:00<00:00, 733.46it/s]\n",
      "100%|██████████| 9/9 [00:00<00:00, 1293.87it/s]\n",
      "100%|██████████| 9/9 [00:00<00:00, 1243.33it/s]\n",
      "100%|██████████| 9/9 [00:00<00:00, 994.83it/s]\n",
      "100%|██████████| 9/9 [00:00<00:00, 992.13it/s]\n",
      "100%|██████████| 9/9 [00:00<00:00, 1033.02it/s]\n",
      "100%|██████████| 9/9 [00:00<00:00, 941.41it/s]\n",
      "100%|██████████| 9/9 [00:00<00:00, 1097.67it/s]\n",
      "100%|██████████| 9/9 [00:00<00:00, 1424.05it/s]\n",
      "100%|██████████| 9/9 [00:00<00:00, 1262.33it/s]\n",
      "100%|██████████| 9/9 [00:00<00:00, 650.26it/s]\n",
      "100%|██████████| 9/9 [00:00<00:00, 1074.45it/s]\n",
      "100%|██████████| 9/9 [00:00<00:00, 1330.26it/s]\n",
      "100%|██████████| 9/9 [00:00<00:00, 1195.72it/s]\n",
      "100%|██████████| 9/9 [00:00<00:00, 1049.48it/s]\n",
      "100%|██████████| 9/9 [00:00<00:00, 1160.18it/s]\n",
      "100%|██████████| 9/9 [00:00<00:00, 1065.36it/s]\n",
      "100%|██████████| 9/9 [00:00<00:00, 1172.90it/s]\n",
      "100%|██████████| 9/9 [00:00<00:00, 1262.80it/s]\n",
      "100%|██████████| 9/9 [00:00<00:00, 1450.20it/s]\n",
      "100%|██████████| 9/9 [00:00<00:00, 1615.33it/s]\n",
      "100%|██████████| 9/9 [00:00<00:00, 566.54it/s]\n",
      "100%|██████████| 9/9 [00:00<00:00, 1379.05it/s]\n",
      "100%|██████████| 9/9 [00:00<00:00, 874.58it/s]\n",
      "100%|██████████| 9/9 [00:00<00:00, 2032.45it/s]\n",
      "100%|██████████| 9/9 [00:00<00:00, 1066.62it/s]\n",
      "100%|██████████| 9/9 [00:00<00:00, 1694.90it/s]\n",
      "100%|██████████| 9/9 [00:00<00:00, 2122.86it/s]\n",
      "100%|██████████| 9/9 [00:00<00:00, 1339.56it/s]\n",
      "100%|██████████| 9/9 [00:00<00:00, 1659.14it/s]\n",
      "100%|██████████| 9/9 [00:00<00:00, 2058.83it/s]\n",
      "100%|██████████| 9/9 [00:00<00:00, 1888.48it/s]\n",
      "100%|██████████| 9/9 [00:00<00:00, 2212.83it/s]\n",
      "100%|██████████| 9/9 [00:00<00:00, 1822.64it/s]\n",
      "100%|██████████| 9/9 [00:00<00:00, 1485.76it/s]\n",
      "100%|██████████| 9/9 [00:00<00:00, 1796.10it/s]\n",
      "100%|██████████| 9/9 [00:00<00:00, 1386.04it/s]\n",
      "100%|██████████| 9/9 [00:00<00:00, 1514.49it/s]\n",
      "100%|██████████| 9/9 [00:00<00:00, 1119.87it/s]\n",
      "100%|██████████| 9/9 [00:00<00:00, 1391.45it/s]\n",
      "100%|██████████| 9/9 [00:00<00:00, 1588.68it/s]\n",
      "100%|██████████| 9/9 [00:00<00:00, 1524.22it/s]\n",
      "100%|██████████| 9/9 [00:00<00:00, 1452.54it/s]\n",
      "100%|██████████| 9/9 [00:00<00:00, 1443.44it/s]\n",
      "100%|██████████| 9/9 [00:00<00:00, 1512.19it/s]\n",
      "100%|██████████| 9/9 [00:00<00:00, 1501.12it/s]\n",
      "100%|██████████| 9/9 [00:00<00:00, 1483.02it/s]\n",
      "100%|██████████| 9/9 [00:00<00:00, 1517.78it/s]\n",
      "100%|██████████| 9/9 [00:00<00:00, 1007.52it/s]\n",
      "100%|██████████| 9/9 [00:00<00:00, 1223.90it/s]\n",
      "100%|██████████| 9/9 [00:00<00:00, 1333.27it/s]\n",
      "100%|██████████| 9/9 [00:00<00:00, 689.19it/s]\n",
      "100%|██████████| 9/9 [00:00<00:00, 1060.21it/s]\n",
      "100%|██████████| 9/9 [00:00<00:00, 1081.90it/s]\n",
      "100%|██████████| 9/9 [00:00<00:00, 951.45it/s]\n",
      "100%|██████████| 9/9 [00:00<00:00, 887.89it/s]\n",
      "100%|██████████| 9/9 [00:00<00:00, 684.26it/s]\n",
      "100%|██████████| 9/9 [00:00<00:00, 663.71it/s]\n",
      "100%|██████████| 9/9 [00:00<00:00, 995.93it/s]\n",
      "100%|██████████| 9/9 [00:00<00:00, 1182.79it/s]\n",
      "100%|██████████| 9/9 [00:00<00:00, 1180.90it/s]\n",
      "100%|██████████| 9/9 [00:00<00:00, 826.30it/s]\n",
      "100%|██████████| 9/9 [00:00<00:00, 908.05it/s]\n",
      "100%|██████████| 9/9 [00:00<00:00, 1154.25it/s]\n",
      "100%|██████████| 9/9 [00:00<00:00, 848.13it/s]\n",
      "100%|██████████| 9/9 [00:00<00:00, 897.80it/s]\n",
      "100%|██████████| 9/9 [00:00<00:00, 1101.03it/s]\n",
      "100%|██████████| 9/9 [00:00<00:00, 896.92it/s]\n",
      "100%|██████████| 9/9 [00:00<00:00, 892.47it/s]\n",
      "100%|██████████| 9/9 [00:00<00:00, 816.33it/s]\n",
      "100%|██████████| 9/9 [00:00<00:00, 792.46it/s]\n",
      "100%|██████████| 9/9 [00:00<00:00, 650.90it/s]\n",
      "100%|██████████| 9/9 [00:00<00:00, 632.89it/s]\n",
      "100%|██████████| 9/9 [00:00<00:00, 842.00it/s]\n",
      "100%|██████████| 9/9 [00:00<00:00, 682.36it/s]\n",
      "100%|██████████| 9/9 [00:00<00:00, 847.77it/s]\n",
      "100%|██████████| 9/9 [00:00<00:00, 486.27it/s]\n",
      "100%|██████████| 9/9 [00:00<00:00, 668.13it/s]\n",
      "100%|██████████| 9/9 [00:00<00:00, 550.32it/s]\n",
      "100%|██████████| 9/9 [00:00<00:00, 477.52it/s]\n",
      "100%|██████████| 9/9 [00:00<00:00, 667.21it/s]\n",
      "100%|██████████| 9/9 [00:00<00:00, 695.91it/s]\n",
      "100%|██████████| 9/9 [00:00<00:00, 730.22it/s]\n",
      "100%|██████████| 9/9 [00:00<00:00, 661.37it/s]\n",
      "100%|██████████| 9/9 [00:00<00:00, 666.11it/s]\n",
      "100%|██████████| 9/9 [00:00<00:00, 761.14it/s]\n",
      "100%|██████████| 9/9 [00:00<00:00, 706.85it/s]\n",
      "100%|██████████| 9/9 [00:00<00:00, 192.23it/s]\n",
      "100%|██████████| 9/9 [00:00<00:00, 748.73it/s]\n",
      "100%|██████████| 9/9 [00:00<00:00, 799.83it/s]\n",
      "100%|██████████| 9/9 [00:00<00:00, 914.70it/s]\n",
      "100%|██████████| 9/9 [00:00<00:00, 707.90it/s]\n",
      "100%|██████████| 9/9 [00:00<00:00, 924.49it/s]\n",
      "100%|██████████| 9/9 [00:00<00:00, 1020.84it/s]\n",
      "100%|██████████| 9/9 [00:00<00:00, 782.76it/s]\n",
      "100%|██████████| 9/9 [00:00<00:00, 760.89it/s]\n",
      "100%|██████████| 9/9 [00:00<00:00, 637.96it/s]\n",
      "100%|██████████| 9/9 [00:00<00:00, 749.16it/s]\n",
      "100%|██████████| 9/9 [00:00<00:00, 852.85it/s]\n",
      "100%|██████████| 9/9 [00:00<00:00, 818.92it/s]\n",
      "100%|██████████| 9/9 [00:00<00:00, 805.41it/s]\n",
      "100%|██████████| 9/9 [00:00<00:00, 561.11it/s]\n",
      "100%|██████████| 9/9 [00:00<00:00, 750.31it/s]\n",
      "100%|██████████| 9/9 [00:00<00:00, 934.51it/s]\n",
      "100%|██████████| 9/9 [00:00<00:00, 870.07it/s]\n",
      "100%|██████████| 9/9 [00:00<00:00, 1041.52it/s]\n",
      "100%|██████████| 9/9 [00:00<00:00, 436.78it/s]\n",
      "100%|██████████| 9/9 [00:00<00:00, 553.91it/s]\n",
      "100%|██████████| 9/9 [00:00<00:00, 945.70it/s]\n",
      "100%|██████████| 9/9 [00:00<00:00, 408.02it/s]\n",
      "100%|██████████| 9/9 [00:00<00:00, 877.31it/s]\n",
      "100%|██████████| 9/9 [00:00<00:00, 838.10it/s]\n",
      "100%|██████████| 9/9 [00:00<00:00, 943.41it/s]\n",
      "100%|██████████| 9/9 [00:00<00:00, 905.07it/s]\n",
      "100%|██████████| 9/9 [00:00<00:00, 1017.29it/s]\n",
      "100%|██████████| 9/9 [00:00<00:00, 1087.89it/s]\n",
      "100%|██████████| 9/9 [00:00<00:00, 1211.37it/s]\n",
      "100%|██████████| 9/9 [00:00<00:00, 1631.11it/s]\n",
      "100%|██████████| 9/9 [00:00<00:00, 1079.99it/s]\n",
      "100%|██████████| 9/9 [00:00<00:00, 1232.01it/s]\n",
      "100%|██████████| 9/9 [00:00<00:00, 959.01it/s]\n",
      "100%|██████████| 9/9 [00:00<00:00, 1402.36it/s]\n",
      "100%|██████████| 9/9 [00:00<00:00, 1172.50it/s]\n",
      "100%|██████████| 9/9 [00:00<00:00, 954.84it/s]\n",
      "100%|██████████| 9/9 [00:00<00:00, 927.81it/s]\n",
      "100%|██████████| 9/9 [00:00<00:00, 721.52it/s]\n",
      "100%|██████████| 9/9 [00:00<00:00, 1002.25it/s]\n",
      "100%|██████████| 9/9 [00:00<00:00, 1748.03it/s]\n",
      "100%|██████████| 9/9 [00:00<00:00, 1338.94it/s]\n",
      "100%|██████████| 9/9 [00:00<00:00, 1189.27it/s]\n",
      "100%|██████████| 9/9 [00:00<00:00, 1387.26it/s]\n",
      "100%|██████████| 9/9 [00:00<00:00, 1646.55it/s]\n",
      "100%|██████████| 9/9 [00:00<00:00, 1247.97it/s]\n",
      "100%|██████████| 9/9 [00:00<00:00, 614.61it/s]\n",
      "100%|██████████| 9/9 [00:00<00:00, 928.90it/s]\n",
      "100%|██████████| 9/9 [00:00<00:00, 935.16it/s]\n",
      "100%|██████████| 9/9 [00:00<00:00, 1138.14it/s]\n",
      "100%|██████████| 9/9 [00:00<00:00, 940.17it/s]\n",
      "100%|██████████| 9/9 [00:00<00:00, 861.90it/s]\n",
      "100%|██████████| 9/9 [00:00<00:00, 886.79it/s]\n",
      "100%|██████████| 9/9 [00:00<00:00, 835.93it/s]\n",
      "100%|██████████| 9/9 [00:00<00:00, 854.60it/s]\n",
      "100%|██████████| 9/9 [00:00<00:00, 871.80it/s]\n",
      "100%|██████████| 9/9 [00:00<00:00, 1188.67it/s]\n",
      "100%|██████████| 9/9 [00:00<00:00, 1162.79it/s]\n",
      "100%|██████████| 9/9 [00:00<00:00, 768.83it/s]\n",
      "100%|██████████| 9/9 [00:00<00:00, 1213.98it/s]\n",
      "100%|██████████| 9/9 [00:00<00:00, 951.19it/s]\n",
      "100%|██████████| 9/9 [00:00<00:00, 595.07it/s]\n",
      "100%|██████████| 9/9 [00:00<00:00, 834.76it/s]\n",
      "100%|██████████| 9/9 [00:00<00:00, 754.40it/s]\n",
      "100%|██████████| 9/9 [00:00<00:00, 805.19it/s]\n",
      "100%|██████████| 9/9 [00:00<00:00, 771.31it/s]\n",
      "100%|██████████| 9/9 [00:00<00:00, 664.10it/s]\n",
      "100%|██████████| 9/9 [00:00<00:00, 535.18it/s]\n",
      "100%|██████████| 9/9 [00:00<00:00, 721.04it/s]\n",
      "100%|██████████| 9/9 [00:00<00:00, 804.40it/s]\n",
      "100%|██████████| 9/9 [00:00<00:00, 774.27it/s]\n",
      "100%|██████████| 9/9 [00:00<00:00, 910.44it/s]\n",
      "100%|██████████| 9/9 [00:00<00:00, 810.09it/s]\n",
      "100%|██████████| 9/9 [00:00<00:00, 644.25it/s]\n",
      "100%|██████████| 9/9 [00:00<00:00, 984.19it/s]\n",
      "100%|██████████| 9/9 [00:00<00:00, 665.19it/s]\n",
      "100%|██████████| 9/9 [00:00<00:00, 502.61it/s]\n",
      "100%|██████████| 9/9 [00:00<00:00, 813.27it/s]\n",
      "100%|██████████| 9/9 [00:00<00:00, 1021.89it/s]\n",
      "100%|██████████| 9/9 [00:00<00:00, 819.93it/s]\n",
      "100%|██████████| 9/9 [00:00<00:00, 1025.47it/s]\n",
      "100%|██████████| 9/9 [00:00<00:00, 789.82it/s]\n",
      "100%|██████████| 9/9 [00:00<00:00, 903.45it/s]\n",
      "100%|██████████| 9/9 [00:00<00:00, 810.88it/s]\n",
      "100%|██████████| 9/9 [00:00<00:00, 985.32it/s]\n",
      "100%|██████████| 9/9 [00:00<00:00, 710.15it/s]\n",
      "100%|██████████| 9/9 [00:00<00:00, 1059.64it/s]\n",
      "100%|██████████| 9/9 [00:00<00:00, 837.08it/s]\n",
      "100%|██████████| 9/9 [00:00<00:00, 1094.77it/s]\n",
      "100%|██████████| 9/9 [00:00<00:00, 1050.85it/s]\n",
      "100%|██████████| 9/9 [00:00<00:00, 1017.95it/s]\n",
      "100%|██████████| 9/9 [00:00<00:00, 1098.69it/s]\n",
      "100%|██████████| 9/9 [00:00<00:00, 427.25it/s]\n",
      "100%|██████████| 9/9 [00:00<00:00, 865.04it/s]\n",
      "100%|██████████| 9/9 [00:00<00:00, 660.10it/s]\n",
      "100%|██████████| 9/9 [00:00<00:00, 850.33it/s]\n",
      "100%|██████████| 9/9 [00:00<00:00, 1000.60it/s]\n",
      "100%|██████████| 9/9 [00:00<00:00, 1271.99it/s]\n",
      "100%|██████████| 9/9 [00:00<00:00, 750.40it/s]\n",
      "100%|██████████| 9/9 [00:00<00:00, 959.48it/s]\n",
      "100%|██████████| 9/9 [00:00<00:00, 944.76it/s]\n",
      "100%|██████████| 9/9 [00:00<00:00, 1220.18it/s]\n",
      "100%|██████████| 9/9 [00:00<00:00, 1351.55it/s]\n",
      "100%|██████████| 9/9 [00:00<00:00, 640.88it/s]\n",
      "100%|██████████| 9/9 [00:00<00:00, 523.91it/s]\n",
      "100%|██████████| 9/9 [00:00<00:00, 905.83it/s]\n",
      "100%|██████████| 9/9 [00:00<00:00, 1560.96it/s]\n",
      "100%|██████████| 9/9 [00:00<00:00, 950.28it/s]\n",
      "100%|██████████| 9/9 [00:00<00:00, 838.71it/s]\n",
      "100%|██████████| 9/9 [00:00<00:00, 1045.24it/s]\n",
      "100%|██████████| 9/9 [00:00<00:00, 1414.92it/s]\n",
      "100%|██████████| 9/9 [00:00<00:00, 1003.00it/s]\n",
      "100%|██████████| 9/9 [00:00<00:00, 850.14it/s]\n",
      "100%|██████████| 9/9 [00:00<00:00, 1746.58it/s]\n",
      "100%|██████████| 9/9 [00:00<00:00, 691.38it/s]\n",
      "100%|██████████| 9/9 [00:00<00:00, 1629.77it/s]\n",
      "100%|██████████| 9/9 [00:00<00:00, 1159.82it/s]\n",
      "100%|██████████| 9/9 [00:00<00:00, 1039.62it/s]\n",
      "100%|██████████| 9/9 [00:00<00:00, 1406.44it/s]\n",
      "100%|██████████| 9/9 [00:00<00:00, 1391.15it/s]\n",
      "100%|██████████| 9/9 [00:00<00:00, 1520.04it/s]\n",
      "100%|██████████| 9/9 [00:00<00:00, 383.82it/s]\n",
      "100%|██████████| 9/9 [00:00<00:00, 780.80it/s]\n",
      "100%|██████████| 9/9 [00:00<00:00, 1761.82it/s]\n",
      "100%|██████████| 9/9 [00:00<00:00, 1138.31it/s]\n"
     ]
    }
   ],
   "source": [
    "create_training_data()"
   ]
  },
  {
   "cell_type": "code",
   "execution_count": 9,
   "metadata": {},
   "outputs": [
    {
     "name": "stdout",
     "output_type": "stream",
     "text": [
      "3240\n"
     ]
    }
   ],
   "source": [
    "print(len(training_data))"
   ]
  },
  {
   "cell_type": "code",
   "execution_count": 10,
   "metadata": {},
   "outputs": [],
   "source": [
    "import random"
   ]
  },
  {
   "cell_type": "code",
   "execution_count": 11,
   "metadata": {},
   "outputs": [],
   "source": [
    "random.shuffle(training_data)"
   ]
  },
  {
   "cell_type": "code",
   "execution_count": 20,
   "metadata": {},
   "outputs": [],
   "source": [
    "# print(training_data[0])"
   ]
  },
  {
   "cell_type": "code",
   "execution_count": 22,
   "metadata": {},
   "outputs": [
    {
     "name": "stdout",
     "output_type": "stream",
     "text": [
      "163\n",
      "318\n",
      "170\n",
      "29\n",
      "324\n",
      "110\n",
      "262\n",
      "223\n",
      "171\n",
      "100\n"
     ]
    }
   ],
   "source": [
    "for sample in training_data[:10]:\n",
    "    print(sample[1])"
   ]
  },
  {
   "cell_type": "code",
   "execution_count": 23,
   "metadata": {},
   "outputs": [],
   "source": [
    "X = []\n",
    "Y = []\n",
    "Z = []"
   ]
  },
  {
   "cell_type": "code",
   "execution_count": 24,
   "metadata": {},
   "outputs": [],
   "source": [
    "for features,label, path in training_data:\n",
    "    X.append(features)\n",
    "    Y.append(label)\n",
    "    Z.append(path)"
   ]
  },
  {
   "cell_type": "code",
   "execution_count": null,
   "metadata": {},
   "outputs": [],
   "source": [
    "# print(X[0].reshape(-1, IMG_SIZE, IMG_SIZE, 3))"
   ]
  },
  {
   "cell_type": "code",
   "execution_count": 17,
   "metadata": {},
   "outputs": [
    {
     "data": {
      "text/plain": [
       "['trained_data/X_CLP_CI_PA_3CH_V6_DI.sav']"
      ]
     },
     "execution_count": 17,
     "metadata": {},
     "output_type": "execute_result"
    }
   ],
   "source": [
    "filename = 'trained_data/X_CLP_CI_PA_3CH_V6_DI.sav'\n",
    "joblib.dump(X, filename)"
   ]
  },
  {
   "cell_type": "code",
   "execution_count": 19,
   "metadata": {},
   "outputs": [
    {
     "name": "stdout",
     "output_type": "stream",
     "text": [
      "36000\n"
     ]
    },
    {
     "data": {
      "text/plain": [
       "<matplotlib.image.AxesImage at 0x7f877faee358>"
      ]
     },
     "execution_count": 19,
     "metadata": {},
     "output_type": "execute_result"
    },
    {
     "data": {
      "image/png": "[encoded data removed]",
      "text/plain": [
       "<Figure size 432x288 with 1 Axes>"
      ]
     },
     "metadata": {
      "needs_background": "light"
     },
     "output_type": "display_data"
    }
   ],
   "source": [
    "filename = 'trained_data/X_CLP_CI_PA_3CH_V6_DI.sav'\n",
    "loaded_X = joblib.load(filename)\n",
    "print(len(loaded_X))\n",
    "plt.imshow(loaded_X[0])"
   ]
  },
  {
   "cell_type": "code",
   "execution_count": 27,
   "metadata": {},
   "outputs": [],
   "source": [
    "X = np.array(X).reshape(-1, IMG_SIZE, IMG_SIZE, 3)"
   ]
  },
  {
   "cell_type": "code",
   "execution_count": 22,
   "metadata": {},
   "outputs": [
    {
     "name": "stdout",
     "output_type": "stream",
     "text": [
      "(100, 100, 3)\n"
     ]
    }
   ],
   "source": [
    "print(X[0].shape)"
   ]
  },
  {
   "cell_type": "code",
   "execution_count": 25,
   "metadata": {},
   "outputs": [
    {
     "data": {
      "text/plain": [
       "['trained_data/to_test/X_CLP_CI_PA_3CH_V7.sav']"
      ]
     },
     "execution_count": 25,
     "metadata": {},
     "output_type": "execute_result"
    }
   ],
   "source": [
    "filename = 'trained_data/to_test/X_CLP_CI_PA_3CH_V7.sav'\n",
    "joblib.dump(X, filename)"
   ]
  },
  {
   "cell_type": "code",
   "execution_count": 26,
   "metadata": {},
   "outputs": [
    {
     "data": {
      "text/plain": [
       "['trained_data/to_test/Y_CLP_CI_PA_3CH_V7.sav']"
      ]
     },
     "execution_count": 26,
     "metadata": {},
     "output_type": "execute_result"
    }
   ],
   "source": [
    "filename = 'trained_data/to_test/Y_CLP_CI_PA_3CH_V7.sav'\n",
    "joblib.dump(Y, filename)"
   ]
  },
  {
   "cell_type": "code",
   "execution_count": 27,
   "metadata": {},
   "outputs": [
    {
     "data": {
      "text/plain": [
       "['trained_data/to_test/Z_CLP_CI_PA_3CH_V7.sav']"
      ]
     },
     "execution_count": 27,
     "metadata": {},
     "output_type": "execute_result"
    }
   ],
   "source": [
    "filename = 'trained_data/to_test/Z_CLP_CI_PA_3CH_V7.sav'\n",
    "joblib.dump(Z, filename)"
   ]
  },
  {
   "cell_type": "code",
   "execution_count": null,
   "metadata": {},
   "outputs": [],
   "source": []
  },
  {
   "cell_type": "code",
   "execution_count": null,
   "metadata": {},
   "outputs": [],
   "source": []
  }
 ],
 "metadata": {
  "kernelspec": {
   "display_name": "Python 3",
   "language": "python",
   "name": "python3"
  },
  "language_info": {
   "codemirror_mode": {
    "name": "ipython",
    "version": 3
   },
   "file_extension": ".py",
   "mimetype": "text/x-python",
   "name": "python",
   "nbconvert_exporter": "python",
   "pygments_lexer": "ipython3",
   "version": "3.6.7"
  }
 },
 "nbformat": 4,
 "nbformat_minor": 2
}
