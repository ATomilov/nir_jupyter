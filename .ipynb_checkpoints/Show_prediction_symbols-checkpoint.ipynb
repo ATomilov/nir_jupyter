{
 "cells": [
  {
   "cell_type": "code",
   "execution_count": 16,
   "metadata": {},
   "outputs": [],
   "source": [
    "import json\n",
    "import os\n",
    "import pickle\n",
    "\n",
    "import cv2\n",
    "import matplotlib.pyplot as plt\n",
    "import numpy as np\n",
    "import pandas as pd\n",
    "import seaborn as sns\n",
    "import tensorflow as tf\n",
    "import scipy.misc\n",
    "from scipy import ndimage\n",
    "from sklearn.externals import joblib\n",
    "from tensorflow.keras.initializers import glorot_uniform\n",
    "from tensorflow.keras.models import Model, load_model, model_from_json\n",
    "from tensorflow.keras.preprocessing import image\n",
    "from tensorflow.keras.utils import CustomObjectScope\n",
    "from skimage.filters import threshold_otsu, threshold_adaptive"
   ]
  },
  {
   "cell_type": "code",
   "execution_count": 2,
   "metadata": {},
   "outputs": [],
   "source": [
    "def get_models_paths(folder):\n",
    "    files = os.listdir(folder)\n",
    "    files.sort()\n",
    "    files = [\"{}/{}\".format(folder, file) for file in files if not file.startswith(\".\")]\n",
    "    return files"
   ]
  },
  {
   "cell_type": "code",
   "execution_count": 3,
   "metadata": {},
   "outputs": [],
   "source": [
    "def get_files_from_paths(folder):\n",
    "    files = os.listdir(folder)\n",
    "    files.sort()\n",
    "    files = [\"{}/{}\".format(folder, file) for file in files if not file.startswith(\".\")]\n",
    "    return files"
   ]
  },
  {
   "cell_type": "code",
   "execution_count": 4,
   "metadata": {},
   "outputs": [
    {
     "name": "stdout",
     "output_type": "stream",
     "text": [
      "0: trained_model_files/symbols/JSON/TMS_v39_DI_3WAYS_30EP_98.8_.json\n",
      "1: trained_model_files/symbols/JSON/TMS_v39_DI_3WAYS_30EP_99.57_.json\n",
      "2: trained_model_files/symbols/JSON/TMS_v39_DI_3WAYS_30EP_99.61_.json\n",
      "3: trained_model_files/symbols/JSON/TMS_v39_DI_3WAYS_30EP_99.79_.json\n",
      "4: trained_model_files/symbols/JSON/TMS_v39_DI_3WAYS_4EP_99.7_.json\n",
      "5: trained_model_files/symbols/JSON/TMS_v40_3WAYS_4EP_100.0_.json\n"
     ]
    }
   ],
   "source": [
    "models_json = get_models_paths(\"trained_model_files/symbols/JSON\")\n",
    "print(\"\\n\".join(\"{}: {}\".format(*k) for k in enumerate(models_json)))"
   ]
  },
  {
   "cell_type": "code",
   "execution_count": 5,
   "metadata": {},
   "outputs": [],
   "source": [
    "models_h5 = get_models_paths(\"trained_model_files/symbols/H5\")\n",
    "# print(\"\\n\".join(\"{}: {}\".format(*k) for k in enumerate(models_h5)))"
   ]
  },
  {
   "cell_type": "code",
   "execution_count": 6,
   "metadata": {},
   "outputs": [],
   "source": [
    "directories = [x[0] for x in os.walk(\"/home/apofeo/Documents/symbols\")]"
   ]
  },
  {
   "cell_type": "code",
   "execution_count": 7,
   "metadata": {},
   "outputs": [
    {
     "name": "stdout",
     "output_type": "stream",
     "text": [
      "['0', '1', '2', '3', '4', '5', '6', '7', '8', '9', 'А', 'В', 'Е', 'К', 'М', 'Н', 'О', 'Р', 'С', 'Т', 'У', 'Х']\n",
      "22\n"
     ]
    }
   ],
   "source": [
    "# print(directories[1:])\n",
    "# print(len(directories[1:]))\n",
    "# print(directories.split(\"/\"))\n",
    "CATEGORIES = []\n",
    "for folder in directories[1:]:\n",
    "    CATEGORIES.append(folder.split(\"/\")[-1])\n",
    "print(sorted(CATEGORIES))\n",
    "print(len(CATEGORIES))\n",
    "CATEGORIES = sorted(CATEGORIES)"
   ]
  },
  {
   "cell_type": "code",
   "execution_count": 20,
   "metadata": {},
   "outputs": [],
   "source": [
    "def prepare_1ch(filepath):\n",
    "    IMG_SIZE = 50\n",
    "    img_array = cv2.imread(filepath, cv2.IMREAD_GRAYSCALE)\n",
    "    thresh = threshold_otsu(img_array)\n",
    "    binary = img_array > thresh\n",
    "    img_array = binary / 255\n",
    "    new_array = cv2.resize(img_array, (IMG_SIZE, IMG_SIZE))\n",
    "    return new_array.reshape(-1, IMG_SIZE, IMG_SIZE, 1)"
   ]
  },
  {
   "cell_type": "code",
   "execution_count": 9,
   "metadata": {},
   "outputs": [],
   "source": [
    "def prepare_3ch(filepath):\n",
    "    IMG_SIZE = 50\n",
    "    img_array = cv2.imread(filepath)\n",
    "    img_array = img_array / 255\n",
    "    new_array = cv2.resize(img_array, (IMG_SIZE, IMG_SIZE))\n",
    "    return new_array.reshape(-1, IMG_SIZE, IMG_SIZE, 3)"
   ]
  },
  {
   "cell_type": "code",
   "execution_count": 14,
   "metadata": {},
   "outputs": [],
   "source": [
    "index_to_model = 3 # best index is 3, worse is 4\n",
    "json_file = open(models_json[index_to_model], \"r\")\n",
    "loaded_model_json = json_file.read()\n",
    "json_file.close()\n",
    "# loaded_model = model_from_json(loaded_model_json, custom_objects={'BatchNormalizationV1': BatchNormalizationV1()})\n",
    "loaded_model = model_from_json(loaded_model_json)\n",
    "loaded_model.load_weights(models_h5[index_to_model])\n",
    "loaded_model.compile(\n",
    "    loss=\"sparse_categorical_crossentropy\", optimizer=\"adam\", metrics=[\"accuracy\"]\n",
    ")"
   ]
  },
  {
   "cell_type": "code",
   "execution_count": 18,
   "metadata": {},
   "outputs": [
    {
     "data": {
      "text/plain": [
       "<matplotlib.image.AxesImage at 0x7ff0fed15a58>"
      ]
     },
     "execution_count": 18,
     "metadata": {},
     "output_type": "execute_result"
    },
    {
     "data": {
      "image/png": "[encoded data removed]",
      "text/plain": [
       "<Figure size 432x288 with 1 Axes>"
      ]
     },
     "metadata": {},
     "output_type": "display_data"
    }
   ],
   "source": [
    "img_path = \"/home/apofeo/Documents/detect_result/1_0.png\"\n",
    "# img_path = \"/home/apofeo/Documents/clp_rotated_test/train/200/bab717de49084b2a91e3fe2d3f272db3.png\"\n",
    "# img_path = \"/home/apofeo/Documents/clp_rotated_v7/test/148/5d98d2923894428d9dd6591d174d926e.png\"\n",
    "# img_path = \"im_base_to_angle/rotated_5_pa/test/59/04863e7d13d4462aaaafd675eeaf3170.png\"\n",
    "# img_path = \"/home/apofeo/Documents/Screenshot from 2019-03-20 23-39-04.png\"\n",
    "img = image.load_img(img_path, target_size=(50, 50))\n",
    "img_sobel = ndimage.sobel(img, axis=0, mode='constant')\n",
    "# img = ndimage.rotate(img, 180, reshape=True)\n",
    "plt.grid(False)\n",
    "plt.imshow(img)\n",
    "# plt.imshow(img_sobel)"
   ]
  },
  {
   "cell_type": "code",
   "execution_count": 21,
   "metadata": {},
   "outputs": [
    {
     "name": "stdout",
     "output_type": "stream",
     "text": [
      "[[0.0092114  0.13306674 0.00129049 0.02455681 0.01544304 0.00460132\n",
      "  0.00498936 0.07027685 0.01061393 0.00284396 0.3327612  0.00239382\n",
      "  0.00469905 0.01819591 0.00663369 0.00496653 0.02482867 0.00611049\n",
      "  0.04066587 0.16740172 0.04739026 0.06705888]]\n"
     ]
    }
   ],
   "source": [
    "prediction = loaded_model.predict(prepare_1ch(img_path))\n",
    "print(prediction)"
   ]
  },
  {
   "cell_type": "code",
   "execution_count": 22,
   "metadata": {},
   "outputs": [
    {
     "name": "stdout",
     "output_type": "stream",
     "text": [
      "10 (А)\n"
     ]
    }
   ],
   "source": [
    "print(f'{np.argmax(prediction)} ({CATEGORIES[np.argmax(prediction)]})')"
   ]
  },
  {
   "cell_type": "code",
   "execution_count": 90,
   "metadata": {},
   "outputs": [
    {
     "data": {
      "text/plain": [
       "<matplotlib.axes._subplots.AxesSubplot at 0x7fa1372d0710>"
      ]
     },
     "execution_count": 90,
     "metadata": {},
     "output_type": "execute_result"
    },
    {
     "data": {
      "image/png": "[encoded data removed]",
      "text/plain": [
       "<Figure size 576x432 with 2 Axes>"
      ]
     },
     "metadata": {},
     "output_type": "display_data"
    }
   ],
   "source": [
    "# grid = plt.GridSpec(1, 2, wspace=0.8, hspace=0.3)\n",
    "# fig, axs = plt.subplots(1,2,figsize=(10,5))\n",
    "# fig.subplots_adjust(hspace=0.4, wspace=0.5)\n",
    "fig = plt.figure(figsize=(8, 6))\n",
    "d = {\"Символ\": CATEGORIES, \"Вероятность\": prediction[0]}\n",
    "pdnumval = pd.DataFrame(d)\n",
    "plt.subplot(2, 2, 1)\n",
    "plt.imshow(img)\n",
    "plt.grid(False)\n",
    "plt.xlabel(\n",
    "        \"Символ = {} ({:2.0f}%)\".format(\n",
    "            CATEGORIES[np.argmax(prediction)],\n",
    "            100 * np.max(prediction)\n",
    "        )\n",
    ")\n",
    "plt.subplot(2, 2, 2)\n",
    "sns.set(style=\"darkgrid\")\n",
    "sns.lineplot(x=\"Символ\", y=\"Вероятность\", data=pdnumval)"
   ]
  },
  {
   "cell_type": "markdown",
   "metadata": {},
   "source": [
    "#### Dirty imgs for test"
   ]
  },
  {
   "cell_type": "code",
   "execution_count": 172,
   "metadata": {
    "colab": {},
    "colab_type": "code",
    "id": "cqZFPT7UlCW4"
   },
   "outputs": [],
   "source": [
    "filename = \"trained_data/X_4_di_pa_3ch_test.sav\"\n",
    "X = joblib.load(filename)\n",
    "# print(X[2])\n",
    "# pickle_in = open(\"trained_data/X_4_di_pa.pickle\",\"rb\")\n",
    "# X = pickle.load(pickle_in)"
   ]
  },
  {
   "cell_type": "code",
   "execution_count": 173,
   "metadata": {
    "colab": {},
    "colab_type": "code",
    "id": "uq7_we_8lCW8"
   },
   "outputs": [],
   "source": [
    "filename = \"trained_data/y_4_di_pa_3ch_test.sav\"\n",
    "y = joblib.load(filename)\n",
    "# pickle_in = open(\"trained_data/y_4_di_pa.pickle\",\"rb\")\n",
    "# y = pickle.load(pickle_in)"
   ]
  },
  {
   "cell_type": "code",
   "execution_count": 174,
   "metadata": {
    "colab": {},
    "colab_type": "code",
    "id": "uq7_we_8lCW8"
   },
   "outputs": [],
   "source": [
    "filename = \"trained_data/Z_4_di_pa_3ch_test.sav\"\n",
    "Z = joblib.load(filename)\n",
    "# pickle_in = open(\"trained_data/y_4_di_pa.pickle\",\"rb\")\n",
    "# y = pickle.load(pickle_in)"
   ]
  },
  {
   "cell_type": "markdown",
   "metadata": {},
   "source": [
    "#### Training set (dirty imgs)"
   ]
  },
  {
   "cell_type": "code",
   "execution_count": 61,
   "metadata": {},
   "outputs": [],
   "source": [
    "# plt.figure(figsize=(10, 10))\n",
    "# for i in range(25):\n",
    "#     plt.subplot(5, 5, i + 1)\n",
    "#     plt.xticks([])\n",
    "#     plt.yticks([])\n",
    "#     plt.grid(False)\n",
    "#     plt.imshow(X[i], cmap=plt.cm.binary)\n",
    "#     plt.xlabel(y[i])\n",
    "# plt.show()"
   ]
  },
  {
   "cell_type": "code",
   "execution_count": null,
   "metadata": {},
   "outputs": [],
   "source": [
    "DATADIR = \"/home/apofeo/Documents/detect_result\"\n",
    "num_rows = 170\n",
    "num_cols = 2\n",
    "num_images = num_rows*num_cols\n",
    "fig = plt.figure(figsize=(6*num_cols, 3*num_rows))\n",
    "fig.subplots_adjust(hspace=0.4, wspace=0.4)\n",
    "for idx, path in enumerate(get_files_from_paths(DATADIR)[:num_images//2]):\n",
    "    prediction = loaded_model.predict(prepare_1ch(path))\n",
    "    img = image.load_img(path, target_size=(100, 100))\n",
    "#     fig = plt.figure(figsize=(8, 6))\n",
    "    d = {\"Символ\": CATEGORIES, \"Вероятность\": prediction[0]}\n",
    "    pdnumval = pd.DataFrame(d)\n",
    "    fig.add_subplot(num_rows, 2*num_cols, 2*idx+1)\n",
    "    plt.grid(False)\n",
    "    plt.xticks([])\n",
    "    plt.yticks([])\n",
    "    plt.imshow(img)\n",
    "    plt.xlabel(\n",
    "        \"Символ = {} ({:2.0f}%)\".format(\n",
    "            CATEGORIES[np.argmax(prediction)],\n",
    "            100 * np.max(prediction)\n",
    "        )\n",
    "    )\n",
    "    fig.add_subplot(num_rows, 2*num_cols, 2*idx+2)\n",
    "    sns.set(style=\"darkgrid\")\n",
    "    sns.lineplot(x=\"Символ\", y=\"Вероятность\", data=pdnumval)"
   ]
  }
 ],
 "metadata": {
  "kernelspec": {
   "display_name": "Python 3",
   "language": "python",
   "name": "python3"
  },
  "language_info": {
   "codemirror_mode": {
    "name": "ipython",
    "version": 3
   },
   "file_extension": ".py",
   "mimetype": "text/x-python",
   "name": "python",
   "nbconvert_exporter": "python",
   "pygments_lexer": "ipython3",
   "version": "3.6.7"
  }
 },
 "nbformat": 4,
 "nbformat_minor": 2
}
