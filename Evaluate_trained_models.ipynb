{
 "cells": [
  {
   "cell_type": "code",
   "execution_count": 3,
   "metadata": {},
   "outputs": [],
   "source": [
    "import numpy as np\n",
    "import json\n",
    "import os\n",
    "import tensorflow as tf\n",
    "from tensorflow.keras.utils import CustomObjectScope\n",
    "from tensorflow.keras.initializers import glorot_uniform\n",
    "from tensorflow.keras.models import Model, load_model, model_from_json\n",
    "from tensorflow.keras.preprocessing import image\n",
    "import matplotlib.pyplot as plt\n",
    "import cv2\n",
    "import pickle\n",
    "import seaborn as sns\n",
    "import pandas as pd"
   ]
  },
  {
   "cell_type": "code",
   "execution_count": 4,
   "metadata": {},
   "outputs": [],
   "source": [
    "def get_models_paths(folder):\n",
    "    files = os.listdir(folder)\n",
    "    files.sort()\n",
    "    files = ['{}/{}'.format(folder,file) for file in files if not file.startswith('.')]\n",
    "    return files"
   ]
  },
  {
   "cell_type": "code",
   "execution_count": 8,
   "metadata": {},
   "outputs": [
    {
     "name": "stdout",
     "output_type": "stream",
     "text": [
      "0: trained_model_files/angles/JSON/trained_model_angles.json\n",
      "1: trained_model_files/angles/JSON/trained_model_angles_v10_DI_PA_different_neurons_Adagrad_30_.json\n",
      "2: trained_model_files/angles/JSON/trained_model_angles_v11_DI_PA_different_neurons_Adadelta_2.3_.json\n",
      "3: trained_model_files/angles/JSON/trained_model_angles_v12_DI_PA_different_neurons_Adamax_47_.json\n",
      "4: trained_model_files/angles/JSON/trained_model_angles_v13_DI_PA_different_neurons_Nadam_0.2_.json\n",
      "5: trained_model_files/angles/JSON/trained_model_angles_v14_DI_PA_different_neurons_RMSProp_35_.json\n",
      "6: trained_model_files/angles/JSON/trained_model_angles_v15_DI_PA_different_neurons_SGD_26_.json\n",
      "7: trained_model_files/angles/JSON/trained_model_angles_v16_DI_PA_different_neurons_and_layouts_4Conv_53_.json\n",
      "8: trained_model_files/angles/JSON/trained_model_angles_v17_DI_PA_different_neurons_and_layouts_4Conv_differentFM_63_.json\n",
      "9: trained_model_files/angles/JSON/trained_model_angles_v2.json\n",
      "10: trained_model_files/angles/JSON/trained_model_angles_v3.json\n",
      "11: trained_model_files/angles/JSON/trained_model_angles_v4_DI_50_.json\n",
      "12: trained_model_files/angles/JSON/trained_model_angles_v5_DI_59_.json\n",
      "13: trained_model_files/angles/JSON/trained_model_angles_v6_DI_55_.json\n",
      "14: trained_model_files/angles/JSON/trained_model_angles_v7_DI_different_neurons_50_.json\n",
      "15: trained_model_files/angles/JSON/trained_model_angles_v8_CI_PA_different_neurons_99_.json\n",
      "16: trained_model_files/angles/JSON/trained_model_angles_v9_DI_PA_different_neurons_Adadelta_1.5_.json\n"
     ]
    }
   ],
   "source": [
    "models_json = get_models_paths('trained_model_files/angles/JSON')\n",
    "print('\\n'.join('{}: {}'.format(*k) for k in enumerate(models_json)))"
   ]
  },
  {
   "cell_type": "code",
   "execution_count": 9,
   "metadata": {},
   "outputs": [
    {
     "name": "stdout",
     "output_type": "stream",
     "text": [
      "0: trained_model_files/angles/H5/trained_model_weights_angles.h5\n",
      "1: trained_model_files/angles/H5/trained_model_weights_angles_v10_DI_PA_different_neurons_Adagrad_30_.h5\n",
      "2: trained_model_files/angles/H5/trained_model_weights_angles_v11_DI_PA_different_neurons_Adadelta_2.3_.h5\n",
      "3: trained_model_files/angles/H5/trained_model_weights_angles_v12_DI_PA_different_neurons_Adamax_47_.h5\n",
      "4: trained_model_files/angles/H5/trained_model_weights_angles_v13_DI_PA_different_neurons_Nadam_0.2_.h5\n",
      "5: trained_model_files/angles/H5/trained_model_weights_angles_v14_DI_PA_different_neurons_RMSProp_35_.h5\n",
      "6: trained_model_files/angles/H5/trained_model_weights_angles_v15_DI_PA_different_neurons_SGD_26_.h5\n",
      "7: trained_model_files/angles/H5/trained_model_weights_angles_v16_DI_PA_different_neurons_and_layouts_4Conv_53_.h5\n",
      "8: trained_model_files/angles/H5/trained_model_weights_angles_v17_DI_PA_different_neurons_and_layouts_4Conv_differentFM_63_.h5\n",
      "9: trained_model_files/angles/H5/trained_model_weights_angles_v2.h5\n",
      "10: trained_model_files/angles/H5/trained_model_weights_angles_v3.h5\n",
      "11: trained_model_files/angles/H5/trained_model_weights_angles_v4_DI_50_.h5\n",
      "12: trained_model_files/angles/H5/trained_model_weights_angles_v5_DI_59_.h5\n",
      "13: trained_model_files/angles/H5/trained_model_weights_angles_v6_DI_55_.h5\n",
      "14: trained_model_files/angles/H5/trained_model_weights_angles_v7_DI_different_neurons_50_.h5\n",
      "15: trained_model_files/angles/H5/trained_model_weights_angles_v8_CI_PA_different_neurons_99_.h5\n",
      "16: trained_model_files/angles/H5/trained_model_weights_angles_v9_DI_PA_different_neurons_Adadelta_1.5_.h5\n"
     ]
    }
   ],
   "source": [
    "models_h5 = get_models_paths('trained_model_files/angles/H5')\n",
    "print('\\n'.join('{}: {}'.format(*k) for k in enumerate(models_h5)))"
   ]
  },
  {
   "cell_type": "code",
   "execution_count": 35,
   "metadata": {},
   "outputs": [],
   "source": [
    "pickle_in = open(\"trained_data/to_evaluate/X_to_E_CI_pa.pickle\",\"rb\")\n",
    "X = pickle.load(pickle_in)\n",
    "\n",
    "pickle_in = open(\"trained_data/to_evaluate/y_to_E_CI_pa.pickle\",\"rb\")\n",
    "y = pickle.load(pickle_in)"
   ]
  },
  {
   "cell_type": "code",
   "execution_count": 5,
   "metadata": {},
   "outputs": [
    {
     "name": "stdout",
     "output_type": "stream",
     "text": [
      "['1', '2', '3', '4', '5', '6', '7', '8', '9', '10', '11', '12', '13', '14', '15', '16', '17', '18', '19', '20', '21', '22', '23', '24', '25', '26', '27', '28', '29', '30', '31', '32', '33', '34', '35', '36', '37', '38', '39', '40', '41', '42', '43', '44', '45', '46', '47', '48', '49', '50', '51', '52', '53', '54', '55', '56', '57', '58', '59', '60', '61', '62', '63', '64', '65', '66', '67', '68', '69', '70', '71', '72', '73', '74', '75', '76', '77', '78', '79', '80', '81', '82', '83', '84', '85', '86', '87', '88', '89', '90', '91', '92', '93', '94', '95', '96', '97', '98', '99', '100', '101', '102', '103', '104', '105', '106', '107', '108', '109', '110', '111', '112', '113', '114', '115', '116', '117', '118', '119', '120', '121', '122', '123', '124', '125', '126', '127', '128', '129', '130', '131', '132', '133', '134', '135', '136', '137', '138', '139', '140', '141', '142', '143', '144', '145', '146', '147', '148', '149', '150', '151', '152', '153', '154', '155', '156', '157', '158', '159', '160', '161', '162', '163', '164', '165', '166', '167', '168', '169', '170', '171', '172', '173', '174', '175', '176', '177', '178', '179', '180', '181', '182', '183', '184', '185', '186', '187', '188', '189', '190', '191', '192', '193', '194', '195', '196', '197', '198', '199', '200', '201', '202', '203', '204', '205', '206', '207', '208', '209', '210', '211', '212', '213', '214', '215', '216', '217', '218', '219', '220', '221', '222', '223', '224', '225', '226', '227', '228', '229', '230', '231', '232', '233', '234', '235', '236', '237', '238', '239', '240', '241', '242', '243', '244', '245', '246', '247', '248', '249', '250', '251', '252', '253', '254', '255', '256', '257', '258', '259', '260', '261', '262', '263', '264', '265', '266', '267', '268', '269', '270', '271', '272', '273', '274', '275', '276', '277', '278', '279', '280', '281', '282', '283', '284', '285', '286', '287', '288', '289', '290', '291', '292', '293', '294', '295', '296', '297', '298', '299', '300', '301', '302', '303', '304', '305', '306', '307', '308', '309', '310', '311', '312', '313', '314', '315', '316', '317', '318', '319', '320', '321', '322', '323', '324', '325', '326', '327', '328', '329', '330', '331', '332', '333', '334', '335', '336', '337', '338', '339', '340', '341', '342', '343', '344', '345', '346', '347', '348', '349', '350', '351', '352', '353', '354', '355', '356', '357', '358', '359', '360']\n"
     ]
    }
   ],
   "source": [
    "CATEGORIES_INT = [i for i in range(1, 361)]\n",
    "CATEGORIES = [str(item) for item in CATEGORIES_INT]\n",
    "# map(str, CATEGORIES)\n",
    "print(CATEGORIES)"
   ]
  },
  {
   "cell_type": "code",
   "execution_count": 6,
   "metadata": {},
   "outputs": [],
   "source": [
    "def prepare(filepath):\n",
    "    IMG_SIZE = 100  # 50 in txt-based\n",
    "    img_array = cv2.imread(filepath, cv2.IMREAD_GRAYSCALE)\n",
    "    img_array = img_array / 255\n",
    "    new_array = cv2.resize(img_array, (IMG_SIZE, IMG_SIZE))\n",
    "    return new_array.reshape(-1, IMG_SIZE, IMG_SIZE, 1)"
   ]
  },
  {
   "cell_type": "markdown",
   "metadata": {},
   "source": [
    "#### Version 1 to predict v2 and v3 = na"
   ]
  },
  {
   "cell_type": "code",
   "execution_count": 10,
   "metadata": {},
   "outputs": [],
   "source": [
    "json_file = open(models_json[15], \"r\")\n",
    "loaded_model_json = json_file.read()\n",
    "json_file.close()\n",
    "loaded_model = model_from_json(loaded_model_json)\n",
    "loaded_model.load_weights(models_h5[15])\n",
    "loaded_model.compile(loss='sparse_categorical_crossentropy', optimizer='adam', metrics=['accuracy'])"
   ]
  },
  {
   "cell_type": "markdown",
   "metadata": {},
   "source": [
    "#### Do not trust to it"
   ]
  },
  {
   "cell_type": "code",
   "execution_count": 37,
   "metadata": {},
   "outputs": [
    {
     "name": "stdout",
     "output_type": "stream",
     "text": [
      "1800/1800 [==============================] - 642s 357ms/step\n",
      "Аккуратность на тестовых данных: 28.00%\n"
     ]
    }
   ],
   "source": [
    "scores = loaded_model.evaluate(X, y, verbose=1)\n",
    "print(\"Аккуратность на тестовых данных: %.2f%%\" % (scores[1]*100))"
   ]
  },
  {
   "cell_type": "markdown",
   "metadata": {},
   "source": [
    "#### End of untrusted section"
   ]
  },
  {
   "cell_type": "code",
   "execution_count": 11,
   "metadata": {},
   "outputs": [
    {
     "name": "stdout",
     "output_type": "stream",
     "text": [
      "<PIL.Image.Image image mode=RGB size=100x100 at 0x7F449D107F60>\n"
     ]
    }
   ],
   "source": [
    "img_path = 'im_base_to_angle/rotated_5_pa/test/30/914238d9127c47af978dc46047f97cff.png'\n",
    "img = image.load_img(img_path, target_size=(100, 100))\n",
    "print(img)"
   ]
  },
  {
   "cell_type": "code",
   "execution_count": 17,
   "metadata": {},
   "outputs": [
    {
     "name": "stdout",
     "output_type": "stream",
     "text": [
      "[[1.00992028e-17 3.61020080e-16 5.78481615e-17 6.27964922e-16\n",
      "  7.00670749e-17 1.98129392e-15 4.02077276e-18 2.08296982e-16\n",
      "  2.48373904e-19 1.21147681e-17 7.63845977e-14 7.99416130e-17\n",
      "  6.64090333e-18 2.30605482e-20 7.84300190e-19 9.45397233e-19\n",
      "  3.87249257e-20 2.42970935e-15 1.77716814e-20 6.28103835e-16\n",
      "  4.66200813e-18 4.72729946e-19 5.81843343e-17 8.60377951e-17\n",
      "  8.52299957e-16 1.71577853e-16 3.70346435e-23 1.18594587e-21\n",
      "  2.83972734e-09 1.00000000e+00 3.55854124e-10 1.44442326e-15\n",
      "  6.47314324e-20 4.94794354e-23 6.33280667e-18 1.00550669e-18\n",
      "  5.08957568e-13 2.43427739e-12 5.83459190e-17 6.01942240e-21\n",
      "  5.15960483e-18 9.30147021e-20 2.65165463e-18 1.06858113e-19\n",
      "  1.02062944e-16 1.14074332e-14 1.73975009e-15 1.49036776e-19\n",
      "  5.38208995e-19 1.75380489e-13 7.64959520e-15 6.16236611e-18\n",
      "  2.74471524e-16 6.21505917e-18 3.45271340e-19 2.16365948e-15\n",
      "  3.50262735e-15 2.87084343e-18 1.93214130e-18 1.29418236e-19\n",
      "  7.11907243e-20 4.38648761e-19 6.44508528e-18 1.35282568e-17\n",
      "  1.34638509e-17 3.67156392e-14 3.31466523e-15 4.32747148e-18\n",
      "  6.49061967e-14 6.42613933e-16 3.00245122e-17 5.45546096e-15\n",
      "  5.16257731e-18 4.52915176e-18 1.73798469e-16 3.79842164e-18\n",
      "  1.34178661e-16 4.56797139e-16 7.72804158e-18 5.75510501e-16\n",
      "  1.66644415e-16 4.06793793e-17 2.59774375e-15 2.04173891e-16\n",
      "  1.81569003e-16 1.98971431e-17 3.60699019e-14 3.77686598e-17\n",
      "  1.30135347e-15 1.13952052e-15 1.39252547e-16 2.25357319e-19\n",
      "  3.79792482e-20 6.93009800e-17 4.08330274e-15 1.45287750e-16\n",
      "  6.29547271e-18 4.89398961e-17 9.16185081e-18 2.41470118e-17\n",
      "  8.14070296e-18 6.61630008e-18 2.92879800e-16 5.91028886e-16\n",
      "  1.42634864e-15 2.63931522e-16 6.93803681e-16 2.34578942e-17\n",
      "  1.78484711e-18 1.89242347e-17 3.17079736e-17 1.70762954e-16\n",
      "  2.91734194e-19 5.27107197e-18 4.83547618e-18 1.00618309e-16\n",
      "  2.59975481e-16 5.61196551e-19 8.02363953e-18 1.15314023e-18\n",
      "  1.76945990e-16 1.46175004e-16 2.48703969e-18 1.36957005e-19\n",
      "  2.58713827e-18 5.92081820e-19 1.26067048e-15 1.52800724e-17\n",
      "  5.91247030e-18 2.08219121e-16 3.35431135e-16 9.46718634e-18\n",
      "  2.42303463e-16 6.21613899e-14 1.21581266e-13 2.85082067e-16\n",
      "  4.37750354e-15 2.37084607e-15 3.35650188e-15 5.23470530e-17\n",
      "  1.56133964e-17 3.43518777e-19 1.67664004e-16 3.78285179e-16\n",
      "  1.53985804e-15 1.99703701e-17 8.57575943e-18 3.12441602e-16\n",
      "  2.98872730e-17 2.93690774e-17 2.14191037e-18 3.96275555e-19\n",
      "  3.83027438e-17 1.10017520e-17 1.74738968e-18 3.50662270e-16\n",
      "  1.43120960e-16 5.29960358e-17 1.06923113e-16 4.83031920e-16\n",
      "  2.29721820e-16 2.42777166e-16 2.01407494e-17 1.39596138e-16\n",
      "  2.37995162e-16 1.99734392e-15 3.15377456e-18 7.96505695e-18\n",
      "  2.59997032e-18 1.81254209e-15 1.35852078e-15 2.28380708e-15\n",
      "  5.39226766e-17 7.54469989e-19 2.22957442e-16 2.49446984e-18\n",
      "  4.95326537e-17 9.04810719e-17 7.69246100e-16 1.53091279e-17\n",
      "  1.35098455e-17 3.91683308e-16 5.05641281e-18 3.23582633e-18\n",
      "  1.44206062e-16 5.10249273e-17 2.86498108e-17 2.93254015e-18\n",
      "  3.23739778e-16 8.86982303e-16 4.10242874e-15 3.44144788e-17\n",
      "  1.36030331e-17 1.86536798e-16 4.97851926e-16 7.36167005e-18\n",
      "  4.73791145e-13 7.89597855e-21 2.99754874e-20 1.56308928e-20\n",
      "  7.31515526e-15 7.38343241e-12 1.69770791e-20 7.60455804e-22\n",
      "  6.99121804e-18 2.62303499e-16 1.95701745e-14 7.12968977e-15\n",
      "  5.56263014e-17 8.74740718e-17 4.31491256e-17 1.69086994e-20\n",
      "  6.20397329e-18 2.73376580e-15 2.69695026e-17 2.27846941e-18\n",
      "  2.21410297e-19 8.19447963e-18 2.16288043e-18 8.85646334e-17\n",
      "  3.24392344e-17 4.90026138e-19 2.71300476e-18 7.51277064e-17\n",
      "  4.58379862e-18 4.42944982e-19 7.99312071e-18 1.37705975e-14\n",
      "  6.22253498e-17 7.94584268e-19 4.19643305e-22 4.76581698e-17\n",
      "  5.45474494e-18 7.06519499e-16 1.10533250e-17 1.56055961e-17\n",
      "  1.90318588e-20 9.44101335e-16 4.75515985e-16 2.04954800e-18\n",
      "  4.55033378e-17 2.84252927e-20 4.89201099e-17 1.62450894e-17\n",
      "  4.09666740e-18 8.84024787e-20 1.06298036e-16 2.27718221e-19\n",
      "  1.92630724e-16 4.96696191e-18 1.06566754e-17 1.48170891e-15\n",
      "  2.94611029e-16 2.27925172e-18 3.07327402e-19 1.72208478e-18\n",
      "  3.41994391e-18 1.29993807e-17 3.28817694e-17 5.96147672e-19\n",
      "  2.33941897e-16 1.75283824e-17 4.33325078e-19 2.46996462e-18\n",
      "  1.48826568e-19 4.87272093e-15 4.44082815e-15 2.91436535e-16\n",
      "  8.65213292e-16 1.45250550e-17 3.74954751e-17 3.49478587e-19\n",
      "  1.53289234e-19 1.33725485e-15 1.85691780e-14 4.52737489e-17\n",
      "  1.72014872e-17 6.67838151e-16 1.41512852e-17 5.02957400e-19\n",
      "  4.00560557e-16 1.10413206e-16 7.04293420e-18 2.40558995e-17\n",
      "  3.50233142e-16 1.18625321e-14 4.23683763e-15 1.05027169e-16\n",
      "  1.22451417e-17 7.04326372e-16 4.14510396e-16 5.97240574e-18\n",
      "  2.77839090e-18 1.32035241e-19 3.16843957e-17 2.72884518e-17\n",
      "  1.49943718e-16 1.06611885e-17 1.83094112e-18 2.79877387e-17\n",
      "  1.43697423e-18 4.72485235e-17 6.31336545e-18 7.13171213e-20\n",
      "  1.21045927e-19 1.83906730e-19 5.77203845e-22 9.39939491e-17\n",
      "  1.69604869e-15 1.23486286e-16 7.10377995e-18 9.92145507e-17\n",
      "  2.49638444e-17 7.73349353e-19 8.71655322e-19 6.42224298e-16\n",
      "  2.16890462e-17 1.97284601e-16 2.71163283e-15 2.81082126e-17\n",
      "  1.21401659e-17 1.22352769e-19 6.40310983e-17 3.72042513e-17\n",
      "  6.66049588e-16 2.50915061e-16 8.54657144e-16 2.88261988e-17\n",
      "  1.74840980e-18 3.66145170e-14 1.30102514e-16 2.19591141e-17\n",
      "  1.73755293e-17 2.90795755e-16 1.00200424e-16 2.33774828e-18\n",
      "  1.69051779e-17 2.01000135e-15 4.17890115e-18 3.71460705e-19\n",
      "  4.88159050e-17 7.23011707e-17 7.22503646e-19 3.55320933e-18\n",
      "  1.26219040e-16 1.15143533e-17 3.50246138e-18 2.23185601e-15\n",
      "  3.48422185e-16 2.86515724e-16 1.48090582e-16 5.78647117e-17\n",
      "  2.89146343e-17 6.81895851e-18 2.66685213e-17 3.62851875e-18\n",
      "  9.18995841e-18 4.90105175e-17 2.82315675e-14 2.95212754e-17]]\n"
     ]
    }
   ],
   "source": [
    "prediction = loaded_model.predict(prepare(img_path))\n",
    "print(prediction)"
   ]
  },
  {
   "cell_type": "code",
   "execution_count": 18,
   "metadata": {},
   "outputs": [
    {
     "name": "stdout",
     "output_type": "stream",
     "text": [
      "30\n"
     ]
    }
   ],
   "source": [
    "print(CATEGORIES[np.argmax(prediction)])"
   ]
  },
  {
   "cell_type": "code",
   "execution_count": 15,
   "metadata": {},
   "outputs": [
    {
     "data": {
      "text/plain": [
       "<matplotlib.axes._subplots.AxesSubplot at 0x7f44ba28a470>"
      ]
     },
     "execution_count": 15,
     "metadata": {},
     "output_type": "execute_result"
    },
    {
     "data": {
      "image/png": "[encoded data removed]",
      "text/plain": [
       "<Figure size 432x288 with 1 Axes>"
      ]
     },
     "metadata": {},
     "output_type": "display_data"
    }
   ],
   "source": [
    "d = {'classes': CATEGORIES_INT, 'val': prediction[0]}\n",
    "pdnumval = pd.DataFrame(d)\n",
    "sns.set(style='darkgrid')\n",
    "sns.lineplot(x='classes', y='val', data=pdnumval)"
   ]
  },
  {
   "cell_type": "code",
   "execution_count": 46,
   "metadata": {},
   "outputs": [
    {
     "name": "stdout",
     "output_type": "stream",
     "text": [
      "1.0099203e-17\n"
     ]
    }
   ],
   "source": [
    "print(prediction[0][0])"
   ]
  },
  {
   "cell_type": "code",
   "execution_count": 47,
   "metadata": {},
   "outputs": [
    {
     "name": "stdout",
     "output_type": "stream",
     "text": [
      "1.0\n"
     ]
    }
   ],
   "source": [
    "print(max(prediction[0]))"
   ]
  },
  {
   "cell_type": "code",
   "execution_count": 48,
   "metadata": {},
   "outputs": [
    {
     "name": "stdout",
     "output_type": "stream",
     "text": [
      "360\n"
     ]
    }
   ],
   "source": [
    "print(len(prediction[0]))"
   ]
  },
  {
   "cell_type": "code",
   "execution_count": 49,
   "metadata": {},
   "outputs": [
    {
     "name": "stdout",
     "output_type": "stream",
     "text": [
      "29\n"
     ]
    }
   ],
   "source": [
    "print(np.argmax(prediction))"
   ]
  },
  {
   "cell_type": "code",
   "execution_count": 50,
   "metadata": {},
   "outputs": [
    {
     "name": "stdout",
     "output_type": "stream",
     "text": [
      "[1.00992028e-17 3.61020080e-16 5.78481615e-17 6.27964922e-16\n",
      " 7.00670749e-17 1.98129392e-15 4.02077276e-18 2.08296982e-16\n",
      " 2.48373904e-19 1.21147681e-17 7.63845977e-14 7.99416130e-17\n",
      " 6.64090333e-18 2.30605482e-20 7.84300190e-19 9.45397233e-19\n",
      " 3.87249257e-20 2.42970935e-15 1.77716814e-20 6.28103835e-16\n",
      " 4.66200813e-18 4.72729946e-19 5.81843343e-17 8.60377951e-17\n",
      " 8.52299957e-16 1.71577853e-16 3.70346435e-23 1.18594587e-21\n",
      " 2.83972734e-09 1.00000000e+00 3.55854124e-10 1.44442326e-15\n",
      " 6.47314324e-20 4.94794354e-23 6.33280667e-18 1.00550669e-18\n",
      " 5.08957568e-13 2.43427739e-12 5.83459190e-17 6.01942240e-21\n",
      " 5.15960483e-18 9.30147021e-20 2.65165463e-18 1.06858113e-19\n",
      " 1.02062944e-16 1.14074332e-14 1.73975009e-15 1.49036776e-19\n",
      " 5.38208995e-19 1.75380489e-13 7.64959520e-15 6.16236611e-18\n",
      " 2.74471524e-16 6.21505917e-18 3.45271340e-19 2.16365948e-15\n",
      " 3.50262735e-15 2.87084343e-18 1.93214130e-18 1.29418236e-19\n",
      " 7.11907243e-20 4.38648761e-19 6.44508528e-18 1.35282568e-17\n",
      " 1.34638509e-17 3.67156392e-14 3.31466523e-15 4.32747148e-18\n",
      " 6.49061967e-14 6.42613933e-16 3.00245122e-17 5.45546096e-15\n",
      " 5.16257731e-18 4.52915176e-18 1.73798469e-16 3.79842164e-18\n",
      " 1.34178661e-16 4.56797139e-16 7.72804158e-18 5.75510501e-16\n",
      " 1.66644415e-16 4.06793793e-17 2.59774375e-15 2.04173891e-16\n",
      " 1.81569003e-16 1.98971431e-17 3.60699019e-14 3.77686598e-17\n",
      " 1.30135347e-15 1.13952052e-15 1.39252547e-16 2.25357319e-19\n",
      " 3.79792482e-20 6.93009800e-17 4.08330274e-15 1.45287750e-16\n",
      " 6.29547271e-18 4.89398961e-17 9.16185081e-18 2.41470118e-17\n",
      " 8.14070296e-18 6.61630008e-18 2.92879800e-16 5.91028886e-16\n",
      " 1.42634864e-15 2.63931522e-16 6.93803681e-16 2.34578942e-17\n",
      " 1.78484711e-18 1.89242347e-17 3.17079736e-17 1.70762954e-16\n",
      " 2.91734194e-19 5.27107197e-18 4.83547618e-18 1.00618309e-16\n",
      " 2.59975481e-16 5.61196551e-19 8.02363953e-18 1.15314023e-18\n",
      " 1.76945990e-16 1.46175004e-16 2.48703969e-18 1.36957005e-19\n",
      " 2.58713827e-18 5.92081820e-19 1.26067048e-15 1.52800724e-17\n",
      " 5.91247030e-18 2.08219121e-16 3.35431135e-16 9.46718634e-18\n",
      " 2.42303463e-16 6.21613899e-14 1.21581266e-13 2.85082067e-16\n",
      " 4.37750354e-15 2.37084607e-15 3.35650188e-15 5.23470530e-17\n",
      " 1.56133964e-17 3.43518777e-19 1.67664004e-16 3.78285179e-16\n",
      " 1.53985804e-15 1.99703701e-17 8.57575943e-18 3.12441602e-16\n",
      " 2.98872730e-17 2.93690774e-17 2.14191037e-18 3.96275555e-19\n",
      " 3.83027438e-17 1.10017520e-17 1.74738968e-18 3.50662270e-16\n",
      " 1.43120960e-16 5.29960358e-17 1.06923113e-16 4.83031920e-16\n",
      " 2.29721820e-16 2.42777166e-16 2.01407494e-17 1.39596138e-16\n",
      " 2.37995162e-16 1.99734392e-15 3.15377456e-18 7.96505695e-18\n",
      " 2.59997032e-18 1.81254209e-15 1.35852078e-15 2.28380708e-15\n",
      " 5.39226766e-17 7.54469989e-19 2.22957442e-16 2.49446984e-18\n",
      " 4.95326537e-17 9.04810719e-17 7.69246100e-16 1.53091279e-17\n",
      " 1.35098455e-17 3.91683308e-16 5.05641281e-18 3.23582633e-18\n",
      " 1.44206062e-16 5.10249273e-17 2.86498108e-17 2.93254015e-18\n",
      " 3.23739778e-16 8.86982303e-16 4.10242874e-15 3.44144788e-17\n",
      " 1.36030331e-17 1.86536798e-16 4.97851926e-16 7.36167005e-18\n",
      " 4.73791145e-13 7.89597855e-21 2.99754874e-20 1.56308928e-20\n",
      " 7.31515526e-15 7.38343241e-12 1.69770791e-20 7.60455804e-22\n",
      " 6.99121804e-18 2.62303499e-16 1.95701745e-14 7.12968977e-15\n",
      " 5.56263014e-17 8.74740718e-17 4.31491256e-17 1.69086994e-20\n",
      " 6.20397329e-18 2.73376580e-15 2.69695026e-17 2.27846941e-18\n",
      " 2.21410297e-19 8.19447963e-18 2.16288043e-18 8.85646334e-17\n",
      " 3.24392344e-17 4.90026138e-19 2.71300476e-18 7.51277064e-17\n",
      " 4.58379862e-18 4.42944982e-19 7.99312071e-18 1.37705975e-14\n",
      " 6.22253498e-17 7.94584268e-19 4.19643305e-22 4.76581698e-17\n",
      " 5.45474494e-18 7.06519499e-16 1.10533250e-17 1.56055961e-17\n",
      " 1.90318588e-20 9.44101335e-16 4.75515985e-16 2.04954800e-18\n",
      " 4.55033378e-17 2.84252927e-20 4.89201099e-17 1.62450894e-17\n",
      " 4.09666740e-18 8.84024787e-20 1.06298036e-16 2.27718221e-19\n",
      " 1.92630724e-16 4.96696191e-18 1.06566754e-17 1.48170891e-15\n",
      " 2.94611029e-16 2.27925172e-18 3.07327402e-19 1.72208478e-18\n",
      " 3.41994391e-18 1.29993807e-17 3.28817694e-17 5.96147672e-19\n",
      " 2.33941897e-16 1.75283824e-17 4.33325078e-19 2.46996462e-18\n",
      " 1.48826568e-19 4.87272093e-15 4.44082815e-15 2.91436535e-16\n",
      " 8.65213292e-16 1.45250550e-17 3.74954751e-17 3.49478587e-19\n",
      " 1.53289234e-19 1.33725485e-15 1.85691780e-14 4.52737489e-17\n",
      " 1.72014872e-17 6.67838151e-16 1.41512852e-17 5.02957400e-19\n",
      " 4.00560557e-16 1.10413206e-16 7.04293420e-18 2.40558995e-17\n",
      " 3.50233142e-16 1.18625321e-14 4.23683763e-15 1.05027169e-16\n",
      " 1.22451417e-17 7.04326372e-16 4.14510396e-16 5.97240574e-18\n",
      " 2.77839090e-18 1.32035241e-19 3.16843957e-17 2.72884518e-17\n",
      " 1.49943718e-16 1.06611885e-17 1.83094112e-18 2.79877387e-17\n",
      " 1.43697423e-18 4.72485235e-17 6.31336545e-18 7.13171213e-20\n",
      " 1.21045927e-19 1.83906730e-19 5.77203845e-22 9.39939491e-17\n",
      " 1.69604869e-15 1.23486286e-16 7.10377995e-18 9.92145507e-17\n",
      " 2.49638444e-17 7.73349353e-19 8.71655322e-19 6.42224298e-16\n",
      " 2.16890462e-17 1.97284601e-16 2.71163283e-15 2.81082126e-17\n",
      " 1.21401659e-17 1.22352769e-19 6.40310983e-17 3.72042513e-17\n",
      " 6.66049588e-16 2.50915061e-16 8.54657144e-16 2.88261988e-17\n",
      " 1.74840980e-18 3.66145170e-14 1.30102514e-16 2.19591141e-17\n",
      " 1.73755293e-17 2.90795755e-16 1.00200424e-16 2.33774828e-18\n",
      " 1.69051779e-17 2.01000135e-15 4.17890115e-18 3.71460705e-19\n",
      " 4.88159050e-17 7.23011707e-17 7.22503646e-19 3.55320933e-18\n",
      " 1.26219040e-16 1.15143533e-17 3.50246138e-18 2.23185601e-15\n",
      " 3.48422185e-16 2.86515724e-16 1.48090582e-16 5.78647117e-17\n",
      " 2.89146343e-17 6.81895851e-18 2.66685213e-17 3.62851875e-18\n",
      " 9.18995841e-18 4.90105175e-17 2.82315675e-14 2.95212754e-17]\n"
     ]
    }
   ],
   "source": [
    "print(prediction[0])"
   ]
  },
  {
   "cell_type": "code",
   "execution_count": 51,
   "metadata": {},
   "outputs": [
    {
     "data": {
      "text/plain": [
       "(array([36., 36., 36., 36., 36., 36., 36., 36., 36., 36.]),\n",
       " array([  1. ,  36.9,  72.8, 108.7, 144.6, 180.5, 216.4, 252.3, 288.2,\n",
       "        324.1, 360. ]),\n",
       " <a list of 10 Patch objects>)"
      ]
     },
     "execution_count": 51,
     "metadata": {},
     "output_type": "execute_result"
    },
    {
     "data": {
      "image/png": "[encoded data removed]",
      "text/plain": [
       "<Figure size 432x288 with 1 Axes>"
      ]
     },
     "metadata": {},
     "output_type": "display_data"
    }
   ],
   "source": [
    "plt.hist(CATEGORIES_INT)"
   ]
  },
  {
   "cell_type": "code",
   "execution_count": 52,
   "metadata": {},
   "outputs": [
    {
     "data": {
      "text/plain": [
       "<matplotlib.axes._subplots.AxesSubplot at 0x7f225d20ab70>"
      ]
     },
     "execution_count": 52,
     "metadata": {},
     "output_type": "execute_result"
    },
    {
     "data": {
      "image/png": "[encoded data removed]",
      "text/plain": [
       "<Figure size 432x288 with 1 Axes>"
      ]
     },
     "metadata": {},
     "output_type": "display_data"
    }
   ],
   "source": [
    "d = {'num': CATEGORIES_INT, 'val': prediction[0]}\n",
    "pdnumval = pd.DataFrame(d)\n",
    "sns.set(style='darkgrid')\n",
    "sns.lineplot(x='num', y='val', data=pdnumval)"
   ]
  },
  {
   "cell_type": "markdown",
   "metadata": {},
   "source": [
    "#### Version 2 to predict"
   ]
  },
  {
   "cell_type": "code",
   "execution_count": 36,
   "metadata": {},
   "outputs": [],
   "source": [
    "prediction = loaded_model.predict([prepare(img_path)])"
   ]
  },
  {
   "cell_type": "code",
   "execution_count": 37,
   "metadata": {},
   "outputs": [
    {
     "name": "stdout",
     "output_type": "stream",
     "text": [
      "[[0. 0. 0. 0. 0. 0. 0. 0. 0. 0. 0. 0. 0. 0. 0. 0. 0. 0. 0. 0. 0. 0. 0. 0.\n",
      "  0. 0. 0. 0. 0. 0. 0. 0. 0. 0. 0. 0. 0. 0. 0. 0. 0. 0. 0. 0. 1. 0. 0. 0.\n",
      "  0. 0. 0. 0. 0. 0. 0. 0. 0. 0. 0. 0. 0. 0. 0. 0. 0. 0. 0. 0. 0. 0. 0. 0.\n",
      "  0. 0. 0. 0. 0. 0. 0. 0. 0. 0. 0. 0. 0. 0. 0. 0. 0. 0. 0. 0. 0. 0. 0. 0.\n",
      "  0. 0. 0. 0. 0. 0. 0. 0. 0. 0. 0. 0. 0. 0. 0. 0. 0. 0. 0. 0. 0. 0. 0. 0.\n",
      "  0. 0. 0. 0. 0. 0. 0. 0. 0. 0. 0. 0. 0. 0. 0. 0. 0. 0. 0. 0. 0. 0. 0. 0.\n",
      "  0. 0. 0. 0. 0. 0. 0. 0. 0. 0. 0. 0. 0. 0. 0. 0. 0. 0. 0. 0. 0. 0. 0. 0.\n",
      "  0. 0. 0. 0. 0. 0. 0. 0. 0. 0. 0. 0. 0. 0. 0. 0. 0. 0. 0. 0. 0. 0. 0. 0.\n",
      "  0. 0. 0. 0. 0. 0. 0. 0. 0. 0. 0. 0. 0. 0. 0. 0. 0. 0. 0. 0. 0. 0. 0. 0.\n",
      "  0. 0. 0. 0. 0. 0. 0. 0. 0. 0. 0. 0. 0. 0. 0. 0. 0. 0. 0. 0. 0. 0. 0. 0.\n",
      "  0. 0. 0. 0. 0. 0. 0. 0. 0. 0. 0. 0. 0. 0. 0. 0. 0. 0. 0. 0. 0. 0. 0. 0.\n",
      "  0. 0. 0. 0. 0. 0. 0. 0. 0. 0. 0. 0. 0. 0. 0. 0. 0. 0. 0. 0. 0. 0. 0. 0.\n",
      "  0. 0. 0. 0. 0. 0. 0. 0. 0. 0. 0. 0. 0. 0. 0. 0. 0. 0. 0. 0. 0. 0. 0. 0.\n",
      "  0. 0. 0. 0. 0. 0. 0. 0. 0. 0. 0. 0. 0. 0. 0. 0. 0. 0. 0. 0. 0. 0. 0. 0.\n",
      "  0. 0. 0. 0. 0. 0. 0. 0. 0. 0. 0. 0. 0. 0. 0. 0. 0. 0. 0. 0. 0. 0. 0. 0.]]\n"
     ]
    }
   ],
   "source": [
    "print(prediction)"
   ]
  },
  {
   "cell_type": "code",
   "execution_count": 42,
   "metadata": {},
   "outputs": [
    {
     "name": "stdout",
     "output_type": "stream",
     "text": [
      "0.0\n"
     ]
    }
   ],
   "source": [
    "print(prediction[0][0])"
   ]
  },
  {
   "cell_type": "code",
   "execution_count": 44,
   "metadata": {},
   "outputs": [
    {
     "name": "stdout",
     "output_type": "stream",
     "text": [
      "1\n"
     ]
    }
   ],
   "source": [
    "print(CATEGORIES[int(prediction[0][0])])"
   ]
  },
  {
   "cell_type": "markdown",
   "metadata": {},
   "source": [
    "#### Test trained model on dirty images with dirty images"
   ]
  },
  {
   "cell_type": "code",
   "execution_count": 60,
   "metadata": {},
   "outputs": [],
   "source": [
    "json_file_dirty = open(\"trained_model_files/angles/trained_model_angles.json\", \"r\")\n",
    "loaded_model_json_dirty = json_file_dirty.read()\n",
    "json_file.close()\n",
    "loaded_model_dirty = model_from_json(loaded_model_json_dirty)\n",
    "loaded_model_dirty.load_weights(\"trained_model_files/angles/trained_model_weights_angles.h5\")\n",
    "loaded_model_dirty.compile(loss='sparse_categorical_crossentropy', optimizer='adam', metrics=['accuracy'])"
   ]
  },
  {
   "cell_type": "code",
   "execution_count": 61,
   "metadata": {},
   "outputs": [
    {
     "name": "stdout",
     "output_type": "stream",
     "text": [
      "<PIL.Image.Image image mode=RGB size=100x100 at 0x7FB837E726A0>\n"
     ]
    }
   ],
   "source": [
    "img_path = 'im_base_to_angle/r_d_i_pa/train/43/f17b2f28ff224dcc8c4a245755134beb.png'\n",
    "img = image.load_img(img_path, target_size=(100, 100))\n",
    "print(img)"
   ]
  },
  {
   "cell_type": "code",
   "execution_count": 62,
   "metadata": {},
   "outputs": [],
   "source": [
    "def prepare(filepath):\n",
    "    IMG_SIZE = 100  # 50 in txt-based\n",
    "    img_array = cv2.imread(filepath, cv2.IMREAD_GRAYSCALE)\n",
    "    img_array = img_array / 255\n",
    "    new_array = cv2.resize(img_array, (IMG_SIZE, IMG_SIZE))\n",
    "    return new_array.reshape(-1, IMG_SIZE, IMG_SIZE, 1)"
   ]
  },
  {
   "cell_type": "code",
   "execution_count": 63,
   "metadata": {},
   "outputs": [
    {
     "name": "stdout",
     "output_type": "stream",
     "text": [
      "[[1.73455543e-08 2.91635871e-08 8.03023037e-10 4.25392447e-12\n",
      "  2.70483330e-10 1.92778280e-12 1.92098854e-12 2.02942330e-10\n",
      "  7.64373908e-07 1.49992206e-06 3.72431401e-08 2.52579071e-06\n",
      "  9.72629977e-09 3.71874677e-13 2.48801452e-10 8.97020826e-12\n",
      "  3.35962676e-13 5.07327798e-07 1.73676171e-10 4.72681144e-17\n",
      "  1.19894112e-12 1.89715868e-10 1.15016446e-05 8.95281786e-08\n",
      "  1.18841629e-11 4.32694001e-13 3.35579280e-08 2.94474473e-10\n",
      "  9.08891723e-13 2.76746480e-15 5.52451748e-13 4.79851358e-12\n",
      "  7.53752261e-09 3.17484261e-09 3.16607879e-10 3.09687714e-12\n",
      "  3.62962438e-09 7.64095787e-10 1.26162602e-04 1.24415048e-04\n",
      "  2.40368628e-11 9.29370730e-13 2.77815928e-07 2.04861017e-08\n",
      "  9.56860191e-08 1.79926007e-09 1.69375156e-11 1.22104493e-09\n",
      "  2.54887527e-06 4.45997102e-12 2.35555634e-13 3.43448325e-11\n",
      "  7.99072234e-13 5.91247259e-11 2.33656899e-10 1.19298883e-17\n",
      "  4.63809119e-14 3.70502434e-10 1.45914125e-08 1.34592977e-12\n",
      "  8.15482224e-08 2.92300655e-07 9.15325436e-05 4.61564632e-04\n",
      "  5.79490622e-12 2.61819993e-11 3.27196091e-07 3.37963022e-04\n",
      "  6.01954042e-08 5.04691059e-07 1.76341832e-03 6.44308500e-07\n",
      "  7.15612958e-10 9.27083670e-12 2.82808912e-07 2.95078906e-10\n",
      "  6.58869226e-09 6.98486168e-04 9.27270503e-06 2.39504597e-11\n",
      "  2.31460823e-10 1.07129881e-14 8.67324823e-10 2.14436412e-07\n",
      "  5.27566364e-08 1.38683379e-11 3.88736199e-09 2.79952228e-10\n",
      "  2.09538413e-08 6.80219606e-02 2.38829315e-01 5.71554288e-08\n",
      "  8.76966794e-07 9.89697014e-07 7.96414679e-04 6.08835137e-07\n",
      "  2.58393469e-03 8.71006995e-02 3.59438600e-05 2.71664164e-03\n",
      "  1.43240800e-03 1.21644931e-07 1.18605500e-10 1.16921035e-06\n",
      "  2.70686985e-04 9.90836355e-08 4.31246917e-07 5.58812326e-06\n",
      "  2.40849506e-04 1.46140142e-10 1.24440148e-05 4.98207693e-04\n",
      "  1.31570928e-07 3.05356593e-07 7.81122653e-05 9.55796044e-04\n",
      "  1.09870246e-08 1.24251098e-09 2.58578172e-08 7.76802835e-07\n",
      "  2.07584687e-02 7.29100520e-06 1.11314478e-07 6.27819077e-07\n",
      "  6.41957968e-06 3.26825902e-05 5.61165107e-05 1.41445271e-05\n",
      "  2.71682657e-04 1.01159664e-07 9.76001174e-05 2.64707651e-08\n",
      "  7.73086697e-02 1.30835245e-08 9.22602383e-10 6.97804592e-11\n",
      "  1.85928661e-10 4.84247238e-08 4.59428775e-05 1.04779097e-09\n",
      "  1.65101040e-11 6.20477252e-08 4.98263806e-04 1.23981245e-05\n",
      "  7.85091652e-06 9.29094313e-09 1.43704826e-08 2.41268117e-10\n",
      "  7.51010589e-07 1.12953036e-04 2.31193684e-04 7.97851195e-12\n",
      "  1.36500750e-11 3.74008573e-06 8.61101667e-04 2.28439312e-05\n",
      "  1.13500289e-04 5.98433962e-06 2.84828302e-02 1.73205292e-04\n",
      "  1.49671778e-05 1.61740346e-08 3.45570843e-05 4.62978721e-01\n",
      "  6.24650748e-11 1.89784018e-07 4.52146307e-11 4.79440443e-09\n",
      "  1.36938013e-06 5.18358487e-04 1.63030878e-09 7.66599340e-10\n",
      "  2.38242781e-09 1.92732230e-09 1.35155433e-05 3.09960342e-07\n",
      "  1.94438729e-10 1.88080419e-11 1.34412971e-07 3.69372287e-07\n",
      "  1.38310341e-08 3.03365546e-08 2.73813621e-05 1.38358037e-05\n",
      "  3.32354233e-08 2.66290158e-06 7.36505079e-09 4.18812378e-05\n",
      "  4.45987416e-06 1.44166677e-07 3.89195431e-09 1.50059717e-12\n",
      "  2.42974081e-17 1.48747638e-17 1.85656219e-13 3.55154413e-11\n",
      "  1.52897209e-11 3.03708798e-16 4.96712498e-11 2.22034901e-13\n",
      "  6.48868098e-14 9.22976279e-12 3.06966502e-13 9.34690828e-14\n",
      "  5.85315216e-14 3.29691515e-13 8.72035158e-15 2.07148641e-15\n",
      "  1.07210824e-14 4.07119272e-17 1.71552375e-13 9.30251223e-11\n",
      "  1.59393339e-14 2.00729107e-18 3.80901484e-15 9.56023715e-12\n",
      "  3.31215551e-13 1.06386505e-13 4.58000100e-14 8.86631483e-15\n",
      "  4.08848163e-18 2.01780771e-19 2.82992405e-18 1.80113409e-21\n",
      "  2.01230869e-22 5.93721168e-18 1.16212527e-18 1.58465368e-19\n",
      "  2.23827977e-17 5.54672867e-18 6.31978525e-20 3.84363780e-22\n",
      "  1.00024037e-20 1.37532938e-16 1.32746805e-17 2.50415230e-19\n",
      "  3.76435959e-18 5.85227440e-20 4.18821827e-17 3.37676170e-16\n",
      "  9.10650664e-18 9.50131317e-21 1.08292959e-20 1.96323404e-16\n",
      "  3.75090963e-13 1.73796834e-17 2.88640952e-19 2.89792126e-16\n",
      "  7.56328795e-16 1.55731310e-14 4.10536223e-17 1.11781509e-16\n",
      "  2.55731613e-14 4.09204539e-15 2.47146241e-16 1.33912466e-18\n",
      "  2.25580657e-19 3.59493260e-21 1.60444981e-15 7.60996952e-16\n",
      "  2.46496661e-23 2.79718620e-20 1.01427255e-20 2.50649115e-21\n",
      "  1.46779250e-18 1.94272258e-14 5.07599544e-21 8.44776565e-23\n",
      "  1.51692613e-22 1.65974973e-15 6.87434933e-17 2.36229400e-15\n",
      "  1.52492003e-16 1.06091353e-15 5.49517488e-17 2.67541074e-15\n",
      "  1.86258022e-14 2.06445565e-13 1.47536511e-07 2.11107833e-11\n",
      "  1.25121705e-10 3.97764287e-13 2.46915946e-19 3.19978050e-20\n",
      "  4.15483604e-23 6.78137246e-15 2.59280156e-14 2.98995681e-12\n",
      "  3.75436141e-12 4.03763103e-17 1.80590464e-18 5.40814909e-15\n",
      "  3.65389004e-11 2.57484802e-14 4.96946522e-15 3.54609408e-19\n",
      "  2.88726342e-15 8.24959784e-13 8.24582361e-20 1.49853257e-15\n",
      "  1.59041766e-13 6.67013428e-13 7.37688024e-15 4.87553628e-13\n",
      "  3.30340638e-12 6.11497479e-14 2.95486780e-13 3.42631441e-13\n",
      "  5.26807779e-15 6.83534562e-10 2.44462697e-12 8.69125089e-17\n",
      "  3.45368287e-12 2.33837209e-16 3.70252840e-15 2.54865824e-18\n",
      "  1.42495400e-16 1.09711719e-12 1.63841664e-13 5.78516887e-11\n",
      "  2.25137114e-11 4.99535205e-11 2.71541508e-17 9.59318282e-17\n",
      "  1.75060009e-14 1.03495422e-16 2.65217001e-16 2.31588511e-13\n",
      "  2.76401905e-12 1.46317505e-14 4.00533856e-17 7.07247737e-13\n",
      "  6.68216860e-09 1.11274504e-10 3.28881254e-17 2.80196493e-13\n",
      "  9.50121232e-12 1.53128270e-12 1.76676260e-13 8.39571576e-13\n",
      "  1.94096249e-11 2.90192870e-10 1.32717188e-13 3.48701958e-18\n",
      "  5.85230475e-10 1.84330497e-14 2.66708161e-14 2.03737179e-12\n",
      "  2.41976984e-13 1.84881098e-15 5.26704774e-17 5.93284799e-16\n",
      "  1.21771288e-15 2.03399395e-08 6.73655836e-12 1.83000186e-12\n",
      "  5.28913789e-16 7.72442277e-14 6.25946939e-08 1.13250024e-07]]\n"
     ]
    }
   ],
   "source": [
    "prediction = loaded_model_dirty.predict([prepare(img_path)])\n",
    "print(prediction)"
   ]
  },
  {
   "cell_type": "code",
   "execution_count": 64,
   "metadata": {},
   "outputs": [
    {
     "name": "stdout",
     "output_type": "stream",
     "text": [
      "164\n"
     ]
    }
   ],
   "source": [
    "print(CATEGORIES[np.argmax(prediction)])"
   ]
  },
  {
   "cell_type": "code",
   "execution_count": 65,
   "metadata": {},
   "outputs": [
    {
     "name": "stdout",
     "output_type": "stream",
     "text": [
      "163\n"
     ]
    }
   ],
   "source": [
    "print(np.argmax(prediction))"
   ]
  },
  {
   "cell_type": "code",
   "execution_count": null,
   "metadata": {},
   "outputs": [],
   "source": []
  },
  {
   "cell_type": "code",
   "execution_count": null,
   "metadata": {},
   "outputs": [],
   "source": []
  },
  {
   "cell_type": "code",
   "execution_count": null,
   "metadata": {},
   "outputs": [],
   "source": []
  }
 ],
 "metadata": {
  "kernelspec": {
   "display_name": "Python 3",
   "language": "python",
   "name": "python3"
  },
  "language_info": {
   "codemirror_mode": {
    "name": "ipython",
    "version": 3
   },
   "file_extension": ".py",
   "mimetype": "text/x-python",
   "name": "python",
   "nbconvert_exporter": "python",
   "pygments_lexer": "ipython3",
   "version": "3.6.7"
  }
 },
 "nbformat": 4,
 "nbformat_minor": 2
}
